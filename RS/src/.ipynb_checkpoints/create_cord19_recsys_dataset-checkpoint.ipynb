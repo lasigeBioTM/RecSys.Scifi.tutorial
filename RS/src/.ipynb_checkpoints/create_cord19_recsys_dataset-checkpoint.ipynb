{
 "cells": [
  {
   "cell_type": "markdown",
   "metadata": {},
   "source": [
    "## This module create CORD-19 corpus dataset as <user, item, rating, item_name, year>\n",
    "## and <user_id, author_name>. The items should be defined by user"
   ]
  },
  {
   "cell_type": "markdown",
   "metadata": {},
   "source": [
    "### import libraries"
   ]
  },
  {
   "cell_type": "code",
   "execution_count": 1,
   "metadata": {},
   "outputs": [],
   "source": [
    "import pandas as pd\n",
    "import sys\n",
    "import json\n",
    "import numpy as np\n",
    "import time\n",
    "from datetime import date, datetime"
   ]
  },
  {
   "cell_type": "code",
   "execution_count": null,
   "metadata": {},
   "outputs": [],
   "source": [
    "### import functions"
   ]
  },
  {
   "cell_type": "code",
   "execution_count": 2,
   "metadata": {},
   "outputs": [],
   "source": [
    "from myconfiguration import MyConfiguration as cfg\n",
    "from utils import *\n",
    "from utils2json import *\n",
    "from functions import *\n",
    "from utils2ontologies import *\n",
    "#from utils2pubmed import *"
   ]
  },
  {
   "cell_type": "code",
   "execution_count": 3,
   "metadata": {},
   "outputs": [],
   "source": [
    "pd.set_option('display.max_columns', None)\n",
    "pd.set_option(\"max_rows\", None)"
   ]
  },
  {
   "cell_type": "markdown",
   "metadata": {},
   "source": [
    "### get authors name from .csv file"
   ]
  },
  {
   "cell_type": "code",
   "execution_count": 4,
   "metadata": {},
   "outputs": [],
   "source": [
    "def get_authors_metadata(data, label, ident):\n",
    "    \n",
    "    authors = data[data.label == ident].authors.values[0].split(';')\n",
    "    for a in authors:\n",
    "        a = a.split(',')\n",
    "        first = unidecode.unidecode( ''.join(m for m in a[1] if m.isalpha()))\n",
    "        last = unidecode.unidecode( ''.join(m for m in a[0] if m.isalpha()))\n",
    "    return first + ', '+  last"
   ]
  },
  {
   "cell_type": "markdown",
   "metadata": {},
   "source": [
    "### entities defined by user"
   ]
  },
  {
   "cell_type": "code",
   "execution_count": 5,
   "metadata": {},
   "outputs": [],
   "source": [
    "# if entities is defined by user then saved it in a list\n",
    "active_lexicons = []\n",
    "is_chebi, is_do, is_go, is_hp = True, True, False, False\n",
    "\n",
    "active_lexicons.append('chebi')   \n",
    "active_lexicons.append('do')      \n"
   ]
  },
  {
   "cell_type": "markdown",
   "metadata": {},
   "source": [
    "#### Path from original' json and entities' json folder, blacklist and metadata"
   ]
  },
  {
   "cell_type": "code",
   "execution_count": 6,
   "metadata": {},
   "outputs": [],
   "source": [
    "original_json_folder = '../data/comm_use_subset/'\n",
    "entities_json_folder = '../data/comm_use_subset_entities/'\n",
    "path_to_blacklist = '../data/blacklist/blacklist_articles.txt'\n",
    "path_to_metadata = '../data/metadata_new.csv'"
   ]
  },
  {
   "cell_type": "code",
   "execution_count": 7,
   "metadata": {},
   "outputs": [
    {
     "name": "stdout",
     "output_type": "stream",
     "text": [
      "['81c92759c804f01629de5c8499535a5b300b5f16_entities.json', 'PMC6275129_entities.json', '06ced00a5fc04215949aa72528f2eeaae1d58927_entities.json', '.ipynb_checkpoints', 'PMC446188_entities.json', 'cdb29ec7a9029d22f6fbf7ee04543819591acdc2_entities.json']\n"
     ]
    }
   ],
   "source": [
    "entities_list_of_json_files = list_files_in_directory(path=entities_json_folder)\n",
    "print(entities_list_of_json_files)"
   ]
  },
  {
   "cell_type": "markdown",
   "metadata": {},
   "source": [
    "##### Get all articles id that cannot be considered in use case "
   ]
  },
  {
   "cell_type": "code",
   "execution_count": 8,
   "metadata": {},
   "outputs": [
    {
     "name": "stdout",
     "output_type": "stream",
     "text": [
      "['cdb29ec7a9029d22f6fbf7ee04543819591acdc2\\n', '.ipynb_checkpoints\\n', '81c92759c804f01629de5c8499535a5b300b5f16']\n"
     ]
    }
   ],
   "source": [
    "articles_blacklist = get_blacklist(file=path_to_blacklist)\n",
    "print(articles_blacklist)\n",
    "\n",
    "metadata = pd.read_csv(path_to_metadata)"
   ]
  },
  {
   "cell_type": "code",
   "execution_count": 9,
   "metadata": {},
   "outputs": [
    {
     "name": "stdout",
     "output_type": "stream",
     "text": [
      "0 - 6\n",
      "PMC6275129_entities.json\n",
      "                                       entities  count   entities_id\n",
      "0    http://purl.obolibrary.org/obo/CHEBI_33731   1181   CHEBI_33731\n",
      "1    http://purl.obolibrary.org/obo/CHEBI_35640    663   CHEBI_35640\n",
      "2    http://purl.obolibrary.org/obo/CHEBI_34935    138   CHEBI_34935\n",
      "3    http://purl.obolibrary.org/obo/CHEBI_84123    115   CHEBI_84123\n",
      "4      http://purl.obolibrary.org/obo/DOID_2841    115     DOID_2841\n",
      "5         http://purl.obolibrary.org/obo/DOID_4     92        DOID_4\n",
      "6    http://purl.obolibrary.org/obo/CHEBI_33281     46   CHEBI_33281\n",
      "7    http://purl.obolibrary.org/obo/CHEBI_18111     46   CHEBI_18111\n",
      "8    http://purl.obolibrary.org/obo/CHEBI_25016     46   CHEBI_25016\n",
      "9    http://purl.obolibrary.org/obo/CHEBI_33341     46   CHEBI_33341\n",
      "10     http://purl.obolibrary.org/obo/DOID_4483     46     DOID_4483\n",
      "11   http://purl.obolibrary.org/obo/CHEBI_28515     28   CHEBI_28515\n",
      "12   http://purl.obolibrary.org/obo/CHEBI_16044     23   CHEBI_16044\n",
      "13   http://purl.obolibrary.org/obo/CHEBI_33697     23   CHEBI_33697\n",
      "14   http://purl.obolibrary.org/obo/CHEBI_24433     23   CHEBI_24433\n",
      "15  http://purl.obolibrary.org/obo/DOID_0080815     23  DOID_0080815\n",
      "16   http://purl.obolibrary.org/obo/CHEBI_36976     23   CHEBI_36976\n",
      "17      http://purl.obolibrary.org/obo/DOID_850     23      DOID_850\n",
      "18   http://purl.obolibrary.org/obo/CHEBI_50906     23   CHEBI_50906\n",
      "19    http://purl.obolibrary.org/obo/DOID_10754     23    DOID_10754\n",
      "20     http://purl.obolibrary.org/obo/DOID_2275     23     DOID_2275\n",
      "21     http://purl.obolibrary.org/obo/DOID_1485     23     DOID_1485\n",
      "22     http://purl.obolibrary.org/obo/DOID_3083     23     DOID_3083\n",
      "23      http://purl.obolibrary.org/obo/DOID_934     23      DOID_934\n",
      "24     http://purl.obolibrary.org/obo/DOID_2723     23     DOID_2723\n",
      "25     http://purl.obolibrary.org/obo/DOID_4481     23     DOID_4481\n",
      "26     http://purl.obolibrary.org/obo/DOID_9415     23     DOID_9415\n",
      "27   http://purl.obolibrary.org/obo/CHEBI_30216      7   CHEBI_30216\n",
      "2018\n",
      "1 - 6\n",
      "06ced00a5fc04215949aa72528f2eeaae1d58927_entities.json\n",
      "                                       entities  count   entities_id\n",
      "0    http://purl.obolibrary.org/obo/CHEBI_52214   1298   CHEBI_52214\n",
      "1    http://purl.obolibrary.org/obo/CHEBI_16412   1218   CHEBI_16412\n",
      "2    http://purl.obolibrary.org/obo/CHEBI_35195    660   CHEBI_35195\n",
      "3    http://purl.obolibrary.org/obo/CHEBI_16646    580   CHEBI_16646\n",
      "4    http://purl.obolibrary.org/obo/CHEBI_25367    576   CHEBI_25367\n",
      "5     http://purl.obolibrary.org/obo/CHEBI_3815    527    CHEBI_3815\n",
      "6    http://purl.obolibrary.org/obo/CHEBI_50699    454   CHEBI_50699\n",
      "7    http://purl.obolibrary.org/obo/CHEBI_36080    418   CHEBI_36080\n",
      "8    http://purl.obolibrary.org/obo/CHEBI_17234    305   CHEBI_17234\n",
      "9    http://purl.obolibrary.org/obo/CHEBI_18059    286   CHEBI_18059\n",
      "10   http://purl.obolibrary.org/obo/CHEBI_33563    283   CHEBI_33563\n",
      "11   http://purl.obolibrary.org/obo/CHEBI_59132    272   CHEBI_59132\n",
      "12   http://purl.obolibrary.org/obo/CHEBI_15356    270   CHEBI_15356\n",
      "13   http://purl.obolibrary.org/obo/CHEBI_63248    258   CHEBI_63248\n",
      "14   http://purl.obolibrary.org/obo/CHEBI_18154    257   CHEBI_18154\n",
      "15   http://purl.obolibrary.org/obo/CHEBI_37684    257   CHEBI_37684\n",
      "16   http://purl.obolibrary.org/obo/CHEBI_48343    244   CHEBI_48343\n",
      "17   http://purl.obolibrary.org/obo/CHEBI_25016    244   CHEBI_25016\n",
      "18   http://purl.obolibrary.org/obo/CHEBI_22984    244   CHEBI_22984\n",
      "19   http://purl.obolibrary.org/obo/CHEBI_33250    244   CHEBI_33250\n",
      "20   http://purl.obolibrary.org/obo/CHEBI_24261    244   CHEBI_24261\n",
      "21   http://purl.obolibrary.org/obo/CHEBI_37527    209   CHEBI_37527\n",
      "22   http://purl.obolibrary.org/obo/CHEBI_18368    209   CHEBI_18368\n",
      "23     http://purl.obolibrary.org/obo/DOID_8469    197     DOID_8469\n",
      "24   http://purl.obolibrary.org/obo/CHEBI_16670    196   CHEBI_16670\n",
      "25      http://purl.obolibrary.org/obo/DOID_627    183      DOID_627\n",
      "26   http://purl.obolibrary.org/obo/CHEBI_89981    183   CHEBI_89981\n",
      "27  http://purl.obolibrary.org/obo/CHEBI_132554    183  CHEBI_132554\n",
      "28   http://purl.obolibrary.org/obo/CHEBI_17089    161   CHEBI_17089\n",
      "29    http://purl.obolibrary.org/obo/CHEBI_3379    135    CHEBI_3379\n",
      "30   http://purl.obolibrary.org/obo/CHEBI_59485    122   CHEBI_59485\n",
      "31   http://purl.obolibrary.org/obo/CHEBI_24433    122   CHEBI_24433\n",
      "32   http://purl.obolibrary.org/obo/CHEBI_17268    122   CHEBI_17268\n",
      "33   http://purl.obolibrary.org/obo/CHEBI_42191    122   CHEBI_42191\n",
      "34   http://purl.obolibrary.org/obo/CHEBI_16749    115   CHEBI_16749\n",
      "35   http://purl.obolibrary.org/obo/CHEBI_46882     87   CHEBI_46882\n",
      "36   http://purl.obolibrary.org/obo/CHEBI_50906     74   CHEBI_50906\n",
      "37   http://purl.obolibrary.org/obo/CHEBI_33281     74   CHEBI_33281\n",
      "38        http://purl.obolibrary.org/obo/DOID_4     74        DOID_4\n",
      "39   http://purl.obolibrary.org/obo/CHEBI_16480     74   CHEBI_16480\n",
      "40   http://purl.obolibrary.org/obo/CHEBI_25741     74   CHEBI_25741\n",
      "41    http://purl.obolibrary.org/obo/DOID_10325     61    DOID_10325\n",
      "42   http://purl.obolibrary.org/obo/CHEBI_33731     61   CHEBI_33731\n",
      "43    http://purl.obolibrary.org/obo/CHEBI_9584     61    CHEBI_9584\n",
      "44   http://purl.obolibrary.org/obo/CHEBI_24400     61   CHEBI_24400\n",
      "45   http://purl.obolibrary.org/obo/CHEBI_17895     61   CHEBI_17895\n",
      "46   http://purl.obolibrary.org/obo/CHEBI_33697     61   CHEBI_33697\n",
      "47   http://purl.obolibrary.org/obo/CHEBI_32835     61   CHEBI_32835\n",
      "48  http://purl.obolibrary.org/obo/DOID_0111962     61  DOID_0111962\n",
      "49   http://purl.obolibrary.org/obo/CHEBI_29342     61   CHEBI_29342\n",
      "50   http://purl.obolibrary.org/obo/CHEBI_48377     61   CHEBI_48377\n",
      "51  http://purl.obolibrary.org/obo/CHEBI_145810     61  CHEBI_145810\n",
      "52   http://purl.obolibrary.org/obo/CHEBI_39124     61   CHEBI_39124\n",
      "53   http://purl.obolibrary.org/obo/CHEBI_18095     61   CHEBI_18095\n",
      "54   http://purl.obolibrary.org/obo/CHEBI_24870     61   CHEBI_24870\n",
      "55   http://purl.obolibrary.org/obo/CHEBI_27780     61   CHEBI_27780\n",
      "56   http://purl.obolibrary.org/obo/CHEBI_60175     61   CHEBI_60175\n",
      "57   http://purl.obolibrary.org/obo/CHEBI_41879     61   CHEBI_41879\n",
      "58   http://purl.obolibrary.org/obo/CHEBI_28808     61   CHEBI_28808\n",
      "59     http://purl.obolibrary.org/obo/DOID_3910     61     DOID_3910\n",
      "60      http://purl.obolibrary.org/obo/DOID_299     61      DOID_299\n",
      "61   http://purl.obolibrary.org/obo/CHEBI_33905     61   CHEBI_33905\n",
      "62   http://purl.obolibrary.org/obo/CHEBI_35224     61   CHEBI_35224\n",
      "63   http://purl.obolibrary.org/obo/CHEBI_33699     61   CHEBI_33699\n",
      "64   http://purl.obolibrary.org/obo/CHEBI_35222     61   CHEBI_35222\n",
      "65   http://purl.obolibrary.org/obo/CHEBI_26274     61   CHEBI_26274\n",
      "66   http://purl.obolibrary.org/obo/CHEBI_17306     61   CHEBI_17306\n",
      "67   http://purl.obolibrary.org/obo/CHEBI_33284     61   CHEBI_33284\n",
      "68   http://purl.obolibrary.org/obo/CHEBI_29256     61   CHEBI_29256\n",
      "69   http://purl.obolibrary.org/obo/CHEBI_72813     61   CHEBI_72813\n",
      "70   http://purl.obolibrary.org/obo/CHEBI_50904     61   CHEBI_50904\n",
      "71   http://purl.obolibrary.org/obo/CHEBI_26667     61   CHEBI_26667\n",
      "72   http://purl.obolibrary.org/obo/CHEBI_64198     61   CHEBI_64198\n",
      "73   http://purl.obolibrary.org/obo/CHEBI_22907     61   CHEBI_22907\n",
      "74     http://purl.obolibrary.org/obo/DOID_2841     61     DOID_2841\n",
      "75     http://purl.obolibrary.org/obo/DOID_1205     61     DOID_1205\n",
      "76   http://purl.obolibrary.org/obo/CHEBI_16247     39   CHEBI_16247\n",
      "77    http://purl.obolibrary.org/obo/CHEBI_5717     26    CHEBI_5717\n",
      "78   http://purl.obolibrary.org/obo/CHEBI_33704     26   CHEBI_33704\n",
      "79   http://purl.obolibrary.org/obo/CHEBI_16991     13   CHEBI_16991\n",
      "80  http://purl.obolibrary.org/obo/CHEBI_147370     13  CHEBI_147370\n",
      "81   http://purl.obolibrary.org/obo/CHEBI_32359     13   CHEBI_32359\n",
      "82  http://purl.obolibrary.org/obo/CHEBI_165825     13  CHEBI_165825\n",
      "83   http://purl.obolibrary.org/obo/CHEBI_23888     13   CHEBI_23888\n",
      "84   http://purl.obolibrary.org/obo/CHEBI_52290     13   CHEBI_52290\n",
      "85   http://purl.obolibrary.org/obo/CHEBI_35381     13   CHEBI_35381\n",
      "86   http://purl.obolibrary.org/obo/CHEBI_18276     13   CHEBI_18276\n",
      "87   http://purl.obolibrary.org/obo/CHEBI_16240     13   CHEBI_16240\n",
      "88   http://purl.obolibrary.org/obo/CHEBI_44785     13   CHEBI_44785\n",
      "89   http://purl.obolibrary.org/obo/CHEBI_16178     13   CHEBI_16178\n",
      "90   http://purl.obolibrary.org/obo/CHEBI_34699     13   CHEBI_34699\n",
      "91      http://purl.obolibrary.org/obo/DOID_399     13      DOID_399\n",
      "92   http://purl.obolibrary.org/obo/CHEBI_59524     13   CHEBI_59524\n",
      "25 Aug 2000\n",
      "2 - 6\n",
      ".ipynb_checkpoints\n",
      "Json file does not contain values. Error message [Errno 21] Is a directory: '../data/comm_use_subset_entities/.ipynb_checkpoints'\n",
      "2 - 6\n",
      "PMC446188_entities.json\n",
      "                                       entities  count   entities_id\n",
      "0    http://purl.obolibrary.org/obo/CHEBI_36976    556   CHEBI_36976\n",
      "1      http://purl.obolibrary.org/obo/DOID_2945    195     DOID_2945\n",
      "2    http://purl.obolibrary.org/obo/CHEBI_33697    168   CHEBI_33697\n",
      "3    http://purl.obolibrary.org/obo/CHEBI_46882     63   CHEBI_46882\n",
      "4    http://purl.obolibrary.org/obo/CHEBI_33704     63   CHEBI_33704\n",
      "5    http://purl.obolibrary.org/obo/CHEBI_37527     63   CHEBI_37527\n",
      "6    http://purl.obolibrary.org/obo/CHEBI_17089     63   CHEBI_17089\n",
      "7      http://purl.obolibrary.org/obo/DOID_8469     63     DOID_8469\n",
      "8    http://purl.obolibrary.org/obo/CHEBI_84123     42   CHEBI_84123\n",
      "9    http://purl.obolibrary.org/obo/CHEBI_36080     42   CHEBI_36080\n",
      "10  http://purl.obolibrary.org/obo/DOID_0080327     42  DOID_0080327\n",
      "11     http://purl.obolibrary.org/obo/DOID_6132     42     DOID_6132\n",
      "12      http://purl.obolibrary.org/obo/DOID_225     21      DOID_225\n",
      "13   http://purl.obolibrary.org/obo/CHEBI_29852     21   CHEBI_29852\n",
      "14   http://purl.obolibrary.org/obo/CHEBI_59132     21   CHEBI_59132\n",
      "15     http://purl.obolibrary.org/obo/DOID_2237     21     DOID_2237\n",
      "16     http://purl.obolibrary.org/obo/DOID_2326     21     DOID_2326\n",
      "17   http://purl.obolibrary.org/obo/CHEBI_40799     21   CHEBI_40799\n",
      "2004\n",
      "3 - 6\n",
      "cdb29ec7a9029d22f6fbf7ee04543819591acdc2_entities.json\n",
      "                                      entities  count   entities_id\n",
      "0     http://purl.obolibrary.org/obo/DOID_2945     10     DOID_2945\n",
      "1  http://purl.obolibrary.org/obo/DOID_0080327      8  DOID_0080327\n",
      "2   http://purl.obolibrary.org/obo/CHEBI_36976      7   CHEBI_36976\n",
      "3   http://purl.obolibrary.org/obo/CHEBI_48341      3   CHEBI_48341\n",
      "2004\n",
      "Empty values name 'sha' is not defined\n"
     ]
    }
   ],
   "source": [
    "user_item_rating_all = []\n",
    "count = 0\n",
    "#entities_list_of_json_files=['PMC7176216_entities.json']\n",
    "for file in entities_list_of_json_files:\n",
    "    # ## Exception\n",
    "    if file.replace('_entities.json','') in articles_blacklist:\n",
    "        continue\n",
    "    # if file.startswith('PMC'):\n",
    "    #     continue    \n",
    "    print(count, \"-\", len(entities_list_of_json_files))            \n",
    "    print(file)\n",
    "        \n",
    "    # check valid json file, i.e. contains values\n",
    "    try:\n",
    "        j_file_entities = open_json_file_pd(path=entities_json_folder, file=file)           \n",
    "    except Exception as e:\n",
    "        print(f'Json file does not contain values. Error message {e}')\n",
    "        set_blacklist(file=path_to_blacklist, line=file.replace('_entities.json',''))\n",
    "        continue\n",
    "    \n",
    "    df_entities = get_entities_id(get_entities(j_file_entities))\n",
    "    if df_entities.empty:\n",
    "        print(f'Json file does not contain values.')\n",
    "        set_blacklist(file=path_to_blacklist, line=file.replace('_entities.json',''))\n",
    "        continue    \n",
    "    \n",
    "    print(df_entities)\n",
    "    article_id = get_article_id(j_file_entities)\n",
    "    \n",
    "    # check valid json file, i.e. contains values\n",
    "    try:\n",
    "        j_file_original = open_json_file(path=original_json_folder, file=article_id)\n",
    "        #print(j_file_original)\n",
    "    except Exception as e:\n",
    "        print(f'Original json file does not exist. Error message {e}')\n",
    "        set_blacklist(file=path_to_blacklist, line=file.replace('_entities.json',''))\n",
    "        continue    \n",
    "    \n",
    "    # check if json file contains authors, otherwise try to find them in metadata.csv\n",
    "    # if value remains null them put this article in the blacklist file\n",
    "    list_of_authors = get_authors_names(data=j_file_original)\n",
    "    \n",
    "###  ---- Metadata ----\n",
    "    # Some datas return an array, then we convert to a list and get first element\n",
    "    publish_date=''      \n",
    "    if article_id.startswith('PMC'):\n",
    "        try:\n",
    "            publish_date = metadata[metadata.pmcid == article_id].\\\n",
    "                publish_time.map(lambda v: v.split('-')[0]).tolist()[0]\n",
    "        except Exception as e:    \n",
    "            try:\n",
    "                print(f'Find publish date, now with metapub. Error message {e}')            \n",
    "                publish_date = get_year_by_metapub(pmcid=article_id) \n",
    "            except Exception as e: \n",
    "                try:                    \n",
    "                    print(f'Find publish date, now with Bio. Error message {e}') \n",
    "                    pmid = get_pmid(pmcid=article_id) \n",
    "                    publish_date = get_year_by_bio(pmid) \n",
    "                except Exception as e:\n",
    "                    print(f'Find publish date, now with metapub. Error message {e}')    \n",
    "                \n",
    "        finally:\n",
    "            pass                                         \n",
    "    else:\n",
    "        try:\n",
    "            publish_date = metadata[metadata.sha == article_id].\\\n",
    "                publish_time.map(lambda v: v.split('-')[0]).tolist()[0]\n",
    "        finally:\n",
    "            pass  \n",
    "\n",
    "    print(publish_date)\n",
    "    if publish_date==None:\n",
    "        set_blacklist(file=path_to_blacklist, line=file.replace('_entities.json',''))\n",
    "        continue\n",
    "    \n",
    "    # if authors is empty we will find in metadata.csv file\n",
    "    if len(list_of_authors)==0:\n",
    "        ##if string is NaN\n",
    "        try:\n",
    "            if article_id.startswith('PMC'):\n",
    "                try:\n",
    "                    authors = get_authors_metadata(data=metadata, label=pmcid, ident= article_id)\n",
    "                    list_of_authors.append(authors) \n",
    "                except Exception as e:\n",
    "                    print(f'Get authors name in pubmed. Error: {e}')    \n",
    "                    pmid = get_pmid(pmcid=article_id)\n",
    "                    authors = get_authors_by_bio(pmid)\n",
    "                    for a in authors:                \n",
    "                        first = unidecode.unidecode(a['first'])\n",
    "                        last = unidecode.unidecode(a['last']) \n",
    "                    list_of_authors.append(first + ', '+  last)                     \n",
    "            else:\n",
    "                authors = get_authors_metadata(data=metadata, label=sha, ident= article_id)\n",
    "                list_of_authors.append(authors) \n",
    "        except Exception as e:\n",
    "            print(f'Empty values {e}')   \n",
    "            set_blacklist(file=path_to_blacklist, line=file.replace('_entities.json',''))                \n",
    "        continue\n",
    "    count+=1\n",
    "    # if count > 0:\n",
    "    #     break\n",
    "\n",
    "###  ---- End of Metadata ----            \n",
    "    \n",
    "    user_item_rating = get_user_item_rating(lst=list_of_authors, df=df_entities)\n",
    "    #print(user_item_rating)\n",
    "    \n",
    "    ## add publish_date in array in index column = 3\n",
    "    user_item_rating = np.insert(user_item_rating, 3, publish_date, axis=1)\n",
    "    # print(user_item_rating)\n",
    "    user_item_rating_all.append(user_item_rating)\n",
    "    "
   ]
  },
  {
   "cell_type": "code",
   "execution_count": 10,
   "metadata": {},
   "outputs": [],
   "source": [
    "flat_list = []\n",
    "for sublist in user_item_rating_all:\n",
    "    for item in sublist:\n",
    "        flat_list.append(item)"
   ]
  },
  {
   "cell_type": "code",
   "execution_count": 11,
   "metadata": {},
   "outputs": [],
   "source": [
    "array = np.array(flat_list)\n",
    "\n",
    "final_data = pd.DataFrame(array,  columns=['user', 'item', 'rating', 'year'])\n",
    "\n",
    "sum_df = final_data.groupby(['user', 'item', 'year']).size().reset_index().rename(columns={0: 'rating'})\n",
    "    \n",
    "df_with_user_id = id_to_index(sum_df)"
   ]
  },
  {
   "cell_type": "code",
   "execution_count": 12,
   "metadata": {},
   "outputs": [],
   "source": [
    "# swap columns: user and index_user, and after rename to author_name\n",
    "#df_with_user_id['index_user'], df_with_user_id['user'] = df_with_user_id['user'], df_with_user_id['index_user']\n",
    "df_with_user_id.rename(columns={'user': 'author_name', 'index_user': 'user'}, inplace = True)"
   ]
  },
  {
   "cell_type": "markdown",
   "metadata": {},
   "source": [
    "### get entities labels"
   ]
  },
  {
   "cell_type": "code",
   "execution_count": 13,
   "metadata": {},
   "outputs": [
    {
     "name": "stdout",
     "output_type": "stream",
     "text": [
      "['CHEBI_16044' 'CHEBI_18111' 'CHEBI_24433' 'CHEBI_25016' 'CHEBI_28515'\n",
      " 'CHEBI_30216' 'CHEBI_33281' 'CHEBI_33341' 'CHEBI_33697' 'CHEBI_33731'\n",
      " 'CHEBI_34935' 'CHEBI_35640' 'CHEBI_36976' 'CHEBI_50906' 'CHEBI_84123'\n",
      " 'DOID_0080815' 'DOID_10754' 'DOID_1485' 'DOID_2275' 'DOID_2723'\n",
      " 'DOID_2841' 'DOID_3083' 'DOID_4' 'DOID_4481' 'DOID_4483' 'DOID_850'\n",
      " 'DOID_934' 'DOID_9415' 'CHEBI_17089' 'CHEBI_29852' 'CHEBI_33704'\n",
      " 'CHEBI_36080' 'CHEBI_37527' 'CHEBI_40799' 'CHEBI_46882' 'CHEBI_59132'\n",
      " 'DOID_0080327' 'DOID_2237' 'DOID_225' 'DOID_2326' 'DOID_2945' 'DOID_6132'\n",
      " 'DOID_8469' 'CHEBI_132554' 'CHEBI_145810' 'CHEBI_147370' 'CHEBI_15356'\n",
      " 'CHEBI_16178' 'CHEBI_16240' 'CHEBI_16247' 'CHEBI_16412' 'CHEBI_16480'\n",
      " 'CHEBI_165825' 'CHEBI_16646' 'CHEBI_16670' 'CHEBI_16749' 'CHEBI_16991'\n",
      " 'CHEBI_17234' 'CHEBI_17268' 'CHEBI_17306' 'CHEBI_17895' 'CHEBI_18059'\n",
      " 'CHEBI_18095' 'CHEBI_18154' 'CHEBI_18276' 'CHEBI_18368' 'CHEBI_22907'\n",
      " 'CHEBI_22984' 'CHEBI_23888' 'CHEBI_24261' 'CHEBI_24400' 'CHEBI_24870'\n",
      " 'CHEBI_25367' 'CHEBI_25741' 'CHEBI_26274' 'CHEBI_26667' 'CHEBI_27780'\n",
      " 'CHEBI_28808' 'CHEBI_29256' 'CHEBI_29342' 'CHEBI_32359' 'CHEBI_32835'\n",
      " 'CHEBI_33250' 'CHEBI_33284' 'CHEBI_33563' 'CHEBI_33699' 'CHEBI_3379'\n",
      " 'CHEBI_33905' 'CHEBI_34699' 'CHEBI_35195' 'CHEBI_35222' 'CHEBI_35224'\n",
      " 'CHEBI_35381' 'CHEBI_37684' 'CHEBI_3815' 'CHEBI_39124' 'CHEBI_41879'\n",
      " 'CHEBI_42191' 'CHEBI_44785' 'CHEBI_48343' 'CHEBI_48377' 'CHEBI_50699'\n",
      " 'CHEBI_50904' 'CHEBI_52214' 'CHEBI_52290' 'CHEBI_5717' 'CHEBI_59485'\n",
      " 'CHEBI_59524' 'CHEBI_60175' 'CHEBI_63248' 'CHEBI_64198' 'CHEBI_72813'\n",
      " 'CHEBI_89981' 'CHEBI_9584' 'DOID_0111962' 'DOID_10325' 'DOID_1205'\n",
      " 'DOID_299' 'DOID_3910' 'DOID_399' 'DOID_627']\n"
     ]
    }
   ],
   "source": [
    "list_of_entities = df_with_user_id.item.unique()\n",
    "print(list_of_entities) "
   ]
  },
  {
   "cell_type": "markdown",
   "metadata": {},
   "source": [
    "### loading ontologies"
   ]
  },
  {
   "cell_type": "code",
   "execution_count": 17,
   "metadata": {},
   "outputs": [
    {
     "name": "stderr",
     "output_type": "stream",
     "text": [
      "usage: ipykernel_launcher.py [-h] [-mc MY_CONFIG] [-oj PATH_TO_ORIGINAL_JSON_FOLDER] [-ej PATH_TO_ENTITIES_JSON_FOLDER] [-pathcord-ds PATH_TO_CORD_DS] [-pathuserid PATH_TO_CORD_USERID]\n",
      "                             [-pathcordall PATH_TO_CORD_ALL] [-pathmeta PATH_TO_METADATA] [-pathblack PATH_TO_BLACKLIST] [-pathinfo PATH_TO_INFO] [-pathchebi PATH_CHEBI] [-pathdo PATH_DO]\n",
      "                             [-pathgo PATH_GO] [-pathhp PATH_HP] [-item1 ITEM_PREFIX1] [-item2 ITEM_PREFIX2] [-item3 ITEM_PREFIX3] [-item4 ITEM_PREFIX4]\n",
      "ipykernel_launcher.py: error: unrecognized arguments: -f /Users/matildepato/Library/Jupyter/runtime/kernel-29a53989-f552-48ad-b9e2-01d48c9411b0.json\n"
     ]
    },
    {
     "ename": "SystemExit",
     "evalue": "2",
     "output_type": "error",
     "traceback": [
      "An exception has occurred, use %tb to see the full traceback.\n",
      "\u001b[0;31mSystemExit\u001b[0m\u001b[0;31m:\u001b[0m 2\n"
     ]
    }
   ],
   "source": [
    "chebi, do, go, hp = loading_items(is_chebi, is_do, is_go, is_hp)"
   ]
  },
  {
   "cell_type": "code",
   "execution_count": null,
   "metadata": {},
   "outputs": [],
   "source": [
    "# entities_label = get_entities_labels(list_of_entities, chebi, hp, go, do)\n",
    "entities_label = get_entities_labels(lst=list_of_entities, chebi, do, go, hp)\n",
    "print(entities_label)"
   ]
  },
  {
   "cell_type": "code",
   "execution_count": null,
   "metadata": {},
   "outputs": [],
   "source": [
    "df_entities = pd.DataFrame(list_of_entities, columns=[\"item_id\"])\n",
    "df_entities[\"entity_name\"] = np.array(entities_label)"
   ]
  },
  {
   "cell_type": "code",
   "execution_count": null,
   "metadata": {},
   "outputs": [],
   "source": [
    "print('mapping labels')\n",
    "df_with_user_id[\"item_name\"] = df_with_user_id[\"item\"].map(df_entities.set_index('item_id')[\"entity_name\"]).fillna(0)"
   ]
  },
  {
   "cell_type": "code",
   "execution_count": null,
   "metadata": {},
   "outputs": [],
   "source": [
    "# swap columns: rating 2 item_name\n",
    "#df_with_user_id['rating'], df_with_user_id['item_name'] = df_with_user_id['item_name'], df_with_user_id['rating']\n",
    "#df_with_user_id.rename(columns={'rating': 'item_name', 'item_name': 'rating'}, inplace = True)\n",
    "\n",
    "print('saving data')\n",
    "save_final_data(data=df_with_user_id[['user', 'item', 'rating', 'item_name', 'year']], \\\n",
    "        path=path_to_cord_ds)\n",
    "save_final_data(data=df_with_user_id[['user', 'author_name']], \\\n",
    "        path=path_to_cord_userid)\n",
    "save_final_data(data=df_with_user_id[['user', 'author_name', 'item', 'rating', 'item_name', 'year']], \\\n",
    "        path=path_to_cord_userid)  "
   ]
  }
 ],
 "metadata": {
  "interpreter": {
   "hash": "aee8b7b246df8f9039afb4144a1f6fd8d2ca17a180786b69acc140d282b71a49"
  },
  "kernelspec": {
   "display_name": "Python 3",
   "language": "python",
   "name": "python3"
  },
  "language_info": {
   "codemirror_mode": {
    "name": "ipython",
    "version": 3
   },
   "file_extension": ".py",
   "mimetype": "text/x-python",
   "name": "python",
   "nbconvert_exporter": "python",
   "pygments_lexer": "ipython3",
   "version": "3.8.6"
  }
 },
 "nbformat": 4,
 "nbformat_minor": 4
}
