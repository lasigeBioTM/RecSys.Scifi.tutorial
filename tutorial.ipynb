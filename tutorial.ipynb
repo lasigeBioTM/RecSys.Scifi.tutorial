{
 "cells": [
  {
   "cell_type": "markdown",
   "id": "1005bc04",
   "metadata": {},
   "source": [
    "# Tutorial: Creating Recommender Systems Datasets in Scientific Fields\n",
    "\n",
    "\n",
    "<ul>\n",
    "    <li><a href=\"#1\">1. Data retrieval and cleaning</a></li>\n",
    "</ul>\n",
    "   \n",
    "<ul>\n",
    "   <li>&nbsp;&nbsp;&nbsp;&nbsp;&nbsp;&nbsp;&nbsp;&nbsp;<a href=\"#1.1\">1.1.Import libraries</a></li>\n",
    "</ul>\n",
    "\n",
    "<ul>\n",
    "   <li>&nbsp;&nbsp;&nbsp;&nbsp;&nbsp;&nbsp;&nbsp;&nbsp;<a href=\"#1.2\">1.2. Retrieve CORD-19</a></li>\n",
    "</ul>\n",
    "\n",
    "<ul>\n",
    "   <li>&nbsp;&nbsp;&nbsp;&nbsp;&nbsp;&nbsp;&nbsp;&nbsp;<a href=\"#1.3\">1.3. Exploring the articles of the dataset</a></li>\n",
    "</ul>\n",
    "\n",
    "<ul>\n",
    "   <li>&nbsp;&nbsp;&nbsp;&nbsp;&nbsp;&nbsp;&nbsp;&nbsp;<a href=\"#1.4\">1.4. Selecting a sample of articles to build our scientific recommendation dataset</a></li>\n",
    "</ul>\n",
    "\n",
    "<ul>\n",
    "   <li><a href=\"#2\">2. Named Entity Recognition (NER) + Named Entity Linking (NEL)</a></li>\n",
    "</ul>\n",
    "\n",
    "<ul>\n",
    "   <li>&nbsp;&nbsp;&nbsp;&nbsp;&nbsp;&nbsp;&nbsp;&nbsp;<a href=\"#2.1\">2.1. Import libraries</a></li>\n",
    "</ul>\n",
    "\n",
    "<ul>\n",
    "   <li>&nbsp;&nbsp;&nbsp;&nbsp;&nbsp;&nbsp;&nbsp;&nbsp;<a href=\"#2.2\">2.2. Configure MER</a></li>\n",
    "</ul>\n",
    "\n",
    "<ul>\n",
    "   <li>&nbsp;&nbsp;&nbsp;&nbsp;&nbsp;&nbsp;&nbsp;&nbsp;<a href=\"#2.3\">2.3. Import stop words vocabulary and tokenizer</a></li>\n",
    "</ul>\n",
    "\n",
    "\n",
    "<ul>\n",
    "   <li>&nbsp;&nbsp;&nbsp;&nbsp;&nbsp;&nbsp;&nbsp;&nbsp;<a href=\"#2.4\">2.4. Extract the entities in a single file</a></li>\n",
    "</ul>\n",
    "\n",
    "<ul>\n",
    "   <li>&nbsp;&nbsp;&nbsp;&nbsp;&nbsp;&nbsp;&nbsp;&nbsp;<a href=\"#2.5\">2.5. Create entity files</a></li>\n",
    "</ul>\n",
    "\n",
    "<ul>\n",
    "   <li><a href=\"#3\">3. Creating the recommendation dataset</a></li>\n",
    "</ul>\n",
    "\n",
    "<ul>\n",
    "   <li>&nbsp;&nbsp;&nbsp;&nbsp;&nbsp;&nbsp;&nbsp;&nbsp;<a href=\"#3.1\">3.1. Import libraries</a></li>\n",
    "</ul>\n",
    "\n",
    "<ul>\n",
    "   <li>&nbsp;&nbsp;&nbsp;&nbsp;&nbsp;&nbsp;&nbsp;&nbsp;<a href=\"#3.2\">3.2. Import user-defined-functions</a></li>\n",
    "</ul>\n",
    "\n",
    "<ul>\n",
    "   <li>&nbsp;&nbsp;&nbsp;&nbsp;&nbsp;&nbsp;&nbsp;&nbsp;<a href=\"#3.3\">3.3. Get entities labels</a></li>\n",
    "</ul>\n",
    "\n",
    "<ul>\n",
    "   <li>&nbsp;&nbsp;&nbsp;&nbsp;&nbsp;&nbsp;&nbsp;&nbsp;<a href=\"#4.4\">3.4. Loading ontologies</a></li>\n",
    "</ul>\n",
    "\n",
    "<ul>\n",
    "   <li>&nbsp;&nbsp;&nbsp;&nbsp;&nbsp;&nbsp;&nbsp;&nbsp;<a href=\"#3.5\">3.5. Save data</a></li>\n",
    "</ul>\n",
    "\n",
    "\n",
    "\n",
    "\n",
    "\n",
    "\n",
    "\n",
    "\n",
    "\n",
    "\n",
    "\n",
    "\n",
    "\n",
    "\n",
    "\n",
    "\n",
    "\n"
   ]
  },
  {
   "cell_type": "markdown",
   "id": "380363b1",
   "metadata": {},
   "source": [
    "<a id=\"1\"></a>\n",
    "\n",
    "## 1. Data retrieval + cleaning\n",
    "\n",
    "**Goal**: To retrieve the [COVID-19 Open Research Dataset (CORD-19)](https://www.semanticscholar.org/cord19) and to select a sample of complete English articles (authors' info, title, body text) to build a scientific recommendation dataset.\n",
    "\n",
    "CORD-19 includes coronavirus-related research articles extracted from several sources, such as PubMed, bioRxiv, medRxiv, WHO."
   ]
  },
  {
   "cell_type": "markdown",
   "id": "2336226d",
   "metadata": {},
   "source": [
    "<a id=\"1.1\"></a>\n",
    "### 1.1 Import libraries"
   ]
  },
  {
   "cell_type": "code",
   "execution_count": null,
   "id": "0844dcf0",
   "metadata": {},
   "outputs": [],
   "source": [
    "import json\n",
    "import os\n",
    "import pandas as pd\n",
    "import requests\n",
    "import sys\n",
    "from langdetect import detect\n",
    "sys.path.append(\"./\")"
   ]
  },
  {
   "cell_type": "markdown",
   "id": "a1c96da7",
   "metadata": {},
   "source": [
    "<a id=\"1.2\"></a>\n",
    "### 1.2. Retrieve CORD-19\n",
    "\n",
    "CORD-19 is a large dataset, so in this tutorial we are going to use a smaller version of the dataset. \n",
    "This version is located under the directory \"cord19_small\":"
   ]
  },
  {
   "cell_type": "code",
   "execution_count": null,
   "id": "b5dd96d4",
   "metadata": {},
   "outputs": [],
   "source": [
    "os.chdir('data')\n",
    "os.system('tar -xvf cord19_small.tar.xz')\n",
    "os.chdir('../')"
   ]
  },
  {
   "cell_type": "markdown",
   "id": "c77861be",
   "metadata": {},
   "source": [
    "However, if you want to retrieve the entire dataset, you can run the following code:"
   ]
  },
  {
   "cell_type": "code",
   "execution_count": null,
   "id": "305a30d0",
   "metadata": {},
   "outputs": [],
   "source": [
    "os.chdir('data')\n",
    "         \n",
    "version = 'cord-19_2020-05-12.tar.gz'\n",
    "\n",
    "url = 'https://ai2-semanticscholar-cord-19.s3-us-west-2.amazonaws.com/historical_releases/' + version\n",
    "\n",
    "response = requests.get(url)\n",
    "\n",
    "os.system('tar -xvf cord-19_2020-05-12.tar.gz')\n",
    "os.chdir('../')"
   ]
  },
  {
   "cell_type": "markdown",
   "id": "e08f7272",
   "metadata": {},
   "source": [
    "Let's explore the contents of the dataset directory, particularly, the metadata file."
   ]
  },
  {
   "cell_type": "code",
   "execution_count": null,
   "id": "c26501ca",
   "metadata": {},
   "outputs": [],
   "source": [
    "dataset_dir = 'data/cord19_small/'\n",
    "metadata_filepath = dataset_dir + 'metadata.csv'\n",
    "\n",
    "metadata = pd.read_csv(metadata_filepath, sep = ',', quotechar = '\"',  encoding = 'utf-8', dtype=str) "
   ]
  },
  {
   "cell_type": "markdown",
   "id": "1c0cf98f",
   "metadata": {},
   "source": [
    "Now we have a DataFrame with the contents of the metadata file."
   ]
  },
  {
   "cell_type": "markdown",
   "id": "a8589d06",
   "metadata": {},
   "source": [
    "To print column names and first row:"
   ]
  },
  {
   "cell_type": "code",
   "execution_count": null,
   "id": "b10e6f7b",
   "metadata": {},
   "outputs": [],
   "source": [
    "metadata.head(1)"
   ]
  },
  {
   "cell_type": "markdown",
   "id": "be54e22c",
   "metadata": {},
   "source": [
    "To access individual rows/articles:"
   ]
  },
  {
   "cell_type": "code",
   "execution_count": null,
   "id": "38853ef5",
   "metadata": {},
   "outputs": [],
   "source": [
    "metadata.loc[0]"
   ]
  },
  {
   "cell_type": "markdown",
   "id": "c37c7b7d",
   "metadata": {},
   "source": [
    "To access the individual column title':"
   ]
  },
  {
   "cell_type": "code",
   "execution_count": null,
   "id": "b9ceea73",
   "metadata": {},
   "outputs": [],
   "source": [
    "metadata['title']"
   ]
  },
  {
   "cell_type": "markdown",
   "id": "df4d10d0",
   "metadata": {},
   "source": [
    "Let's check the summary statistics:"
   ]
  },
  {
   "cell_type": "code",
   "execution_count": null,
   "id": "9978f72e",
   "metadata": {},
   "outputs": [],
   "source": [
    "metadata.count()"
   ]
  },
  {
   "cell_type": "markdown",
   "id": "22220fff",
   "metadata": {},
   "source": [
    "By looking at the statistics, we can see that the number of records with data for the column 'cord_uid' is higher than the number of records with data for the column 'authors'. \n",
    "\n",
    "For our dataset, we only want to include articles with the following characteristics:\n",
    "- authors' information\n",
    "- available title\n",
    "- available body text\n",
    "- article text expressed in English\n",
    "- non-duplicate articles"
   ]
  },
  {
   "cell_type": "markdown",
   "id": "939fcb80",
   "metadata": {},
   "source": [
    "<a id=\"1.3\"></a>\n",
    "\n",
    "### 1.3. Exploring the articles of the dataset"
   ]
  },
  {
   "cell_type": "markdown",
   "id": "d806dd60",
   "metadata": {},
   "source": [
    "Let's consider the first article appearing in the metadata file.\n",
    "To check if information about the article's author is available:"
   ]
  },
  {
   "cell_type": "code",
   "execution_count": null,
   "id": "3fbef2ae",
   "metadata": {},
   "outputs": [],
   "source": [
    "metadata.loc[0]['authors']"
   ]
  },
  {
   "cell_type": "markdown",
   "id": "220d416b",
   "metadata": {},
   "source": [
    "To check if there is an available title:"
   ]
  },
  {
   "cell_type": "code",
   "execution_count": null,
   "id": "c8b6792e",
   "metadata": {},
   "outputs": [],
   "source": [
    "metadata.loc[0]['title']"
   ]
  },
  {
   "cell_type": "markdown",
   "id": "37f2a37a",
   "metadata": {},
   "source": [
    "We can see that the title is expressed in English, but it would not be efficient to check the language of every article in the dataset, so we will apply the language detection tool [langdetect](https://pypi.org/project/langdetect/):"
   ]
  },
  {
   "cell_type": "code",
   "execution_count": null,
   "id": "8e434d52",
   "metadata": {},
   "outputs": [],
   "source": [
    "title1 = metadata.loc[0]['title']\n",
    "\n",
    "title1_lang = (title1)\n",
    "\n",
    "print(\"Title:\", title1, \"\\nLanguage:\", title1_lang)"
   ]
  },
  {
   "cell_type": "markdown",
   "id": "c27da7df",
   "metadata": {},
   "source": [
    "The tool detects English as the language of the title.\n",
    "\n",
    "Let's check another article:"
   ]
  },
  {
   "cell_type": "code",
   "execution_count": null,
   "id": "858859a0",
   "metadata": {},
   "outputs": [],
   "source": [
    "title2 = metadata.loc[144]['title']\n",
    "\n",
    "title2_lang = detect(title2)\n",
    "\n",
    "print(\"Title:\", title2, \"\\nLanguage:\", title2_lang)"
   ]
  },
  {
   "cell_type": "markdown",
   "id": "28bed2cc",
   "metadata": {},
   "source": [
    "In this case, the tool detects german ('de') as the language of the title."
   ]
  },
  {
   "cell_type": "markdown",
   "id": "73fd7b45",
   "metadata": {},
   "source": [
    "Now, we want to check if there is an available abstract for the first article:"
   ]
  },
  {
   "cell_type": "code",
   "execution_count": null,
   "id": "afd4f921",
   "metadata": {},
   "outputs": [],
   "source": [
    "metadata.loc[0]['abstract']"
   ]
  },
  {
   "cell_type": "markdown",
   "id": "8c19af0a",
   "metadata": {},
   "source": [
    "The metadata file does not contain the article's text besides abstract and title, but we can access the file associated with the article using the provided information in the columns 'pdf_json_files' or 'pmc_json_files':"
   ]
  },
  {
   "cell_type": "code",
   "execution_count": null,
   "id": "f952a8bd",
   "metadata": {},
   "outputs": [],
   "source": [
    "metadata.loc[0]['pdf_json_files']"
   ]
  },
  {
   "cell_type": "markdown",
   "id": "108098d0",
   "metadata": {},
   "source": [
    "Let's open the file, which is in [JSON](https://www.json.org/json-en.html) format:"
   ]
  },
  {
   "cell_type": "code",
   "execution_count": null,
   "id": "b017d3d9",
   "metadata": {},
   "outputs": [],
   "source": [
    "article1_filepath = dataset_dir + metadata.loc[0]['pdf_json_files']\n",
    "\n",
    "with open(article1_filepath, encoding='utf-8') as article1_file:\n",
    "    article1_data = json.load(article1_file)"
   ]
  },
  {
   "cell_type": "markdown",
   "id": "aabad8a1",
   "metadata": {},
   "source": [
    "Now we have the file content stored in a dictionary with the following keys:"
   ]
  },
  {
   "cell_type": "code",
   "execution_count": null,
   "id": "8dbac510",
   "metadata": {},
   "outputs": [],
   "source": [
    "article1_data.keys()"
   ]
  },
  {
   "cell_type": "markdown",
   "id": "9225aac4",
   "metadata": {},
   "source": [
    "The article content is the following:"
   ]
  },
  {
   "cell_type": "code",
   "execution_count": null,
   "id": "86544caa",
   "metadata": {},
   "outputs": [],
   "source": [
    "article1_data"
   ]
  },
  {
   "cell_type": "markdown",
   "id": "d2d0802d",
   "metadata": {},
   "source": [
    "Let's check the body text:"
   ]
  },
  {
   "cell_type": "code",
   "execution_count": null,
   "id": "31053239",
   "metadata": {},
   "outputs": [],
   "source": [
    "body_text = article1_data['body_text']\n",
    "body_text"
   ]
  },
  {
   "cell_type": "markdown",
   "id": "83ea2ca1",
   "metadata": {},
   "source": [
    "We have a list of dictionaries, each dictionary is a paragraph belonging to a given section of the article. We want to join the different parts text in a single string: "
   ]
  },
  {
   "cell_type": "code",
   "execution_count": null,
   "id": "09b8874b",
   "metadata": {},
   "outputs": [],
   "source": [
    "article1_text = str()\n",
    "\n",
    "for paragraph in body_text:\n",
    "    article1_text += paragraph['text'] + '\\n'\n",
    "\n",
    "article1_text"
   ]
  },
  {
   "cell_type": "markdown",
   "id": "c282e3f5",
   "metadata": {},
   "source": [
    "All good! We will include this article in our dataset."
   ]
  },
  {
   "cell_type": "markdown",
   "id": "fadd9a79",
   "metadata": {},
   "source": [
    "<a id=\"1.4\"></a>\n",
    "\n",
    "### 1.4. Selecting a sample of articles to build our scientific recommendation dataset"
   ]
  },
  {
   "cell_type": "markdown",
   "id": "fa9685e6",
   "metadata": {},
   "source": [
    "Instead of repating each operation for each file individually, let us adapt our code to automatically select a sample containing 100 preprocessed articles. "
   ]
  },
  {
   "cell_type": "markdown",
   "id": "704825d0",
   "metadata": {},
   "source": [
    "First, create the output directory:"
   ]
  },
  {
   "cell_type": "code",
   "execution_count": null,
   "id": "91ef8d2e",
   "metadata": {},
   "outputs": [],
   "source": [
    "out_dir = 'data/sample/'\n",
    "\n",
    "if not os.path.exists(out_dir):\n",
    "    os.mkdir(out_dir)"
   ]
  },
  {
   "cell_type": "markdown",
   "id": "3a30aaba",
   "metadata": {},
   "source": [
    "Then, initiallize the necessary variables:"
   ]
  },
  {
   "cell_type": "code",
   "execution_count": null,
   "id": "5524d8cc",
   "metadata": {},
   "outputs": [],
   "source": [
    "max_articles = 100 #number of articles to include in the sample\n",
    "dataset_dir = 'data/cord19_small/'\n",
    "metadata_filepath = dataset_dir + 'metadata.csv'\n",
    "valid_articles_count = int()\n",
    "out_articles_ids = list()"
   ]
  },
  {
   "cell_type": "markdown",
   "id": "fe824fd6",
   "metadata": {},
   "source": [
    "Open the metadata file:"
   ]
  },
  {
   "cell_type": "code",
   "execution_count": null,
   "id": "2a194667",
   "metadata": {},
   "outputs": [],
   "source": [
    "metadata = pd.read_csv(metadata_filepath, sep = ',', quotechar = '\"',  encoding = 'utf-8', dtype=str) "
   ]
  },
  {
   "cell_type": "markdown",
   "id": "b72805dd",
   "metadata": {},
   "source": [
    "Then iterate over the records in the metadata file and choose only the relevant ones:"
   ]
  },
  {
   "cell_type": "code",
   "execution_count": null,
   "id": "6a23be5c",
   "metadata": {},
   "outputs": [],
   "source": [
    "valid_articles_count = int()\n",
    "blacklist = str()\n",
    "blacklist_count = int()\n",
    "\n",
    "for index, record in metadata.iterrows():\n",
    "    invalid_article = True\n",
    "    \n",
    "    if valid_articles_count <= max_articles:\n",
    "        \n",
    "        if record['pubmed_id'] not in out_articles_ids:\n",
    "            \n",
    "            if type(record['sha']) != float:\n",
    "\n",
    "                if record['authors'] != '':    \n",
    "\n",
    "                    if record['title'] != '':\n",
    "                        title = record['title']\n",
    "                        title_lang = detect(title)\n",
    "                        article_filepath = record['pdf_json_files']\n",
    "                        \n",
    "                        if article_filepath != '': # to consider onyl articles from the pdf_json directory\n",
    "\n",
    "                            if title_lang == 'en'  \\\n",
    "                                and type(article_filepath) != float  \\\n",
    "                                and article_filepath.count(\"document\") == 1:\n",
    "\n",
    "                                article_filepath_up = dataset_dir + record['pdf_json_files']\n",
    "\n",
    "                                with open(article_filepath_up, encoding='utf-8') as article_file:\n",
    "                                    article_data = json.load(article_file)\n",
    "\n",
    "                                if 'body_text' in article_data.keys(): # the article is valid\n",
    "                                    valid_articles_count += 1\n",
    "                                    invalid_article = False\n",
    "\n",
    "                                    # open the article file to check if it contains all info\n",
    "                                    with open(article_filepath_up) as article_file:\n",
    "                                        article_data = json.load(article_file)\n",
    "\n",
    "                                    # correct the info of the article with info present in metadata file\n",
    "                                    changed_article = False\n",
    "\n",
    "                                    if article_data['metadata']['title'] == '':\n",
    "                                        article_data['metadata']['title'] = record['title']\n",
    "                                        changed_article = True\n",
    "\n",
    "                                    if article_data['metadata']['authors'] == []:\n",
    "                                        article_data['metadata']['authors'] = record['authors']\n",
    "\n",
    "                                    # output or copy article file to out_dir\n",
    "                                    if changed_article:\n",
    "\n",
    "                                        with open(out_dir + record['sha'] + '.json', 'w') as out_file:\n",
    "                                            out_file.write(json.dumps(article_data, indent=4, ensure_ascii=False))\n",
    "\n",
    "                                    else:\n",
    "                                        command = 'cp '  \\\n",
    "                                                  + article_filepath_up + ' ' \\\n",
    "                                                  + out_dir  \\\n",
    "                                                  + record['sha'] + '.json'\n",
    "\n",
    "                                        os.system(command)\n",
    "        \n",
    "        if invalid_article: # store article pubmed id in blacklist file\n",
    "            blacklist += record['pubmed_id'] + \"\\n\"\n",
    "            blacklist_count += 1\n",
    "            \n",
    "    if valid_articles_count == max_articles:\n",
    "        total_articles = index + 1\n",
    "        break\n",
    "\n",
    "#Create blacklist file with info about invalid articles\n",
    "with open('data/blacklist/blacklist_articles.txt', 'w') as blacklist_file:\n",
    "    blacklist_file.write(blacklist)\n",
    "    blacklist_file.close()\n",
    "\n",
    "print(\"Invalid articles:\", str(blacklist_count))"
   ]
  },
  {
   "cell_type": "markdown",
   "id": "01393cbe",
   "metadata": {},
   "source": [
    "If you were not able to run the code, you can uncompress the file 'sample.tar.xz' under 'data' directory."
   ]
  },
  {
   "cell_type": "markdown",
   "id": "e02d9c0c",
   "metadata": {},
   "source": [
    "Let's check if the output directory contain the desired number of articles (max_articles):"
   ]
  },
  {
   "cell_type": "code",
   "execution_count": null,
   "id": "afb22130",
   "metadata": {},
   "outputs": [],
   "source": [
    "article_count = len(os.listdir(out_dir))\n",
    "assert article_count == max_articles, 'Invalid number of article(s): {}! Expected number: {}'.format(article_count, max_articles)"
   ]
  },
  {
   "cell_type": "markdown",
   "id": "d55f271d",
   "metadata": {},
   "source": [
    "At the end of this section, we now have a sample including 100 articles that will be the basis of our scientific recommendation dataset."
   ]
  },
  {
   "cell_type": "markdown",
   "id": "a518f3c4",
   "metadata": {},
   "source": [
    "<a id=\"2\"></a>\n",
    "\n",
    "## 2. Named Entity Recognition (NER) + Named Entity Linking (NEL)\n",
    "\n",
    "**Goal**: To recognize chemical and disease entities in the retrieved articles and to link them to the respective ontology identifiers.\n",
    "\n",
    "We are going to use the [Disease Ontology](https://disease-ontology.org/) (DO), and the [Chemical Entities of Biological Interest](https://www.ebi.ac.uk/chebi/) (ChEBI) ontology.\n",
    "\n",
    "To perform NER and NEL, we are going to apply Minimal Named-Entity Recognizer [MER](https://pypi.org/project/merpy/) tool."
   ]
  },
  {
   "cell_type": "markdown",
   "id": "6fbb0741",
   "metadata": {},
   "source": [
    "<a id=\"2.1\"></a>\n",
    "### 2.1. Import libraries"
   ]
  },
  {
   "cell_type": "code",
   "execution_count": null,
   "id": "efe4ebc7",
   "metadata": {},
   "outputs": [],
   "source": [
    "import merpy\n",
    "import multiprocessing\n",
    "from collections import Counter"
   ]
  },
  {
   "cell_type": "markdown",
   "id": "1dc2b517",
   "metadata": {},
   "source": [
    "<a id=\"2.2\"></a>\n",
    "### 2.2. Configure MER"
   ]
  },
  {
   "cell_type": "markdown",
   "id": "8b6607dc",
   "metadata": {},
   "source": [
    "First, we need to download the owl file associated with ChEBI:"
   ]
  },
  {
   "cell_type": "code",
   "execution_count": null,
   "id": "89fe6281",
   "metadata": {},
   "outputs": [],
   "source": [
    "merpy.download_lexicon(\"ftp://ftp.ebi.ac.uk/pub/databases/chebi/ontology/chebi.owl\",\n",
    "                       \"chebi\", ltype=\"owl\")"
   ]
  },
  {
   "cell_type": "markdown",
   "id": "f395d18b",
   "metadata": {},
   "source": [
    "Then, we need to process the downloaded file into a lexicon that MER can use:"
   ]
  },
  {
   "cell_type": "code",
   "execution_count": null,
   "id": "36abd3a2",
   "metadata": {},
   "outputs": [],
   "source": [
    "merpy.process_lexicon(\"chebi\", ltype=\"owl\")"
   ]
  },
  {
   "cell_type": "markdown",
   "id": "f8a71aa0",
   "metadata": {},
   "source": [
    "We are going to delete obsolete concepts still present in the ontology file:"
   ]
  },
  {
   "cell_type": "code",
   "execution_count": null,
   "id": "e197a193",
   "metadata": {},
   "outputs": [],
   "source": [
    "merpy.delete_obsolete(\"chebi\")"
   ]
  },
  {
   "cell_type": "markdown",
   "id": "c66803ec",
   "metadata": {},
   "source": [
    "We need to repeat the operations for the DO:"
   ]
  },
  {
   "cell_type": "code",
   "execution_count": null,
   "id": "c8dbc078",
   "metadata": {},
   "outputs": [],
   "source": [
    "merpy.download_lexicon(\"http://purl.obolibrary.org/obo/doid.owl\", \n",
    "                        \"do\", ltype=\"owl\")\n",
    "            \n",
    "merpy.process_lexicon(\"do\", ltype=\"owl\")\n",
    "\n",
    "merpy.delete_obsolete(\"do\")"
   ]
  },
  {
   "cell_type": "markdown",
   "id": "b861c3f7",
   "metadata": {},
   "source": [
    "Let's check the lexicons available for MER:"
   ]
  },
  {
   "cell_type": "code",
   "execution_count": null,
   "id": "d3ea09ba",
   "metadata": {},
   "outputs": [],
   "source": [
    "merpy.show_lexicons()"
   ]
  },
  {
   "cell_type": "markdown",
   "id": "22a4b1b7",
   "metadata": {},
   "source": [
    "<a id=\"2.3\"></a>\n",
    "### 2.3. Import stop words vocabulary and tokenizer"
   ]
  },
  {
   "cell_type": "markdown",
   "id": "1f82082b",
   "metadata": {},
   "source": [
    "Stop words are common words of a given language (for example the words 'the', 'and', 'in'). A typical pre-processing step is to tokenize the text and remove the stopwords. For that, we are going to import NLTK's list of english stopwords and use the NLTK tokenizer."
   ]
  },
  {
   "cell_type": "code",
   "execution_count": null,
   "id": "e413fd87",
   "metadata": {},
   "outputs": [],
   "source": [
    "import nltk \n",
    "nltk.download('punkt')\n",
    "\n",
    "from nltk.corpus import stopwords\n",
    "\n",
    "nltk.download('stopwords')\n",
    "\n",
    "from nltk.tokenize import word_tokenize\n",
    "\n",
    "all_stopwords = stopwords.words('english')"
   ]
  },
  {
   "cell_type": "markdown",
   "id": "defd8d2c",
   "metadata": {},
   "source": [
    "We are going to extend the stop words vocabulary by adding stop words associated with ChEBI and DO:"
   ]
  },
  {
   "cell_type": "code",
   "execution_count": null,
   "id": "f8f82b3a",
   "metadata": {},
   "outputs": [],
   "source": [
    "kbs_stopwords = list()\n",
    "blacklist_dir = 'data/blacklist/'\n",
    "filenames = ['chebi.txt', 'doid.txt']\n",
    "\n",
    "for filename in filenames:\n",
    "    \n",
    "    with open(blacklist_dir + filename, 'r') as backlist_file:\n",
    "        stopwords = [content.strip('\\n') for content in backlist_file.readlines()]\n",
    "        kbs_stopwords.extend(stopwords)\n",
    "        backlist_file.close()\n",
    "\n",
    "#Extend stop words vocabulary with the retrieved KBs stopwords\n",
    "all_stopwords.extend(kbs_stopwords)"
   ]
  },
  {
   "cell_type": "markdown",
   "id": "39189eb2",
   "metadata": {},
   "source": [
    "<a id=\"2.4\"></a>\n",
    "### 2.4. Extract the entities in a single file"
   ]
  },
  {
   "cell_type": "markdown",
   "id": "3aabcfec",
   "metadata": {},
   "source": [
    "Let's retrieve a file from the articles sample:"
   ]
  },
  {
   "cell_type": "code",
   "execution_count": null,
   "id": "81c00e62",
   "metadata": {},
   "outputs": [],
   "source": [
    "dataset_dir = 'data/sample/'\n",
    "\n",
    "with open(dataset_dir + '87390d2ae28407b3e03e60a6b24a7fd99ed7229a.json') as article1_file:\n",
    "    article_data = json.load(article1_file)"
   ]
  },
  {
   "cell_type": "markdown",
   "id": "b546b138",
   "metadata": {},
   "source": [
    "Let's check the contents of the article:"
   ]
  },
  {
   "cell_type": "code",
   "execution_count": null,
   "id": "343fb7ca",
   "metadata": {},
   "outputs": [],
   "source": [
    "article_data.keys()"
   ]
  },
  {
   "cell_type": "markdown",
   "id": "bfd1ccc6",
   "metadata": {},
   "source": [
    "We want to recognize the entities present in title, abstract, and body. "
   ]
  },
  {
   "cell_type": "markdown",
   "id": "7a04f7fa",
   "metadata": {},
   "source": [
    "First, let's retrieve the title, which is a value associated with the key 'metadata':"
   ]
  },
  {
   "cell_type": "code",
   "execution_count": null,
   "id": "3af6ec4d",
   "metadata": {},
   "outputs": [],
   "source": [
    "title = article_data['metadata']['title']\n",
    "title"
   ]
  },
  {
   "cell_type": "markdown",
   "id": "7abbe9ec",
   "metadata": {},
   "source": [
    "Let's tokenize the title:"
   ]
  },
  {
   "cell_type": "code",
   "execution_count": null,
   "id": "5668ad4a",
   "metadata": {},
   "outputs": [],
   "source": [
    "title_tokens = word_tokenize(title)\n",
    "title_tokens"
   ]
  },
  {
   "cell_type": "markdown",
   "id": "c1e575bb",
   "metadata": {},
   "source": [
    "And remove the tokens relative to stop words:"
   ]
  },
  {
   "cell_type": "code",
   "execution_count": null,
   "id": "0c45ab35",
   "metadata": {},
   "outputs": [],
   "source": [
    "title_tokens_up = [word for word in title_tokens if not word in all_stopwords]\n",
    "title_tokens_up"
   ]
  },
  {
   "cell_type": "markdown",
   "id": "efb32fa8",
   "metadata": {},
   "source": [
    "And rebuild the title without the stop words:"
   ]
  },
  {
   "cell_type": "code",
   "execution_count": null,
   "id": "2027690a",
   "metadata": {},
   "outputs": [],
   "source": [
    "title_up = (' ').join(title_tokens_up)\n",
    "title_up"
   ]
  },
  {
   "cell_type": "markdown",
   "id": "3dd5879c",
   "metadata": {},
   "source": [
    "Then, we apply MER to the preprocessed title in order to recognize disease entities and to link them to DO concepts:"
   ]
  },
  {
   "cell_type": "code",
   "execution_count": null,
   "id": "b41d3b84",
   "metadata": {},
   "outputs": [],
   "source": [
    "merpy.get_entities(title_up, 'do')"
   ]
  },
  {
   "cell_type": "markdown",
   "id": "2538335e",
   "metadata": {},
   "source": [
    "Let's check if the annotations make sense. For instance, access the link http://purl.obolibrary.org/obo/DOID_2945."
   ]
  },
  {
   "cell_type": "markdown",
   "id": "c888ad63",
   "metadata": {},
   "source": [
    "The entity 'SARS' in the article was linked to the DO concept 'severe acute respiratory syndrome' with the identifier 'DOID:2945', which seems correct!"
   ]
  },
  {
   "cell_type": "markdown",
   "id": "be1ffd71",
   "metadata": {},
   "source": [
    "Let's apply MER to recognize chemical entities and to link them to ChEBI concepts:"
   ]
  },
  {
   "cell_type": "code",
   "execution_count": null,
   "id": "20ea500e",
   "metadata": {},
   "outputs": [],
   "source": [
    "merpy.get_entities(title_up, 'chebi')"
   ]
  },
  {
   "cell_type": "markdown",
   "id": "31fc75ab",
   "metadata": {},
   "source": [
    "Accessing the link http://purl.obolibrary.org/obo/CHEBI_35341, we can see that the entity 'Steroids' was linked to the ChEBI concept 'steroid', which has the identifier 'CHEBI:35341'."
   ]
  },
  {
   "cell_type": "markdown",
   "id": "f8bd3965",
   "metadata": {},
   "source": [
    "We add the disease and chemical entities to a single list:"
   ]
  },
  {
   "cell_type": "code",
   "execution_count": null,
   "id": "1cac3147",
   "metadata": {},
   "outputs": [],
   "source": [
    "title_entities = merpy.get_entities(title_up, 'do') + merpy.get_entities(title_up, 'chebi')\n",
    "\n",
    "title_entities"
   ]
  },
  {
   "cell_type": "markdown",
   "id": "f327581a",
   "metadata": {},
   "source": [
    "Now, we are going to apply MER to recognize entities in abstract:"
   ]
  },
  {
   "cell_type": "code",
   "execution_count": null,
   "id": "15605b78",
   "metadata": {},
   "outputs": [],
   "source": [
    "abstract = article_data['abstract'][0]['text']\n",
    "\n",
    "#Tokenize and remove stop words\n",
    "abstract_tokens = word_tokenize(abstract)\n",
    "abstract_tokens_up = [word for word in abstract_tokens if not word in all_stopwords]\n",
    "abstract_up = (' ').join(abstract_tokens_up)\n",
    "\n",
    "#Entity recognition and linking \n",
    "abstract_entities = merpy.get_entities(abstract_up, 'do') + merpy.get_entities(abstract_up, 'chebi')\n",
    "\n",
    "abstract_entities"
   ]
  },
  {
   "cell_type": "markdown",
   "id": "317fbe0d",
   "metadata": {},
   "source": [
    "Let's apply MER in the text associated with the body of the article:"
   ]
  },
  {
   "cell_type": "code",
   "execution_count": null,
   "id": "3e860e2d",
   "metadata": {},
   "outputs": [],
   "source": [
    "body = str()\n",
    "\n",
    "for section in article_data['body_text']:\n",
    "    body += section['text'] + \"\\n\"\n",
    "    \n",
    "#Tokenize and remove stop words\n",
    "body_tokens = word_tokenize(body)\n",
    "body_tokens_up = [word for word in body_tokens if not word in all_stopwords]\n",
    "body_up = (' ').join(body_tokens_up)\n",
    "\n",
    "#Entity recognition and linking \n",
    "body_entities = merpy.get_entities(body_up, \"do\") + merpy.get_entities(body_up, \"chebi\")\n",
    "\n",
    "body_entities"
   ]
  },
  {
   "cell_type": "markdown",
   "id": "bd675f5b",
   "metadata": {},
   "source": [
    "At last, we need to obtain information about the frequency of each ontology identifier in the document:"
   ]
  },
  {
   "cell_type": "code",
   "execution_count": null,
   "id": "a6057c68",
   "metadata": {},
   "outputs": [],
   "source": [
    "total_entities = title_entities + abstract_entities + body_entities\n",
    "\n",
    "all_uris = [entity[3] for entity in total_entities]\n",
    "\n",
    "entity_counter = Counter(all_uris)\n",
    "\n",
    "entity_counter"
   ]
  },
  {
   "cell_type": "markdown",
   "id": "959c39d2",
   "metadata": {},
   "source": [
    "To sort the URIs by descending order:"
   ]
  },
  {
   "cell_type": "code",
   "execution_count": null,
   "id": "19745044",
   "metadata": {},
   "outputs": [],
   "source": [
    "entity_counter = {\n",
    "    k: v \n",
    "    for k, v in sorted(entity_counter.items(), key=lambda item: item[1], reverse=True)\n",
    "    }\n",
    "\n",
    "entity_counter "
   ]
  },
  {
   "cell_type": "markdown",
   "id": "14b10d98",
   "metadata": {},
   "source": [
    "<a id=\"2.5\"></a>\n",
    "### 2.5. Create entity files"
   ]
  },
  {
   "cell_type": "markdown",
   "id": "2f26f082",
   "metadata": {},
   "source": [
    "We need to adapt our code to perform NER and NEL in all documents of our sample."
   ]
  },
  {
   "cell_type": "markdown",
   "id": "acb32726",
   "metadata": {},
   "source": [
    "First, create the output dir:"
   ]
  },
  {
   "cell_type": "code",
   "execution_count": null,
   "id": "1e2ff5fa",
   "metadata": {},
   "outputs": [],
   "source": [
    "out_dir = 'data/sample_entities/'\n",
    "\n",
    "if not os.path.exists(out_dir):\n",
    "    os.mkdir(out_dir)"
   ]
  },
  {
   "cell_type": "markdown",
   "id": "5cb79da2",
   "metadata": {},
   "source": [
    "Next, we are going to iterate over each file present in the sample directory, annotate it, and create the respective entity file:"
   ]
  },
  {
   "cell_type": "code",
   "execution_count": null,
   "id": "d3a7b6ea",
   "metadata": {},
   "outputs": [],
   "source": [
    "def annotate_doc(article):\n",
    "    \n",
    "    article_filepath = 'data/sample/' + article  \n",
    "\n",
    "    with open(article_filepath) as input_file:\n",
    "        article_data = json.load(input_file)\n",
    "\n",
    "    doc_output = {'id': str(), 'entities': {}, 'sections': {'title': [], 'abstract': [], 'body': []}}\n",
    "    \n",
    "    doc_output['id'] = article_data['paper_id']\n",
    "   \n",
    "    #Annotate the title\n",
    "    title = article_data['metadata']['title']\n",
    "    \n",
    "    #Tokenize and remove stop words\n",
    "    title_tokens = word_tokenize(title)\n",
    "    title_tokens_up = [word for word in title_tokens if not word in all_stopwords]\n",
    "    title_up = (' ').join(title_tokens_up)\n",
    "    \n",
    "    #Entity recognition and linking\n",
    "    title_entities = merpy.get_entities(title_up, 'do') + merpy.get_entities(title_up, 'chebi')\n",
    "    doc_output['sections']['title'] = title_entities\n",
    "    \n",
    "    #Annotate the abstract\n",
    "    if article_data['abstract'] != []:\n",
    "        abstract = article_data['abstract'][0]['text']\n",
    "        \n",
    "        #Tokenize and remove stop words\n",
    "        abstract_tokens = word_tokenize(abstract)\n",
    "        abstract_tokens_up = [word for word in abstract_tokens if not word in all_stopwords]\n",
    "        abstract_up = (' ').join(abstract_tokens_up)\n",
    "        \n",
    "        #Entity recognition and linking\n",
    "        abstract_entities = merpy.get_entities(abstract_up, 'do') + merpy.get_entities(abstract_up, 'chebi')\n",
    "        doc_output['sections']['abstract'] = abstract_entities\n",
    "    \n",
    "    else:\n",
    "        abstract_entities = []\n",
    "\n",
    "    #Combine the several paragraphs of the body text and annotate it\n",
    "    body = str()\n",
    "\n",
    "    for section in article_data['body_text']:\n",
    "        body += section['text'] + '\\n'\n",
    "    \n",
    "    #Tokenize and remove stop words\n",
    "    body_tokens = word_tokenize(body)\n",
    "    body_tokens_up = [word for word in body_tokens if not word in all_stopwords]\n",
    "    body_up = (' ').join(body_tokens_up)    \n",
    "        \n",
    "    #Entity recognition and linking\n",
    "    body_entities = merpy.get_entities(body_up, 'do') + merpy.get_entities(body_up, 'chebi')\n",
    "    doc_output['sections']['body'] = body_entities\n",
    "\n",
    "    # Count URIs frequencies and sort them\n",
    "    total_entities = title_entities + abstract_entities + body_entities\n",
    "    all_uris = [entity[3] for entity in total_entities if len(entity)==4]\n",
    "    entity_counter = Counter(all_uris)\n",
    "    \n",
    "    doc_output['entities'] = {\n",
    "        k: v \n",
    "        for k, v in sorted(entity_counter.items(), key=lambda item: item[1], reverse=True)\n",
    "        }\n",
    "    \n",
    "    #Generate JSON file with output\n",
    "    out_filepath = out_dir + doc_output['id'] + '_entities.json'\n",
    "    \n",
    "    with open(out_filepath, 'w') as out_file:\n",
    "        out_file.write(json.dumps(doc_output, indent=4))\n",
    "        \n",
    "\n",
    "article_dir = 'data/sample/'\n",
    "        \n",
    "with multiprocessing.Pool(processes=10) as pool: \n",
    "    # change the number of processes according to number of available cores\n",
    "    outputs = pool.map(annotate_doc, [article for article in os.listdir(article_dir)], chunksize=10)\n",
    "    pool.close()"
   ]
  },
  {
   "cell_type": "markdown",
   "id": "59473194",
   "metadata": {},
   "source": [
    "If you were not able to run the previous code, you can extract the file 'sample_entities.tar.xz' under 'data' directory"
   ]
  },
  {
   "cell_type": "markdown",
   "id": "35a55f11",
   "metadata": {},
   "source": [
    "Now we have both the article files ('data/sample' directory) and the respective entities files ('data/sample_entities' directory), and the next step will be the generation of the scientific recomendation dataset using the LIBRETTI algorithm."
   ]
  },
  {
   "cell_type": "markdown",
   "id": "bf4d72b7",
   "metadata": {},
   "source": [
    "<a id=\"3\"></a>\n",
    "## 3. Create the recommendation dataset"
   ]
  },
  {
   "cell_type": "markdown",
   "id": "b908c0ab",
   "metadata": {},
   "source": [
    "<a id=\"3.1\"></a>\n",
    "### 3.1. Import libraries"
   ]
  },
  {
   "cell_type": "code",
   "execution_count": null,
   "id": "ed43845b",
   "metadata": {},
   "outputs": [],
   "source": [
    "import sys\n",
    "import numpy as np\n",
    "import time\n",
    "from datetime import date, datetime"
   ]
  },
  {
   "cell_type": "markdown",
   "id": "beb73690",
   "metadata": {},
   "source": [
    "<a id=\"3.2\"></a>\n",
    "### 3.2. Import user-defined-functions"
   ]
  },
  {
   "cell_type": "code",
   "execution_count": null,
   "id": "98fcaf26",
   "metadata": {},
   "outputs": [],
   "source": [
    "from util.utils import *\n",
    "from util.utils2json import *\n",
    "from util.functions import *\n",
    "from util.utils2ontologies import *\n",
    "from util.utils2pubmed import *"
   ]
  },
  {
   "cell_type": "code",
   "execution_count": null,
   "id": "dcfbbae6",
   "metadata": {},
   "outputs": [],
   "source": [
    "pd.set_option('display.max_columns', None)\n",
    "pd.set_option(\"max_rows\", None)"
   ]
  },
  {
   "cell_type": "markdown",
   "id": "b1eaf837",
   "metadata": {},
   "source": [
    "Entities defined by user, our example will work with chebi and doid ontologies"
   ]
  },
  {
   "cell_type": "code",
   "execution_count": null,
   "id": "15c88a9a",
   "metadata": {},
   "outputs": [],
   "source": [
    "# if entities is defined by user then saved it in a list\n",
    "active_lexicons = []\n",
    "is_chebi, is_do, is_go, is_hp = True, True, False, False\n",
    "\n",
    "active_lexicons.append('chebi')   \n",
    "active_lexicons.append('do')   "
   ]
  },
  {
   "cell_type": "markdown",
   "id": "659816cc",
   "metadata": {},
   "source": [
    "Path of original' json and entities' json folder, blacklist and metadata"
   ]
  },
  {
   "cell_type": "code",
   "execution_count": null,
   "id": "6975a541",
   "metadata": {},
   "outputs": [],
   "source": [
    "original_json_folder = '../data/sample/'\n",
    "entities_json_folder = '../data/sample_entities/'\n",
    "path_to_blacklist = '../data/blacklist/blacklist_articles.txt'\n",
    "path_to_metadata = '../data/metadata.csv'"
   ]
  },
  {
   "cell_type": "code",
   "execution_count": null,
   "id": "54975673",
   "metadata": {},
   "outputs": [],
   "source": [
    "entities_list_of_json_files = list_files_in_directory(path=entities_json_folder)\n",
    "#print(entities_list_of_json_files)"
   ]
  },
  {
   "cell_type": "code",
   "execution_count": null,
   "id": "195ed460",
   "metadata": {},
   "outputs": [],
   "source": [
    "##### Get all articles id that cannot be considered in use case "
   ]
  },
  {
   "cell_type": "code",
   "execution_count": null,
   "id": "d7635eb0",
   "metadata": {},
   "outputs": [],
   "source": [
    "articles_blacklist = get_blacklist(file=path_to_blacklist)\n",
    "print(articles_blacklist)\n",
    "metadata = pd.read_csv(path_to_metadata)"
   ]
  },
  {
   "cell_type": "code",
   "execution_count": null,
   "id": "782e90d5",
   "metadata": {},
   "outputs": [],
   "source": [
    "user_item_rating_all = []\n",
    "count = 0\n",
    "#entities_list_of_json_files=['PMC7176216_entities.json']\n",
    "for file in entities_list_of_json_files:\n",
    "    # ## Exception\n",
    "    if file.replace('_entities.json','') in articles_blacklist:\n",
    "        continue\n",
    "    # if file.startswith('PMC'):\n",
    "    #     continue    \n",
    "    print(count, \"-\", len(entities_list_of_json_files))            \n",
    "    print(file)\n",
    "        \n",
    "    # check valid json file, i.e. contains values\n",
    "    try:\n",
    "        j_file_entities = open_json_file_pd(path=entities_json_folder, file=file)           \n",
    "    except Exception as e:\n",
    "        print(f'Json file does not contain values. Error message {e}')\n",
    "        set_blacklist(file=path_to_blacklist, line=file.replace('_entities.json',''))\n",
    "        continue\n",
    "    \n",
    "    df_entities = get_entities_id(get_entities(j_file_entities))\n",
    "    if df_entities.empty:\n",
    "        print(f'Json file does not contain values.')\n",
    "        set_blacklist(file=path_to_blacklist, line=file.replace('_entities.json',''))\n",
    "        continue    \n",
    "    \n",
    "    print(df_entities)\n",
    "    article_id = get_article_id(j_file_entities)\n",
    "    \n",
    "    # check valid json file, i.e. contains values\n",
    "    try:\n",
    "        j_file_original = open_json_file(path=original_json_folder, file=article_id)\n",
    "        #print(j_file_original)\n",
    "    except Exception as e:\n",
    "        print(f'Original json file does not exist. Error message {e}')\n",
    "        set_blacklist(file=path_to_blacklist, line=file.replace('_entities.json',''))\n",
    "        continue    \n",
    "    \n",
    "    # check if json file contains authors, otherwise try to find them in metadata.csv\n",
    "    # if value remains null them put this article in the blacklist file\n",
    "    list_of_authors = get_authors_names(data=j_file_original)\n",
    "    \n",
    "###  ---- Metadata ----\n",
    "    # Some datas return an array, then we convert to a list and get first element\n",
    "    publish_date=''      \n",
    "    if article_id.startswith('PMC'):\n",
    "        try:\n",
    "            publish_date = metadata[metadata.pmcid == article_id].\\\n",
    "                publish_time.map(lambda v: v.split('-')[0]).tolist()[0]\n",
    "        except Exception as e:    \n",
    "            try:\n",
    "                print(f'Find publish date, now with metapub. Error message {e}')            \n",
    "                publish_date = get_year_by_metapub(pmcid=article_id) \n",
    "            except Exception as e: \n",
    "                try:                    \n",
    "                    print(f'Find publish date, now with Bio. Error message {e}') \n",
    "                    pmid = get_pmid(pmcid=article_id) \n",
    "                    publish_date = get_year_by_bio(pmid) \n",
    "                except Exception as e:\n",
    "                    print(f'Find publish date, now with metapub. Error message {e}')    \n",
    "                \n",
    "        finally:\n",
    "            pass                                         \n",
    "    else:\n",
    "        try:\n",
    "            publish_date = metadata[metadata.sha == article_id].\\\n",
    "                publish_time.map(lambda v: v.split('-')[0]).tolist()[0]\n",
    "        finally:\n",
    "            pass  \n",
    "\n",
    "    print(publish_date)\n",
    "    if publish_date==None:\n",
    "        set_blacklist(file=path_to_blacklist, line=file.replace('_entities.json',''))\n",
    "        continue\n",
    "    \n",
    "    # if authors is empty we will find in metadata.csv file\n",
    "    if len(list_of_authors)==0:\n",
    "        ##if string is NaN\n",
    "        try:\n",
    "            if article_id.startswith('PMC'):\n",
    "                try:\n",
    "                    authors = get_authors_metadata(data=metadata, label=pmcid, ident= article_id)\n",
    "                    list_of_authors.append(authors) \n",
    "                except Exception as e:\n",
    "                    print(f'Get authors name in pubmed. Error: {e}')    \n",
    "                    pmid = get_pmid(pmcid=article_id)\n",
    "                    authors = get_authors_by_bio(pmid)\n",
    "                    for a in authors:                \n",
    "                        first = unidecode.unidecode(a['first'])\n",
    "                        last = unidecode.unidecode(a['last']) \n",
    "                    list_of_authors.append(first + ', '+  last)                     \n",
    "            else:\n",
    "                authors = get_authors_metadata(data=metadata, label=sha, ident= article_id)\n",
    "                list_of_authors.append(authors) \n",
    "        except Exception as e:\n",
    "            print(f'Empty values {e}')   \n",
    "            set_blacklist(file=path_to_blacklist, line=file.replace('_entities.json',''))                \n",
    "        continue\n",
    "    count+=1\n",
    "    \n",
    "###  ---- End of Metadata ----            \n",
    "    \n",
    "    user_item_rating = get_user_item_rating(lst=list_of_authors, df=df_entities)\n",
    "    #print(user_item_rating)\n",
    "    \n",
    "    ## add publish_date in array in index column = 3\n",
    "    user_item_rating = np.insert(user_item_rating, 3, publish_date, axis=1)\n",
    "    # print(user_item_rating)\n",
    "    user_item_rating_all.append(user_item_rating)"
   ]
  },
  {
   "cell_type": "code",
   "execution_count": null,
   "id": "26af486b",
   "metadata": {},
   "outputs": [],
   "source": [
    "flat_list = []\n",
    "for sublist in user_item_rating_all:\n",
    "    for item in sublist:\n",
    "        flat_list.append(item)"
   ]
  },
  {
   "cell_type": "code",
   "execution_count": null,
   "id": "1a9ee330",
   "metadata": {},
   "outputs": [],
   "source": [
    "array = np.array(flat_list)\n",
    "\n",
    "final_data = pd.DataFrame(array,  columns=['user', 'item', 'rating', 'year'])\n",
    "sum_df = final_data.groupby(['user', 'item', 'year']).size().reset_index().rename(columns={0: 'rating'})    \n",
    "df_with_user_id = id_to_index(sum_df)"
   ]
  },
  {
   "cell_type": "code",
   "execution_count": null,
   "id": "8ffc8b12",
   "metadata": {},
   "outputs": [],
   "source": [
    "# swap columns: user and index_user, and after rename to author_name\n",
    "#df_with_user_id['index_user'], df_with_user_id['user'] = df_with_user_id['user'], df_with_user_id['index_user']\n",
    "df_with_user_id.rename(columns={'user': 'author_name', 'index_user': 'user'}, inplace = True)"
   ]
  },
  {
   "cell_type": "markdown",
   "id": "f30014c0",
   "metadata": {},
   "source": [
    "<a id=\"3.3\"></a>\n",
    "### 3.3. Get entities labels"
   ]
  },
  {
   "cell_type": "code",
   "execution_count": null,
   "id": "ff352f7e",
   "metadata": {},
   "outputs": [],
   "source": [
    "list_of_entities = df_with_user_id.item.unique()\n",
    "print(list_of_entities) "
   ]
  },
  {
   "cell_type": "markdown",
   "id": "7d5c3d52",
   "metadata": {},
   "source": [
    "<a id=\"3.4\"></a>\n",
    "### 3.4. Loading ontologies"
   ]
  },
  {
   "cell_type": "code",
   "execution_count": null,
   "id": "6727bc6b",
   "metadata": {},
   "outputs": [],
   "source": [
    "chebi, do, go, hp = loading_items(is_chebi, is_do, is_go, is_hp)"
   ]
  },
  {
   "cell_type": "code",
   "execution_count": null,
   "id": "ad962923",
   "metadata": {},
   "outputs": [],
   "source": [
    "entities_label = get_entities_labels(lst=list_of_entities, prefix_chebi=chebi, prefix_do=do, prefix_go=go, prefix_hp=hp)\n",
    "print(entities_label)"
   ]
  },
  {
   "cell_type": "code",
   "execution_count": null,
   "id": "7d2fdc76",
   "metadata": {},
   "outputs": [],
   "source": [
    "df_entities = pd.DataFrame(list_of_entities, columns=[\"item_id\"])\n",
    "df_entities[\"entity_name\"] = np.array(entities_label)\n",
    "print(df_entities)"
   ]
  },
  {
   "cell_type": "code",
   "execution_count": null,
   "id": "3f797080",
   "metadata": {},
   "outputs": [],
   "source": [
    "print('mapping labels')\n",
    "df_with_user_id[\"item_name\"] = df_with_user_id[\"item\"].map(df_entities.set_index('item_id')[\"entity_name\"]).fillna(0)\n",
    "print(df_with_user_id)"
   ]
  },
  {
   "cell_type": "markdown",
   "id": "cbe1261b",
   "metadata": {},
   "source": [
    "<a id=\"3.5\"></a>\n",
    "### 3.5. Save data"
   ]
  },
  {
   "cell_type": "code",
   "execution_count": null,
   "id": "ecbad7a4",
   "metadata": {},
   "outputs": [],
   "source": [
    "path_to_cord_ds = '../data/results/sample_cord-19_dataset.csv'\n",
    "path_to_cord_userid = '../data/results/sample_cord-19_dataset_userid.csv'\n",
    "print('saving data')\n",
    "save_final_data(data=df_with_user_id[['user', 'item', 'rating', 'item_name', 'year']], \\\n",
    "        path=path_to_cord_ds)\n",
    "save_final_data(data=df_with_user_id[['user', 'author_name']], \\\n",
    "        path=path_to_cord_userid)\n",
    "#save_final_data(data=df_with_user_id[['user', 'author_name', 'item', 'rating', 'item_name', 'year']], \\\n",
    "#        path=path_to_cord_userid)  "
   ]
  }
 ],
 "metadata": {
  "kernelspec": {
   "display_name": "recsys_scifi",
   "language": "python",
   "name": "recsys_scifi"
  },
  "language_info": {
   "codemirror_mode": {
    "name": "ipython",
    "version": 3
   },
   "file_extension": ".py",
   "mimetype": "text/x-python",
   "name": "python",
   "nbconvert_exporter": "python",
   "pygments_lexer": "ipython3",
   "version": "3.6.13"
  }
 },
 "nbformat": 4,
 "nbformat_minor": 5
}
