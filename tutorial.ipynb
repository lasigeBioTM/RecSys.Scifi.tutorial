{
 "cells": [
  {
   "cell_type": "markdown",
   "id": "896af332",
   "metadata": {},
   "source": [
    "# Tutorial: Creating Recommender Systems Datasets in Scientific Fields\n",
    "\n",
    "- [1. Data retrieval and cleaning](##1.-Data-retrieval-and-cleaning)\n",
    "    - [1.1. Import libraries](###1.1.-Import-libraries)\n",
    "    - [1.2. Retrieve CORD-19](###1.2.-Retrieve-CORD-19)\n",
    "    - [1.3. Exploring the articles of the dataset](###1.3.-Exploring-the-articles-of-the-dataset)\n",
    "    - [1.4. Selecting a sample of articles to build our scientific recommendation dataset\n",
    "](###1.4.-Selecting-a-sample-of-articles-to-build-our-scientific-recommendation-dataset)\n",
    "- [2. Named Entity Recognition (NER) + Named Entity Linking (NEL)](#2.)\n",
    "    - [2.1. Import libraries](###2.1.-Import-libraries)\n",
    "    - [2.2. Configure MER](#2.2.-Configure-MER)\n",
    "    - [2.3. Extract the entities in a single file](###2.3.-Extract-the-entities-in-a-single-file)\n",
    "    - [2.4. Create entity files](###2.4.-Create-entity-files)\n",
    "- [3. Creating the recommendation dataset](##3.-Creating-the-recommendation-dataset) "
   ]
  },
  {
   "cell_type": "markdown",
   "id": "380363b1",
   "metadata": {},
   "source": [
    "## 1. Data retrieval + cleaning\n",
    "\n",
    "**Objective**: To retrieve the [COVID-19 Open Research Dataset (CORD-19)](https://www.semanticscholar.org/cord19) and to select a sample of complete English articles (authors' info, title, body text) to build a scientific recommendation dataset.\n",
    "\n",
    "CORD-19 includes coronavirus-related research articles extracted from several sources, such as PubMed, bioRxiv, medRxiv, WHO."
   ]
  },
  {
   "cell_type": "markdown",
   "id": "2336226d",
   "metadata": {},
   "source": [
    "### 1.1. Import libraries"
   ]
  },
  {
   "cell_type": "code",
   "execution_count": 1,
   "id": "0844dcf0",
   "metadata": {},
   "outputs": [],
   "source": [
    "import json\n",
    "import os\n",
    "import pandas as pd\n",
    "import requests\n",
    "from langdetect import detect"
   ]
  },
  {
   "cell_type": "markdown",
   "id": "a1c96da7",
   "metadata": {},
   "source": [
    "### 1.2. Retrieve CORD-19"
   ]
  },
  {
   "cell_type": "markdown",
   "id": "6726700e",
   "metadata": {},
   "source": [
    "CORD-19 is a large dataset, so in this tutorial we are going to use a smaller version of the dataset. \n",
    "This version is located under the directory \"cord19_small\""
   ]
  },
  {
   "cell_type": "markdown",
   "id": "c77861be",
   "metadata": {},
   "source": [
    "However, if you want to retrieve the entire dataset, you can run the following code:"
   ]
  },
  {
   "cell_type": "code",
   "execution_count": null,
   "id": "305a30d0",
   "metadata": {},
   "outputs": [],
   "source": [
    "version = 'cord-19_2020-05-12.tar.gz'\n",
    "\n",
    "url = 'https://ai2-semanticscholar-cord-19.s3-us-west-2.amazonaws.com/historical_releases/' + version\n",
    "\n",
    "response = requests.get(url)\n",
    "\n",
    "os.system('tar -cvf cord-19_2020-05-12.tar.gz')"
   ]
  },
  {
   "cell_type": "markdown",
   "id": "e08f7272",
   "metadata": {},
   "source": [
    "Let's explore the contents of the dataset directory, particularly, the metadata file."
   ]
  },
  {
   "cell_type": "code",
   "execution_count": 2,
   "id": "c26501ca",
   "metadata": {},
   "outputs": [],
   "source": [
    "dataset_dir = 'cord19_small/'\n",
    "metadata_filepath = dataset_dir + 'metadata.csv'\n",
    "\n",
    "metadata = pd.read_csv(metadata_filepath, sep = ',', quotechar = '\"',  encoding = 'utf-8', dtype=str) "
   ]
  },
  {
   "cell_type": "markdown",
   "id": "1c0cf98f",
   "metadata": {},
   "source": [
    "Now we have a DataFrame with the contents of the metadata file."
   ]
  },
  {
   "cell_type": "markdown",
   "id": "a8589d06",
   "metadata": {},
   "source": [
    "To print column names and first row:"
   ]
  },
  {
   "cell_type": "code",
   "execution_count": 3,
   "id": "b10e6f7b",
   "metadata": {},
   "outputs": [
    {
     "data": {
      "text/html": [
       "<div>\n",
       "<style scoped>\n",
       "    .dataframe tbody tr th:only-of-type {\n",
       "        vertical-align: middle;\n",
       "    }\n",
       "\n",
       "    .dataframe tbody tr th {\n",
       "        vertical-align: top;\n",
       "    }\n",
       "\n",
       "    .dataframe thead th {\n",
       "        text-align: right;\n",
       "    }\n",
       "</style>\n",
       "<table border=\"1\" class=\"dataframe\">\n",
       "  <thead>\n",
       "    <tr style=\"text-align: right;\">\n",
       "      <th></th>\n",
       "      <th>cord_uid</th>\n",
       "      <th>sha</th>\n",
       "      <th>source_x</th>\n",
       "      <th>title</th>\n",
       "      <th>doi</th>\n",
       "      <th>pmcid</th>\n",
       "      <th>pubmed_id</th>\n",
       "      <th>license</th>\n",
       "      <th>abstract</th>\n",
       "      <th>publish_time</th>\n",
       "      <th>authors</th>\n",
       "      <th>journal</th>\n",
       "      <th>mag_id</th>\n",
       "      <th>who_covidence_id</th>\n",
       "      <th>arxiv_id</th>\n",
       "      <th>pdf_json_files</th>\n",
       "      <th>pmc_json_files</th>\n",
       "      <th>url</th>\n",
       "      <th>s2_id</th>\n",
       "    </tr>\n",
       "  </thead>\n",
       "  <tbody>\n",
       "    <tr>\n",
       "      <th>0</th>\n",
       "      <td>ug7v899j</td>\n",
       "      <td>d1aafb70c066a2068b02786f8929fd9c900897fb</td>\n",
       "      <td>PMC</td>\n",
       "      <td>Clinical features of culture-proven Mycoplasma...</td>\n",
       "      <td>10.1186/1471-2334-1-6</td>\n",
       "      <td>PMC35282</td>\n",
       "      <td>11472636</td>\n",
       "      <td>no-cc</td>\n",
       "      <td>OBJECTIVE: This retrospective chart review des...</td>\n",
       "      <td>2001-07-04</td>\n",
       "      <td>Madani, Tariq A; Al-Ghamdi, Aisha A</td>\n",
       "      <td>BMC Infect Dis</td>\n",
       "      <td>NaN</td>\n",
       "      <td>NaN</td>\n",
       "      <td>NaN</td>\n",
       "      <td>document_parses/pdf_json/d1aafb70c066a2068b027...</td>\n",
       "      <td>document_parses/pmc_json/PMC35282.xml.json</td>\n",
       "      <td>https://www.ncbi.nlm.nih.gov/pmc/articles/PMC3...</td>\n",
       "      <td>NaN</td>\n",
       "    </tr>\n",
       "  </tbody>\n",
       "</table>\n",
       "</div>"
      ],
      "text/plain": [
       "   cord_uid                                       sha source_x  \\\n",
       "0  ug7v899j  d1aafb70c066a2068b02786f8929fd9c900897fb      PMC   \n",
       "\n",
       "                                               title                    doi  \\\n",
       "0  Clinical features of culture-proven Mycoplasma...  10.1186/1471-2334-1-6   \n",
       "\n",
       "      pmcid pubmed_id license  \\\n",
       "0  PMC35282  11472636   no-cc   \n",
       "\n",
       "                                            abstract publish_time  \\\n",
       "0  OBJECTIVE: This retrospective chart review des...   2001-07-04   \n",
       "\n",
       "                               authors         journal mag_id  \\\n",
       "0  Madani, Tariq A; Al-Ghamdi, Aisha A  BMC Infect Dis    NaN   \n",
       "\n",
       "  who_covidence_id arxiv_id  \\\n",
       "0              NaN      NaN   \n",
       "\n",
       "                                      pdf_json_files  \\\n",
       "0  document_parses/pdf_json/d1aafb70c066a2068b027...   \n",
       "\n",
       "                               pmc_json_files  \\\n",
       "0  document_parses/pmc_json/PMC35282.xml.json   \n",
       "\n",
       "                                                 url s2_id  \n",
       "0  https://www.ncbi.nlm.nih.gov/pmc/articles/PMC3...   NaN  "
      ]
     },
     "execution_count": 3,
     "metadata": {},
     "output_type": "execute_result"
    }
   ],
   "source": [
    "metadata.head(1)"
   ]
  },
  {
   "cell_type": "markdown",
   "id": "be54e22c",
   "metadata": {},
   "source": [
    "To access individual rows/articles:"
   ]
  },
  {
   "cell_type": "code",
   "execution_count": 4,
   "id": "38853ef5",
   "metadata": {},
   "outputs": [
    {
     "data": {
      "text/plain": [
       "cord_uid                                                     ug7v899j\n",
       "sha                          d1aafb70c066a2068b02786f8929fd9c900897fb\n",
       "source_x                                                          PMC\n",
       "title               Clinical features of culture-proven Mycoplasma...\n",
       "doi                                             10.1186/1471-2334-1-6\n",
       "pmcid                                                        PMC35282\n",
       "pubmed_id                                                    11472636\n",
       "license                                                         no-cc\n",
       "abstract            OBJECTIVE: This retrospective chart review des...\n",
       "publish_time                                               2001-07-04\n",
       "authors                           Madani, Tariq A; Al-Ghamdi, Aisha A\n",
       "journal                                                BMC Infect Dis\n",
       "mag_id                                                            NaN\n",
       "who_covidence_id                                                  NaN\n",
       "arxiv_id                                                          NaN\n",
       "pdf_json_files      document_parses/pdf_json/d1aafb70c066a2068b027...\n",
       "pmc_json_files             document_parses/pmc_json/PMC35282.xml.json\n",
       "url                 https://www.ncbi.nlm.nih.gov/pmc/articles/PMC3...\n",
       "s2_id                                                             NaN\n",
       "Name: 0, dtype: object"
      ]
     },
     "execution_count": 4,
     "metadata": {},
     "output_type": "execute_result"
    }
   ],
   "source": [
    "metadata.loc[0]"
   ]
  },
  {
   "cell_type": "markdown",
   "id": "c37c7b7d",
   "metadata": {},
   "source": [
    "To access the individual column title':"
   ]
  },
  {
   "cell_type": "code",
   "execution_count": 5,
   "id": "b9ceea73",
   "metadata": {},
   "outputs": [
    {
     "data": {
      "text/plain": [
       "0      Clinical features of culture-proven Mycoplasma...\n",
       "1      Nitric oxide: a pro-inflammatory mediator in l...\n",
       "2        Surfactant protein-D and pulmonary host defense\n",
       "3                   Role of endothelin-1 in lung disease\n",
       "4      Gene expression in epithelial cells in respons...\n",
       "                             ...                        \n",
       "195            Families and clans of cysteine peptidases\n",
       "196                           Viral cysteine proteinases\n",
       "197                       Akute Bronchitis und Influenza\n",
       "198                          Akute Exazerbation bei COPD\n",
       "199    Außerhalb des Krankenhauses erworbene Pneumoni...\n",
       "Name: title, Length: 200, dtype: object"
      ]
     },
     "execution_count": 5,
     "metadata": {},
     "output_type": "execute_result"
    }
   ],
   "source": [
    "metadata['title']"
   ]
  },
  {
   "cell_type": "markdown",
   "id": "df4d10d0",
   "metadata": {},
   "source": [
    "Let's check the summary statistics:"
   ]
  },
  {
   "cell_type": "code",
   "execution_count": 6,
   "id": "9978f72e",
   "metadata": {},
   "outputs": [
    {
     "data": {
      "text/plain": [
       "cord_uid            200\n",
       "sha                 200\n",
       "source_x            200\n",
       "title               200\n",
       "doi                 199\n",
       "pmcid               199\n",
       "pubmed_id           198\n",
       "license             200\n",
       "abstract            170\n",
       "publish_time        200\n",
       "authors             188\n",
       "journal             199\n",
       "mag_id                0\n",
       "who_covidence_id      0\n",
       "arxiv_id              1\n",
       "pdf_json_files      200\n",
       "pmc_json_files      142\n",
       "url                 200\n",
       "s2_id                 1\n",
       "dtype: int64"
      ]
     },
     "execution_count": 6,
     "metadata": {},
     "output_type": "execute_result"
    }
   ],
   "source": [
    "metadata.count()"
   ]
  },
  {
   "cell_type": "markdown",
   "id": "22220fff",
   "metadata": {},
   "source": [
    "By looking at the statistics, we can see that the number of records with data for the column 'cord_uid' is higher than the number of records with data for the column 'authors'. \n",
    "\n",
    "For our dataset, we only want to include articles with the following characteristics:\n",
    "- authors' information\n",
    "- available title\n",
    "- available body text\n",
    "- article text expressed in English\n",
    "- non-duplicate articles"
   ]
  },
  {
   "cell_type": "markdown",
   "id": "939fcb80",
   "metadata": {},
   "source": [
    "### 1.3. Exploring the articles of the dataset"
   ]
  },
  {
   "cell_type": "markdown",
   "id": "d806dd60",
   "metadata": {},
   "source": [
    "Let's consider the first article appearing in the metadata file.\n",
    "To check if information about the article's author is available:"
   ]
  },
  {
   "cell_type": "code",
   "execution_count": 7,
   "id": "3fbef2ae",
   "metadata": {},
   "outputs": [
    {
     "data": {
      "text/plain": [
       "'Madani, Tariq A; Al-Ghamdi, Aisha A'"
      ]
     },
     "execution_count": 7,
     "metadata": {},
     "output_type": "execute_result"
    }
   ],
   "source": [
    "metadata.loc[0]['authors']"
   ]
  },
  {
   "cell_type": "markdown",
   "id": "220d416b",
   "metadata": {},
   "source": [
    "To check if there is an available title:"
   ]
  },
  {
   "cell_type": "code",
   "execution_count": 8,
   "id": "c8b6792e",
   "metadata": {},
   "outputs": [
    {
     "data": {
      "text/plain": [
       "'Clinical features of culture-proven Mycoplasma pneumoniae infections at King Abdulaziz University Hospital, Jeddah, Saudi Arabia'"
      ]
     },
     "execution_count": 8,
     "metadata": {},
     "output_type": "execute_result"
    }
   ],
   "source": [
    "metadata.loc[0]['title']"
   ]
  },
  {
   "cell_type": "markdown",
   "id": "37f2a37a",
   "metadata": {},
   "source": [
    "We can see that the title is expressed in English, but it would not be efficient to check the language of every article in the dataset, so we will apply the language detection tool [langdetect](https://pypi.org/project/langdetect/):"
   ]
  },
  {
   "cell_type": "code",
   "execution_count": 9,
   "id": "8e434d52",
   "metadata": {},
   "outputs": [
    {
     "name": "stdout",
     "output_type": "stream",
     "text": [
      "Title: Clinical features of culture-proven Mycoplasma pneumoniae infections at King Abdulaziz University Hospital, Jeddah, Saudi Arabia \n",
      "Language: en\n"
     ]
    }
   ],
   "source": [
    "title1 = metadata.loc[0]['title']\n",
    "\n",
    "title1_lang = (title1)\n",
    "\n",
    "print(\"Title:\", title1, \"\\nLanguage:\", title1_lang)"
   ]
  },
  {
   "cell_type": "markdown",
   "id": "c27da7df",
   "metadata": {},
   "source": [
    "The tool detects English as the language of the title.\n",
    "\n",
    "Let's check another article:"
   ]
  },
  {
   "cell_type": "code",
   "execution_count": 10,
   "id": "858859a0",
   "metadata": {},
   "outputs": [
    {
     "name": "stdout",
     "output_type": "stream",
     "text": [
      "Title: Deutsche Gesellschaft für Pharmakologie und Toxikologie Abstracts of the 34th Spring Meeting 16–18 March 1993, Mainz \n",
      "Language: de\n"
     ]
    }
   ],
   "source": [
    "title2 = metadata.loc[144]['title']\n",
    "\n",
    "title2_lang = detect(title2)\n",
    "\n",
    "print(\"Title:\", title2, \"\\nLanguage:\", title2_lang)"
   ]
  },
  {
   "cell_type": "markdown",
   "id": "28bed2cc",
   "metadata": {},
   "source": [
    "In this case, the tool detects german ('de') as the language of the title."
   ]
  },
  {
   "cell_type": "markdown",
   "id": "73fd7b45",
   "metadata": {},
   "source": [
    "Now, we want to check if there is an available abstract for the first article:"
   ]
  },
  {
   "cell_type": "code",
   "execution_count": 11,
   "id": "afd4f921",
   "metadata": {},
   "outputs": [
    {
     "data": {
      "text/plain": [
       "'OBJECTIVE: This retrospective chart review describes the epidemiology and clinical features of 40 patients with culture-proven Mycoplasma pneumoniae infections at King Abdulaziz University Hospital, Jeddah, Saudi Arabia. METHODS: Patients with positive M. pneumoniae cultures from respiratory specimens from January 1997 through December 1998 were identified through the Microbiology records. Charts of patients were reviewed. RESULTS: 40 patients were identified, 33 (82.5%) of whom required admission. Most infections (92.5%) were community-acquired. The infection affected all age groups but was most common in infants (32.5%) and pre-school children (22.5%). It occurred year-round but was most common in the fall (35%) and spring (30%). More than three-quarters of patients (77.5%) had comorbidities. Twenty-four isolates (60%) were associated with pneumonia, 14 (35%) with upper respiratory tract infections, and 2 (5%) with bronchiolitis. Cough (82.5%), fever (75%), and malaise (58.8%) were the most common symptoms, and crepitations (60%), and wheezes (40%) were the most common signs. Most patients with pneumonia had crepitations (79.2%) but only 25% had bronchial breathing. Immunocompromised patients were more likely than non-immunocompromised patients to present with pneumonia (8/9 versus 16/31, P = 0.05). Of the 24 patients with pneumonia, 14 (58.3%) had uneventful recovery, 4 (16.7%) recovered following some complications, 3 (12.5%) died because of M pneumoniae infection, and 3 (12.5%) died due to underlying comorbidities. The 3 patients who died of M pneumoniae pneumonia had other comorbidities. CONCLUSION: our results were similar to published data except for the finding that infections were more common in infants and preschool children and that the mortality rate of pneumonia in patients with comorbidities was high.'"
      ]
     },
     "execution_count": 11,
     "metadata": {},
     "output_type": "execute_result"
    }
   ],
   "source": [
    "metadata.loc[0]['abstract']"
   ]
  },
  {
   "cell_type": "markdown",
   "id": "8c19af0a",
   "metadata": {},
   "source": [
    "The metadata file does not contain the article's text besides abstract and title, but we can access the file associated with the article using the provided information in the columns 'pdf_json_files' or 'pmc_json_files':"
   ]
  },
  {
   "cell_type": "code",
   "execution_count": 12,
   "id": "f952a8bd",
   "metadata": {},
   "outputs": [
    {
     "data": {
      "text/plain": [
       "'document_parses/pdf_json/d1aafb70c066a2068b02786f8929fd9c900897fb.json'"
      ]
     },
     "execution_count": 12,
     "metadata": {},
     "output_type": "execute_result"
    }
   ],
   "source": [
    "metadata.loc[0]['pdf_json_files']"
   ]
  },
  {
   "cell_type": "markdown",
   "id": "108098d0",
   "metadata": {},
   "source": [
    "Let's open the file, which is in [JSON](https://www.json.org/json-en.html) format:"
   ]
  },
  {
   "cell_type": "code",
   "execution_count": 13,
   "id": "b017d3d9",
   "metadata": {},
   "outputs": [],
   "source": [
    "article1_filepath = dataset_dir + metadata.loc[0]['pdf_json_files']\n",
    "\n",
    "with open(article1_filepath, encoding='utf-8') as article1_file:\n",
    "    article1_data = json.load(article1_file)"
   ]
  },
  {
   "cell_type": "markdown",
   "id": "aabad8a1",
   "metadata": {},
   "source": [
    "Now we have the file content stored in a dictionary with the following keys:"
   ]
  },
  {
   "cell_type": "code",
   "execution_count": 14,
   "id": "8dbac510",
   "metadata": {},
   "outputs": [
    {
     "data": {
      "text/plain": [
       "dict_keys(['paper_id', 'metadata', 'abstract', 'body_text', 'bib_entries', 'ref_entries', 'back_matter'])"
      ]
     },
     "execution_count": 14,
     "metadata": {},
     "output_type": "execute_result"
    }
   ],
   "source": [
    "article1_data.keys()"
   ]
  },
  {
   "cell_type": "markdown",
   "id": "9225aac4",
   "metadata": {},
   "source": [
    "The article content is the following:"
   ]
  },
  {
   "cell_type": "code",
   "execution_count": 15,
   "id": "86544caa",
   "metadata": {},
   "outputs": [
    {
     "data": {
      "text/plain": [
       "{'paper_id': 'd1aafb70c066a2068b02786f8929fd9c900897fb',\n",
       " 'metadata': {'title': 'Clinical features of culture-proven Mycoplasma pneumoniae infections at King',\n",
       "  'authors': [{'first': 'Tariq',\n",
       "    'middle': ['A'],\n",
       "    'last': 'Madani',\n",
       "    'suffix': '',\n",
       "    'affiliation': {},\n",
       "    'email': ''},\n",
       "   {'first': 'Aisha',\n",
       "    'middle': ['A'],\n",
       "    'last': 'Al-Ghamdi',\n",
       "    'suffix': '',\n",
       "    'affiliation': {},\n",
       "    'email': ''}]},\n",
       " 'abstract': [{'text': 'Objective: This retrospective chart review describes the epidemiology and clinical features of 40 patients with culture-proven Mycoplasma pneumoniae infections at King Abdulaziz University Hospital, Jeddah, Saudi Arabia.',\n",
       "   'cite_spans': [],\n",
       "   'ref_spans': [],\n",
       "   'section': 'Abstract'},\n",
       "  {'text': 'Patients with positive M. pneumoniae cultures from respiratory specimens from January 1997 through December 1998 were identified through the Microbiology records. Charts of patients were reviewed.',\n",
       "   'cite_spans': [],\n",
       "   'ref_spans': [],\n",
       "   'section': 'Abstract'},\n",
       "  {'text': 'Results: 40 patients were identified, 33 (82.5%) of whom required admission. Most infections (92.5%) were community-acquired. The infection affected all age groups but was most common in infants (32.5%) and pre-school children (22.5%). It occurred year-round but was most common in the fall (35%) and spring (30%). More than three-quarters of patients (77.5%) had comorbidities. Twenty-four isolates (60%) were associated with pneumonia, 14 (35%) with upper respiratory tract infections, and 2 (5%) with bronchiolitis. Cough (82.5%), fever (75%), and malaise (58.8%) were the most common symptoms, and crepitations (60%), and wheezes (40%) were the most common signs. Most patients with pneumonia had crepitations (79.2%) but only 25% had bronchial breathing. Immunocompromised patients were more likely than non-immunocompromised patients to present with pneumonia (8/9 versus 16/31, P = 0.05). Of the 24 patients with pneumonia, 14 (58.3%) had uneventful recovery, 4 (16.7%) recovered following some complications, 3 (12.5%) died because of M pneumoniae infection, and 3 (12.5%) died due to underlying comorbidities. The 3 patients who died of M pneumoniae pneumonia had other comorbidities.',\n",
       "   'cite_spans': [],\n",
       "   'ref_spans': [],\n",
       "   'section': 'Abstract'},\n",
       "  {'text': 'Conclusion: our results were similar to published data except for the finding that infections were more common in infants and preschool children and that the mortality rate of pneumonia in patients with comorbidities was high.',\n",
       "   'cite_spans': [],\n",
       "   'ref_spans': [],\n",
       "   'section': 'Abstract'}],\n",
       " 'body_text': [{'text': 'Mycoplasma pneumoniae is a common cause of upper and lower respiratory tract infections. It remains one of the most frequent causes of atypical pneumonia particu-larly among young adults. [1, 2, 3, 4, 5] Although it is highly transmissible, most infections caused by this organism are relatively minor and include pharyngitis, tracheobronchitis, bronchiolitis, and croup with one fifth of in-fections being asymptomatic. [6, 7] Only 3 -10% of infected subjects develop symptoms consistent with bronchopneumonia and mortality from infection is rare. [6, 7] The organism is fastidious and difficult to grow on cultures. Therefore, diagnosis of infections caused by this organism is usually confirmed with serological tests or polymerase chain reaction-gene amplification techniques. At King Abdulaziz University Hospital (KAUH), Jeddah, Saudi Arabia, the facility to perform Mycoplasma culture has been available since January 1997. As published information concerning M. pneumoniae infections in Saudi Arabia is scarce, [8, 9, 10] we wished to study the epidemiology and clinical features of cultureproven infections caused by this organism at this hospital.',\n",
       "   'cite_spans': [{'start': 188,\n",
       "     'end': 191,\n",
       "     'text': '[1,',\n",
       "     'ref_id': 'BIBREF0'},\n",
       "    {'start': 192, 'end': 194, 'text': '2,', 'ref_id': 'BIBREF1'},\n",
       "    {'start': 195, 'end': 197, 'text': '3,', 'ref_id': 'BIBREF2'},\n",
       "    {'start': 198, 'end': 200, 'text': '4,', 'ref_id': 'BIBREF3'},\n",
       "    {'start': 201, 'end': 203, 'text': '5]', 'ref_id': 'BIBREF4'},\n",
       "    {'start': 421, 'end': 424, 'text': '[6,', 'ref_id': 'BIBREF5'},\n",
       "    {'start': 425, 'end': 427, 'text': '7]', 'ref_id': None},\n",
       "    {'start': 549, 'end': 552, 'text': '[6,', 'ref_id': 'BIBREF5'},\n",
       "    {'start': 553, 'end': 555, 'text': '7]', 'ref_id': None},\n",
       "    {'start': 1019, 'end': 1022, 'text': '[8,', 'ref_id': 'BIBREF6'},\n",
       "    {'start': 1023, 'end': 1025, 'text': '9,', 'ref_id': 'BIBREF7'},\n",
       "    {'start': 1026, 'end': 1029, 'text': '10]', 'ref_id': 'BIBREF8'}],\n",
       "   'ref_spans': [],\n",
       "   'section': 'Introduction'},\n",
       "  {'text': 'KAUH is a tertiary care teaching hospital with a bed capacity of 265 beds and annual admissions of 18000 to 19000 patients. Patients with M. pneumoniae positive cultures from respiratory specimens were identified over a 24-months\" period from January, 1997 through December, 1998 for this review.',\n",
       "   'cite_spans': [],\n",
       "   'ref_spans': [],\n",
       "   'section': 'Institution and patient population'},\n",
       "  {'text': \"During the study period, respiratory specimens (sputum, nasopharyngeal aspiration, endotracheal secretion, and bronchoalveolar lavage) for M. pneumoniae culture were obtained from patients with upper or lower respiratory tract infections seen as inpatients or in the outpatient or emergency departments. Respiratory specimens were aslo Gram-stained and cultured for bacteria and viruses. M. pneumoniae serological tests for IgG or IgM were not available at KAUH during the study period. All positive culture results were obtained from the Microbiology laboratory records. Charts of patients were reviewed with standardized data collection. Information collected included patients' demographics, comorbidities, clinical manifestations, complications, and outcome.\",\n",
       "   'cite_spans': [],\n",
       "   'ref_spans': [],\n",
       "   'section': 'Data collection'},\n",
       "  {'text': 'M. pneumoniae was cultured using the classic M. pneumoniae agar medium (M.P. agar) and the Pneumofast tray (Pneumofast ® , International Microbio, Signes, France). Specimens were processed according to the instructions of the manufacturer. The M.P. agars and Pneumofast trays were incubated anaerobically at 37°C and inspected daily for 4 weeks. The organism was identified based on typical colonial morphology (granular colonies, rarely fried-egg-like, 10-150 ∝ in diameter) on the M.P. agar medium and the change in the Pneumofast broth color from red to orange then to yellow (glucose fermentation) in the absence of turbidity of the broth. Antibiotic sensitivity profile on the Pneumofast tray was also used for identification according to the instructions of the manufacturer. Bacterial and viral cultures were performed using standard methods.',\n",
       "   'cite_spans': [],\n",
       "   'ref_spans': [],\n",
       "   'section': 'Microbiological methods'},\n",
       "  {'text': 'M. pneumoniae isolates were considered community-acquired if they were recovered from unhospitalized patients or within 72 hours of admission to the hospital, and nosocomial if they were recovered beyond that period.',\n",
       "   'cite_spans': [],\n",
       "   'ref_spans': [],\n",
       "   'section': 'Definitions'},\n",
       "  {'text': 'Pneumonia was diagnosed based on clinical symptoms and signs, along with radiographic evidence of pneumonia when possible. Severe pneumonia was defined as pneumonia associated with tachycardia (>140 /minute), tachypnoea (>30/minute), hypotension (Systolic blood pressure <90 mmHg), hypoxemia (arterial oxygen partial pressure <8 kPa or oxygen saturation <90%), and/or more than 2 areas of consolidation.',\n",
       "   'cite_spans': [],\n",
       "   'ref_spans': [],\n",
       "   'section': 'Definitions'},\n",
       "  {'text': 'Outcome of patients with M. pneumoniae infection was classified into 4 categories; uneventful recovery, recovery following complications, death due to M. pneumoniae infection, or death unrelated to M. pneumoniae infection.',\n",
       "   'cite_spans': [],\n",
       "   'ref_spans': [],\n",
       "   'section': 'Definitions'},\n",
       "  {'text': \"The Statistical Package for Social Sciences (SPSS) program was used for data analysis. Comparison of categorical data was by Chi-square statistic or Fisher's exact test for small expected values.\",\n",
       "   'cite_spans': [],\n",
       "   'ref_spans': [],\n",
       "   'section': 'Data Analysis'},\n",
       "  {'text': \"A total of 40 respiratory specimens from 40 patients were positive for M. pneumoniae over the 24-months study period. The demographic and epidemiological characteristics of the patients are summarized in Table 1 . Of all isolates, 37 (92.5%) were community-acquired and 3 (7.5%) were nosocomial. Thirty-three (82.5%) patients required admission to the hospital and the remaining 7 (17.5%) were treated as outpatients. Twenty-four isolates (60%) were associated with pneumonia, 14 (35%) with upper respiratory tract infections, and 2 (5%) with bronchiolitis. Of the 24 cases of pneumonia, 21 were confirmed radiologically and the remaining 3 were diagnosed clinically. The two cases of bronchiolitis occurred in 2 children, one and three years old. Thirty-one patients (77.5%) had comorbidities. Eleven patients (27.5%) had cardiopulmonary comorbidities (asthma, 8, lung fibrosis, 1, congestive heart failure, 1, congenial heart disease, 1), 9 patients (22.5%) were immunocompromised (malignancy, 7, steroid therapy, 3, Human immunodeficiency virus infection, 1), and 11 patients (27.5%) had other comorbidities (premature newborns, 2, and one each of myelodysplastic syndrome, myelopro-liferative disorder, sickle cell anemia, Evan's syndrome, Down syndrome, sarcoidosis, demyelinating disease, cerebral palsy, and spinal muscle atrophy). Organisms concomitantly isolated with M. pneumoniae from the respiratory tract included herpes simplex virus type 1 (2 occasions), adenovirus (2 occasions), cytomegalo virus (1 occasion), respiratory syncytial virus (1 occasion), and bacterial isolates (2 occasions: Acinetobacter species, 1, and Enter obacter cloacae, 1).\",\n",
       "   'cite_spans': [],\n",
       "   'ref_spans': [{'start': 204,\n",
       "     'end': 211,\n",
       "     'text': 'Table 1',\n",
       "     'ref_id': 'TABREF0'}],\n",
       "   'section': 'Results'},\n",
       "  {'text': 'Clinical manifestations associated with M. pneumoniae infections are summarized in Table 2 . Pneumonia was more common than upper respiratory tract infections (57.5 % versus 27.5%, respectively). Immunocompromised patients were more likely to present with pneumonia as opposed to upper respiratory tract infection or bronchiolitis than non-immunocompromised patients (8/9 versus 16/31, P = 0.05). Similarly, there was a tendency for patients 60 years of age or older to present with pneumonia more frequently than those below 60 (4/4 versus 20/36, P = 0.1). Of the 24 patients with clinically or radiologically confirmed pneumonia, 19 (79.2%) had crepitations and only 6 (25%) had bronchial breath sounds on physical examination. Of the 16 patients in whom wheezes were detected, 9 (56.3%) were not known to have asthma or other obstructive airway disease. Table 3 . Of the 24 patients with pneumonia, 21 (87.5%) were admitted to the hospital, and 20 (83.3%) had comorbidities. All patients with upper respiratory tract infections (11 patients) or bronchiolitis (2 patients) had uneventful recovery. Of the 24 patients with pneumonia, 14 (58.3%) had uneventful recovery, 4 (16.7%) recovered following some complications (acute respiratory distress syndrome, 2, respiratory failure, 1, septic shock, 1), 3 (12.5%) died because of M pneumoniae infection, and 3 (12.5%) died due to underlying comorbidities. The 3 patients who died of M pneumoniae pneumonia had other comorbidities; one had congestive heart failure, the second had congenital heart disease, and the third was a 3months old infant born prematurely at 32 weeks of gestation who previously had 3 episodes of pneumonia due to other pathogens.',\n",
       "   'cite_spans': [],\n",
       "   'ref_spans': [{'start': 83,\n",
       "     'end': 90,\n",
       "     'text': 'Table 2',\n",
       "     'ref_id': 'TABREF1'},\n",
       "    {'start': 857, 'end': 864, 'text': 'Table 3', 'ref_id': 'TABREF2'}],\n",
       "   'section': 'Results'},\n",
       "  {'text': 'Mycoplasma pneumoniae is one of the most common causes of atypical pneumonia accounting for 5-23% of community-acquired pneumonia, [1, 2, 3, 4, 5] In a study of 511 children with acute respiratory tract infection in Riyadh, Saudi Arabia, Mycoplasma pneumoniae was found to be the second most common causative agent after Respiratory syncytial virus (RSV) accounting for 9% of all cases, [8] In a study of 112 adult patients with community acquired pneumonia admitted to a military hospital in Riyadh, Saudi Arabia, this organism accounted for 6% of all cases, [9] In another retrospective study of 567 pneumonic episodes in adult patients from Al-Qassim area, the organism accounted for 23% of all episodes, [10] The organism also causes other relatively minor infections such as pharyngitis, tracheobronchitis, bronchiolitis, and croup. It is transmitted from person-to-person by infected respiratory droplets during close contact. It is most common in school-aged children, military recruits, and college students. [11] Most cases occur singly or as family outbreaks. Larger outbreaks can also occur in closed populations such as military recruit camps or boarding schools, [12] Infection occurs most frequently during the fall and winter in temperate climates but may develop year-round, [13] The average incubation period is 3 weeks following exposure, [6] Although rare, complications are protean and may involve virtually any organ system such as the respiratory system (e.g.: pleurisy, pneumothorax, acute respiratory distress syndrome, lung abscess), the hematologic system (e.g.: hemolytic anemia, intravascular coagulation, thrombocytopenia), the dermatologic system (e.g.: maculopapular or urticarial rashes, erythema multiforme, erythema nodosum), the musculoskeletal system (e.g.: myalgias, arthralgias, arthritis), the cardiovascular system (e.g.: pericarditis, myocarditis), the nervous system (e.g.: meningoencephalitis, Guillain-Barre syndrome, neuropathies, acute psychosis), or the eye (optic disc edema, optic nerve atrophy, retinal exudation and hemorrhages). [6, 7, 14, 15, 16, 17, 18] Immunity following infection is not long lasting. [11] In our study, the infection affected all age groups but was most common in infants (32.5%) and preschool children (22.5%), and least common in adults aged 15 to 30 years (2.5%) and elderly above 70 years of age (5%). This contrasts with data from temperate countries where the infection is most common in school-aged children, and young adults. [11] One possible explanation for this difference is that infants and preschool children perhaps had more severe infections than did school-aged children, and young adults which prompted presentation of the former group to the hospital. The infection occurred year-round but was most common in the fall (35%), and spring (30%), and least common in the summer (10%). Most infections were community-acquired (92.5%).',\n",
       "   'cite_spans': [{'start': 131,\n",
       "     'end': 134,\n",
       "     'text': '[1,',\n",
       "     'ref_id': 'BIBREF0'},\n",
       "    {'start': 135, 'end': 137, 'text': '2,', 'ref_id': 'BIBREF1'},\n",
       "    {'start': 138, 'end': 140, 'text': '3,', 'ref_id': 'BIBREF2'},\n",
       "    {'start': 141, 'end': 143, 'text': '4,', 'ref_id': 'BIBREF3'},\n",
       "    {'start': 144, 'end': 146, 'text': '5]', 'ref_id': 'BIBREF4'},\n",
       "    {'start': 387, 'end': 390, 'text': '[8]', 'ref_id': 'BIBREF6'},\n",
       "    {'start': 560, 'end': 563, 'text': '[9]', 'ref_id': 'BIBREF7'},\n",
       "    {'start': 708, 'end': 712, 'text': '[10]', 'ref_id': 'BIBREF8'},\n",
       "    {'start': 1017, 'end': 1021, 'text': '[11]', 'ref_id': 'BIBREF9'},\n",
       "    {'start': 1176, 'end': 1180, 'text': '[12]', 'ref_id': 'BIBREF10'},\n",
       "    {'start': 1291, 'end': 1295, 'text': '[13]', 'ref_id': 'BIBREF12'},\n",
       "    {'start': 1357, 'end': 1360, 'text': '[6]', 'ref_id': 'BIBREF5'},\n",
       "    {'start': 2081, 'end': 2084, 'text': '[6,', 'ref_id': 'BIBREF5'},\n",
       "    {'start': 2085, 'end': 2087, 'text': '7,', 'ref_id': None},\n",
       "    {'start': 2088, 'end': 2091, 'text': '14,', 'ref_id': 'BIBREF13'},\n",
       "    {'start': 2092, 'end': 2095, 'text': '15,', 'ref_id': 'BIBREF14'},\n",
       "    {'start': 2096, 'end': 2099, 'text': '16,', 'ref_id': 'BIBREF15'},\n",
       "    {'start': 2100, 'end': 2103, 'text': '17,', 'ref_id': 'BIBREF16'},\n",
       "    {'start': 2104, 'end': 2107, 'text': '18]', 'ref_id': 'BIBREF17'},\n",
       "    {'start': 2158, 'end': 2162, 'text': '[11]', 'ref_id': 'BIBREF9'},\n",
       "    {'start': 2508, 'end': 2512, 'text': '[11]', 'ref_id': 'BIBREF9'}],\n",
       "   'ref_spans': [],\n",
       "   'section': 'Discussion'},\n",
       "  {'text': 'More than one half of patients (57.5%) presented with pneumonia, and about a third (27.5%) presented with upper respiratory tract infection, Immunocompromised patients and patients 60 years of age or older were more likely to present with pneumonia as opposed to upper respiratory tract infection than non-immunocompromised patients or those below 60 years of age. Cough (82.5%), fever (75%), and malaise (58.8%) were the most common presenting symptoms. Cough was usually dry or slightly productive of white sputum and mild to moderate in severity. Most febrile patients had mild to mod- erate fever of 39°C or less; high-grade fever of more than 39°C was rare. Crepitations (60%), and wheezes (40%) were the most common signs. Wheezes were as common in patients with no history of obstructive airway disease (9 patients) as it was in those with such a history (7 patients). Bronchial breathing as a sign of consolidation was detected in only one fourth of patients with pneumonia, which is consistent with the known disparity between clinical and radiological signs of M pneumoniae pneumonia. Crepitations, however, were detected in the majority (79.2%) of patients. Pleuritic chest pain and pleural effusion were rare.',\n",
       "   'cite_spans': [],\n",
       "   'ref_spans': [],\n",
       "   'section': 'Discussion'},\n",
       "  {'text': 'More than half (56.5%) of the patients with pneumonia had uneventful recovery. Mortality from M. pneumoniae pneumonia was high (12.5%) and occurred only in patients with underlying comorbidities. None of the 9 patients with no underlying comorbidities died of M pneumoniae pneumonia. The relatively high complications rate (16.7%) and mortality (12.5%) related to M. pneumoniae pneumonia are likely due to selection bias as most patients with pneumonia were sick enough to require admission to the hospital (21/24 or 87.5%) and most of them had comorbidities (20/24 or 83.3%).',\n",
       "   'cite_spans': [],\n",
       "   'ref_spans': [],\n",
       "   'section': 'Discussion'},\n",
       "  {'text': 'In conclusion, our data shed some light on the epidemiology and clinical features of M pneumoniae infections in one of the Saudi tertiary care centers. The data are comparable to those of other countries except for the finding that infections were more common in infants and preschool children than in school children and young adults. Additionally, mortality attributable to M. pneumoniae pneumonia was relatively high in patients with comorbidities. It is hoped this information will assist clinicians in their approach and management of respiratory tract infections.',\n",
       "   'cite_spans': [],\n",
       "   'ref_spans': [],\n",
       "   'section': 'Discussion'}],\n",
       " 'bib_entries': {'BIBREF0': {'ref_id': 'b0',\n",
       "   'title': 'Community-acquired pneumonia',\n",
       "   'authors': [{'first': 'J',\n",
       "     'middle': ['G'],\n",
       "     'last': 'Bartlett',\n",
       "     'suffix': ''},\n",
       "    {'first': 'L', 'middle': ['M'], 'last': 'Mundy', 'suffix': ''}],\n",
       "   'year': 1995,\n",
       "   'venue': 'N Engl J Med',\n",
       "   'volume': '333',\n",
       "   'issn': '',\n",
       "   'pages': '1618--1624',\n",
       "   'other_ids': {}},\n",
       "  'BIBREF1': {'ref_id': 'b1',\n",
       "   'title': 'Ambulatory patients with community-acquired pneumonia: The frequency of atypical agents and clinical course',\n",
       "   'authors': [{'first': 'T', 'middle': ['J'], 'last': 'Marrie', 'suffix': ''},\n",
       "    {'first': 'R', 'middle': ['W'], 'last': 'Peeling', 'suffix': ''},\n",
       "    {'first': 'M', 'middle': ['J'], 'last': 'Fine', 'suffix': ''}],\n",
       "   'year': 1996,\n",
       "   'venue': 'Am J Med',\n",
       "   'volume': '101',\n",
       "   'issn': '',\n",
       "   'pages': '508--515',\n",
       "   'other_ids': {}},\n",
       "  'BIBREF2': {'ref_id': 'b2',\n",
       "   'title': 'Mycoplasma pneumoniae community-acquired pneumonia: A review of 101 hospitalized adult patients Respiration',\n",
       "   'authors': [{'first': 'D', 'middle': [], 'last': 'Lieberman', 'suffix': ''},\n",
       "    {'first': 'F', 'middle': [], 'last': 'Schlaeffer', 'suffix': ''},\n",
       "    {'first': 'D', 'middle': [], 'last': 'Lieberman', 'suffix': ''}],\n",
       "   'year': 1996,\n",
       "   'venue': '',\n",
       "   'volume': '63',\n",
       "   'issn': '',\n",
       "   'pages': '261--266',\n",
       "   'other_ids': {}},\n",
       "  'BIBREF3': {'ref_id': 'b3',\n",
       "   'title': 'Atypical\" bacteria are a common cause of community-acquired pneumonia in hospitalized adults S',\n",
       "   'authors': [{'first': 'G', 'middle': [], 'last': 'Maartens', 'suffix': ''},\n",
       "    {'first': 'S', 'middle': ['J'], 'last': 'Lewis', 'suffix': ''},\n",
       "    {'first': 'C', 'middle': [], 'last': 'De Goveia', 'suffix': ''}],\n",
       "   'year': 1994,\n",
       "   'venue': 'Afr Med J',\n",
       "   'volume': '84',\n",
       "   'issn': '',\n",
       "   'pages': '678--682',\n",
       "   'other_ids': {}},\n",
       "  'BIBREF4': {'ref_id': 'b4',\n",
       "   'title': 'Mycoplasma pneumoniae pneumonia requiring hospitalization, with emphasis on infection in the elderly Arch Intern Med',\n",
       "   'authors': [{'first': 'T',\n",
       "     'middle': ['J'],\n",
       "     'last': 'Marrie',\n",
       "     'suffix': ''}],\n",
       "   'year': 1993,\n",
       "   'venue': '',\n",
       "   'volume': '153',\n",
       "   'issn': '',\n",
       "   'pages': '488--494',\n",
       "   'other_ids': {}},\n",
       "  'BIBREF5': {'ref_id': 'b5',\n",
       "   'title': 'Foy HM: Infections caused by Mycoplasma pneumoniae and possible carrier state in different populations of patients',\n",
       "   'authors': [{'first': 'Clyde', 'middle': [], 'last': 'Wa', 'suffix': ''}],\n",
       "   'year': 1993,\n",
       "   'venue': 'Clinical overview of typical Mycoplasma pneumoniae infections Clin Infect Dis',\n",
       "   'volume': '17',\n",
       "   'issn': '',\n",
       "   'pages': '37--46',\n",
       "   'other_ids': {}},\n",
       "  'BIBREF6': {'ref_id': 'b6',\n",
       "   'title': 'Role of Mycoplasma pneumoniae in acute respiratory-tract infections in Saudi paediatric patients',\n",
       "   'authors': [{'first': 'Al', 'middle': [], 'last': 'Rashed', 'suffix': ''},\n",
       "    {'first': 'A', 'middle': [], 'last': '', 'suffix': ''}],\n",
       "   'year': 1998,\n",
       "   'venue': 'Ann Trop Med Parasitol',\n",
       "   'volume': '92',\n",
       "   'issn': '5',\n",
       "   'pages': '595--601',\n",
       "   'other_ids': {}},\n",
       "  'BIBREF7': {'ref_id': 'b7',\n",
       "   'title': 'The spectrum of pneumonia in 1983 at the Riyadh Armed Forces',\n",
       "   'authors': [{'first': 'A',\n",
       "     'middle': ['R'],\n",
       "     'last': 'Mohamed',\n",
       "     'suffix': ''},\n",
       "    {'first': 'D', 'middle': ['A'], 'last': 'Evans', 'suffix': ''}],\n",
       "   'year': 1987,\n",
       "   'venue': 'Hospital J Infect',\n",
       "   'volume': '14',\n",
       "   'issn': '1',\n",
       "   'pages': '31--37',\n",
       "   'other_ids': {}},\n",
       "  'BIBREF8': {'ref_id': 'b8',\n",
       "   'title': 'Community acquired acute bacterial and atypical pneumonia in Saudi Arabia Thorax',\n",
       "   'authors': [{'first': 'N',\n",
       "     'middle': ['Y'],\n",
       "     'last': 'Kurashi',\n",
       "     'suffix': ''},\n",
       "    {'first': 'A', 'middle': [], 'last': 'Al-Hamdan', 'suffix': ''},\n",
       "    {'first': 'E', 'middle': ['M'], 'last': 'Ibrahim', 'suffix': ''},\n",
       "    {'first': 'H', 'middle': ['Y'], 'last': 'Al-Idrissi', 'suffix': ''},\n",
       "    {'first': 'Al-Bayari', 'middle': [], 'last': 'Th', 'suffix': ''}],\n",
       "   'year': 1992,\n",
       "   'venue': '',\n",
       "   'volume': '47',\n",
       "   'issn': '',\n",
       "   'pages': '115--118',\n",
       "   'other_ids': {}},\n",
       "  'BIBREF9': {'ref_id': 'b9',\n",
       "   'title': 'Long-term epidemiology of infections with Mycoplasma pneumoniae',\n",
       "   'authors': [{'first': 'H', 'middle': ['M'], 'last': 'Foy', 'suffix': ''},\n",
       "    {'first': 'G', 'middle': [], 'last': 'Kenny', 'suffix': ''},\n",
       "    {'first': 'M', 'middle': [], 'last': 'Cooney', 'suffix': ''}],\n",
       "   'year': 1979,\n",
       "   'venue': 'J Infect Dis',\n",
       "   'volume': '139',\n",
       "   'issn': '',\n",
       "   'pages': '681--687',\n",
       "   'other_ids': {}},\n",
       "  'BIBREF10': {'ref_id': 'b10',\n",
       "   'title': 'Mycoplasma pneumoniae and adenovirus respiratory illness in military and university personnel',\n",
       "   'authors': [{'first': 'W',\n",
       "     'middle': ['J'],\n",
       "     'last': 'Mogabgab',\n",
       "     'suffix': ''}],\n",
       "   'year': None,\n",
       "   'venue': '',\n",
       "   'volume': '',\n",
       "   'issn': '',\n",
       "   'pages': '1959--1966',\n",
       "   'other_ids': {}},\n",
       "  'BIBREF12': {'ref_id': 'b12',\n",
       "   'title': 'Pneumonia caused by Mycoplasma pneumoniae infection',\n",
       "   'authors': [{'first': 'J', 'middle': ['P'], 'last': 'Luby', 'suffix': ''}],\n",
       "   'year': 1991,\n",
       "   'venue': 'Clin Chest Med',\n",
       "   'volume': '12',\n",
       "   'issn': '',\n",
       "   'pages': '237--244',\n",
       "   'other_ids': {}},\n",
       "  'BIBREF13': {'ref_id': 'b13',\n",
       "   'title': 'The clinical spectrum and diagnosis of Mycoplasma pneumoniae infection',\n",
       "   'authors': [{'first': 'N', 'middle': ['J'], 'last': 'Ali', 'suffix': ''},\n",
       "    {'first': 'M', 'middle': [], 'last': 'Sillis', 'suffix': ''},\n",
       "    {'first': 'B', 'middle': [], 'last': 'Andrews', 'suffix': ''},\n",
       "    {'first': 'P', 'middle': [], 'last': 'Jenkins', 'suffix': ''},\n",
       "    {'first': 'B', 'middle': [], 'last': 'Harrison', 'suffix': ''}],\n",
       "   'year': 1986,\n",
       "   'venue': 'J Med',\n",
       "   'volume': '227',\n",
       "   'issn': '',\n",
       "   'pages': '241--251',\n",
       "   'other_ids': {}},\n",
       "  'BIBREF14': {'ref_id': 'b14',\n",
       "   'title': 'Anemia and Mucocutaneous lesions due to Mycoplasma pneumoniae infections Clin Infect Dis',\n",
       "   'authors': [{'first': 'J',\n",
       "     'middle': ['D'],\n",
       "     'last': 'Cherry',\n",
       "     'suffix': ''}],\n",
       "   'year': 1993,\n",
       "   'venue': '',\n",
       "   'volume': '17',\n",
       "   'issn': '',\n",
       "   'pages': '47--51',\n",
       "   'other_ids': {}},\n",
       "  'BIBREF15': {'ref_id': 'b15',\n",
       "   'title': 'Pericarditis and perimyocarditis associated with active Mycoplasma pneumoniae infection',\n",
       "   'authors': [{'first': 'M', 'middle': ['J'], 'last': 'Sands', 'suffix': ''},\n",
       "    {'first': 'J', 'middle': ['E'], 'last': 'Satz', 'suffix': ''},\n",
       "    {'first': 'W', 'middle': ['E'], 'last': 'Turner', 'suffix': ''},\n",
       "    {'first': 'L', 'middle': ['A'], 'last': 'Soloff', 'suffix': ''}],\n",
       "   'year': 1977,\n",
       "   'venue': 'Ann Intern Med',\n",
       "   'volume': '86',\n",
       "   'issn': '',\n",
       "   'pages': '544--548',\n",
       "   'other_ids': {}},\n",
       "  'BIBREF16': {'ref_id': 'b16',\n",
       "   'title': 'Mycoplasma pericarditis: evidence of invasive disease Clin Infect Dis',\n",
       "   'authors': [{'first': 'R', 'middle': ['T'], 'last': 'Kenney', 'suffix': ''},\n",
       "    {'first': 'J', 'middle': ['S'], 'last': 'Li', 'suffix': ''},\n",
       "    {'first': 'Clyde', 'middle': [], 'last': 'Wa', 'suffix': ''}],\n",
       "   'year': 1993,\n",
       "   'venue': '',\n",
       "   'volume': '17',\n",
       "   'issn': '',\n",
       "   'pages': '58--62',\n",
       "   'other_ids': {}},\n",
       "  'BIBREF17': {'ref_id': 'b17',\n",
       "   'title': 'CNS manifestations associated with Mycoplasma pneumoniae infections. Summary of cases at the University of Helsinki and review Clin Infect Dis',\n",
       "   'authors': [{'first': 'M',\n",
       "     'middle': [],\n",
       "     'last': 'Koskiniemi',\n",
       "     'suffix': ''}],\n",
       "   'year': 1993,\n",
       "   'venue': '',\n",
       "   'volume': '17',\n",
       "   'issn': '',\n",
       "   'pages': '52--57',\n",
       "   'other_ids': {}}},\n",
       " 'ref_entries': {'TABREF0': {'text': 'Epidemiological characteristics of 40 patients with M. pneumoniae infections.',\n",
       "   'latex': None,\n",
       "   'type': 'table'},\n",
       "  'TABREF1': {'text': 'Clinical manifestations of culture-proven M. pneumoniae infections in 40 patients.',\n",
       "   'latex': None,\n",
       "   'type': 'table'},\n",
       "  'TABREF2': {'text': 'Complications and outcome of M. pneumoniae infections in 40 patients. Publish with BioMedcentral and every scientist can read your work free of charge \"BioMedcentral will be the most significant development for disseminating the results of biomedical research in our lifetime.\" Paul Nurse, Director-General, Imperial Cancer Research Fund Publish with BMC and your research papers will be: available free of charge to the entire biomedical community peer reviewed and published immediately upon acceptance cited in PubMed and archived on PubMed Central yours -you keep the copyright editorial@biomedcentral.com Submit your manuscript here: http://www.biomedcentral.com/manuscript/ BioMedcentral.com',\n",
       "   'latex': None,\n",
       "   'type': 'table'}},\n",
       " 'back_matter': [{'text': 'We wish to thank Mrs. Fatin S. Gazzaz, Microbiologist, and Mr. Yusri A. Al-Suruji, Microbiology technologist, King Abdulaziz University Hospital, for performing Mycoplasma pneumoniae cultures and for providing the list of patients for this study.',\n",
       "   'cite_spans': [],\n",
       "   'ref_spans': [],\n",
       "   'section': 'Acknowledgments'},\n",
       "  {'text': 'The pre-publication history for this paper can be accessed here:http://www.biomedcentral.com/content/backmatter/ 1471-2334-1-6-b1.pdf',\n",
       "   'cite_spans': [],\n",
       "   'ref_spans': [],\n",
       "   'section': 'Pre-publication history'}]}"
      ]
     },
     "execution_count": 15,
     "metadata": {},
     "output_type": "execute_result"
    }
   ],
   "source": [
    "article1_data"
   ]
  },
  {
   "cell_type": "markdown",
   "id": "d2d0802d",
   "metadata": {},
   "source": [
    "Let's check the body text:"
   ]
  },
  {
   "cell_type": "code",
   "execution_count": 16,
   "id": "31053239",
   "metadata": {},
   "outputs": [
    {
     "data": {
      "text/plain": [
       "[{'text': 'Mycoplasma pneumoniae is a common cause of upper and lower respiratory tract infections. It remains one of the most frequent causes of atypical pneumonia particu-larly among young adults. [1, 2, 3, 4, 5] Although it is highly transmissible, most infections caused by this organism are relatively minor and include pharyngitis, tracheobronchitis, bronchiolitis, and croup with one fifth of in-fections being asymptomatic. [6, 7] Only 3 -10% of infected subjects develop symptoms consistent with bronchopneumonia and mortality from infection is rare. [6, 7] The organism is fastidious and difficult to grow on cultures. Therefore, diagnosis of infections caused by this organism is usually confirmed with serological tests or polymerase chain reaction-gene amplification techniques. At King Abdulaziz University Hospital (KAUH), Jeddah, Saudi Arabia, the facility to perform Mycoplasma culture has been available since January 1997. As published information concerning M. pneumoniae infections in Saudi Arabia is scarce, [8, 9, 10] we wished to study the epidemiology and clinical features of cultureproven infections caused by this organism at this hospital.',\n",
       "  'cite_spans': [{'start': 188,\n",
       "    'end': 191,\n",
       "    'text': '[1,',\n",
       "    'ref_id': 'BIBREF0'},\n",
       "   {'start': 192, 'end': 194, 'text': '2,', 'ref_id': 'BIBREF1'},\n",
       "   {'start': 195, 'end': 197, 'text': '3,', 'ref_id': 'BIBREF2'},\n",
       "   {'start': 198, 'end': 200, 'text': '4,', 'ref_id': 'BIBREF3'},\n",
       "   {'start': 201, 'end': 203, 'text': '5]', 'ref_id': 'BIBREF4'},\n",
       "   {'start': 421, 'end': 424, 'text': '[6,', 'ref_id': 'BIBREF5'},\n",
       "   {'start': 425, 'end': 427, 'text': '7]', 'ref_id': None},\n",
       "   {'start': 549, 'end': 552, 'text': '[6,', 'ref_id': 'BIBREF5'},\n",
       "   {'start': 553, 'end': 555, 'text': '7]', 'ref_id': None},\n",
       "   {'start': 1019, 'end': 1022, 'text': '[8,', 'ref_id': 'BIBREF6'},\n",
       "   {'start': 1023, 'end': 1025, 'text': '9,', 'ref_id': 'BIBREF7'},\n",
       "   {'start': 1026, 'end': 1029, 'text': '10]', 'ref_id': 'BIBREF8'}],\n",
       "  'ref_spans': [],\n",
       "  'section': 'Introduction'},\n",
       " {'text': 'KAUH is a tertiary care teaching hospital with a bed capacity of 265 beds and annual admissions of 18000 to 19000 patients. Patients with M. pneumoniae positive cultures from respiratory specimens were identified over a 24-months\" period from January, 1997 through December, 1998 for this review.',\n",
       "  'cite_spans': [],\n",
       "  'ref_spans': [],\n",
       "  'section': 'Institution and patient population'},\n",
       " {'text': \"During the study period, respiratory specimens (sputum, nasopharyngeal aspiration, endotracheal secretion, and bronchoalveolar lavage) for M. pneumoniae culture were obtained from patients with upper or lower respiratory tract infections seen as inpatients or in the outpatient or emergency departments. Respiratory specimens were aslo Gram-stained and cultured for bacteria and viruses. M. pneumoniae serological tests for IgG or IgM were not available at KAUH during the study period. All positive culture results were obtained from the Microbiology laboratory records. Charts of patients were reviewed with standardized data collection. Information collected included patients' demographics, comorbidities, clinical manifestations, complications, and outcome.\",\n",
       "  'cite_spans': [],\n",
       "  'ref_spans': [],\n",
       "  'section': 'Data collection'},\n",
       " {'text': 'M. pneumoniae was cultured using the classic M. pneumoniae agar medium (M.P. agar) and the Pneumofast tray (Pneumofast ® , International Microbio, Signes, France). Specimens were processed according to the instructions of the manufacturer. The M.P. agars and Pneumofast trays were incubated anaerobically at 37°C and inspected daily for 4 weeks. The organism was identified based on typical colonial morphology (granular colonies, rarely fried-egg-like, 10-150 ∝ in diameter) on the M.P. agar medium and the change in the Pneumofast broth color from red to orange then to yellow (glucose fermentation) in the absence of turbidity of the broth. Antibiotic sensitivity profile on the Pneumofast tray was also used for identification according to the instructions of the manufacturer. Bacterial and viral cultures were performed using standard methods.',\n",
       "  'cite_spans': [],\n",
       "  'ref_spans': [],\n",
       "  'section': 'Microbiological methods'},\n",
       " {'text': 'M. pneumoniae isolates were considered community-acquired if they were recovered from unhospitalized patients or within 72 hours of admission to the hospital, and nosocomial if they were recovered beyond that period.',\n",
       "  'cite_spans': [],\n",
       "  'ref_spans': [],\n",
       "  'section': 'Definitions'},\n",
       " {'text': 'Pneumonia was diagnosed based on clinical symptoms and signs, along with radiographic evidence of pneumonia when possible. Severe pneumonia was defined as pneumonia associated with tachycardia (>140 /minute), tachypnoea (>30/minute), hypotension (Systolic blood pressure <90 mmHg), hypoxemia (arterial oxygen partial pressure <8 kPa or oxygen saturation <90%), and/or more than 2 areas of consolidation.',\n",
       "  'cite_spans': [],\n",
       "  'ref_spans': [],\n",
       "  'section': 'Definitions'},\n",
       " {'text': 'Outcome of patients with M. pneumoniae infection was classified into 4 categories; uneventful recovery, recovery following complications, death due to M. pneumoniae infection, or death unrelated to M. pneumoniae infection.',\n",
       "  'cite_spans': [],\n",
       "  'ref_spans': [],\n",
       "  'section': 'Definitions'},\n",
       " {'text': \"The Statistical Package for Social Sciences (SPSS) program was used for data analysis. Comparison of categorical data was by Chi-square statistic or Fisher's exact test for small expected values.\",\n",
       "  'cite_spans': [],\n",
       "  'ref_spans': [],\n",
       "  'section': 'Data Analysis'},\n",
       " {'text': \"A total of 40 respiratory specimens from 40 patients were positive for M. pneumoniae over the 24-months study period. The demographic and epidemiological characteristics of the patients are summarized in Table 1 . Of all isolates, 37 (92.5%) were community-acquired and 3 (7.5%) were nosocomial. Thirty-three (82.5%) patients required admission to the hospital and the remaining 7 (17.5%) were treated as outpatients. Twenty-four isolates (60%) were associated with pneumonia, 14 (35%) with upper respiratory tract infections, and 2 (5%) with bronchiolitis. Of the 24 cases of pneumonia, 21 were confirmed radiologically and the remaining 3 were diagnosed clinically. The two cases of bronchiolitis occurred in 2 children, one and three years old. Thirty-one patients (77.5%) had comorbidities. Eleven patients (27.5%) had cardiopulmonary comorbidities (asthma, 8, lung fibrosis, 1, congestive heart failure, 1, congenial heart disease, 1), 9 patients (22.5%) were immunocompromised (malignancy, 7, steroid therapy, 3, Human immunodeficiency virus infection, 1), and 11 patients (27.5%) had other comorbidities (premature newborns, 2, and one each of myelodysplastic syndrome, myelopro-liferative disorder, sickle cell anemia, Evan's syndrome, Down syndrome, sarcoidosis, demyelinating disease, cerebral palsy, and spinal muscle atrophy). Organisms concomitantly isolated with M. pneumoniae from the respiratory tract included herpes simplex virus type 1 (2 occasions), adenovirus (2 occasions), cytomegalo virus (1 occasion), respiratory syncytial virus (1 occasion), and bacterial isolates (2 occasions: Acinetobacter species, 1, and Enter obacter cloacae, 1).\",\n",
       "  'cite_spans': [],\n",
       "  'ref_spans': [{'start': 204,\n",
       "    'end': 211,\n",
       "    'text': 'Table 1',\n",
       "    'ref_id': 'TABREF0'}],\n",
       "  'section': 'Results'},\n",
       " {'text': 'Clinical manifestations associated with M. pneumoniae infections are summarized in Table 2 . Pneumonia was more common than upper respiratory tract infections (57.5 % versus 27.5%, respectively). Immunocompromised patients were more likely to present with pneumonia as opposed to upper respiratory tract infection or bronchiolitis than non-immunocompromised patients (8/9 versus 16/31, P = 0.05). Similarly, there was a tendency for patients 60 years of age or older to present with pneumonia more frequently than those below 60 (4/4 versus 20/36, P = 0.1). Of the 24 patients with clinically or radiologically confirmed pneumonia, 19 (79.2%) had crepitations and only 6 (25%) had bronchial breath sounds on physical examination. Of the 16 patients in whom wheezes were detected, 9 (56.3%) were not known to have asthma or other obstructive airway disease. Table 3 . Of the 24 patients with pneumonia, 21 (87.5%) were admitted to the hospital, and 20 (83.3%) had comorbidities. All patients with upper respiratory tract infections (11 patients) or bronchiolitis (2 patients) had uneventful recovery. Of the 24 patients with pneumonia, 14 (58.3%) had uneventful recovery, 4 (16.7%) recovered following some complications (acute respiratory distress syndrome, 2, respiratory failure, 1, septic shock, 1), 3 (12.5%) died because of M pneumoniae infection, and 3 (12.5%) died due to underlying comorbidities. The 3 patients who died of M pneumoniae pneumonia had other comorbidities; one had congestive heart failure, the second had congenital heart disease, and the third was a 3months old infant born prematurely at 32 weeks of gestation who previously had 3 episodes of pneumonia due to other pathogens.',\n",
       "  'cite_spans': [],\n",
       "  'ref_spans': [{'start': 83,\n",
       "    'end': 90,\n",
       "    'text': 'Table 2',\n",
       "    'ref_id': 'TABREF1'},\n",
       "   {'start': 857, 'end': 864, 'text': 'Table 3', 'ref_id': 'TABREF2'}],\n",
       "  'section': 'Results'},\n",
       " {'text': 'Mycoplasma pneumoniae is one of the most common causes of atypical pneumonia accounting for 5-23% of community-acquired pneumonia, [1, 2, 3, 4, 5] In a study of 511 children with acute respiratory tract infection in Riyadh, Saudi Arabia, Mycoplasma pneumoniae was found to be the second most common causative agent after Respiratory syncytial virus (RSV) accounting for 9% of all cases, [8] In a study of 112 adult patients with community acquired pneumonia admitted to a military hospital in Riyadh, Saudi Arabia, this organism accounted for 6% of all cases, [9] In another retrospective study of 567 pneumonic episodes in adult patients from Al-Qassim area, the organism accounted for 23% of all episodes, [10] The organism also causes other relatively minor infections such as pharyngitis, tracheobronchitis, bronchiolitis, and croup. It is transmitted from person-to-person by infected respiratory droplets during close contact. It is most common in school-aged children, military recruits, and college students. [11] Most cases occur singly or as family outbreaks. Larger outbreaks can also occur in closed populations such as military recruit camps or boarding schools, [12] Infection occurs most frequently during the fall and winter in temperate climates but may develop year-round, [13] The average incubation period is 3 weeks following exposure, [6] Although rare, complications are protean and may involve virtually any organ system such as the respiratory system (e.g.: pleurisy, pneumothorax, acute respiratory distress syndrome, lung abscess), the hematologic system (e.g.: hemolytic anemia, intravascular coagulation, thrombocytopenia), the dermatologic system (e.g.: maculopapular or urticarial rashes, erythema multiforme, erythema nodosum), the musculoskeletal system (e.g.: myalgias, arthralgias, arthritis), the cardiovascular system (e.g.: pericarditis, myocarditis), the nervous system (e.g.: meningoencephalitis, Guillain-Barre syndrome, neuropathies, acute psychosis), or the eye (optic disc edema, optic nerve atrophy, retinal exudation and hemorrhages). [6, 7, 14, 15, 16, 17, 18] Immunity following infection is not long lasting. [11] In our study, the infection affected all age groups but was most common in infants (32.5%) and preschool children (22.5%), and least common in adults aged 15 to 30 years (2.5%) and elderly above 70 years of age (5%). This contrasts with data from temperate countries where the infection is most common in school-aged children, and young adults. [11] One possible explanation for this difference is that infants and preschool children perhaps had more severe infections than did school-aged children, and young adults which prompted presentation of the former group to the hospital. The infection occurred year-round but was most common in the fall (35%), and spring (30%), and least common in the summer (10%). Most infections were community-acquired (92.5%).',\n",
       "  'cite_spans': [{'start': 131,\n",
       "    'end': 134,\n",
       "    'text': '[1,',\n",
       "    'ref_id': 'BIBREF0'},\n",
       "   {'start': 135, 'end': 137, 'text': '2,', 'ref_id': 'BIBREF1'},\n",
       "   {'start': 138, 'end': 140, 'text': '3,', 'ref_id': 'BIBREF2'},\n",
       "   {'start': 141, 'end': 143, 'text': '4,', 'ref_id': 'BIBREF3'},\n",
       "   {'start': 144, 'end': 146, 'text': '5]', 'ref_id': 'BIBREF4'},\n",
       "   {'start': 387, 'end': 390, 'text': '[8]', 'ref_id': 'BIBREF6'},\n",
       "   {'start': 560, 'end': 563, 'text': '[9]', 'ref_id': 'BIBREF7'},\n",
       "   {'start': 708, 'end': 712, 'text': '[10]', 'ref_id': 'BIBREF8'},\n",
       "   {'start': 1017, 'end': 1021, 'text': '[11]', 'ref_id': 'BIBREF9'},\n",
       "   {'start': 1176, 'end': 1180, 'text': '[12]', 'ref_id': 'BIBREF10'},\n",
       "   {'start': 1291, 'end': 1295, 'text': '[13]', 'ref_id': 'BIBREF12'},\n",
       "   {'start': 1357, 'end': 1360, 'text': '[6]', 'ref_id': 'BIBREF5'},\n",
       "   {'start': 2081, 'end': 2084, 'text': '[6,', 'ref_id': 'BIBREF5'},\n",
       "   {'start': 2085, 'end': 2087, 'text': '7,', 'ref_id': None},\n",
       "   {'start': 2088, 'end': 2091, 'text': '14,', 'ref_id': 'BIBREF13'},\n",
       "   {'start': 2092, 'end': 2095, 'text': '15,', 'ref_id': 'BIBREF14'},\n",
       "   {'start': 2096, 'end': 2099, 'text': '16,', 'ref_id': 'BIBREF15'},\n",
       "   {'start': 2100, 'end': 2103, 'text': '17,', 'ref_id': 'BIBREF16'},\n",
       "   {'start': 2104, 'end': 2107, 'text': '18]', 'ref_id': 'BIBREF17'},\n",
       "   {'start': 2158, 'end': 2162, 'text': '[11]', 'ref_id': 'BIBREF9'},\n",
       "   {'start': 2508, 'end': 2512, 'text': '[11]', 'ref_id': 'BIBREF9'}],\n",
       "  'ref_spans': [],\n",
       "  'section': 'Discussion'},\n",
       " {'text': 'More than one half of patients (57.5%) presented with pneumonia, and about a third (27.5%) presented with upper respiratory tract infection, Immunocompromised patients and patients 60 years of age or older were more likely to present with pneumonia as opposed to upper respiratory tract infection than non-immunocompromised patients or those below 60 years of age. Cough (82.5%), fever (75%), and malaise (58.8%) were the most common presenting symptoms. Cough was usually dry or slightly productive of white sputum and mild to moderate in severity. Most febrile patients had mild to mod- erate fever of 39°C or less; high-grade fever of more than 39°C was rare. Crepitations (60%), and wheezes (40%) were the most common signs. Wheezes were as common in patients with no history of obstructive airway disease (9 patients) as it was in those with such a history (7 patients). Bronchial breathing as a sign of consolidation was detected in only one fourth of patients with pneumonia, which is consistent with the known disparity between clinical and radiological signs of M pneumoniae pneumonia. Crepitations, however, were detected in the majority (79.2%) of patients. Pleuritic chest pain and pleural effusion were rare.',\n",
       "  'cite_spans': [],\n",
       "  'ref_spans': [],\n",
       "  'section': 'Discussion'},\n",
       " {'text': 'More than half (56.5%) of the patients with pneumonia had uneventful recovery. Mortality from M. pneumoniae pneumonia was high (12.5%) and occurred only in patients with underlying comorbidities. None of the 9 patients with no underlying comorbidities died of M pneumoniae pneumonia. The relatively high complications rate (16.7%) and mortality (12.5%) related to M. pneumoniae pneumonia are likely due to selection bias as most patients with pneumonia were sick enough to require admission to the hospital (21/24 or 87.5%) and most of them had comorbidities (20/24 or 83.3%).',\n",
       "  'cite_spans': [],\n",
       "  'ref_spans': [],\n",
       "  'section': 'Discussion'},\n",
       " {'text': 'In conclusion, our data shed some light on the epidemiology and clinical features of M pneumoniae infections in one of the Saudi tertiary care centers. The data are comparable to those of other countries except for the finding that infections were more common in infants and preschool children than in school children and young adults. Additionally, mortality attributable to M. pneumoniae pneumonia was relatively high in patients with comorbidities. It is hoped this information will assist clinicians in their approach and management of respiratory tract infections.',\n",
       "  'cite_spans': [],\n",
       "  'ref_spans': [],\n",
       "  'section': 'Discussion'}]"
      ]
     },
     "execution_count": 16,
     "metadata": {},
     "output_type": "execute_result"
    }
   ],
   "source": [
    "body_text = article1_data['body_text']\n",
    "body_text"
   ]
  },
  {
   "cell_type": "markdown",
   "id": "83ea2ca1",
   "metadata": {},
   "source": [
    "We have a list of dictionaries, each dictionary is a paragraph beloning to a given section of the article. We want to join the scattered text in a single string: "
   ]
  },
  {
   "cell_type": "code",
   "execution_count": 17,
   "id": "09b8874b",
   "metadata": {},
   "outputs": [
    {
     "data": {
      "text/plain": [
       "'Mycoplasma pneumoniae is a common cause of upper and lower respiratory tract infections. It remains one of the most frequent causes of atypical pneumonia particu-larly among young adults. [1, 2, 3, 4, 5] Although it is highly transmissible, most infections caused by this organism are relatively minor and include pharyngitis, tracheobronchitis, bronchiolitis, and croup with one fifth of in-fections being asymptomatic. [6, 7] Only 3 -10% of infected subjects develop symptoms consistent with bronchopneumonia and mortality from infection is rare. [6, 7] The organism is fastidious and difficult to grow on cultures. Therefore, diagnosis of infections caused by this organism is usually confirmed with serological tests or polymerase chain reaction-gene amplification techniques. At King Abdulaziz University Hospital (KAUH), Jeddah, Saudi Arabia, the facility to perform Mycoplasma culture has been available since January 1997. As published information concerning M. pneumoniae infections in Saudi Arabia is scarce, [8, 9, 10] we wished to study the epidemiology and clinical features of cultureproven infections caused by this organism at this hospital.\\nKAUH is a tertiary care teaching hospital with a bed capacity of 265 beds and annual admissions of 18000 to 19000 patients. Patients with M. pneumoniae positive cultures from respiratory specimens were identified over a 24-months\" period from January, 1997 through December, 1998 for this review.\\nDuring the study period, respiratory specimens (sputum, nasopharyngeal aspiration, endotracheal secretion, and bronchoalveolar lavage) for M. pneumoniae culture were obtained from patients with upper or lower respiratory tract infections seen as inpatients or in the outpatient or emergency departments. Respiratory specimens were aslo Gram-stained and cultured for bacteria and viruses. M. pneumoniae serological tests for IgG or IgM were not available at KAUH during the study period. All positive culture results were obtained from the Microbiology laboratory records. Charts of patients were reviewed with standardized data collection. Information collected included patients\\' demographics, comorbidities, clinical manifestations, complications, and outcome.\\nM. pneumoniae was cultured using the classic M. pneumoniae agar medium (M.P. agar) and the Pneumofast tray (Pneumofast ® , International Microbio, Signes, France). Specimens were processed according to the instructions of the manufacturer. The M.P. agars and Pneumofast trays were incubated anaerobically at 37°C and inspected daily for 4 weeks. The organism was identified based on typical colonial morphology (granular colonies, rarely fried-egg-like, 10-150 ∝ in diameter) on the M.P. agar medium and the change in the Pneumofast broth color from red to orange then to yellow (glucose fermentation) in the absence of turbidity of the broth. Antibiotic sensitivity profile on the Pneumofast tray was also used for identification according to the instructions of the manufacturer. Bacterial and viral cultures were performed using standard methods.\\nM. pneumoniae isolates were considered community-acquired if they were recovered from unhospitalized patients or within 72 hours of admission to the hospital, and nosocomial if they were recovered beyond that period.\\nPneumonia was diagnosed based on clinical symptoms and signs, along with radiographic evidence of pneumonia when possible. Severe pneumonia was defined as pneumonia associated with tachycardia (>140 /minute), tachypnoea (>30/minute), hypotension (Systolic blood pressure <90 mmHg), hypoxemia (arterial oxygen partial pressure <8 kPa or oxygen saturation <90%), and/or more than 2 areas of consolidation.\\nOutcome of patients with M. pneumoniae infection was classified into 4 categories; uneventful recovery, recovery following complications, death due to M. pneumoniae infection, or death unrelated to M. pneumoniae infection.\\nThe Statistical Package for Social Sciences (SPSS) program was used for data analysis. Comparison of categorical data was by Chi-square statistic or Fisher\\'s exact test for small expected values.\\nA total of 40 respiratory specimens from 40 patients were positive for M. pneumoniae over the 24-months study period. The demographic and epidemiological characteristics of the patients are summarized in Table 1 . Of all isolates, 37 (92.5%) were community-acquired and 3 (7.5%) were nosocomial. Thirty-three (82.5%) patients required admission to the hospital and the remaining 7 (17.5%) were treated as outpatients. Twenty-four isolates (60%) were associated with pneumonia, 14 (35%) with upper respiratory tract infections, and 2 (5%) with bronchiolitis. Of the 24 cases of pneumonia, 21 were confirmed radiologically and the remaining 3 were diagnosed clinically. The two cases of bronchiolitis occurred in 2 children, one and three years old. Thirty-one patients (77.5%) had comorbidities. Eleven patients (27.5%) had cardiopulmonary comorbidities (asthma, 8, lung fibrosis, 1, congestive heart failure, 1, congenial heart disease, 1), 9 patients (22.5%) were immunocompromised (malignancy, 7, steroid therapy, 3, Human immunodeficiency virus infection, 1), and 11 patients (27.5%) had other comorbidities (premature newborns, 2, and one each of myelodysplastic syndrome, myelopro-liferative disorder, sickle cell anemia, Evan\\'s syndrome, Down syndrome, sarcoidosis, demyelinating disease, cerebral palsy, and spinal muscle atrophy). Organisms concomitantly isolated with M. pneumoniae from the respiratory tract included herpes simplex virus type 1 (2 occasions), adenovirus (2 occasions), cytomegalo virus (1 occasion), respiratory syncytial virus (1 occasion), and bacterial isolates (2 occasions: Acinetobacter species, 1, and Enter obacter cloacae, 1).\\nClinical manifestations associated with M. pneumoniae infections are summarized in Table 2 . Pneumonia was more common than upper respiratory tract infections (57.5 % versus 27.5%, respectively). Immunocompromised patients were more likely to present with pneumonia as opposed to upper respiratory tract infection or bronchiolitis than non-immunocompromised patients (8/9 versus 16/31, P = 0.05). Similarly, there was a tendency for patients 60 years of age or older to present with pneumonia more frequently than those below 60 (4/4 versus 20/36, P = 0.1). Of the 24 patients with clinically or radiologically confirmed pneumonia, 19 (79.2%) had crepitations and only 6 (25%) had bronchial breath sounds on physical examination. Of the 16 patients in whom wheezes were detected, 9 (56.3%) were not known to have asthma or other obstructive airway disease. Table 3 . Of the 24 patients with pneumonia, 21 (87.5%) were admitted to the hospital, and 20 (83.3%) had comorbidities. All patients with upper respiratory tract infections (11 patients) or bronchiolitis (2 patients) had uneventful recovery. Of the 24 patients with pneumonia, 14 (58.3%) had uneventful recovery, 4 (16.7%) recovered following some complications (acute respiratory distress syndrome, 2, respiratory failure, 1, septic shock, 1), 3 (12.5%) died because of M pneumoniae infection, and 3 (12.5%) died due to underlying comorbidities. The 3 patients who died of M pneumoniae pneumonia had other comorbidities; one had congestive heart failure, the second had congenital heart disease, and the third was a 3months old infant born prematurely at 32 weeks of gestation who previously had 3 episodes of pneumonia due to other pathogens.\\nMycoplasma pneumoniae is one of the most common causes of atypical pneumonia accounting for 5-23% of community-acquired pneumonia, [1, 2, 3, 4, 5] In a study of 511 children with acute respiratory tract infection in Riyadh, Saudi Arabia, Mycoplasma pneumoniae was found to be the second most common causative agent after Respiratory syncytial virus (RSV) accounting for 9% of all cases, [8] In a study of 112 adult patients with community acquired pneumonia admitted to a military hospital in Riyadh, Saudi Arabia, this organism accounted for 6% of all cases, [9] In another retrospective study of 567 pneumonic episodes in adult patients from Al-Qassim area, the organism accounted for 23% of all episodes, [10] The organism also causes other relatively minor infections such as pharyngitis, tracheobronchitis, bronchiolitis, and croup. It is transmitted from person-to-person by infected respiratory droplets during close contact. It is most common in school-aged children, military recruits, and college students. [11] Most cases occur singly or as family outbreaks. Larger outbreaks can also occur in closed populations such as military recruit camps or boarding schools, [12] Infection occurs most frequently during the fall and winter in temperate climates but may develop year-round, [13] The average incubation period is 3 weeks following exposure, [6] Although rare, complications are protean and may involve virtually any organ system such as the respiratory system (e.g.: pleurisy, pneumothorax, acute respiratory distress syndrome, lung abscess), the hematologic system (e.g.: hemolytic anemia, intravascular coagulation, thrombocytopenia), the dermatologic system (e.g.: maculopapular or urticarial rashes, erythema multiforme, erythema nodosum), the musculoskeletal system (e.g.: myalgias, arthralgias, arthritis), the cardiovascular system (e.g.: pericarditis, myocarditis), the nervous system (e.g.: meningoencephalitis, Guillain-Barre syndrome, neuropathies, acute psychosis), or the eye (optic disc edema, optic nerve atrophy, retinal exudation and hemorrhages). [6, 7, 14, 15, 16, 17, 18] Immunity following infection is not long lasting. [11] In our study, the infection affected all age groups but was most common in infants (32.5%) and preschool children (22.5%), and least common in adults aged 15 to 30 years (2.5%) and elderly above 70 years of age (5%). This contrasts with data from temperate countries where the infection is most common in school-aged children, and young adults. [11] One possible explanation for this difference is that infants and preschool children perhaps had more severe infections than did school-aged children, and young adults which prompted presentation of the former group to the hospital. The infection occurred year-round but was most common in the fall (35%), and spring (30%), and least common in the summer (10%). Most infections were community-acquired (92.5%).\\nMore than one half of patients (57.5%) presented with pneumonia, and about a third (27.5%) presented with upper respiratory tract infection, Immunocompromised patients and patients 60 years of age or older were more likely to present with pneumonia as opposed to upper respiratory tract infection than non-immunocompromised patients or those below 60 years of age. Cough (82.5%), fever (75%), and malaise (58.8%) were the most common presenting symptoms. Cough was usually dry or slightly productive of white sputum and mild to moderate in severity. Most febrile patients had mild to mod- erate fever of 39°C or less; high-grade fever of more than 39°C was rare. Crepitations (60%), and wheezes (40%) were the most common signs. Wheezes were as common in patients with no history of obstructive airway disease (9 patients) as it was in those with such a history (7 patients). Bronchial breathing as a sign of consolidation was detected in only one fourth of patients with pneumonia, which is consistent with the known disparity between clinical and radiological signs of M pneumoniae pneumonia. Crepitations, however, were detected in the majority (79.2%) of patients. Pleuritic chest pain and pleural effusion were rare.\\nMore than half (56.5%) of the patients with pneumonia had uneventful recovery. Mortality from M. pneumoniae pneumonia was high (12.5%) and occurred only in patients with underlying comorbidities. None of the 9 patients with no underlying comorbidities died of M pneumoniae pneumonia. The relatively high complications rate (16.7%) and mortality (12.5%) related to M. pneumoniae pneumonia are likely due to selection bias as most patients with pneumonia were sick enough to require admission to the hospital (21/24 or 87.5%) and most of them had comorbidities (20/24 or 83.3%).\\nIn conclusion, our data shed some light on the epidemiology and clinical features of M pneumoniae infections in one of the Saudi tertiary care centers. The data are comparable to those of other countries except for the finding that infections were more common in infants and preschool children than in school children and young adults. Additionally, mortality attributable to M. pneumoniae pneumonia was relatively high in patients with comorbidities. It is hoped this information will assist clinicians in their approach and management of respiratory tract infections.\\n'"
      ]
     },
     "execution_count": 17,
     "metadata": {},
     "output_type": "execute_result"
    }
   ],
   "source": [
    "article1_text = str()\n",
    "\n",
    "for paragraph in body_text:\n",
    "    article1_text += paragraph['text'] + '\\n'\n",
    "\n",
    "article1_text"
   ]
  },
  {
   "cell_type": "markdown",
   "id": "c282e3f5",
   "metadata": {},
   "source": [
    "All good! We will include this article in our dataset."
   ]
  },
  {
   "cell_type": "markdown",
   "id": "fadd9a79",
   "metadata": {},
   "source": [
    "### 1.4. Selecting a sample of articles to build our scientific recommendation dataset"
   ]
  },
  {
   "cell_type": "markdown",
   "id": "fa9685e6",
   "metadata": {},
   "source": [
    "Instead of repating each operation for each file individually, let us adapt our code to automatically select a sample containing 100 preprocessed articles. "
   ]
  },
  {
   "cell_type": "markdown",
   "id": "704825d0",
   "metadata": {},
   "source": [
    "First, create the output directory:"
   ]
  },
  {
   "cell_type": "code",
   "execution_count": 24,
   "id": "91ef8d2e",
   "metadata": {},
   "outputs": [],
   "source": [
    "out_dir = 'sample/'\n",
    "\n",
    "if not os.path.exists(out_dir):\n",
    "    os.mkdir(out_dir)"
   ]
  },
  {
   "cell_type": "markdown",
   "id": "3a30aaba",
   "metadata": {},
   "source": [
    "Then, initiallize the necessary variables:"
   ]
  },
  {
   "cell_type": "code",
   "execution_count": 19,
   "id": "5524d8cc",
   "metadata": {},
   "outputs": [],
   "source": [
    "max_articles = 100 #number of articles to include in the sample\n",
    "dataset_dir = 'cord19_small/'\n",
    "metadata_filepath = dataset_dir + 'metadata.csv'\n",
    "valid_articles_count = int()\n",
    "out_articles_ids = list()"
   ]
  },
  {
   "cell_type": "markdown",
   "id": "fe824fd6",
   "metadata": {},
   "source": [
    "Open the metadata file:"
   ]
  },
  {
   "cell_type": "code",
   "execution_count": 20,
   "id": "2a194667",
   "metadata": {},
   "outputs": [],
   "source": [
    "metadata = pd.read_csv(metadata_filepath, sep = ',', quotechar = '\"',  encoding = 'utf-8', dtype=str) "
   ]
  },
  {
   "cell_type": "markdown",
   "id": "b72805dd",
   "metadata": {},
   "source": [
    "Then iterate over the records in the metadata file and choose only the relevant ones:"
   ]
  },
  {
   "cell_type": "code",
   "execution_count": 25,
   "id": "6a23be5c",
   "metadata": {},
   "outputs": [],
   "source": [
    "valid_articles_count = int()\n",
    "\n",
    "for index, record in metadata.iterrows():\n",
    "    \n",
    "    if valid_articles_count <= max_articles:\n",
    "        \n",
    "        if record['pubmed_id'] not in out_articles_ids:\n",
    "            \n",
    "            if type(record['sha']) != float:\n",
    "\n",
    "                if record['authors'] != '':    \n",
    "\n",
    "                    if record['title'] != '':\n",
    "                        title = record['title']\n",
    "                        title_lang = detect(title)\n",
    "                        article_filepath = record['pdf_json_files']\n",
    "\n",
    "                        if title_lang == 'en'  \\\n",
    "                            and type(article_filepath) != float  \\\n",
    "                            and article_filepath.count(\"document\") == 1:\n",
    "\n",
    "                            article_filepath_up = dataset_dir + record['pdf_json_files']\n",
    "\n",
    "                            with open(article_filepath_up, encoding='utf-8') as article_file:\n",
    "                                article_data = json.load(article_file)\n",
    "\n",
    "                            if 'body_text' in article_data.keys(): # the article is valid\n",
    "                                valid_articles_count += 1\n",
    "                                \n",
    "                                # open the article file to check if it contains all info\n",
    "                                with open(article_filepath_up) as article_file:\n",
    "                                    article_data = json.load(article_file)\n",
    "                                \n",
    "                                # correct the info of the article with info present in metadata file\n",
    "                                changed_article = False\n",
    "                                \n",
    "                                if article_data['metadata']['title'] == '':\n",
    "                                    article_data['metadata']['title'] = record['title']\n",
    "                                    changed_article = True\n",
    "                                \n",
    "                                if article_data['metadata']['authors'] == []:\n",
    "                                    article_data['metadata']['authors'] = record['authors']\n",
    "                                \n",
    "                                # output or copy article file to out_dir\n",
    "                                if changed_article:\n",
    "    \n",
    "                                    with open(out_dir + record['sha'] + '.json', 'w') as out_file:\n",
    "                                        out_file.write(json.dumps(article_data, indent=4, ensure_ascii=False))\n",
    "                                    \n",
    "                                else:\n",
    "                                    command = 'cp '  \\\n",
    "                                              + article_filepath_up + ' ' \\\n",
    "                                              + out_dir  \\\n",
    "                                              + record['sha'] + '.json'\n",
    "                                    \n",
    "                                    os.system(command)\n",
    "                                \n",
    "                    else:\n",
    "                        print(record['title'])\n",
    "                            \n",
    "    if valid_articles_count == max_articles:\n",
    "        total_articles = index + 1\n",
    "        break"
   ]
  },
  {
   "cell_type": "markdown",
   "id": "e02d9c0c",
   "metadata": {},
   "source": [
    "Let's check if the output dir contain the desired number of articles (max_articles):"
   ]
  },
  {
   "cell_type": "code",
   "execution_count": 26,
   "id": "afb22130",
   "metadata": {},
   "outputs": [],
   "source": [
    "article_count = len(os.listdir(out_dir))\n",
    "assert article_count == max_articles, 'Invalid number of article(s): {}! Expected number: {}'.format(article_count, max_articles)"
   ]
  },
  {
   "cell_type": "markdown",
   "id": "d55f271d",
   "metadata": {},
   "source": [
    "At the end of this section, we now have a sample including 100 articles that will be the basis of our scientific recommendation dataset."
   ]
  },
  {
   "cell_type": "markdown",
   "id": "a518f3c4",
   "metadata": {},
   "source": [
    "## 2. Named Entity Recognition (NER) + Named Entity Linking (NEL)\n",
    "\n",
    "**Objective**: To recognize chemical and disease entities in the retrieved articles and to link them to the respective ontology identifiers.\n",
    "\n",
    "We are going to use the [Disease Ontology](https://disease-ontology.org/) (DO), and the [Chemical Entities of Biological Interest](https://www.ebi.ac.uk/chebi/) (ChEBI) ontology.\n",
    "\n",
    "To perform NER and NEL, we are going to apply Minimal Named-Entity Recognizer [MER](https://pypi.org/project/merpy/) tool."
   ]
  },
  {
   "cell_type": "markdown",
   "id": "6fbb0741",
   "metadata": {},
   "source": [
    "# 2.1. Import libraries\n",
    "<a id='#2.2'></a>"
   ]
  },
  {
   "cell_type": "code",
   "execution_count": 27,
   "id": "efe4ebc7",
   "metadata": {},
   "outputs": [],
   "source": [
    "import merpy\n",
    "import multiprocessing\n",
    "from collections import Counter"
   ]
  },
  {
   "cell_type": "markdown",
   "id": "1dc2b517",
   "metadata": {},
   "source": [
    "### 2.2. Configure MER"
   ]
  },
  {
   "cell_type": "markdown",
   "id": "8b6607dc",
   "metadata": {},
   "source": [
    "First, we need to download the owl. file associated with ChEBI:"
   ]
  },
  {
   "cell_type": "code",
   "execution_count": null,
   "id": "89fe6281",
   "metadata": {},
   "outputs": [],
   "source": [
    "merpy.download_lexicon(\"ftp://ftp.ebi.ac.uk/pub/databases/chebi/ontology/chebi.owl\",\n",
    "                       \"chebi\", ltype=\"owl\")"
   ]
  },
  {
   "cell_type": "markdown",
   "id": "f395d18b",
   "metadata": {},
   "source": [
    "Then, we need to process the downloaded file into a lexicon that MER can use:"
   ]
  },
  {
   "cell_type": "code",
   "execution_count": null,
   "id": "36abd3a2",
   "metadata": {},
   "outputs": [],
   "source": [
    "merpy.process_lexicon(\"chebi\", ltype=\"owl\")"
   ]
  },
  {
   "cell_type": "markdown",
   "id": "f8a71aa0",
   "metadata": {},
   "source": [
    "We are going to delete obsolete concepts still present in the ontology file:"
   ]
  },
  {
   "cell_type": "code",
   "execution_count": null,
   "id": "e197a193",
   "metadata": {},
   "outputs": [],
   "source": [
    "merpy.delete_obsolete(\"chebi\")"
   ]
  },
  {
   "cell_type": "markdown",
   "id": "c66803ec",
   "metadata": {},
   "source": [
    "We need to repeat the operations for the DO:"
   ]
  },
  {
   "cell_type": "code",
   "execution_count": null,
   "id": "c8dbc078",
   "metadata": {},
   "outputs": [],
   "source": [
    "merpy.download_lexicon(\"http://purl.obolibrary.org/obo/doid.owl\", \n",
    "                        \"do\", ltype=\"owl\")\n",
    "            \n",
    "merpy.process_lexicon(\"do\", ltype=\"owl\")\n",
    "\n",
    "merpy.delete_obsolete(\"do\")"
   ]
  },
  {
   "cell_type": "markdown",
   "id": "b861c3f7",
   "metadata": {},
   "source": [
    "Let's check the lexicons available for MER:"
   ]
  },
  {
   "cell_type": "code",
   "execution_count": 28,
   "id": "d3ea09ba",
   "metadata": {},
   "outputs": [
    {
     "name": "stdout",
     "output_type": "stream",
     "text": [
      "lexicons preloaded:\n",
      "['lexicon', 'chebi', 'do']\n",
      "\n",
      "lexicons loaded ready to use:\n",
      "['chebi', 'do']\n",
      "\n",
      "lexicons with linked concepts:\n",
      "['do', 'lexicon', 'chebi']\n"
     ]
    }
   ],
   "source": [
    "merpy.show_lexicons()"
   ]
  },
  {
   "cell_type": "markdown",
   "id": "39189eb2",
   "metadata": {},
   "source": [
    "### 2.3. Extract the entities in a single file"
   ]
  },
  {
   "cell_type": "markdown",
   "id": "3aabcfec",
   "metadata": {},
   "source": [
    "Let's retrieve a file from the articles sample:"
   ]
  },
  {
   "cell_type": "code",
   "execution_count": 34,
   "id": "81c00e62",
   "metadata": {},
   "outputs": [],
   "source": [
    "dataset_dir = 'sample/'\n",
    "\n",
    "with open(dataset_dir + '87390d2ae28407b3e03e60a6b24a7fd99ed7229a.json') as article1_file:\n",
    "    article_data = json.load(article1_file)"
   ]
  },
  {
   "cell_type": "markdown",
   "id": "b546b138",
   "metadata": {},
   "source": [
    "Let's check the contents of the article:"
   ]
  },
  {
   "cell_type": "code",
   "execution_count": 35,
   "id": "343fb7ca",
   "metadata": {},
   "outputs": [
    {
     "data": {
      "text/plain": [
       "dict_keys(['paper_id', 'metadata', 'abstract', 'body_text', 'bib_entries', 'ref_entries', 'back_matter'])"
      ]
     },
     "execution_count": 35,
     "metadata": {},
     "output_type": "execute_result"
    }
   ],
   "source": [
    "article_data.keys()"
   ]
  },
  {
   "cell_type": "markdown",
   "id": "bfd1ccc6",
   "metadata": {},
   "source": [
    "We want to recognize the entities present in title, abstract, and body. "
   ]
  },
  {
   "cell_type": "markdown",
   "id": "7a04f7fa",
   "metadata": {},
   "source": [
    "First, let's retrieve the title, which is a value associated with the key 'metadata':"
   ]
  },
  {
   "cell_type": "code",
   "execution_count": 36,
   "id": "3af6ec4d",
   "metadata": {},
   "outputs": [
    {
     "data": {
      "text/plain": [
       "'Pro/con clinical debate: Steroids are a key component in the treatment of SARS'"
      ]
     },
     "execution_count": 36,
     "metadata": {},
     "output_type": "execute_result"
    }
   ],
   "source": [
    "title = article_data['metadata']['title']\n",
    "title"
   ]
  },
  {
   "cell_type": "markdown",
   "id": "3dd5879c",
   "metadata": {},
   "source": [
    "Then, we apply MER to the title in order recognize disease entities and to link them to DO concepts:"
   ]
  },
  {
   "cell_type": "code",
   "execution_count": 37,
   "id": "b41d3b84",
   "metadata": {},
   "outputs": [
    {
     "data": {
      "text/plain": [
       "[['74', '78', 'SARS', 'http://purl.obolibrary.org/obo/DOID_2945']]"
      ]
     },
     "execution_count": 37,
     "metadata": {},
     "output_type": "execute_result"
    }
   ],
   "source": [
    "merpy.get_entities(title, 'do')"
   ]
  },
  {
   "cell_type": "markdown",
   "id": "2538335e",
   "metadata": {},
   "source": [
    "Let's check if the annotations make sense. For instance, access the link http://purl.obolibrary.org/obo/DOID_2945."
   ]
  },
  {
   "cell_type": "markdown",
   "id": "c888ad63",
   "metadata": {},
   "source": [
    "The entity 'SARS' in the article was linked to the DO concept 'severe acute respiratory syndrome' with the ID 'DOID:2945', which seems correct!"
   ]
  },
  {
   "cell_type": "markdown",
   "id": "be1ffd71",
   "metadata": {},
   "source": [
    "Let's apply MER to recognize chemical entities and to link them to ChEBI concepts:"
   ]
  },
  {
   "cell_type": "code",
   "execution_count": 38,
   "id": "20ea500e",
   "metadata": {},
   "outputs": [
    {
     "data": {
      "text/plain": [
       "[['25', '33', 'Steroids', 'http://purl.obolibrary.org/obo/CHEBI_35341']]"
      ]
     },
     "execution_count": 38,
     "metadata": {},
     "output_type": "execute_result"
    }
   ],
   "source": [
    "merpy.get_entities(title, 'chebi')"
   ]
  },
  {
   "cell_type": "markdown",
   "id": "31fc75ab",
   "metadata": {},
   "source": [
    "Accessing the link http://purl.obolibrary.org/obo/CHEBI_35341, we can see that the entity 'Steroids' was linked to the ChEBI concept 'steroid', which has the ID 'CHEBI:35341'."
   ]
  },
  {
   "cell_type": "markdown",
   "id": "f8bd3965",
   "metadata": {},
   "source": [
    "We add the disease and chemical entities to a single list:"
   ]
  },
  {
   "cell_type": "code",
   "execution_count": 39,
   "id": "1cac3147",
   "metadata": {},
   "outputs": [
    {
     "data": {
      "text/plain": [
       "[['74', '78', 'SARS', 'http://purl.obolibrary.org/obo/DOID_2945'],\n",
       " ['25', '33', 'Steroids', 'http://purl.obolibrary.org/obo/CHEBI_35341']]"
      ]
     },
     "execution_count": 39,
     "metadata": {},
     "output_type": "execute_result"
    }
   ],
   "source": [
    "title_entities = merpy.get_entities(title, 'do') + merpy.get_entities(title, 'chebi')\n",
    "\n",
    "title_entities"
   ]
  },
  {
   "cell_type": "markdown",
   "id": "f327581a",
   "metadata": {},
   "source": [
    "Now, we are going to apply MER to recognize entities in abstract:"
   ]
  },
  {
   "cell_type": "code",
   "execution_count": 40,
   "id": "15605b78",
   "metadata": {},
   "outputs": [
    {
     "data": {
      "text/plain": [
       "[['4', '8', 'ARDS', 'http://purl.obolibrary.org/obo/DOID_11394'],\n",
       " ['38', '46', 'syndrome', 'http://purl.obolibrary.org/obo/DOID_225'],\n",
       " ['93', '97', 'SARS', 'http://purl.obolibrary.org/obo/DOID_2945'],\n",
       " ['125', '133', 'syndrome', 'http://purl.obolibrary.org/obo/DOID_225'],\n",
       " ['224', '228', 'SARS', 'http://purl.obolibrary.org/obo/DOID_2945'],\n",
       " ['255', '263', 'syndrome', 'http://purl.obolibrary.org/obo/DOID_225'],\n",
       " ['386', '390', 'SARS', 'http://purl.obolibrary.org/obo/DOID_2945'],\n",
       " ['525', '529', 'SARS', 'http://purl.obolibrary.org/obo/DOID_2945'],\n",
       " ['11',\n",
       "  '46',\n",
       "  'acute respiratory distress syndrome',\n",
       "  'http://purl.obolibrary.org/obo/DOID_11394'],\n",
       " ['100',\n",
       "  '133',\n",
       "  'severe acute respiratory syndrome',\n",
       "  'http://purl.obolibrary.org/obo/DOID_2945'],\n",
       " ['230',\n",
       "  '263',\n",
       "  'severe acute respiratory syndrome',\n",
       "  'http://purl.obolibrary.org/obo/DOID_2945'],\n",
       " ['530', '538', 'steroids', 'http://purl.obolibrary.org/obo/CHEBI_35341'],\n",
       " ['625', '632', 'steroid', 'http://purl.obolibrary.org/obo/CHEBI_35341']]"
      ]
     },
     "execution_count": 40,
     "metadata": {},
     "output_type": "execute_result"
    }
   ],
   "source": [
    "abstract = article_data['abstract'][0]['text']\n",
    "\n",
    "abstract_entities = merpy.get_entities(abstract, 'do') + merpy.get_entities(abstract, 'chebi')\n",
    "\n",
    "abstract_entities"
   ]
  },
  {
   "cell_type": "markdown",
   "id": "317fbe0d",
   "metadata": {},
   "source": [
    "Let's apply MER in the text associated with the body of the article:"
   ]
  },
  {
   "cell_type": "code",
   "execution_count": 41,
   "id": "3e860e2d",
   "metadata": {},
   "outputs": [
    {
     "data": {
      "text/plain": [
       "[['0', '4', 'SARS', 'http://purl.obolibrary.org/obo/DOID_2945'],\n",
       " ['39', '46', 'disease', 'http://purl.obolibrary.org/obo/DOID_4'],\n",
       " ['72', '76', 'SARS', 'http://purl.obolibrary.org/obo/DOID_2945'],\n",
       " ['113', '120', 'disease', 'http://purl.obolibrary.org/obo/DOID_4'],\n",
       " ['515', '522', 'disease', 'http://purl.obolibrary.org/obo/DOID_4'],\n",
       " ['612', '616', 'SARS', 'http://purl.obolibrary.org/obo/DOID_2945'],\n",
       " ['723', '727', 'SARS', 'http://purl.obolibrary.org/obo/DOID_2945'],\n",
       " ['1260', '1264', 'SARS', 'http://purl.obolibrary.org/obo/DOID_2945'],\n",
       " ['1300', '1308', 'syndrome', 'http://purl.obolibrary.org/obo/DOID_225'],\n",
       " ['1310', '1314', 'ARDS', 'http://purl.obolibrary.org/obo/DOID_11394'],\n",
       " ['1369', '1373', 'ARDS', 'http://purl.obolibrary.org/obo/DOID_11394'],\n",
       " ['1458', '1462', 'ARDS', 'http://purl.obolibrary.org/obo/DOID_11394'],\n",
       " ['1504', '1508', 'ARDS', 'http://purl.obolibrary.org/obo/DOID_11394'],\n",
       " ['1545', '1549', 'ARDS', 'http://purl.obolibrary.org/obo/DOID_11394'],\n",
       " ['1691', '1695', 'ARDS', 'http://purl.obolibrary.org/obo/DOID_11394'],\n",
       " ['1785', '1789', 'ARDS', 'http://purl.obolibrary.org/obo/DOID_11394'],\n",
       " ['2307', '2316', 'pneumonia', 'http://purl.obolibrary.org/obo/DOID_552'],\n",
       " ['2383', '2392', 'varicella', 'http://purl.obolibrary.org/obo/DOID_8659'],\n",
       " ['2393', '2402', 'pneumonia', 'http://purl.obolibrary.org/obo/DOID_552'],\n",
       " ['2823', '2827', 'SARS', 'http://purl.obolibrary.org/obo/DOID_2945'],\n",
       " ['2896', '2900', 'SARS', 'http://purl.obolibrary.org/obo/DOID_2945'],\n",
       " ['3008', '3012', 'SARS', 'http://purl.obolibrary.org/obo/DOID_2945'],\n",
       " ['3130', '3134', 'SARS', 'http://purl.obolibrary.org/obo/DOID_2945'],\n",
       " ['3254', '3258', 'ARDS', 'http://purl.obolibrary.org/obo/DOID_11394'],\n",
       " ['3313', '3317', 'SARS', 'http://purl.obolibrary.org/obo/DOID_2945'],\n",
       " ['3347', '3354', 'disease', 'http://purl.obolibrary.org/obo/DOID_4'],\n",
       " ['3488', '3492', 'SARS', 'http://purl.obolibrary.org/obo/DOID_2945'],\n",
       " ['3734', '3738', 'SARS', 'http://purl.obolibrary.org/obo/DOID_2945'],\n",
       " ['3790',\n",
       "  '3803',\n",
       "  'aspergillosis',\n",
       "  'http://purl.obolibrary.org/obo/DOID_13564'],\n",
       " ['3862', '3866', 'SARS', 'http://purl.obolibrary.org/obo/DOID_2945'],\n",
       " ['3959', '3967', 'Myopathy', 'http://purl.obolibrary.org/obo/DOID_423'],\n",
       " ['3972',\n",
       "  '3986',\n",
       "  'polyneuropathy',\n",
       "  'http://purl.obolibrary.org/obo/DOID_1389'],\n",
       " ['3996', '4000', 'ARDS', 'http://purl.obolibrary.org/obo/DOID_11394'],\n",
       " ['4079', '4083', 'SARS', 'http://purl.obolibrary.org/obo/DOID_2945'],\n",
       " ['4260', '4264', 'SARS', 'http://purl.obolibrary.org/obo/DOID_2945'],\n",
       " ['4885', '4889', 'SARS', 'http://purl.obolibrary.org/obo/DOID_2945'],\n",
       " ['4906', '4910', 'ARDS', 'http://purl.obolibrary.org/obo/DOID_11394'],\n",
       " ['4941', '4945', 'ARDS', 'http://purl.obolibrary.org/obo/DOID_11394'],\n",
       " ['5086', '5090', 'ARDS', 'http://purl.obolibrary.org/obo/DOID_11394'],\n",
       " ['5240', '5244', 'ARDS', 'http://purl.obolibrary.org/obo/DOID_11394'],\n",
       " ['5415', '5422', 'disease', 'http://purl.obolibrary.org/obo/DOID_4'],\n",
       " ['5558', '5562', 'SARS', 'http://purl.obolibrary.org/obo/DOID_2945'],\n",
       " ['6136', '6140', 'SARS', 'http://purl.obolibrary.org/obo/DOID_2945'],\n",
       " ['6384', '6388', 'SARS', 'http://purl.obolibrary.org/obo/DOID_2945'],\n",
       " ['6573', '6577', 'SARS', 'http://purl.obolibrary.org/obo/DOID_2945'],\n",
       " ['6811', '6815', 'SARS', 'http://purl.obolibrary.org/obo/DOID_2945'],\n",
       " ['7335', '7339', 'SARS', 'http://purl.obolibrary.org/obo/DOID_2945'],\n",
       " ['7456', '7463', 'disease', 'http://purl.obolibrary.org/obo/DOID_4'],\n",
       " ['7494', '7498', 'ARDS', 'http://purl.obolibrary.org/obo/DOID_11394'],\n",
       " ['7877', '7881', 'SARS', 'http://purl.obolibrary.org/obo/DOID_2945'],\n",
       " ['815', '830', 'viral infection', 'http://purl.obolibrary.org/obo/DOID_934'],\n",
       " ['1659',\n",
       "  '1678',\n",
       "  'respiratory failure',\n",
       "  'http://purl.obolibrary.org/obo/DOID_11162'],\n",
       " ['2301',\n",
       "  '2316',\n",
       "  'viral pneumonia',\n",
       "  'http://purl.obolibrary.org/obo/DOID_10533'],\n",
       " ['2840',\n",
       "  '2859',\n",
       "  'respiratory failure',\n",
       "  'http://purl.obolibrary.org/obo/DOID_11162'],\n",
       " ['6403',\n",
       "  '6422',\n",
       "  'respiratory failure',\n",
       "  'http://purl.obolibrary.org/obo/DOID_11162'],\n",
       " ['1273',\n",
       "  '1308',\n",
       "  'acute respiratory distress syndrome',\n",
       "  'http://purl.obolibrary.org/obo/DOID_11394'],\n",
       " ['1198',\n",
       "  '1213',\n",
       "  'corticosteroids',\n",
       "  'http://purl.obolibrary.org/obo/CHEBI_50858'],\n",
       " ['1573',\n",
       "  '1588',\n",
       "  'corticosteroids',\n",
       "  'http://purl.obolibrary.org/obo/CHEBI_50858'],\n",
       " ['1715', '1723', 'steroids', 'http://purl.obolibrary.org/obo/CHEBI_35341'],\n",
       " ['1914',\n",
       "  '1928',\n",
       "  'corticosteroid',\n",
       "  'http://purl.obolibrary.org/obo/CHEBI_50858'],\n",
       " ['1970',\n",
       "  '1985',\n",
       "  'corticosteroids',\n",
       "  'http://purl.obolibrary.org/obo/CHEBI_50858'],\n",
       " ['2161', '2170', 'antiviral', 'http://purl.obolibrary.org/obo/CHEBI_22587'],\n",
       " ['2175',\n",
       "  '2190',\n",
       "  'corticosteroids',\n",
       "  'http://purl.obolibrary.org/obo/CHEBI_50858'],\n",
       " ['2231', '2240', 'antiviral', 'http://purl.obolibrary.org/obo/CHEBI_22587'],\n",
       " ['2282',\n",
       "  '2297',\n",
       "  'corticosteroids',\n",
       "  'http://purl.obolibrary.org/obo/CHEBI_50858'],\n",
       " ['2429', '2437', 'steroids', 'http://purl.obolibrary.org/obo/CHEBI_35341'],\n",
       " ['2506', '2512', 'oxygen', 'http://purl.obolibrary.org/obo/CHEBI_15379'],\n",
       " ['2541', '2547', 'oxygen', 'http://purl.obolibrary.org/obo/CHEBI_15379'],\n",
       " ['3045',\n",
       "  '3060',\n",
       "  'corticosteroids',\n",
       "  'http://purl.obolibrary.org/obo/CHEBI_50858'],\n",
       " ['3068', '3072', 'role', 'http://purl.obolibrary.org/obo/CHEBI_50906'],\n",
       " ['3269', '3277', 'steroids', 'http://purl.obolibrary.org/obo/CHEBI_35341'],\n",
       " ['3459', '3467', 'steroids', 'http://purl.obolibrary.org/obo/CHEBI_35341'],\n",
       " ['3643', '3650', 'Steroid', 'http://purl.obolibrary.org/obo/CHEBI_35341'],\n",
       " ['4023', '4031', 'steroids', 'http://purl.obolibrary.org/obo/CHEBI_35341'],\n",
       " ['4239', '4246', 'steroid', 'http://purl.obolibrary.org/obo/CHEBI_35341'],\n",
       " ['4380', '4387', 'steroid', 'http://purl.obolibrary.org/obo/CHEBI_35341'],\n",
       " ['4549',\n",
       "  '4567',\n",
       "  'methylprednisolone',\n",
       "  'http://purl.obolibrary.org/obo/CHEBI_6888'],\n",
       " ['4693', '4701', 'steroids', 'http://purl.obolibrary.org/obo/CHEBI_35341'],\n",
       " ['4920', '4927', 'Steroid', 'http://purl.obolibrary.org/obo/CHEBI_35341'],\n",
       " ['5011', '5014', 'One', 'http://purl.obolibrary.org/obo/CHEBI_58972'],\n",
       " ['5030', '5038', 'steroids', 'http://purl.obolibrary.org/obo/CHEBI_35341'],\n",
       " ['5177', '5184', 'steroid', 'http://purl.obolibrary.org/obo/CHEBI_35341'],\n",
       " ['5306', '5313', 'steroid', 'http://purl.obolibrary.org/obo/CHEBI_35341'],\n",
       " ['5345', '5353', 'Steroids', 'http://purl.obolibrary.org/obo/CHEBI_35341'],\n",
       " ['5497', '5505', 'steroids', 'http://purl.obolibrary.org/obo/CHEBI_35341'],\n",
       " ['5538', '5545', 'steroid', 'http://purl.obolibrary.org/obo/CHEBI_35341'],\n",
       " ['5636',\n",
       "  '5654',\n",
       "  'methylprednisolone',\n",
       "  'http://purl.obolibrary.org/obo/CHEBI_6888'],\n",
       " ['5762', '5770', 'steroids', 'http://purl.obolibrary.org/obo/CHEBI_35341'],\n",
       " ['5813', '5820', 'steroid', 'http://purl.obolibrary.org/obo/CHEBI_35341'],\n",
       " ['5828',\n",
       "  '5846',\n",
       "  'methylprednisolone',\n",
       "  'http://purl.obolibrary.org/obo/CHEBI_6888'],\n",
       " ['5975', '5981', 'cohort', 'http://purl.obolibrary.org/obo/CHEBI_34935'],\n",
       " ['6012', '6020', 'steroids', 'http://purl.obolibrary.org/obo/CHEBI_35341'],\n",
       " ['6163', '6171', 'steroids', 'http://purl.obolibrary.org/obo/CHEBI_35341'],\n",
       " ['6274', '6278', 'role', 'http://purl.obolibrary.org/obo/CHEBI_50906'],\n",
       " ['6368', '6376', 'steroids', 'http://purl.obolibrary.org/obo/CHEBI_35341'],\n",
       " ['6528', '6532', 'role', 'http://purl.obolibrary.org/obo/CHEBI_50906'],\n",
       " ['6553',\n",
       "  '6568',\n",
       "  'corticosteroids',\n",
       "  'http://purl.obolibrary.org/obo/CHEBI_50858'],\n",
       " ['6711', '6719', 'steroids', 'http://purl.obolibrary.org/obo/CHEBI_35341'],\n",
       " ['6838', '6846', 'steroids', 'http://purl.obolibrary.org/obo/CHEBI_35341'],\n",
       " ['7302',\n",
       "  '7317',\n",
       "  'corticosteroids',\n",
       "  'http://purl.obolibrary.org/obo/CHEBI_50858'],\n",
       " ['7350', '7358', 'steroids', 'http://purl.obolibrary.org/obo/CHEBI_35341'],\n",
       " ['7655', '7661', 'formal', 'http://purl.obolibrary.org/obo/CHEBI_48341'],\n",
       " ['7720', '7727', 'steroid', 'http://purl.obolibrary.org/obo/CHEBI_35341'],\n",
       " ['1166',\n",
       "  '1189',\n",
       "  'antiinflammatory agents',\n",
       "  'http://purl.obolibrary.org/obo/CHEBI_67079']]"
      ]
     },
     "execution_count": 41,
     "metadata": {},
     "output_type": "execute_result"
    }
   ],
   "source": [
    "body_text = str()\n",
    "\n",
    "for section in article_data['body_text']:\n",
    "    body_text += section['text'] + \"\\n\"\n",
    "\n",
    "body_entities = merpy.get_entities(body_text, \"do\") + merpy.get_entities(body_text, \"chebi\")\n",
    "\n",
    "body_entities"
   ]
  },
  {
   "cell_type": "markdown",
   "id": "bd675f5b",
   "metadata": {},
   "source": [
    "At last, we need to obtain information about the frequency of each ontology identifier in the document:"
   ]
  },
  {
   "cell_type": "code",
   "execution_count": 43,
   "id": "a6057c68",
   "metadata": {},
   "outputs": [
    {
     "data": {
      "text/plain": [
       "Counter({'http://purl.obolibrary.org/obo/DOID_2945': 30,\n",
       "         'http://purl.obolibrary.org/obo/CHEBI_35341': 28,\n",
       "         'http://purl.obolibrary.org/obo/DOID_11394': 17,\n",
       "         'http://purl.obolibrary.org/obo/DOID_225': 4,\n",
       "         'http://purl.obolibrary.org/obo/DOID_4': 6,\n",
       "         'http://purl.obolibrary.org/obo/DOID_552': 2,\n",
       "         'http://purl.obolibrary.org/obo/DOID_8659': 1,\n",
       "         'http://purl.obolibrary.org/obo/DOID_13564': 1,\n",
       "         'http://purl.obolibrary.org/obo/DOID_423': 1,\n",
       "         'http://purl.obolibrary.org/obo/DOID_1389': 1,\n",
       "         'http://purl.obolibrary.org/obo/DOID_934': 1,\n",
       "         'http://purl.obolibrary.org/obo/DOID_11162': 3,\n",
       "         'http://purl.obolibrary.org/obo/DOID_10533': 1,\n",
       "         'http://purl.obolibrary.org/obo/CHEBI_50858': 9,\n",
       "         'http://purl.obolibrary.org/obo/CHEBI_22587': 2,\n",
       "         'http://purl.obolibrary.org/obo/CHEBI_15379': 2,\n",
       "         'http://purl.obolibrary.org/obo/CHEBI_50906': 3,\n",
       "         'http://purl.obolibrary.org/obo/CHEBI_6888': 3,\n",
       "         'http://purl.obolibrary.org/obo/CHEBI_58972': 1,\n",
       "         'http://purl.obolibrary.org/obo/CHEBI_34935': 1,\n",
       "         'http://purl.obolibrary.org/obo/CHEBI_48341': 1,\n",
       "         'http://purl.obolibrary.org/obo/CHEBI_67079': 1})"
      ]
     },
     "execution_count": 43,
     "metadata": {},
     "output_type": "execute_result"
    }
   ],
   "source": [
    "total_entities = title_entities + abstract_entities + body_entities\n",
    "\n",
    "all_uris = [entity[3] for entity in total_entities]\n",
    "\n",
    "entity_counter = Counter(all_uris)\n",
    "\n",
    "entity_counter"
   ]
  },
  {
   "cell_type": "markdown",
   "id": "959c39d2",
   "metadata": {},
   "source": [
    "To sort the URIs by descending order:"
   ]
  },
  {
   "cell_type": "code",
   "execution_count": 44,
   "id": "19745044",
   "metadata": {},
   "outputs": [
    {
     "data": {
      "text/plain": [
       "{'http://purl.obolibrary.org/obo/DOID_2945': 30,\n",
       " 'http://purl.obolibrary.org/obo/CHEBI_35341': 28,\n",
       " 'http://purl.obolibrary.org/obo/DOID_11394': 17,\n",
       " 'http://purl.obolibrary.org/obo/CHEBI_50858': 9,\n",
       " 'http://purl.obolibrary.org/obo/DOID_4': 6,\n",
       " 'http://purl.obolibrary.org/obo/DOID_225': 4,\n",
       " 'http://purl.obolibrary.org/obo/DOID_11162': 3,\n",
       " 'http://purl.obolibrary.org/obo/CHEBI_50906': 3,\n",
       " 'http://purl.obolibrary.org/obo/CHEBI_6888': 3,\n",
       " 'http://purl.obolibrary.org/obo/DOID_552': 2,\n",
       " 'http://purl.obolibrary.org/obo/CHEBI_22587': 2,\n",
       " 'http://purl.obolibrary.org/obo/CHEBI_15379': 2,\n",
       " 'http://purl.obolibrary.org/obo/DOID_8659': 1,\n",
       " 'http://purl.obolibrary.org/obo/DOID_13564': 1,\n",
       " 'http://purl.obolibrary.org/obo/DOID_423': 1,\n",
       " 'http://purl.obolibrary.org/obo/DOID_1389': 1,\n",
       " 'http://purl.obolibrary.org/obo/DOID_934': 1,\n",
       " 'http://purl.obolibrary.org/obo/DOID_10533': 1,\n",
       " 'http://purl.obolibrary.org/obo/CHEBI_58972': 1,\n",
       " 'http://purl.obolibrary.org/obo/CHEBI_34935': 1,\n",
       " 'http://purl.obolibrary.org/obo/CHEBI_48341': 1,\n",
       " 'http://purl.obolibrary.org/obo/CHEBI_67079': 1}"
      ]
     },
     "execution_count": 44,
     "metadata": {},
     "output_type": "execute_result"
    }
   ],
   "source": [
    "entity_counter = {\n",
    "    k: v \n",
    "    for k, v in sorted(entity_counter.items(), key=lambda item: item[1], reverse=True)\n",
    "    }\n",
    "\n",
    "entity_counter "
   ]
  },
  {
   "cell_type": "markdown",
   "id": "14b10d98",
   "metadata": {},
   "source": [
    "### 2.4. Create entity files"
   ]
  },
  {
   "cell_type": "markdown",
   "id": "2f26f082",
   "metadata": {},
   "source": [
    "We need to adapt our code to perform NER and NEL in all documents of our sample."
   ]
  },
  {
   "cell_type": "markdown",
   "id": "acb32726",
   "metadata": {},
   "source": [
    "First, create the output dir:"
   ]
  },
  {
   "cell_type": "code",
   "execution_count": 45,
   "id": "1e2ff5fa",
   "metadata": {},
   "outputs": [],
   "source": [
    "out_dir = 'sample_entities/'\n",
    "\n",
    "if not os.path.exists(out_dir):\n",
    "    os.mkdir(out_dir)"
   ]
  },
  {
   "cell_type": "markdown",
   "id": "5cb79da2",
   "metadata": {},
   "source": [
    "Next, we are going to iterate over on each file present in the sample directory, annotate them, and create the respective entity file:"
   ]
  },
  {
   "cell_type": "code",
   "execution_count": 46,
   "id": "d3a7b6ea",
   "metadata": {},
   "outputs": [
    {
     "name": "stdout",
     "output_type": "stream",
     "text": [
      "e4b48ce0579f908da6dd3289bb2cc262dbdeae72.json65cc7496f21429d81b3ae129d9c39764e2a1f568.jsonc5131e5f5c6000ec84139edc64778a6f1d391b83.jsondef1cf77e1ef84f4373a342e23145be05ec5e226.json\n",
      "467694c7a219031c9be1734c7ab3bc42bfa07590.json87390d2ae28407b3e03e60a6b24a7fd99ed7229a.json5ae641a5bf24b53a895f5f2f04254cc00e909c08.jsond1aafb70c066a2068b02786f8929fd9c900897fb.json\n",
      "\n",
      "a945fe15ef46edadf3f4712668dfc7ee8e5c821d.json\n",
      "\n",
      "09fc4c5e368a43d21f5130cb8474d61d65191dd9.json\n",
      "\n",
      "\n",
      "\n",
      "\n",
      "8a7d5de5ea680e784ab2bd877240bf09e4c1c02d.json\n",
      "894e7274776479bb39a84e5dc363640cd435b369.json\n",
      "5f48792a5fa08bed9f56016f4981ae2ca6031b32.json\n",
      "7ff45096210eeb392d51f646f5c7fe011079aaf3.json\n",
      "505f56215f18a8d205927dd48898f22a336b5b4b.json\n",
      "d617306cda56236d02117ae7a5fc5e7fcd015554.json\n",
      "3bb07ea10432f7738413dff9816809cc90f03f99.json\n",
      "5806726a24dc91de3954001effbdffd7a82d54e2.json\n",
      "6b18c718ecf5fb496443591ba267b2ccae0c2863.json\n",
      "dde02f11923815e6a16a31dd6298c46b109c5dfa.json\n",
      "c63c4d58d170136b8d3b5a66424b5ac3f73a92d9.json\n",
      "348055649b6b8cf2b9a376498df9bf41f7123605.json\n",
      "8b12db91c31cd4a723270f3cbb56f7919581bb02.json\n",
      "90c1ab8b02263998f809915b0629da5aa1cbc47a.json\n",
      "dce8be353f8ed76957af86118e1b77fd82f54292.json\n",
      "d77233dd9085c9c76787c84ee9a1e249424b283a.json\n",
      "0104f6ceccf92ae8567a0102f89cbb976969a774.json6e8517cb25ff228cb48da90a9c97d9c274dc8031.json\n",
      "\n",
      "40e41f0c52b39669dee24e37875d7a9fabc38636.json\n",
      "38fec468e30f4e956339345baeef4f15c7541cf5.json\n",
      "e6184d2db86268ba31e49b03a5aab475d5ce5ca6.json\n",
      "025339bfce1cb8efa81c5accdabefe04dcdac9d2.json\n",
      "8970ef10049816050cb1bc5fbf600865a5996ad4.json\n",
      "7aa3c6793455d0748b58fc6ff75ab336b2863c6c.json\n",
      "3ed670f60a7be2e3e2a991ea8af1fdd5fa5e2b2c.json\n",
      "6c0dee643345c93436cfa8d58270aa887ad92e3d.json\n",
      "45d2d838cb3d5ae2dabd7bb7c82329b398d1c65f.json\n",
      "1e1286db212100993d03cc22374b624f7caee956.json\n",
      "6a8ac55ea2a1fbd99deb683e24dd986e55e707b3.json\n",
      "47dfb70a9174ea549a6850eb64223361ff14e597.json\n",
      "83b05e8afa6cbe7a68170ee155f7eca37c91d51f.json\n",
      "4df2c6eecb985fcb20da3c5ed46e3b910c7077ab.json\n",
      "3c27a29517bd8ab1797aeaa2a84808c29555dc22.json\n",
      "8d7400a2b387820cd391d7df8194642e50402a0c.json\n",
      "06ced00a5fc04215949aa72528f2eeaae1d58927.json\n",
      "e3af2ca43010f59c3d1bb731abd011e3dd0fc51c.json\n",
      "367af6bb9a8bbda02206506a819656bb6f14ce4c.json\n",
      "5b44feca5d6ffaaeb66501fa84cc6dd44d06660a.json\n",
      "59ffca26c9d1f881e4e37e7c5af626d72d858dc4.json\n",
      "6b0567729c2143a66d737eb0a2f63f2dce2e5a7d.json\n",
      "cf584e00f637cbd8f1bb35f3f09f5ed07b71aeb0.json\n",
      "865f101ce80657e1347a4a35dabfa911a3072429.json\n",
      "03203ab50eb64271a9e825f94a1b1a6c46ea14b3.json\n",
      "7d624acf891472c3452b1deb89e0dc44a40d0c94.json\n",
      "d16e1bd4c6cae1bb55dbc695c5e2ba5105a13921.json\n",
      "d09b79026117ec9faebba46a8d13aa9b23ec751e.json\n",
      "14e0cac6e86d62859e6c9f1351ab67466d89e5b3.json\n",
      "c6008b68c8b16e3a6a48a2cb892bac5c9353df86.json\n",
      "a77badb297bf4927419481e660ea8f1806ed91b1.json\n",
      "5b68a553a7cbbea13472721cd1ad617d42b40c26.json\n",
      "017ca5bdac589a37196df7b8e077c4c371ab32da.json\n",
      "cbd8eed5192247d945644651f0a9de6166992567.json\n",
      "d0c6b0c2d387baae89eb2898969913218b3bedff.json\n",
      "867e1b0f6ca8757f2a32a625d99b23888ab40d49.json\n",
      "626347808e0ebaed5176f6a00206c35e48aeb90d.json\n",
      "f1548a1bcf0d81c278b46d24408dc7e63d9ce09d.json\n",
      "184aded923f0ac3cbdbcf74d2a5b42cda0f414c2.json\n",
      "85eb641e06b0d6b1a0b202275add0c5d27e53d71.json\n",
      "30a4842a2e257f725cc041e32fd682c495111a50.json\n",
      "d81ae79ebc6462fd3de075e220992f1aae1f06ae.json\n",
      "72ace5af731fdf4c384e912b074193d13902b7a1.json\n",
      "a9eaa4a3217735fbc02153aeea3f34e9c763e5d3.json\n",
      "f1bbb1b2e330c440acd6ff3d8a0f0d2e5adedd70.json\n",
      "f1d1b9694aa43c837d9b758cb2d45d8a24d293e3.json\n",
      "b2897e1277f56641193a6db73825f707eed3e4c9.json\n",
      "ab1ac4f7b9c57dad5e3d61f72e8e3d552059fa09.json\n",
      "0c3220694f8a18b6dcd64afae28c4784190e4ee6.json\n",
      "b022e6ee1e7b9a0a822b1255c2fa12f81ddc52fd.json\n",
      "26bdc177821e0161d138236656dafefe2f9f6900.json\n",
      "52ce19fe79de46d9bb0fa7e75a0631fed2d3efd2.json\n",
      "3bda17d21aee670c29e22635d622b780820572af.json\n",
      "fe60210f629f9953405917869332d549f39e5a1b.json\n",
      "bb348e16b7b1390554883a8ad0815ec6965c8b2f.json\n",
      "75ebad1e8641e5fe2a51214f4d97742ab59a8dae.json\n",
      "44102e3e69e70ad2a73e753133283334ce1f8736.json\n",
      "18c21db94a22f1358057c6d797164ffe1585b395.json\n",
      "19744eafb1b8520fa460274845713451ad539e91.json\n",
      "98a3b0606a67d829816c1d934e2d1a7196985151.json\n",
      "e3d0d482ebd9a8ba81c254cc433f314142e72174.json\n",
      "dab2d95da5307c840eb4a1e00f0186022541d63d.json\n",
      "93c6eef32a1a511ee989a259eab0e12174dc6859.json\n",
      "8ae137c8da1607b3a8e4c946c07ca8bda67f88ac.json\n",
      "00b1d99e70f779eb4ede50059db469c65e8c1469.json\n",
      "6a3fa8ed278df0d05c5e009521de11c72308f60b.json\n",
      "9d4e3e8eb092d5ed282d0aa4aadcaa8b7165b5e9.json\n",
      "b499a41ad1d85a0e071b59e60065c874e534911d.json\n",
      "23bc55d6f63fab18b02004483888db2b6a0bfa48.json\n",
      "5f04dc1178c4d83e7f673119faa173daf1d19394.json\n",
      "faaf1022ccfe93b032c5608097a53543ba24aedb.json\n",
      "d619c3ceec4db4f3f350c3d5fb3842bd83f04a80.json\n"
     ]
    }
   ],
   "source": [
    "\n",
    "def annotate_doc(article):\n",
    "    \n",
    "    article_filepath = 'sample/' + article  \n",
    "\n",
    "    with open(article_filepath) as input_file:\n",
    "        article_data = json.load(input_file)\n",
    "\n",
    "    doc_output = {'id': str(), 'entities': {}, 'sections': {'title': [], 'abstract': [], 'body': []}}\n",
    "    \n",
    "    doc_output['id'] = article_data['paper_id']\n",
    "   \n",
    "    # Annotate the title\n",
    "    title = article_data['metadata']['title']\n",
    "    title_entities = merpy.get_entities(title, 'do') + merpy.get_entities(title, 'chebi')\n",
    "    doc_output['sections']['title'] = title_entities\n",
    "    \n",
    "    # Annotate the abstract\n",
    "    if article_data['abstract'] != []:\n",
    "        abstract = article_data['abstract'][0]['text']\n",
    "        abstract_entities = merpy.get_entities(abstract, 'do') + merpy.get_entities(abstract, 'chebi')\n",
    "        doc_output['sections']['abstract'] = abstract_entities\n",
    "    \n",
    "    else:\n",
    "        abstract_entities = []\n",
    "\n",
    "    # Combine the several paragraphs of the body text and annotate it\n",
    "    body_text = str()\n",
    "\n",
    "    for section in article_data['body_text']:\n",
    "        body_text += section['text'] + '\\n'\n",
    "\n",
    "    body_entities = merpy.get_entities(body_text, 'do') + merpy.get_entities(body_text, 'chebi')\n",
    "    doc_output['sections']['body'] = body_entities\n",
    "\n",
    "    # Count URIs frequencies and sort them\n",
    "    total_entities = title_entities + abstract_entities + body_entities\n",
    "    all_uris = [entity[3] for entity in total_entities if len(entity)==4]\n",
    "    entity_counter = Counter(all_uris)\n",
    "    \n",
    "    doc_output['entities'] = {\n",
    "        k: v \n",
    "        for k, v in sorted(entity_counter.items(), key=lambda item: item[1], reverse=True)\n",
    "        }\n",
    "    \n",
    "    # Generate JSON file with output\n",
    "    out_filepath = out_dir + doc_output['id'] + '_entities.json'\n",
    "    \n",
    "    with open(out_filepath, 'w') as out_file:\n",
    "        out_file.write(json.dumps(doc_output, indent=4))\n",
    "        \n",
    "\n",
    "article_dir = 'sample/'\n",
    "        \n",
    "with multiprocessing.Pool(processes=10) as pool: \n",
    "    # change the number of processes according to number of cpus/threads\n",
    "    outputs = pool.map(annotate_doc, [article for article in os.listdir(article_dir)], chunksize=10)\n",
    "    pool.close()"
   ]
  },
  {
   "cell_type": "markdown",
   "id": "35a55f11",
   "metadata": {},
   "source": [
    "Now we have both the article files ('sample' dir) and the respective entities files ('sample_entities'), and the next step will be the generation of the scientific recomendation dataset."
   ]
  },
  {
   "cell_type": "markdown",
   "id": "bf4d72b7",
   "metadata": {},
   "source": [
    "## 3. Creating the recommendation dataset"
   ]
  }
 ],
 "metadata": {
  "kernelspec": {
   "display_name": "recsys_scifi",
   "language": "python",
   "name": "recsys_scifi"
  },
  "language_info": {
   "codemirror_mode": {
    "name": "ipython",
    "version": 3
   },
   "file_extension": ".py",
   "mimetype": "text/x-python",
   "name": "python",
   "nbconvert_exporter": "python",
   "pygments_lexer": "ipython3",
   "version": "3.6.13"
  }
 },
 "nbformat": 4,
 "nbformat_minor": 5
}
