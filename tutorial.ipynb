{
 "cells": [
  {
   "cell_type": "markdown",
   "id": "177684b5",
   "metadata": {},
   "source": [
    "# Tutorial: Creating Recommender Systems Datasets in Scientific Fields\n",
    "\n",
    "\n",
    "<ul>\n",
    "    <li><a href=\"#1\">1. Data retrieval and cleaning</a></li>\n",
    "</ul>\n",
    "   \n",
    "<ul>\n",
    "   <li>&nbsp;&nbsp;&nbsp;&nbsp;&nbsp;&nbsp;&nbsp;&nbsp;<a href=\"#1.1\">1.1.Import libraries</a></li>\n",
    "</ul>\n",
    "\n",
    "<ul>\n",
    "   <li>&nbsp;&nbsp;&nbsp;&nbsp;&nbsp;&nbsp;&nbsp;&nbsp;<a href=\"#1.2\">1.2. Retrieve CORD-19</a></li>\n",
    "</ul>\n",
    "\n",
    "<ul>\n",
    "   <li>&nbsp;&nbsp;&nbsp;&nbsp;&nbsp;&nbsp;&nbsp;&nbsp;<a href=\"#1.3\">1.3. Exploring the articles of the dataset</a></li>\n",
    "</ul>\n",
    "\n",
    "<ul>\n",
    "   <li>&nbsp;&nbsp;&nbsp;&nbsp;&nbsp;&nbsp;&nbsp;&nbsp;<a href=\"#1.4\">1.4. Selecting a sample of articles to build our scientific recommendation dataset</a></li>\n",
    "</ul>\n",
    "\n",
    "<ul>\n",
    "   <li><a href=\"#2\">2. Named Entity Recognition (NER) + Named Entity Linking (NEL)</a></li>\n",
    "</ul>\n",
    "\n",
    "<ul>\n",
    "   <li>&nbsp;&nbsp;&nbsp;&nbsp;&nbsp;&nbsp;&nbsp;&nbsp;<a href=\"#2.1\">2.1. Import libraries</a></li>\n",
    "</ul>\n",
    "\n",
    "<ul>\n",
    "   <li>&nbsp;&nbsp;&nbsp;&nbsp;&nbsp;&nbsp;&nbsp;&nbsp;<a href=\"#2.2\">2.2. Configure MER</a></li>\n",
    "</ul>\n",
    "\n",
    "<ul>\n",
    "   <li>&nbsp;&nbsp;&nbsp;&nbsp;&nbsp;&nbsp;&nbsp;&nbsp;<a href=\"#2.3\">2.3. Import stop words vocabulary and tokenizer</a></li>\n",
    "</ul>\n",
    "\n",
    "\n",
    "<ul>\n",
    "   <li>&nbsp;&nbsp;&nbsp;&nbsp;&nbsp;&nbsp;&nbsp;&nbsp;<a href=\"#2.4\">2.4. Extract the entities in a single file</a></li>\n",
    "</ul>\n",
    "\n",
    "<ul>\n",
    "   <li>&nbsp;&nbsp;&nbsp;&nbsp;&nbsp;&nbsp;&nbsp;&nbsp;<a href=\"#2.5\">2.5. Create entity files</a></li>\n",
    "</ul>\n",
    "\n",
    "<ul>\n",
    "   <li><a href=\"#3\">3. Creating the recommendation dataset</a></li>\n",
    "</ul>\n",
    "\n",
    "<ul>\n",
    "   <li>&nbsp;&nbsp;&nbsp;&nbsp;&nbsp;&nbsp;&nbsp;&nbsp;<a href=\"#3.1\">3.1. Import libraries</a></li>\n",
    "</ul>\n",
    "\n",
    "<ul>\n",
    "   <li>&nbsp;&nbsp;&nbsp;&nbsp;&nbsp;&nbsp;&nbsp;&nbsp;<a href=\"#3.2\">3.2. Get all articles id that cannot be considered in use case: blacklist </a></li>\n",
    "</ul>\n",
    "\n",
    "<ul>\n",
    "   <li>&nbsp;&nbsp;&nbsp;&nbsp;&nbsp;&nbsp;&nbsp;&nbsp;<a href=\"#3.3\">3.3. Create the dataset like < user, item, rating, year> </a></li>\n",
    "</ul>\n",
    "\n",
    "\n",
    "<ul>\n",
    "   <li>&nbsp;&nbsp;&nbsp;&nbsp;&nbsp;&nbsp;&nbsp;&nbsp;<a href=\"#3.4\">3.4. Get entities labels</a></li>\n",
    "</ul>\n",
    "\n",
    "<ul>\n",
    "   <li>&nbsp;&nbsp;&nbsp;&nbsp;&nbsp;&nbsp;&nbsp;&nbsp;<a href=\"#3.5\">3.5. Save data</a></li>\n",
    "</ul>\n",
    "\n",
    "<ul>\n",
    "   <li><a href=\"#4\">4. Data statistics</a></li>\n",
    "</ul>\n",
    "\n",
    "\n",
    "\n",
    "\n",
    "\n",
    "\n",
    "\n",
    "\n",
    "\n",
    "\n",
    "\n",
    "\n",
    "\n",
    "\n",
    "\n"
   ]
  },
  {
   "cell_type": "markdown",
   "id": "8097c2f0",
   "metadata": {},
   "source": [
    "<a id=\"1\"></a>\n",
    "\n",
    "## 1. Data retrieval + cleaning\n",
    "\n",
    "**Goal**: To retrieve the [COVID-19 Open Research Dataset (CORD-19)](https://www.semanticscholar.org/cord19) and to select a sample of complete English articles (authors' info, title, body text) to build a scientific recommendation dataset.\n",
    "\n",
    "CORD-19 includes coronavirus-related research articles extracted from several sources, such as PubMed, bioRxiv, medRxiv, WHO."
   ]
  },
  {
   "cell_type": "markdown",
   "id": "99c25a8f",
   "metadata": {},
   "source": [
    "<a id=\"1.1\"></a>\n",
    "### 1.1 Import libraries"
   ]
  },
  {
   "cell_type": "code",
   "execution_count": 1,
   "id": "cded02f4",
   "metadata": {},
   "outputs": [],
   "source": [
    "import json\n",
    "import os\n",
    "import pandas as pd\n",
    "import requests\n",
    "import sys\n",
    "import langdetect\n",
    "from langdetect import detect\n",
    "sys.path.append(\"./\")"
   ]
  },
  {
   "cell_type": "markdown",
   "id": "d25be4cb",
   "metadata": {},
   "source": [
    "<a id=\"1.2\"></a>\n",
    "### 1.2. Retrieve CORD-19\n",
    "\n",
    "CORD-19 is a large dataset, so in this tutorial we are going to use a smaller version of the dataset. \n",
    "This version is located under the directory \"cord19_small\":"
   ]
  },
  {
   "cell_type": "code",
   "execution_count": 32,
   "id": "91cc0691",
   "metadata": {},
   "outputs": [],
   "source": [
    "os.chdir('data')\n",
    "os.system('tar -xvf cord19_small.tar.xz')\n",
    "os.chdir('../')"
   ]
  },
  {
   "cell_type": "markdown",
   "id": "29f747c3",
   "metadata": {},
   "source": [
    "However, if you want to retrieve the entire dataset, you can run the following code:"
   ]
  },
  {
   "cell_type": "code",
   "execution_count": null,
   "id": "076c9877",
   "metadata": {},
   "outputs": [],
   "source": [
    "os.chdir('data')\n",
    "         \n",
    "version = 'cord-19_2020-05-12.tar.gz'\n",
    "\n",
    "url = 'https://ai2-semanticscholar-cord-19.s3-us-west-2.amazonaws.com/historical_releases/' + version\n",
    "\n",
    "response = requests.get(url)\n",
    "\n",
    "os.system('tar -xvf cord-19_2020-05-12.tar.gz')\n",
    "os.chdir('../')"
   ]
  },
  {
   "cell_type": "markdown",
   "id": "6b418d7a",
   "metadata": {},
   "source": [
    "Let's explore the contents of the dataset directory, particularly, the metadata file."
   ]
  },
  {
   "cell_type": "code",
   "execution_count": null,
   "id": "855ebd7c",
   "metadata": {},
   "outputs": [],
   "source": [
    "dataset_dir = 'data/cord19_small/'\n",
    "metadata_filepath = dataset_dir + 'metadata.csv'\n",
    "\n",
    "metadata = pd.read_csv(metadata_filepath, sep = ',', quotechar = '\"',  encoding = 'utf-8', dtype=str) "
   ]
  },
  {
   "cell_type": "markdown",
   "id": "f3b3e99b",
   "metadata": {},
   "source": [
    "Now we have a DataFrame with the contents of the metadata file."
   ]
  },
  {
   "cell_type": "markdown",
   "id": "6122389b",
   "metadata": {},
   "source": [
    "To print column names and first row:"
   ]
  },
  {
   "cell_type": "code",
   "execution_count": null,
   "id": "5f29e9c0",
   "metadata": {},
   "outputs": [],
   "source": [
    "metadata.head(1)"
   ]
  },
  {
   "cell_type": "markdown",
   "id": "55f2c80e",
   "metadata": {},
   "source": [
    "To access individual rows/articles:"
   ]
  },
  {
   "cell_type": "code",
   "execution_count": null,
   "id": "72642519",
   "metadata": {},
   "outputs": [],
   "source": [
    "metadata.loc[0]"
   ]
  },
  {
   "cell_type": "markdown",
   "id": "f5cae5a6",
   "metadata": {},
   "source": [
    "To access the individual column title':"
   ]
  },
  {
   "cell_type": "code",
   "execution_count": null,
   "id": "bff9e436",
   "metadata": {},
   "outputs": [],
   "source": [
    "metadata['title']"
   ]
  },
  {
   "cell_type": "markdown",
   "id": "473a4ef5",
   "metadata": {},
   "source": [
    "Let's check the summary statistics:"
   ]
  },
  {
   "cell_type": "code",
   "execution_count": null,
   "id": "530e259c",
   "metadata": {},
   "outputs": [],
   "source": [
    "metadata.count()"
   ]
  },
  {
   "cell_type": "markdown",
   "id": "b8452d22",
   "metadata": {},
   "source": [
    "By looking at the statistics, we can see that the number of records with data for the column 'cord_uid' is higher than the number of records with data for the column 'authors'. \n",
    "\n",
    "For our dataset, we only want to include articles with the following characteristics:\n",
    "- authors' information\n",
    "- available title\n",
    "- available body text\n",
    "- article text expressed in English\n",
    "- non-duplicate articles"
   ]
  },
  {
   "cell_type": "markdown",
   "id": "f624361a",
   "metadata": {},
   "source": [
    "<a id=\"1.3\"></a>\n",
    "\n",
    "### 1.3. Exploring the articles of the dataset"
   ]
  },
  {
   "cell_type": "markdown",
   "id": "ca80759d",
   "metadata": {},
   "source": [
    "Let's consider the first article appearing in the metadata file.\n",
    "To check if information about the article's author is available:"
   ]
  },
  {
   "cell_type": "code",
   "execution_count": null,
   "id": "77fb06eb",
   "metadata": {},
   "outputs": [],
   "source": [
    "metadata.loc[0]['authors']"
   ]
  },
  {
   "cell_type": "markdown",
   "id": "df8f16a7",
   "metadata": {},
   "source": [
    "To check if there is an available title:"
   ]
  },
  {
   "cell_type": "code",
   "execution_count": null,
   "id": "c4d88ae1",
   "metadata": {},
   "outputs": [],
   "source": [
    "metadata.loc[0]['title']"
   ]
  },
  {
   "cell_type": "markdown",
   "id": "3578dc23",
   "metadata": {},
   "source": [
    "We can see that the title is expressed in English, but it would not be efficient to check the language of every article in the dataset, so we will apply the language detection tool [langdetect](https://pypi.org/project/langdetect/):"
   ]
  },
  {
   "cell_type": "code",
   "execution_count": null,
   "id": "6da51869",
   "metadata": {},
   "outputs": [],
   "source": [
    "title1 = metadata.loc[0]['title']\n",
    "\n",
    "title1_lang = detect(title1)\n",
    "\n",
    "print(\"Title:\", title1, \"\\nLanguage:\", title1_lang)"
   ]
  },
  {
   "cell_type": "markdown",
   "id": "d539f8f4",
   "metadata": {},
   "source": [
    "The tool detects English as the language of the title.\n",
    "\n",
    "Let's check another article:"
   ]
  },
  {
   "cell_type": "code",
   "execution_count": null,
   "id": "a3265ab5",
   "metadata": {},
   "outputs": [],
   "source": [
    "title2 = metadata.loc[199]['title']\n",
    "\n",
    "title2_lang = detect(title2)\n",
    "\n",
    "print(\"Title:\", title2, \"\\nLanguage:\", title2_lang)"
   ]
  },
  {
   "cell_type": "markdown",
   "id": "f267146e",
   "metadata": {},
   "source": [
    "In this case, the tool detects german ('de') as the language of the title."
   ]
  },
  {
   "cell_type": "markdown",
   "id": "7f0cf077",
   "metadata": {},
   "source": [
    "Now, we want to check if there is an available abstract for the first article:"
   ]
  },
  {
   "cell_type": "code",
   "execution_count": null,
   "id": "77f42a82",
   "metadata": {},
   "outputs": [],
   "source": [
    "metadata.loc[0]['abstract']"
   ]
  },
  {
   "cell_type": "markdown",
   "id": "0c0fff2a",
   "metadata": {},
   "source": [
    "The metadata file does not contain the article's text besides abstract and title, but we can access the file associated with the article using the provided information in the columns 'pdf_json_files' or 'pmc_json_files':"
   ]
  },
  {
   "cell_type": "code",
   "execution_count": null,
   "id": "6467a92c",
   "metadata": {},
   "outputs": [],
   "source": [
    "metadata.loc[0]['pdf_json_files']"
   ]
  },
  {
   "cell_type": "markdown",
   "id": "8a624f72",
   "metadata": {},
   "source": [
    "Let's open the file, which is in [JSON](https://www.json.org/json-en.html) format:"
   ]
  },
  {
   "cell_type": "code",
   "execution_count": null,
   "id": "84291429",
   "metadata": {},
   "outputs": [],
   "source": [
    "article1_filepath = dataset_dir + metadata.loc[0]['pdf_json_files']\n",
    "\n",
    "with open(article1_filepath, encoding='utf-8') as article1_file:\n",
    "    article1_data = json.load(article1_file)"
   ]
  },
  {
   "cell_type": "markdown",
   "id": "d2743f2d",
   "metadata": {},
   "source": [
    "Now we have the file content stored in a dictionary with the following keys:"
   ]
  },
  {
   "cell_type": "code",
   "execution_count": null,
   "id": "e1717783",
   "metadata": {},
   "outputs": [],
   "source": [
    "article1_data.keys()"
   ]
  },
  {
   "cell_type": "markdown",
   "id": "860b8712",
   "metadata": {},
   "source": [
    "The article content is the following:"
   ]
  },
  {
   "cell_type": "code",
   "execution_count": null,
   "id": "9fc090f3",
   "metadata": {},
   "outputs": [],
   "source": [
    "article1_data"
   ]
  },
  {
   "cell_type": "markdown",
   "id": "694d3fa6",
   "metadata": {},
   "source": [
    "Let's check the body text:"
   ]
  },
  {
   "cell_type": "code",
   "execution_count": null,
   "id": "5b8dece0",
   "metadata": {},
   "outputs": [],
   "source": [
    "body_text = article1_data['body_text']\n",
    "body_text"
   ]
  },
  {
   "cell_type": "markdown",
   "id": "7d9c135c",
   "metadata": {},
   "source": [
    "We have a list of dictionaries, each dictionary is a paragraph belonging to a given section of the article. We want to join the different parts text in a single string: "
   ]
  },
  {
   "cell_type": "code",
   "execution_count": null,
   "id": "b073afe3",
   "metadata": {},
   "outputs": [],
   "source": [
    "article1_text = str()\n",
    "\n",
    "for paragraph in body_text:\n",
    "    article1_text += paragraph['text'] + '\\n'\n",
    "\n",
    "article1_text"
   ]
  },
  {
   "cell_type": "markdown",
   "id": "2e45cb52",
   "metadata": {},
   "source": [
    "All good! We will include this article in our dataset."
   ]
  },
  {
   "cell_type": "markdown",
   "id": "71bfab05",
   "metadata": {},
   "source": [
    "<a id=\"1.4\"></a>\n",
    "\n",
    "### 1.4. Selecting a sample of articles to build our scientific recommendation dataset"
   ]
  },
  {
   "cell_type": "markdown",
   "id": "15129878",
   "metadata": {},
   "source": [
    "Instead of repating each operation for each file individually, let us adapt our code to automatically select a sample containing 100 preprocessed articles. "
   ]
  },
  {
   "cell_type": "markdown",
   "id": "187202e7",
   "metadata": {},
   "source": [
    "First, create the output directory:"
   ]
  },
  {
   "cell_type": "code",
   "execution_count": 33,
   "id": "5ab43435",
   "metadata": {},
   "outputs": [],
   "source": [
    "out_dir = 'data/sample/'\n",
    "\n",
    "if not os.path.exists(out_dir):\n",
    "    os.mkdir(out_dir)"
   ]
  },
  {
   "cell_type": "markdown",
   "id": "c89d8efb",
   "metadata": {},
   "source": [
    "Then, initiallize the necessary variables:"
   ]
  },
  {
   "cell_type": "code",
   "execution_count": 34,
   "id": "a2d86660",
   "metadata": {},
   "outputs": [],
   "source": [
    "max_articles = 100 #number of articles to include in the sample\n",
    "dataset_dir = 'data/cord19_small/'\n",
    "metadata_filepath = dataset_dir + 'metadata.csv'\n",
    "valid_articles_count = int()\n",
    "out_articles_ids = list()"
   ]
  },
  {
   "cell_type": "markdown",
   "id": "34adc416",
   "metadata": {},
   "source": [
    "Open the metadata file:"
   ]
  },
  {
   "cell_type": "code",
   "execution_count": 35,
   "id": "ca109b05",
   "metadata": {},
   "outputs": [],
   "source": [
    "metadata = pd.read_csv(metadata_filepath, sep = ',', quotechar = '\"',  encoding = 'utf-8', dtype=str) "
   ]
  },
  {
   "cell_type": "markdown",
   "id": "64a6ef90",
   "metadata": {},
   "source": [
    "Then iterate over the records in the metadata file and choose only the relevant ones:"
   ]
  },
  {
   "cell_type": "code",
   "execution_count": 36,
   "id": "49847969",
   "metadata": {},
   "outputs": [
    {
     "name": "stdout",
     "output_type": "stream",
     "text": [
      "Invalid articles: 1\n"
     ]
    }
   ],
   "source": [
    "valid_articles_count = int()\n",
    "blacklist = str()\n",
    "blacklist_count = int()\n",
    "\n",
    "for index, record in metadata.iterrows():\n",
    "    invalid_article = True\n",
    "    \n",
    "    if valid_articles_count <= max_articles:\n",
    "        \n",
    "        if record['pubmed_id'] not in out_articles_ids:\n",
    "            \n",
    "            if type(record['sha']) != float:\n",
    "\n",
    "                if record['authors'] != '':    \n",
    "\n",
    "                    if record['title'] != '':\n",
    "                        title = record['title']\n",
    "                        title_lang = detect(title)\n",
    "                        article_filepath = record['pdf_json_files']\n",
    "                        \n",
    "                        if article_filepath != '': # to consider onyl articles from the pdf_json directory\n",
    "\n",
    "                            if title_lang == 'en'  \\\n",
    "                                and type(article_filepath) != float  \\\n",
    "                                and article_filepath.count(\"document\") == 1:\n",
    "\n",
    "                                article_filepath_up = dataset_dir + record['pdf_json_files']\n",
    "\n",
    "                                with open(article_filepath_up, encoding='utf-8') as article_file:\n",
    "                                    article_data = json.load(article_file)\n",
    "\n",
    "                                if 'body_text' in article_data.keys(): # the article is valid\n",
    "                                    valid_articles_count += 1\n",
    "                                    invalid_article = False\n",
    "\n",
    "                                    # open the article file to check if it contains all info\n",
    "                                    with open(article_filepath_up) as article_file:\n",
    "                                        article_data = json.load(article_file)\n",
    "\n",
    "                                    # correct the info of the article with info present in metadata file\n",
    "                                    changed_article = False\n",
    "\n",
    "                                    if article_data['metadata']['title'] == '':\n",
    "                                        article_data['metadata']['title'] = record['title']\n",
    "                                        changed_article = True\n",
    "\n",
    "                                    if article_data['metadata']['authors'] == []:\n",
    "                                        authors = record['authors'].split(';')   \n",
    "                                        \n",
    "                                        add_author = {\n",
    "                                                     'first': '', 'middle': [], 'last': '',\n",
    "                                                     'suffix': '', 'affiliation': {}, 'email': ''\n",
    "                                                     }\n",
    "                                        authors_up = list()            \n",
    "                                        \n",
    "                                        for author in authors:\n",
    "                                            add_author['last'] = author.split(',')[0]\n",
    "                                            \n",
    "                                            begin_names = author.split(',')[1].split(' ')\n",
    "                                            add_author['first'] = begin_names[1]\n",
    "                                            \n",
    "                                            if len(begin_names) == 3:\n",
    "                                                add_author['middle'] = [begin_names[2]]\n",
    "                                            \n",
    "                                            authors_up.append(add_author)\n",
    "                                            \n",
    "                                        article_data['metadata']['authors'] = authors_up\n",
    "                                        changed_article = True\n",
    "                                        \n",
    "                                    # output or copy article file to out_dir\n",
    "                                    if changed_article:\n",
    "                                      \n",
    "                                        with open(out_dir + record['sha'] + '.json', 'w') as out_file:\n",
    "                                            out_file.write(json.dumps(article_data, indent=4, ensure_ascii=False))\n",
    "\n",
    "                                    else:\n",
    "                                        command = 'cp '  \\\n",
    "                                                  + article_filepath_up + ' ' \\\n",
    "                                                  + out_dir  \\\n",
    "                                                  + record['sha'] + '.json'\n",
    "\n",
    "                                        os.system(command)\n",
    "        \n",
    "        if invalid_article: # store article pubmed id in blacklist file\n",
    "            blacklist += record['pubmed_id'] + \"\\n\"\n",
    "            blacklist_count += 1\n",
    "            \n",
    "    if valid_articles_count == max_articles:\n",
    "        total_articles = index + 1\n",
    "        break\n",
    "\n",
    "#Create blacklist file with info about invalid articles\n",
    "with open('data/blacklist/blacklist_articles.txt', 'w') as blacklist_file:\n",
    "    blacklist_file.write(blacklist)\n",
    "    blacklist_file.close()\n",
    "\n",
    "print(\"Invalid articles:\", str(blacklist_count))"
   ]
  },
  {
   "cell_type": "markdown",
   "id": "a873b08b",
   "metadata": {},
   "source": [
    "If you were not able to run the code, you can uncompress the file 'sample.tar.xz' under 'data' directory."
   ]
  },
  {
   "cell_type": "markdown",
   "id": "64d1465e",
   "metadata": {},
   "source": [
    "Let's check if the output directory contain the desired number of articles (max_articles):"
   ]
  },
  {
   "cell_type": "code",
   "execution_count": 37,
   "id": "aebb6a60",
   "metadata": {},
   "outputs": [],
   "source": [
    "article_count = len(os.listdir(out_dir))\n",
    "assert article_count == max_articles, 'Invalid number of article(s): {}! Expected number: {}'.format(article_count, max_articles)"
   ]
  },
  {
   "cell_type": "markdown",
   "id": "b147d4cf",
   "metadata": {},
   "source": [
    "At the end of this section, we now have a sample including 100 articles that will be the basis of our scientific recommendation dataset."
   ]
  },
  {
   "cell_type": "markdown",
   "id": "34c1fc55",
   "metadata": {},
   "source": [
    "<a id=\"2\"></a>\n",
    "\n",
    "## 2. Named Entity Recognition (NER) + Named Entity Linking (NEL)\n",
    "\n",
    "**Goal**: To recognize chemical and disease entities in the retrieved articles and to link them to the respective ontology identifiers.\n",
    "\n",
    "We are going to use the [Disease Ontology](https://disease-ontology.org/) (DO), and the [Chemical Entities of Biological Interest](https://www.ebi.ac.uk/chebi/) (ChEBI) ontology.\n",
    "\n",
    "To perform NER and NEL, we are going to apply Minimal Named-Entity Recognizer [MER](https://pypi.org/project/merpy/) tool."
   ]
  },
  {
   "cell_type": "markdown",
   "id": "f3efbac7",
   "metadata": {},
   "source": [
    "<a id=\"2.1\"></a>\n",
    "### 2.1. Import libraries"
   ]
  },
  {
   "cell_type": "code",
   "execution_count": 38,
   "id": "7939238d",
   "metadata": {},
   "outputs": [],
   "source": [
    "import merpy\n",
    "import multiprocessing\n",
    "from collections import Counter"
   ]
  },
  {
   "cell_type": "markdown",
   "id": "4ad2580a",
   "metadata": {},
   "source": [
    "<a id=\"2.2\"></a>\n",
    "### 2.2. Configure MER"
   ]
  },
  {
   "cell_type": "markdown",
   "id": "a26626ff",
   "metadata": {},
   "source": [
    "First, we are going to download the ontologies files:"
   ]
  },
  {
   "cell_type": "code",
   "execution_count": 43,
   "id": "ca096f4c",
   "metadata": {},
   "outputs": [
    {
     "name": "stdout",
     "output_type": "stream",
     "text": [
      "wrote doid lexicon\n",
      "wrote chebi lexicon\n"
     ]
    }
   ],
   "source": [
    "os.chdir('data/ontologies')\n",
    "\n",
    "#Donwload DO (2021-06-03 version)\n",
    "os.system('wget https://raw.githubusercontent.com/DiseaseOntology/HumanDiseaseOntology/v2021-06-03/src/ontology/releases/doid.owl')\n",
    "merpy.download_lexicon('https://raw.githubusercontent.com/DiseaseOntology/HumanDiseaseOntology/v2021-06-03/src/ontology/releases/doid.owl',\n",
    "                       'doid', ltype='owl')\n",
    "\n",
    "#Donwload ChEBI (2021-07-01 version)\n",
    "os.system('wget ftp://ftp.ebi.ac.uk/pub/databases/chebi/archive/rel201/ontology/chebi_lite.owl.gz')\n",
    "os.system ('gzip -d chebi_lite.owl.gz')\n",
    "merpy.download_lexicon('ftp://ftp.ebi.ac.uk/pub/databases/chebi/archive/rel201/ontology/chebi_lite.owl',\n",
    "                       'chebi', ltype='owl')\n",
    "\n",
    "os.chdir('../../')"
   ]
  },
  {
   "cell_type": "markdown",
   "id": "993a92e8",
   "metadata": {},
   "source": [
    "Then, we need to process the downloaded files into lexicons that MER can use:"
   ]
  },
  {
   "cell_type": "code",
   "execution_count": 113,
   "id": "c2d55b6e",
   "metadata": {},
   "outputs": [
    {
     "name": "stderr",
     "output_type": "stream",
     "text": [
      "================\n",
      "z.val.ala.asp.ome..ch2f\n",
      "z.val.phe.h\n",
      "zwitterion\n",
      "zygadenine\n",
      "zymosterol\n",
      ".z.z..2.9.16.heptadecatriene.4.6.diyn.8.ol\n",
      ".z.z..alpha.farnesene\n",
      ".z.z.z..geranylgeraniol\n",
      ".z.z.z..icosa.8.11.14.trienoylethanolamide\n",
      ".z.z.z..octadeca.4.7.10.trienenitrile\n",
      "================\n",
      "zwitterionic group\n",
      "....zwittermicin a\n",
      "....zwittermicin a\n",
      "zwittermicin a\n",
      "zxi 8901\n",
      "zymonic acid\n",
      "zymosterol ester\n",
      "zymosteryl oleate\n",
      "zymosteryl palmitoleate\n",
      ".z.z..3.chloromuconic acid\n",
      "================\n",
      "zinc sulfate hexahydrate\n",
      "ziprasidone hydrochloride hydrate\n",
      "ziprasidone mesylate trihydrate\n",
      "zirconium coordination entity\n",
      "zirconium molecular entity\n",
      ".z..methyl 3..methylsulfinyl..1.propenyl disulfide\n",
      "zucchini factor b\n",
      "zwitterionic polysialic acid acetylated at o.9\n",
      "zymosterol intermediate 1c\n",
      "zymosterol intermediate 2\n",
      "================\n",
      "zinc oxide\n",
      "zinc sulfate\n",
      "ziprasidone hydrochloride\n",
      "ziprasidone mesylate\n",
      "zirconium coordination\n",
      "zirconium molecular\n",
      ".z..methyl 3..methylsulfinyl..1.propenyl\n",
      "zucchini factor\n",
      "zwitterionic polysialic\n",
      "zymosterol intermediate\n",
      "================\n",
      " \n",
      "================\n",
      "xpid\n",
      "xpv\n",
      "xrn\n",
      "xscid\n",
      "yaba\n",
      "yaws\n",
      "zaspopathy\n",
      "zoophilia\n",
      "zoophobia\n",
      "zygomycosis\n",
      "================\n",
      "zellweger syndrome\n",
      "zemuron allergy\n",
      "zika fever\n",
      "zinacef allergy\n",
      "zinsser.cole.engman syndrome\n",
      "zlotogora.ogur syndrome\n",
      "zlotogora.zilberman.tenenbaum syndrome\n",
      "zollinger.ellison syndrome\n",
      "zunich.kaye syndrome\n",
      "zygodactyly 1\n",
      "================\n",
      "yolk sac tumour\n",
      "yolk sac tumour of the cns\n",
      "young adult.onset dhmn\n",
      "young adult.onset distal hereditary motor neuropathy\n",
      "zeta.associated.protein 70 deficiency\n",
      "zika virus congenital syndrome\n",
      "zika virus disease\n",
      "zikv congenital infection\n",
      "ziziphus mauritiana fruit allergy\n",
      "zunich neuroectodermal syndrome\n",
      "================\n",
      "y.linked monogenic\n",
      "y.linked sertoli\n",
      "y.linked spermatogenic\n",
      "yolk sac\n",
      "young adult.onset\n",
      "zeta.associated.protein 70\n",
      "zika virus\n",
      "zikv congenital\n",
      "ziziphus mauritiana\n",
      "zunich neuroectodermal\n",
      "================\n",
      " \n"
     ]
    }
   ],
   "source": [
    "merpy.process_lexicon(\"chebi\", ltype=\"owl\")\n",
    "\n",
    "merpy.process_lexicon(\"doid\", ltype=\"owl\")"
   ]
  },
  {
   "cell_type": "markdown",
   "id": "3ccc2a04",
   "metadata": {},
   "source": [
    "We are going to delete obsolete concepts still present in the ontologies file:"
   ]
  },
  {
   "cell_type": "code",
   "execution_count": 115,
   "id": "c7495d90",
   "metadata": {},
   "outputs": [],
   "source": [
    "merpy.delete_obsolete(\"chebi\")\n",
    "\n",
    "merpy.delete_obsolete(\"doid\")"
   ]
  },
  {
   "cell_type": "markdown",
   "id": "bb7def60",
   "metadata": {},
   "source": [
    "We need to repeat the operations for the DO:"
   ]
  },
  {
   "cell_type": "markdown",
   "id": "9b87a5d6",
   "metadata": {},
   "source": [
    "Let's check the lexicons available for MER:"
   ]
  },
  {
   "cell_type": "code",
   "execution_count": 116,
   "id": "6a90ef95",
   "metadata": {},
   "outputs": [
    {
     "name": "stdout",
     "output_type": "stream",
     "text": [
      "lexicons preloaded:\n",
      "['lexicon', 'doid', 'chebi']\n",
      "\n",
      "lexicons loaded ready to use:\n",
      "['chebi', 'doid']\n",
      "\n",
      "lexicons with linked concepts:\n",
      "['doid', 'lexicon', 'chebi']\n"
     ]
    }
   ],
   "source": [
    "merpy.show_lexicons()"
   ]
  },
  {
   "cell_type": "markdown",
   "id": "bcd5b644",
   "metadata": {},
   "source": [
    "<a id=\"2.3\"></a>\n",
    "### 2.3. Import stop words vocabulary and tokenizer"
   ]
  },
  {
   "cell_type": "markdown",
   "id": "a6907f71",
   "metadata": {},
   "source": [
    "Stop words are common words of a given language (for example the words 'the', 'and', 'in'). A typical pre-processing step is to tokenize the text and remove the stopwords. For that, we are going to import NLTK's list of english stopwords and use the NLTK tokenizer."
   ]
  },
  {
   "cell_type": "code",
   "execution_count": 39,
   "id": "1a5e3967",
   "metadata": {},
   "outputs": [
    {
     "name": "stderr",
     "output_type": "stream",
     "text": [
      "[nltk_data] Downloading package punkt to /home/pruas/nltk_data...\n",
      "[nltk_data]   Package punkt is already up-to-date!\n",
      "[nltk_data] Downloading package stopwords to /home/pruas/nltk_data...\n",
      "[nltk_data]   Package stopwords is already up-to-date!\n"
     ]
    }
   ],
   "source": [
    "import nltk \n",
    "nltk.download('punkt')\n",
    "\n",
    "from nltk.corpus import stopwords\n",
    "\n",
    "nltk.download('stopwords')\n",
    "\n",
    "from nltk.tokenize import word_tokenize\n",
    "\n",
    "all_stopwords = stopwords.words('english')"
   ]
  },
  {
   "cell_type": "markdown",
   "id": "9c669813",
   "metadata": {},
   "source": [
    "We are going to extend the stop words vocabulary by adding stop words associated with ChEBI and DO:"
   ]
  },
  {
   "cell_type": "code",
   "execution_count": 40,
   "id": "eb828758",
   "metadata": {},
   "outputs": [],
   "source": [
    "kbs_stopwords = list()\n",
    "blacklist_dir = 'data/blacklist/'\n",
    "filenames = ['chebi.txt', 'doid.txt']\n",
    "\n",
    "for filename in filenames:\n",
    "    \n",
    "    with open(blacklist_dir + filename, 'r') as backlist_file:\n",
    "        stopwords = [content.strip('\\n') for content in backlist_file.readlines()]\n",
    "        kbs_stopwords.extend(stopwords)\n",
    "        backlist_file.close()\n",
    "\n",
    "#Extend stop words vocabulary with the retrieved KBs stopwords\n",
    "all_stopwords.extend(kbs_stopwords)"
   ]
  },
  {
   "cell_type": "markdown",
   "id": "350b04f7",
   "metadata": {},
   "source": [
    "<a id=\"2.4\"></a>\n",
    "### 2.4. Extract the entities in a single file"
   ]
  },
  {
   "cell_type": "markdown",
   "id": "2a2ae7f2",
   "metadata": {},
   "source": [
    "Let's retrieve a file from the articles sample:"
   ]
  },
  {
   "cell_type": "code",
   "execution_count": 119,
   "id": "dd435586",
   "metadata": {},
   "outputs": [],
   "source": [
    "dataset_dir = 'data/sample/'\n",
    "\n",
    "with open(dataset_dir + '87390d2ae28407b3e03e60a6b24a7fd99ed7229a.json') as article1_file:\n",
    "    article_data = json.load(article1_file)"
   ]
  },
  {
   "cell_type": "markdown",
   "id": "59bda81b",
   "metadata": {},
   "source": [
    "Let's check the contents of the article:"
   ]
  },
  {
   "cell_type": "code",
   "execution_count": 120,
   "id": "cc1034f5",
   "metadata": {},
   "outputs": [
    {
     "data": {
      "text/plain": [
       "dict_keys(['paper_id', 'metadata', 'abstract', 'body_text', 'bib_entries', 'ref_entries', 'back_matter'])"
      ]
     },
     "execution_count": 120,
     "metadata": {},
     "output_type": "execute_result"
    }
   ],
   "source": [
    "article_data.keys()"
   ]
  },
  {
   "cell_type": "markdown",
   "id": "a3b7711a",
   "metadata": {},
   "source": [
    "We want to recognize the entities present in title, abstract, and body. "
   ]
  },
  {
   "cell_type": "markdown",
   "id": "c355ba4d",
   "metadata": {},
   "source": [
    "First, let's retrieve the title, which is a value associated with the key 'metadata':"
   ]
  },
  {
   "cell_type": "code",
   "execution_count": 121,
   "id": "06883dae",
   "metadata": {},
   "outputs": [
    {
     "data": {
      "text/plain": [
       "'Pro/con clinical debate: Steroids are a key component in the treatment of SARS'"
      ]
     },
     "execution_count": 121,
     "metadata": {},
     "output_type": "execute_result"
    }
   ],
   "source": [
    "title = article_data['metadata']['title']\n",
    "title"
   ]
  },
  {
   "cell_type": "markdown",
   "id": "bef72732",
   "metadata": {},
   "source": [
    "Let's tokenize the title:"
   ]
  },
  {
   "cell_type": "code",
   "execution_count": 122,
   "id": "9fb48f02",
   "metadata": {},
   "outputs": [
    {
     "data": {
      "text/plain": [
       "['Pro/con',\n",
       " 'clinical',\n",
       " 'debate',\n",
       " ':',\n",
       " 'Steroids',\n",
       " 'are',\n",
       " 'a',\n",
       " 'key',\n",
       " 'component',\n",
       " 'in',\n",
       " 'the',\n",
       " 'treatment',\n",
       " 'of',\n",
       " 'SARS']"
      ]
     },
     "execution_count": 122,
     "metadata": {},
     "output_type": "execute_result"
    }
   ],
   "source": [
    "title_tokens = word_tokenize(title)\n",
    "title_tokens"
   ]
  },
  {
   "cell_type": "markdown",
   "id": "0a04cba9",
   "metadata": {},
   "source": [
    "And remove the tokens relative to stop words:"
   ]
  },
  {
   "cell_type": "code",
   "execution_count": 123,
   "id": "3c46c284",
   "metadata": {},
   "outputs": [
    {
     "data": {
      "text/plain": [
       "['Pro/con',\n",
       " 'clinical',\n",
       " 'debate',\n",
       " ':',\n",
       " 'Steroids',\n",
       " 'key',\n",
       " 'component',\n",
       " 'treatment',\n",
       " 'SARS']"
      ]
     },
     "execution_count": 123,
     "metadata": {},
     "output_type": "execute_result"
    }
   ],
   "source": [
    "title_tokens_up = [word for word in title_tokens if not word in all_stopwords]\n",
    "title_tokens_up"
   ]
  },
  {
   "cell_type": "markdown",
   "id": "c5c302a5",
   "metadata": {},
   "source": [
    "And rebuild the title without the stop words:"
   ]
  },
  {
   "cell_type": "code",
   "execution_count": 124,
   "id": "b3bb3124",
   "metadata": {},
   "outputs": [
    {
     "data": {
      "text/plain": [
       "'Pro/con clinical debate : Steroids key component treatment SARS'"
      ]
     },
     "execution_count": 124,
     "metadata": {},
     "output_type": "execute_result"
    }
   ],
   "source": [
    "title_up = (' ').join(title_tokens_up)\n",
    "title_up"
   ]
  },
  {
   "cell_type": "markdown",
   "id": "e85eaa6b",
   "metadata": {},
   "source": [
    "Then, we apply MER to the preprocessed title in order to recognize disease entities and to link them to DO concepts:"
   ]
  },
  {
   "cell_type": "code",
   "execution_count": 125,
   "id": "11d8f862",
   "metadata": {},
   "outputs": [
    {
     "data": {
      "text/plain": [
       "[['59', '63', 'SARS', 'http://purl.obolibrary.org/obo/DOID_2945']]"
      ]
     },
     "execution_count": 125,
     "metadata": {},
     "output_type": "execute_result"
    }
   ],
   "source": [
    "merpy.get_entities(title_up, 'doid')"
   ]
  },
  {
   "cell_type": "markdown",
   "id": "d58716c3",
   "metadata": {},
   "source": [
    "Let's check if the annotations make sense. For instance, access the link http://purl.obolibrary.org/obo/DOID_2945."
   ]
  },
  {
   "cell_type": "markdown",
   "id": "54a4abd8",
   "metadata": {},
   "source": [
    "The entity 'SARS' in the article was linked to the DO concept 'severe acute respiratory syndrome' with the identifier 'DOID:2945', which seems correct!"
   ]
  },
  {
   "cell_type": "markdown",
   "id": "68dd88ad",
   "metadata": {},
   "source": [
    "Let's apply MER to recognize chemical entities and to link them to ChEBI concepts:"
   ]
  },
  {
   "cell_type": "code",
   "execution_count": 126,
   "id": "4ad18a75",
   "metadata": {},
   "outputs": [
    {
     "data": {
      "text/plain": [
       "[['']]"
      ]
     },
     "execution_count": 126,
     "metadata": {},
     "output_type": "execute_result"
    }
   ],
   "source": [
    "merpy.get_entities(title_up, 'chebi')"
   ]
  },
  {
   "cell_type": "markdown",
   "id": "abb67939",
   "metadata": {},
   "source": [
    "Accessing the link http://purl.obolibrary.org/obo/CHEBI_35341, we can see that the entity 'Steroids' was linked to the ChEBI concept 'steroid', which has the identifier 'CHEBI:35341'."
   ]
  },
  {
   "cell_type": "markdown",
   "id": "6b616701",
   "metadata": {},
   "source": [
    "We add the disease and chemical entities to a single list:"
   ]
  },
  {
   "cell_type": "code",
   "execution_count": 127,
   "id": "558f03fb",
   "metadata": {},
   "outputs": [
    {
     "data": {
      "text/plain": [
       "[['59', '63', 'SARS', 'http://purl.obolibrary.org/obo/DOID_2945']]"
      ]
     },
     "execution_count": 127,
     "metadata": {},
     "output_type": "execute_result"
    }
   ],
   "source": [
    "title_entities = merpy.get_entities(title_up, 'doid') + merpy.get_entities(title_up, 'chebi')\n",
    "title_entities_up = [entity for entity in title_entities if entity != ['']]\n",
    "\n",
    "title_entities_up"
   ]
  },
  {
   "cell_type": "markdown",
   "id": "d02d53bb",
   "metadata": {},
   "source": [
    "Now, we are going to apply MER to recognize entities in abstract:"
   ]
  },
  {
   "cell_type": "code",
   "execution_count": 128,
   "id": "03d65a6e",
   "metadata": {},
   "outputs": [
    {
     "data": {
      "text/plain": [
       "[['4', '8', 'ARDS', 'http://purl.obolibrary.org/obo/DOID_11394'],\n",
       " ['87', '91', 'SARS', 'http://purl.obolibrary.org/obo/DOID_2945'],\n",
       " ['203', '207', 'SARS', 'http://purl.obolibrary.org/obo/DOID_2945'],\n",
       " ['318', '322', 'SARS', 'http://purl.obolibrary.org/obo/DOID_2945'],\n",
       " ['407', '411', 'SARS', 'http://purl.obolibrary.org/obo/DOID_2945'],\n",
       " ['479', '486', 'steroid', 'http://purl.obolibrary.org/obo/CHEBI_35341']]"
      ]
     },
     "execution_count": 128,
     "metadata": {},
     "output_type": "execute_result"
    }
   ],
   "source": [
    "abstract = article_data['abstract'][0]['text']\n",
    "\n",
    "#Tokenize and remove stop words\n",
    "abstract_tokens = word_tokenize(abstract)\n",
    "abstract_tokens_up = [word for word in abstract_tokens if not word in all_stopwords]\n",
    "abstract_up = (' ').join(abstract_tokens_up)\n",
    "\n",
    "#Entity recognition and linking \n",
    "abstract_entities =  merpy.get_entities(abstract_up, 'doid') + merpy.get_entities(abstract_up, 'chebi')\n",
    "abstract_entities_up = [entity for entity in abstract_entities if entity != ['']]\n",
    "\n",
    "abstract_entities_up"
   ]
  },
  {
   "cell_type": "markdown",
   "id": "751fa428",
   "metadata": {},
   "source": [
    "Let's apply MER in the text associated with the body of the article:"
   ]
  },
  {
   "cell_type": "code",
   "execution_count": 129,
   "id": "c364fbd8",
   "metadata": {},
   "outputs": [
    {
     "data": {
      "text/plain": [
       "[['0', '4', 'SARS', 'http://purl.obolibrary.org/obo/DOID_2945'],\n",
       " ['51', '55', 'SARS', 'http://purl.obolibrary.org/obo/DOID_2945'],\n",
       " ['460', '464', 'SARS', 'http://purl.obolibrary.org/obo/DOID_2945'],\n",
       " ['558', '562', 'SARS', 'http://purl.obolibrary.org/obo/DOID_2945'],\n",
       " ['981', '985', 'SARS', 'http://purl.obolibrary.org/obo/DOID_2945'],\n",
       " ['1023', '1027', 'ARDS', 'http://purl.obolibrary.org/obo/DOID_11394'],\n",
       " ['1060', '1064', 'ARDS', 'http://purl.obolibrary.org/obo/DOID_11394'],\n",
       " ['1131', '1135', 'ARDS', 'http://purl.obolibrary.org/obo/DOID_11394'],\n",
       " ['1172', '1176', 'ARDS', 'http://purl.obolibrary.org/obo/DOID_11394'],\n",
       " ['1199', '1203', 'ARDS', 'http://purl.obolibrary.org/obo/DOID_11394'],\n",
       " ['1313', '1317', 'ARDS', 'http://purl.obolibrary.org/obo/DOID_11394'],\n",
       " ['1383', '1387', 'ARDS', 'http://purl.obolibrary.org/obo/DOID_11394'],\n",
       " ['1796', '1805', 'pneumonia', 'http://purl.obolibrary.org/obo/DOID_552'],\n",
       " ['1852', '1861', 'varicella', 'http://purl.obolibrary.org/obo/DOID_8659'],\n",
       " ['1862', '1871', 'pneumonia', 'http://purl.obolibrary.org/obo/DOID_552'],\n",
       " ['2200', '2204', 'SARS', 'http://purl.obolibrary.org/obo/DOID_2945'],\n",
       " ['2259', '2263', 'SARS', 'http://purl.obolibrary.org/obo/DOID_2945'],\n",
       " ['2345', '2349', 'SARS', 'http://purl.obolibrary.org/obo/DOID_2945'],\n",
       " ['2438', '2442', 'SARS', 'http://purl.obolibrary.org/obo/DOID_2945'],\n",
       " ['2532', '2536', 'ARDS', 'http://purl.obolibrary.org/obo/DOID_11394'],\n",
       " ['2572', '2576', 'SARS', 'http://purl.obolibrary.org/obo/DOID_2945'],\n",
       " ['2698', '2702', 'SARS', 'http://purl.obolibrary.org/obo/DOID_2945'],\n",
       " ['2895', '2899', 'SARS', 'http://purl.obolibrary.org/obo/DOID_2945'],\n",
       " ['2945',\n",
       "  '2958',\n",
       "  'aspergillosis',\n",
       "  'http://purl.obolibrary.org/obo/DOID_13564'],\n",
       " ['3004', '3008', 'SARS', 'http://purl.obolibrary.org/obo/DOID_2945'],\n",
       " ['3088', '3096', 'Myopathy', 'http://purl.obolibrary.org/obo/DOID_423'],\n",
       " ['3097',\n",
       "  '3111',\n",
       "  'polyneuropathy',\n",
       "  'http://purl.obolibrary.org/obo/DOID_1389'],\n",
       " ['3118', '3122', 'ARDS', 'http://purl.obolibrary.org/obo/DOID_11394'],\n",
       " ['3171', '3175', 'SARS', 'http://purl.obolibrary.org/obo/DOID_2945'],\n",
       " ['3329', '3333', 'SARS', 'http://purl.obolibrary.org/obo/DOID_2945'],\n",
       " ['3832', '3836', 'SARS', 'http://purl.obolibrary.org/obo/DOID_2945'],\n",
       " ['3846', '3850', 'ARDS', 'http://purl.obolibrary.org/obo/DOID_11394'],\n",
       " ['3881', '3885', 'ARDS', 'http://purl.obolibrary.org/obo/DOID_11394'],\n",
       " ['4008', '4012', 'ARDS', 'http://purl.obolibrary.org/obo/DOID_11394'],\n",
       " ['4134', '4138', 'ARDS', 'http://purl.obolibrary.org/obo/DOID_11394'],\n",
       " ['4389', '4393', 'SARS', 'http://purl.obolibrary.org/obo/DOID_2945'],\n",
       " ['4858', '4862', 'SARS', 'http://purl.obolibrary.org/obo/DOID_2945'],\n",
       " ['5053', '5057', 'SARS', 'http://purl.obolibrary.org/obo/DOID_2945'],\n",
       " ['5213', '5217', 'SARS', 'http://purl.obolibrary.org/obo/DOID_2945'],\n",
       " ['5406', '5410', 'SARS', 'http://purl.obolibrary.org/obo/DOID_2945'],\n",
       " ['5842', '5846', 'SARS', 'http://purl.obolibrary.org/obo/DOID_2945'],\n",
       " ['5952', '5956', 'ARDS', 'http://purl.obolibrary.org/obo/DOID_11394'],\n",
       " ['6253', '6257', 'SARS', 'http://purl.obolibrary.org/obo/DOID_2945'],\n",
       " ['627', '642', 'viral infection', 'http://purl.obolibrary.org/obo/DOID_934'],\n",
       " ['1279',\n",
       "  '1298',\n",
       "  'respiratory failure',\n",
       "  'http://purl.obolibrary.org/obo/DOID_11162'],\n",
       " ['1790',\n",
       "  '1805',\n",
       "  'viral pneumonia',\n",
       "  'http://purl.obolibrary.org/obo/DOID_10533'],\n",
       " ['2218',\n",
       "  '2237',\n",
       "  'respiratory failure',\n",
       "  'http://purl.obolibrary.org/obo/DOID_11162'],\n",
       " ['5067',\n",
       "  '5086',\n",
       "  'respiratory failure',\n",
       "  'http://purl.obolibrary.org/obo/DOID_11162'],\n",
       " ['1473',\n",
       "  '1487',\n",
       "  'corticosteroid',\n",
       "  'http://purl.obolibrary.org/obo/CHEBI_50858'],\n",
       " ['2394', '2398', 'role', 'http://purl.obolibrary.org/obo/CHEBI_50906'],\n",
       " ['2820', '2827', 'Steroid', 'http://purl.obolibrary.org/obo/CHEBI_35341'],\n",
       " ['3311', '3318', 'steroid', 'http://purl.obolibrary.org/obo/CHEBI_35341'],\n",
       " ['3412', '3419', 'steroid', 'http://purl.obolibrary.org/obo/CHEBI_35341'],\n",
       " ['3863', '3870', 'Steroid', 'http://purl.obolibrary.org/obo/CHEBI_35341'],\n",
       " ['4089', '4096', 'steroid', 'http://purl.obolibrary.org/obo/CHEBI_35341'],\n",
       " ['4187', '4194', 'steroid', 'http://purl.obolibrary.org/obo/CHEBI_35341'],\n",
       " ['4373', '4380', 'steroid', 'http://purl.obolibrary.org/obo/CHEBI_35341'],\n",
       " ['4591', '4598', 'steroid', 'http://purl.obolibrary.org/obo/CHEBI_35341'],\n",
       " ['4971', '4975', 'role', 'http://purl.obolibrary.org/obo/CHEBI_50906'],\n",
       " ['5178', '5182', 'role', 'http://purl.obolibrary.org/obo/CHEBI_50906'],\n",
       " ['6130', '6137', 'steroid', 'http://purl.obolibrary.org/obo/CHEBI_35341']]"
      ]
     },
     "execution_count": 129,
     "metadata": {},
     "output_type": "execute_result"
    }
   ],
   "source": [
    "body = str()\n",
    "\n",
    "for section in article_data['body_text']:\n",
    "    body += section['text'] + \"\\n\"\n",
    "    \n",
    "#Tokenize and remove stop words\n",
    "body_tokens = word_tokenize(body)\n",
    "body_tokens_up = [word for word in body_tokens if not word in all_stopwords]\n",
    "body_up = (' ').join(body_tokens_up)\n",
    "\n",
    "#Entity recognition and linking \n",
    "body_entities =  merpy.get_entities(body_up, \"doid\") + merpy.get_entities(body_up, \"chebi\")\n",
    "body_entities_up = [entity for entity in body_entities if entity != ['']]\n",
    "\n",
    "body_entities_up"
   ]
  },
  {
   "cell_type": "markdown",
   "id": "49350740",
   "metadata": {},
   "source": [
    "At last, we need to obtain information about the frequency of each ontology identifier in the document:"
   ]
  },
  {
   "cell_type": "code",
   "execution_count": 130,
   "id": "ef68ca95",
   "metadata": {},
   "outputs": [
    {
     "data": {
      "text/plain": [
       "Counter({'http://purl.obolibrary.org/obo/DOID_2945': 28,\n",
       "         'http://purl.obolibrary.org/obo/DOID_11394': 15,\n",
       "         'http://purl.obolibrary.org/obo/CHEBI_35341': 10,\n",
       "         'http://purl.obolibrary.org/obo/DOID_552': 2,\n",
       "         'http://purl.obolibrary.org/obo/DOID_8659': 1,\n",
       "         'http://purl.obolibrary.org/obo/DOID_13564': 1,\n",
       "         'http://purl.obolibrary.org/obo/DOID_423': 1,\n",
       "         'http://purl.obolibrary.org/obo/DOID_1389': 1,\n",
       "         'http://purl.obolibrary.org/obo/DOID_934': 1,\n",
       "         'http://purl.obolibrary.org/obo/DOID_11162': 3,\n",
       "         'http://purl.obolibrary.org/obo/DOID_10533': 1,\n",
       "         'http://purl.obolibrary.org/obo/CHEBI_50858': 1,\n",
       "         'http://purl.obolibrary.org/obo/CHEBI_50906': 3})"
      ]
     },
     "execution_count": 130,
     "metadata": {},
     "output_type": "execute_result"
    }
   ],
   "source": [
    "total_entities = title_entities_up + abstract_entities_up + body_entities_up\n",
    "\n",
    "all_uris = [entity[3] for entity in total_entities]\n",
    "\n",
    "entity_counter = Counter(all_uris)\n",
    "\n",
    "entity_counter"
   ]
  },
  {
   "cell_type": "markdown",
   "id": "ec3187fb",
   "metadata": {},
   "source": [
    "To sort the URIs by descending order:"
   ]
  },
  {
   "cell_type": "code",
   "execution_count": 131,
   "id": "e82fa562",
   "metadata": {},
   "outputs": [
    {
     "data": {
      "text/plain": [
       "{'http://purl.obolibrary.org/obo/DOID_2945': 28,\n",
       " 'http://purl.obolibrary.org/obo/DOID_11394': 15,\n",
       " 'http://purl.obolibrary.org/obo/CHEBI_35341': 10,\n",
       " 'http://purl.obolibrary.org/obo/DOID_11162': 3,\n",
       " 'http://purl.obolibrary.org/obo/CHEBI_50906': 3,\n",
       " 'http://purl.obolibrary.org/obo/DOID_552': 2,\n",
       " 'http://purl.obolibrary.org/obo/DOID_8659': 1,\n",
       " 'http://purl.obolibrary.org/obo/DOID_13564': 1,\n",
       " 'http://purl.obolibrary.org/obo/DOID_423': 1,\n",
       " 'http://purl.obolibrary.org/obo/DOID_1389': 1,\n",
       " 'http://purl.obolibrary.org/obo/DOID_934': 1,\n",
       " 'http://purl.obolibrary.org/obo/DOID_10533': 1,\n",
       " 'http://purl.obolibrary.org/obo/CHEBI_50858': 1}"
      ]
     },
     "execution_count": 131,
     "metadata": {},
     "output_type": "execute_result"
    }
   ],
   "source": [
    "entity_counter = {\n",
    "    k: v \n",
    "    for k, v in sorted(entity_counter.items(), key=lambda item: item[1], reverse=True)\n",
    "    }\n",
    "\n",
    "entity_counter "
   ]
  },
  {
   "cell_type": "markdown",
   "id": "1ba2af97",
   "metadata": {},
   "source": [
    "<a id=\"2.5\"></a>\n",
    "### 2.5. Create entity files"
   ]
  },
  {
   "cell_type": "markdown",
   "id": "b334b233",
   "metadata": {},
   "source": [
    "We need to adapt our code to perform NER and NEL in all documents of our sample."
   ]
  },
  {
   "cell_type": "markdown",
   "id": "577c9a75",
   "metadata": {},
   "source": [
    "First, create the output dir:"
   ]
  },
  {
   "cell_type": "code",
   "execution_count": 41,
   "id": "857af824",
   "metadata": {},
   "outputs": [],
   "source": [
    "out_dir = 'data/sample_entities/'\n",
    "\n",
    "if not os.path.exists(out_dir):\n",
    "    os.mkdir(out_dir)"
   ]
  },
  {
   "cell_type": "markdown",
   "id": "7c5e2ba7",
   "metadata": {},
   "source": [
    "Next, we are going to iterate over each file present in the sample directory, annotate it, and create the respective entity file:"
   ]
  },
  {
   "cell_type": "code",
   "execution_count": 42,
   "id": "3a7188f8",
   "metadata": {},
   "outputs": [],
   "source": [
    "def annotate_doc(article):\n",
    "    \n",
    "    article_filepath = 'data/sample/' + article  \n",
    "\n",
    "    with open(article_filepath) as input_file:\n",
    "        article_data = json.load(input_file)\n",
    "\n",
    "    doc_output = {'id': str(), 'entities': {}, 'sections': {'title': [], 'abstract': [], 'body': []}}\n",
    "    \n",
    "    doc_output['id'] = article_data['paper_id']\n",
    "   \n",
    "    #Annotate the title\n",
    "    title = article_data['metadata']['title']\n",
    "    \n",
    "    #Tokenize and remove stop words\n",
    "    title_tokens = word_tokenize(title)\n",
    "    title_tokens_up = [word for word in title_tokens if not word in all_stopwords]\n",
    "    title_up = (' ').join(title_tokens_up)\n",
    "    \n",
    "    #Entity recognition and linking\n",
    "    title_entities = merpy.get_entities(title_up, 'doid') + merpy.get_entities(title_up, 'chebi')\n",
    "    doc_output['sections']['title'] = [entity for entity in title_entities if entity != ['']]\n",
    "    \n",
    "    #Annotate the abstract\n",
    "    if article_data['abstract'] != []:\n",
    "        abstract = article_data['abstract'][0]['text']\n",
    "        \n",
    "        #Tokenize and remove stop words\n",
    "        abstract_tokens = word_tokenize(abstract)\n",
    "        abstract_tokens_up = [word for word in abstract_tokens if not word in all_stopwords]\n",
    "        abstract_up = (' ').join(abstract_tokens_up)\n",
    "        \n",
    "        #Entity recognition and linking\n",
    "        abstract_entities = merpy.get_entities(abstract_up, 'doid') + merpy.get_entities(abstract_up, 'chebi')\n",
    "        doc_output['sections']['abstract'] = [entity for entity in abstract_entities if entity != ['']]\n",
    "    \n",
    "    else:\n",
    "        abstract_entities = []\n",
    "\n",
    "    #Combine the several paragraphs of the body text and annotate it\n",
    "    body = str()\n",
    "\n",
    "    for section in article_data['body_text']:\n",
    "        body += section['text'] + '\\n'\n",
    "    \n",
    "    #Tokenize and remove stop words\n",
    "    body_tokens = word_tokenize(body)\n",
    "    body_tokens_up = [word for word in body_tokens if not word in all_stopwords]\n",
    "    body_up = (' ').join(body_tokens_up)    \n",
    "        \n",
    "    #Entity recognition and linking\n",
    "    body_entities = merpy.get_entities(body_up, 'doid') + merpy.get_entities(body_up, 'chebi')\n",
    "    doc_output['sections']['body'] = [entity for entity in body_entities if entity != ['']]\n",
    "\n",
    "    # Count URIs frequencies and sort them\n",
    "    total_entities = title_entities + abstract_entities + body_entities\n",
    "    all_uris = [entity[3] for entity in total_entities if len(entity)==4]\n",
    "    entity_counter = Counter(all_uris)\n",
    "    \n",
    "    doc_output['entities'] = {\n",
    "        k: v \n",
    "        for k, v in sorted(entity_counter.items(), key=lambda item: item[1], reverse=True)\n",
    "        }\n",
    "    \n",
    "    #Generate JSON file with output\n",
    "    out_filepath = out_dir + doc_output['id'] + '_entities.json'\n",
    "    \n",
    "    with open(out_filepath, 'w') as out_file:\n",
    "        out_file.write(json.dumps(doc_output, indent=4))\n",
    "        \n",
    "\n",
    "article_dir = 'data/sample/'\n",
    "        \n",
    "with multiprocessing.Pool(processes=10) as pool: \n",
    "    # change the number of processes according to number of available cores\n",
    "    outputs = pool.map(annotate_doc, [article for article in os.listdir(article_dir)], chunksize=10)\n",
    "    pool.close()"
   ]
  },
  {
   "cell_type": "markdown",
   "id": "d30c6341",
   "metadata": {},
   "source": [
    "If you were not able to run the previous code, you can extract the file 'sample_entities.tar.xz' under 'data' directory"
   ]
  },
  {
   "cell_type": "markdown",
   "id": "a8786ae6",
   "metadata": {},
   "source": [
    "Now we have both the article files ('data/sample' directory) and the respective entities files ('data/sample_entities' directory), and the next step will be the generation of the scientific recomendation dataset using the LIBRETTI algorithm."
   ]
  },
  {
   "cell_type": "markdown",
   "id": "01befae6",
   "metadata": {},
   "source": [
    "<a id=\"3\"></a>\n",
    "## 3. Create the recommendation dataset"
   ]
  },
  {
   "cell_type": "markdown",
   "id": "e5e5b5fd",
   "metadata": {},
   "source": [
    "<a id=\"3.1\"></a>\n",
    "### 3.1. Import libraries"
   ]
  },
  {
   "cell_type": "code",
   "execution_count": 8,
   "id": "2e6f51de",
   "metadata": {},
   "outputs": [],
   "source": [
    "import numpy as np\n",
    "import time\n",
    "from datetime import date, datetime\n",
    "\n",
    "from pathlib import Path\n",
    "import rdflib\n",
    "from rdflib import URIRef"
   ]
  },
  {
   "cell_type": "code",
   "execution_count": 23,
   "id": "c2b51dd6",
   "metadata": {},
   "outputs": [],
   "source": [
    "pd.set_option('display.max_columns', None)\n",
    "pd.set_option(\"max_rows\", None)"
   ]
  },
  {
   "cell_type": "markdown",
   "id": "c845ae06",
   "metadata": {},
   "source": [
    "Path of original' json and entities' json folder, blacklist and metadata"
   ]
  },
  {
   "cell_type": "code",
   "execution_count": 29,
   "id": "15c41072",
   "metadata": {},
   "outputs": [],
   "source": [
    "dataset_dir = 'data/sample/'\n",
    "entities_dir = 'data/sample_entities/'\n",
    "metadata_dir = 'data/metadata.csv'\n",
    "blacklist_dir = 'data/blacklist/blacklist_articles.txt'"
   ]
  },
  {
   "cell_type": "markdown",
   "id": "54de7467",
   "metadata": {},
   "source": [
    "List containing the names of the entries in the directory given by path"
   ]
  },
  {
   "cell_type": "code",
   "execution_count": 24,
   "id": "b4e23c3d",
   "metadata": {},
   "outputs": [
    {
     "name": "stdout",
     "output_type": "stream",
     "text": [
      "['23bc55d6f63fab18b02004483888db2b6a0bfa48_entities.json', '3bda17d21aee670c29e22635d622b780820572af_entities.json', '65cc7496f21429d81b3ae129d9c39764e2a1f568_entities.json', 'dce8be353f8ed76957af86118e1b77fd82f54292_entities.json', 'c63c4d58d170136b8d3b5a66424b5ac3f73a92d9_entities.json', '06ced00a5fc04215949aa72528f2eeaae1d58927_entities.json', '3ed670f60a7be2e3e2a991ea8af1fdd5fa5e2b2c_entities.json', '867e1b0f6ca8757f2a32a625d99b23888ab40d49_entities.json', '467694c7a219031c9be1734c7ab3bc42bfa07590_entities.json', '26bdc177821e0161d138236656dafefe2f9f6900_entities.json', 'dab2d95da5307c840eb4a1e00f0186022541d63d_entities.json', '0104f6ceccf92ae8567a0102f89cbb976969a774_entities.json', 'e3af2ca43010f59c3d1bb731abd011e3dd0fc51c_entities.json', 'c6008b68c8b16e3a6a48a2cb892bac5c9353df86_entities.json', '017ca5bdac589a37196df7b8e077c4c371ab32da_entities.json', 'def1cf77e1ef84f4373a342e23145be05ec5e226_entities.json', '52ce19fe79de46d9bb0fa7e75a0631fed2d3efd2_entities.json', 'd77233dd9085c9c76787c84ee9a1e249424b283a_entities.json', 'b2897e1277f56641193a6db73825f707eed3e4c9_entities.json', '6e8517cb25ff228cb48da90a9c97d9c274dc8031_entities.json', '7d624acf891472c3452b1deb89e0dc44a40d0c94_entities.json', 'b022e6ee1e7b9a0a822b1255c2fa12f81ddc52fd_entities.json', 'cbd8eed5192247d945644651f0a9de6166992567_entities.json', '5f04dc1178c4d83e7f673119faa173daf1d19394_entities.json', 'fe60210f629f9953405917869332d549f39e5a1b_entities.json', 'dde02f11923815e6a16a31dd6298c46b109c5dfa_entities.json', '93c6eef32a1a511ee989a259eab0e12174dc6859_entities.json', '1e1286db212100993d03cc22374b624f7caee956_entities.json', '7ff45096210eeb392d51f646f5c7fe011079aaf3_entities.json', '626347808e0ebaed5176f6a00206c35e48aeb90d_entities.json', 'd619c3ceec4db4f3f350c3d5fb3842bd83f04a80_entities.json', '87390d2ae28407b3e03e60a6b24a7fd99ed7229a_entities.json', '75ebad1e8641e5fe2a51214f4d97742ab59a8dae_entities.json', '0c3220694f8a18b6dcd64afae28c4784190e4ee6_entities.json', 'f1548a1bcf0d81c278b46d24408dc7e63d9ce09d_entities.json', '3c27a29517bd8ab1797aeaa2a84808c29555dc22_entities.json', 'c5131e5f5c6000ec84139edc64778a6f1d391b83_entities.json', '5b44feca5d6ffaaeb66501fa84cc6dd44d06660a_entities.json', '505f56215f18a8d205927dd48898f22a336b5b4b_entities.json', 'a9eaa4a3217735fbc02153aeea3f34e9c763e5d3_entities.json', '90c1ab8b02263998f809915b0629da5aa1cbc47a_entities.json', '4df2c6eecb985fcb20da3c5ed46e3b910c7077ab_entities.json', '025339bfce1cb8efa81c5accdabefe04dcdac9d2_entities.json', '8b12db91c31cd4a723270f3cbb56f7919581bb02_entities.json', 'a945fe15ef46edadf3f4712668dfc7ee8e5c821d_entities.json', '5ae641a5bf24b53a895f5f2f04254cc00e909c08_entities.json', 'cf584e00f637cbd8f1bb35f3f09f5ed07b71aeb0_entities.json', '45d2d838cb3d5ae2dabd7bb7c82329b398d1c65f_entities.json', '40e41f0c52b39669dee24e37875d7a9fabc38636_entities.json', '894e7274776479bb39a84e5dc363640cd435b369_entities.json', '44102e3e69e70ad2a73e753133283334ce1f8736_entities.json', '6c0dee643345c93436cfa8d58270aa887ad92e3d_entities.json', '00b1d99e70f779eb4ede50059db469c65e8c1469_entities.json', 'd09b79026117ec9faebba46a8d13aa9b23ec751e_entities.json', '30a4842a2e257f725cc041e32fd682c495111a50_entities.json', '03203ab50eb64271a9e825f94a1b1a6c46ea14b3_entities.json', 'faaf1022ccfe93b032c5608097a53543ba24aedb_entities.json', '83b05e8afa6cbe7a68170ee155f7eca37c91d51f_entities.json', '367af6bb9a8bbda02206506a819656bb6f14ce4c_entities.json', '72ace5af731fdf4c384e912b074193d13902b7a1_entities.json', '8ae137c8da1607b3a8e4c946c07ca8bda67f88ac_entities.json', 'f1bbb1b2e330c440acd6ff3d8a0f0d2e5adedd70_entities.json', '5f48792a5fa08bed9f56016f4981ae2ca6031b32_entities.json', '85eb641e06b0d6b1a0b202275add0c5d27e53d71_entities.json', '09fc4c5e368a43d21f5130cb8474d61d65191dd9_entities.json', '184aded923f0ac3cbdbcf74d2a5b42cda0f414c2_entities.json', '18c21db94a22f1358057c6d797164ffe1585b395_entities.json', 'bb348e16b7b1390554883a8ad0815ec6965c8b2f_entities.json', 'd617306cda56236d02117ae7a5fc5e7fcd015554_entities.json', 'a77badb297bf4927419481e660ea8f1806ed91b1_entities.json', '6a8ac55ea2a1fbd99deb683e24dd986e55e707b3_entities.json', 'e3d0d482ebd9a8ba81c254cc433f314142e72174_entities.json', 'd0c6b0c2d387baae89eb2898969913218b3bedff_entities.json', '5806726a24dc91de3954001effbdffd7a82d54e2_entities.json', '3bb07ea10432f7738413dff9816809cc90f03f99_entities.json', 'ab1ac4f7b9c57dad5e3d61f72e8e3d552059fa09_entities.json', '14e0cac6e86d62859e6c9f1351ab67466d89e5b3_entities.json', '7aa3c6793455d0748b58fc6ff75ab336b2863c6c_entities.json', '19744eafb1b8520fa460274845713451ad539e91_entities.json', '348055649b6b8cf2b9a376498df9bf41f7123605_entities.json', '47dfb70a9174ea549a6850eb64223361ff14e597_entities.json', '8a7d5de5ea680e784ab2bd877240bf09e4c1c02d_entities.json', '865f101ce80657e1347a4a35dabfa911a3072429_entities.json', '6b0567729c2143a66d737eb0a2f63f2dce2e5a7d_entities.json', 'd16e1bd4c6cae1bb55dbc695c5e2ba5105a13921_entities.json', 'b499a41ad1d85a0e071b59e60065c874e534911d_entities.json', '98a3b0606a67d829816c1d934e2d1a7196985151_entities.json', 'd1aafb70c066a2068b02786f8929fd9c900897fb_entities.json', '59ffca26c9d1f881e4e37e7c5af626d72d858dc4_entities.json', '6a3fa8ed278df0d05c5e009521de11c72308f60b_entities.json', '6b18c718ecf5fb496443591ba267b2ccae0c2863_entities.json', 'd81ae79ebc6462fd3de075e220992f1aae1f06ae_entities.json', '8d7400a2b387820cd391d7df8194642e50402a0c_entities.json', 'e6184d2db86268ba31e49b03a5aab475d5ce5ca6_entities.json', '9d4e3e8eb092d5ed282d0aa4aadcaa8b7165b5e9_entities.json', 'f1d1b9694aa43c837d9b758cb2d45d8a24d293e3_entities.json', 'e4b48ce0579f908da6dd3289bb2cc262dbdeae72_entities.json', '5b68a553a7cbbea13472721cd1ad617d42b40c26_entities.json', '38fec468e30f4e956339345baeef4f15c7541cf5_entities.json', '8970ef10049816050cb1bc5fbf600865a5996ad4_entities.json']\n"
     ]
    }
   ],
   "source": [
    "entities_list_of_json_files = os.listdir(entities_dir)\n",
    "print(entities_list_of_json_files)"
   ]
  },
  {
   "cell_type": "markdown",
   "id": "9941042d",
   "metadata": {},
   "source": [
    "<a id=\"3.2\"></a>\n",
    "### 3.2. Get all articles id that cannot be considered in use case: blacklist "
   ]
  },
  {
   "cell_type": "code",
   "execution_count": 27,
   "id": "491bfe92",
   "metadata": {},
   "outputs": [
    {
     "name": "stdout",
     "output_type": "stream",
     "text": [
      "[]\n"
     ]
    }
   ],
   "source": [
    "# Return all articles to be removed, due some errors found there\n",
    "\n",
    "articles_blacklist = []\n",
    "with open(blacklist_dir, 'r') as f:\n",
    "    black_list = [content for content in f.readlines()]\n",
    "\n",
    "articles_blacklist.extend(black_list) \n",
    "f.close()\n",
    "\n",
    "print(articles_blacklist)"
   ]
  },
  {
   "cell_type": "code",
   "execution_count": 30,
   "id": "22f050dd",
   "metadata": {},
   "outputs": [],
   "source": [
    "metadata = pd.read_csv(metadata_dir)"
   ]
  },
  {
   "cell_type": "markdown",
   "id": "543253f6",
   "metadata": {},
   "source": [
    "<a id=\"3.3\"></a>\n",
    "### 3.3. Create the dataset like <user, item, rating, year> "
   ]
  },
  {
   "cell_type": "code",
   "execution_count": 31,
   "id": "300fb7c9",
   "metadata": {},
   "outputs": [
    {
     "name": "stdout",
     "output_type": "stream",
     "text": [
      "0 - 100\n",
      "23bc55d6f63fab18b02004483888db2b6a0bfa48_entities.json\n",
      "Json file does not contain values. Error message name 'open_json_file_pd' is not defined\n",
      "0 - 100\n",
      "3bda17d21aee670c29e22635d622b780820572af_entities.json\n",
      "Json file does not contain values. Error message name 'open_json_file_pd' is not defined\n",
      "0 - 100\n",
      "65cc7496f21429d81b3ae129d9c39764e2a1f568_entities.json\n",
      "Json file does not contain values. Error message name 'open_json_file_pd' is not defined\n",
      "0 - 100\n",
      "dce8be353f8ed76957af86118e1b77fd82f54292_entities.json\n",
      "Json file does not contain values. Error message name 'open_json_file_pd' is not defined\n",
      "0 - 100\n",
      "c63c4d58d170136b8d3b5a66424b5ac3f73a92d9_entities.json\n",
      "Json file does not contain values. Error message name 'open_json_file_pd' is not defined\n",
      "0 - 100\n",
      "06ced00a5fc04215949aa72528f2eeaae1d58927_entities.json\n",
      "Json file does not contain values. Error message name 'open_json_file_pd' is not defined\n",
      "0 - 100\n",
      "3ed670f60a7be2e3e2a991ea8af1fdd5fa5e2b2c_entities.json\n",
      "Json file does not contain values. Error message name 'open_json_file_pd' is not defined\n",
      "0 - 100\n",
      "867e1b0f6ca8757f2a32a625d99b23888ab40d49_entities.json\n",
      "Json file does not contain values. Error message name 'open_json_file_pd' is not defined\n",
      "0 - 100\n",
      "467694c7a219031c9be1734c7ab3bc42bfa07590_entities.json\n",
      "Json file does not contain values. Error message name 'open_json_file_pd' is not defined\n",
      "0 - 100\n",
      "26bdc177821e0161d138236656dafefe2f9f6900_entities.json\n",
      "Json file does not contain values. Error message name 'open_json_file_pd' is not defined\n",
      "0 - 100\n",
      "dab2d95da5307c840eb4a1e00f0186022541d63d_entities.json\n",
      "Json file does not contain values. Error message name 'open_json_file_pd' is not defined\n",
      "0 - 100\n",
      "0104f6ceccf92ae8567a0102f89cbb976969a774_entities.json\n",
      "Json file does not contain values. Error message name 'open_json_file_pd' is not defined\n",
      "0 - 100\n",
      "e3af2ca43010f59c3d1bb731abd011e3dd0fc51c_entities.json\n",
      "Json file does not contain values. Error message name 'open_json_file_pd' is not defined\n",
      "0 - 100\n",
      "c6008b68c8b16e3a6a48a2cb892bac5c9353df86_entities.json\n",
      "Json file does not contain values. Error message name 'open_json_file_pd' is not defined\n",
      "0 - 100\n",
      "017ca5bdac589a37196df7b8e077c4c371ab32da_entities.json\n",
      "Json file does not contain values. Error message name 'open_json_file_pd' is not defined\n",
      "0 - 100\n",
      "def1cf77e1ef84f4373a342e23145be05ec5e226_entities.json\n",
      "Json file does not contain values. Error message name 'open_json_file_pd' is not defined\n",
      "0 - 100\n",
      "52ce19fe79de46d9bb0fa7e75a0631fed2d3efd2_entities.json\n",
      "Json file does not contain values. Error message name 'open_json_file_pd' is not defined\n",
      "0 - 100\n",
      "d77233dd9085c9c76787c84ee9a1e249424b283a_entities.json\n",
      "Json file does not contain values. Error message name 'open_json_file_pd' is not defined\n",
      "0 - 100\n",
      "b2897e1277f56641193a6db73825f707eed3e4c9_entities.json\n",
      "Json file does not contain values. Error message name 'open_json_file_pd' is not defined\n",
      "0 - 100\n",
      "6e8517cb25ff228cb48da90a9c97d9c274dc8031_entities.json\n",
      "Json file does not contain values. Error message name 'open_json_file_pd' is not defined\n",
      "0 - 100\n",
      "7d624acf891472c3452b1deb89e0dc44a40d0c94_entities.json\n",
      "Json file does not contain values. Error message name 'open_json_file_pd' is not defined\n",
      "0 - 100\n",
      "b022e6ee1e7b9a0a822b1255c2fa12f81ddc52fd_entities.json\n",
      "Json file does not contain values. Error message name 'open_json_file_pd' is not defined\n",
      "0 - 100\n",
      "cbd8eed5192247d945644651f0a9de6166992567_entities.json\n",
      "Json file does not contain values. Error message name 'open_json_file_pd' is not defined\n",
      "0 - 100\n",
      "5f04dc1178c4d83e7f673119faa173daf1d19394_entities.json\n",
      "Json file does not contain values. Error message name 'open_json_file_pd' is not defined\n",
      "0 - 100\n",
      "fe60210f629f9953405917869332d549f39e5a1b_entities.json\n",
      "Json file does not contain values. Error message name 'open_json_file_pd' is not defined\n",
      "0 - 100\n",
      "dde02f11923815e6a16a31dd6298c46b109c5dfa_entities.json\n",
      "Json file does not contain values. Error message name 'open_json_file_pd' is not defined\n",
      "0 - 100\n",
      "93c6eef32a1a511ee989a259eab0e12174dc6859_entities.json\n",
      "Json file does not contain values. Error message name 'open_json_file_pd' is not defined\n",
      "0 - 100\n",
      "1e1286db212100993d03cc22374b624f7caee956_entities.json\n",
      "Json file does not contain values. Error message name 'open_json_file_pd' is not defined\n",
      "0 - 100\n",
      "7ff45096210eeb392d51f646f5c7fe011079aaf3_entities.json\n",
      "Json file does not contain values. Error message name 'open_json_file_pd' is not defined\n",
      "0 - 100\n",
      "626347808e0ebaed5176f6a00206c35e48aeb90d_entities.json\n",
      "Json file does not contain values. Error message name 'open_json_file_pd' is not defined\n",
      "0 - 100\n",
      "d619c3ceec4db4f3f350c3d5fb3842bd83f04a80_entities.json\n",
      "Json file does not contain values. Error message name 'open_json_file_pd' is not defined\n",
      "0 - 100\n",
      "87390d2ae28407b3e03e60a6b24a7fd99ed7229a_entities.json\n",
      "Json file does not contain values. Error message name 'open_json_file_pd' is not defined\n",
      "0 - 100\n",
      "75ebad1e8641e5fe2a51214f4d97742ab59a8dae_entities.json\n",
      "Json file does not contain values. Error message name 'open_json_file_pd' is not defined\n",
      "0 - 100\n",
      "0c3220694f8a18b6dcd64afae28c4784190e4ee6_entities.json\n",
      "Json file does not contain values. Error message name 'open_json_file_pd' is not defined\n",
      "0 - 100\n",
      "f1548a1bcf0d81c278b46d24408dc7e63d9ce09d_entities.json\n",
      "Json file does not contain values. Error message name 'open_json_file_pd' is not defined\n",
      "0 - 100\n",
      "3c27a29517bd8ab1797aeaa2a84808c29555dc22_entities.json\n",
      "Json file does not contain values. Error message name 'open_json_file_pd' is not defined\n",
      "0 - 100\n",
      "c5131e5f5c6000ec84139edc64778a6f1d391b83_entities.json\n",
      "Json file does not contain values. Error message name 'open_json_file_pd' is not defined\n",
      "0 - 100\n",
      "5b44feca5d6ffaaeb66501fa84cc6dd44d06660a_entities.json\n",
      "Json file does not contain values. Error message name 'open_json_file_pd' is not defined\n",
      "0 - 100\n",
      "505f56215f18a8d205927dd48898f22a336b5b4b_entities.json\n",
      "Json file does not contain values. Error message name 'open_json_file_pd' is not defined\n",
      "0 - 100\n",
      "a9eaa4a3217735fbc02153aeea3f34e9c763e5d3_entities.json\n",
      "Json file does not contain values. Error message name 'open_json_file_pd' is not defined\n",
      "0 - 100\n",
      "90c1ab8b02263998f809915b0629da5aa1cbc47a_entities.json\n",
      "Json file does not contain values. Error message name 'open_json_file_pd' is not defined\n",
      "0 - 100\n",
      "4df2c6eecb985fcb20da3c5ed46e3b910c7077ab_entities.json\n",
      "Json file does not contain values. Error message name 'open_json_file_pd' is not defined\n",
      "0 - 100\n",
      "025339bfce1cb8efa81c5accdabefe04dcdac9d2_entities.json\n",
      "Json file does not contain values. Error message name 'open_json_file_pd' is not defined\n",
      "0 - 100\n",
      "8b12db91c31cd4a723270f3cbb56f7919581bb02_entities.json\n",
      "Json file does not contain values. Error message name 'open_json_file_pd' is not defined\n",
      "0 - 100\n",
      "a945fe15ef46edadf3f4712668dfc7ee8e5c821d_entities.json\n",
      "Json file does not contain values. Error message name 'open_json_file_pd' is not defined\n",
      "0 - 100\n",
      "5ae641a5bf24b53a895f5f2f04254cc00e909c08_entities.json\n",
      "Json file does not contain values. Error message name 'open_json_file_pd' is not defined\n",
      "0 - 100\n",
      "cf584e00f637cbd8f1bb35f3f09f5ed07b71aeb0_entities.json\n",
      "Json file does not contain values. Error message name 'open_json_file_pd' is not defined\n",
      "0 - 100\n",
      "45d2d838cb3d5ae2dabd7bb7c82329b398d1c65f_entities.json\n",
      "Json file does not contain values. Error message name 'open_json_file_pd' is not defined\n",
      "0 - 100\n",
      "40e41f0c52b39669dee24e37875d7a9fabc38636_entities.json\n",
      "Json file does not contain values. Error message name 'open_json_file_pd' is not defined\n",
      "0 - 100\n",
      "894e7274776479bb39a84e5dc363640cd435b369_entities.json\n",
      "Json file does not contain values. Error message name 'open_json_file_pd' is not defined\n",
      "0 - 100\n",
      "44102e3e69e70ad2a73e753133283334ce1f8736_entities.json\n",
      "Json file does not contain values. Error message name 'open_json_file_pd' is not defined\n",
      "0 - 100\n",
      "6c0dee643345c93436cfa8d58270aa887ad92e3d_entities.json\n",
      "Json file does not contain values. Error message name 'open_json_file_pd' is not defined\n",
      "0 - 100\n",
      "00b1d99e70f779eb4ede50059db469c65e8c1469_entities.json\n",
      "Json file does not contain values. Error message name 'open_json_file_pd' is not defined\n",
      "0 - 100\n",
      "d09b79026117ec9faebba46a8d13aa9b23ec751e_entities.json\n",
      "Json file does not contain values. Error message name 'open_json_file_pd' is not defined\n",
      "0 - 100\n",
      "30a4842a2e257f725cc041e32fd682c495111a50_entities.json\n",
      "Json file does not contain values. Error message name 'open_json_file_pd' is not defined\n",
      "0 - 100\n",
      "03203ab50eb64271a9e825f94a1b1a6c46ea14b3_entities.json\n",
      "Json file does not contain values. Error message name 'open_json_file_pd' is not defined\n",
      "0 - 100\n",
      "faaf1022ccfe93b032c5608097a53543ba24aedb_entities.json\n",
      "Json file does not contain values. Error message name 'open_json_file_pd' is not defined\n",
      "0 - 100\n",
      "83b05e8afa6cbe7a68170ee155f7eca37c91d51f_entities.json\n",
      "Json file does not contain values. Error message name 'open_json_file_pd' is not defined\n",
      "0 - 100\n",
      "367af6bb9a8bbda02206506a819656bb6f14ce4c_entities.json\n",
      "Json file does not contain values. Error message name 'open_json_file_pd' is not defined\n",
      "0 - 100\n",
      "72ace5af731fdf4c384e912b074193d13902b7a1_entities.json\n",
      "Json file does not contain values. Error message name 'open_json_file_pd' is not defined\n",
      "0 - 100\n",
      "8ae137c8da1607b3a8e4c946c07ca8bda67f88ac_entities.json\n",
      "Json file does not contain values. Error message name 'open_json_file_pd' is not defined\n",
      "0 - 100\n",
      "f1bbb1b2e330c440acd6ff3d8a0f0d2e5adedd70_entities.json\n",
      "Json file does not contain values. Error message name 'open_json_file_pd' is not defined\n",
      "0 - 100\n",
      "5f48792a5fa08bed9f56016f4981ae2ca6031b32_entities.json\n",
      "Json file does not contain values. Error message name 'open_json_file_pd' is not defined\n",
      "0 - 100\n",
      "85eb641e06b0d6b1a0b202275add0c5d27e53d71_entities.json\n",
      "Json file does not contain values. Error message name 'open_json_file_pd' is not defined\n",
      "0 - 100\n",
      "09fc4c5e368a43d21f5130cb8474d61d65191dd9_entities.json\n",
      "Json file does not contain values. Error message name 'open_json_file_pd' is not defined\n",
      "0 - 100\n",
      "184aded923f0ac3cbdbcf74d2a5b42cda0f414c2_entities.json\n",
      "Json file does not contain values. Error message name 'open_json_file_pd' is not defined\n",
      "0 - 100\n",
      "18c21db94a22f1358057c6d797164ffe1585b395_entities.json\n",
      "Json file does not contain values. Error message name 'open_json_file_pd' is not defined\n",
      "0 - 100\n",
      "bb348e16b7b1390554883a8ad0815ec6965c8b2f_entities.json\n",
      "Json file does not contain values. Error message name 'open_json_file_pd' is not defined\n",
      "0 - 100\n",
      "d617306cda56236d02117ae7a5fc5e7fcd015554_entities.json\n",
      "Json file does not contain values. Error message name 'open_json_file_pd' is not defined\n",
      "0 - 100\n",
      "a77badb297bf4927419481e660ea8f1806ed91b1_entities.json\n",
      "Json file does not contain values. Error message name 'open_json_file_pd' is not defined\n",
      "0 - 100\n",
      "6a8ac55ea2a1fbd99deb683e24dd986e55e707b3_entities.json\n",
      "Json file does not contain values. Error message name 'open_json_file_pd' is not defined\n",
      "0 - 100\n",
      "e3d0d482ebd9a8ba81c254cc433f314142e72174_entities.json\n",
      "Json file does not contain values. Error message name 'open_json_file_pd' is not defined\n",
      "0 - 100\n",
      "d0c6b0c2d387baae89eb2898969913218b3bedff_entities.json\n",
      "Json file does not contain values. Error message name 'open_json_file_pd' is not defined\n",
      "0 - 100\n",
      "5806726a24dc91de3954001effbdffd7a82d54e2_entities.json\n",
      "Json file does not contain values. Error message name 'open_json_file_pd' is not defined\n",
      "0 - 100\n",
      "3bb07ea10432f7738413dff9816809cc90f03f99_entities.json\n",
      "Json file does not contain values. Error message name 'open_json_file_pd' is not defined\n",
      "0 - 100\n",
      "ab1ac4f7b9c57dad5e3d61f72e8e3d552059fa09_entities.json\n",
      "Json file does not contain values. Error message name 'open_json_file_pd' is not defined\n",
      "0 - 100\n",
      "14e0cac6e86d62859e6c9f1351ab67466d89e5b3_entities.json\n",
      "Json file does not contain values. Error message name 'open_json_file_pd' is not defined\n",
      "0 - 100\n",
      "7aa3c6793455d0748b58fc6ff75ab336b2863c6c_entities.json\n",
      "Json file does not contain values. Error message name 'open_json_file_pd' is not defined\n",
      "0 - 100\n",
      "19744eafb1b8520fa460274845713451ad539e91_entities.json\n",
      "Json file does not contain values. Error message name 'open_json_file_pd' is not defined\n",
      "0 - 100\n",
      "348055649b6b8cf2b9a376498df9bf41f7123605_entities.json\n",
      "Json file does not contain values. Error message name 'open_json_file_pd' is not defined\n",
      "0 - 100\n",
      "47dfb70a9174ea549a6850eb64223361ff14e597_entities.json\n",
      "Json file does not contain values. Error message name 'open_json_file_pd' is not defined\n",
      "0 - 100\n",
      "8a7d5de5ea680e784ab2bd877240bf09e4c1c02d_entities.json\n",
      "Json file does not contain values. Error message name 'open_json_file_pd' is not defined\n",
      "0 - 100\n",
      "865f101ce80657e1347a4a35dabfa911a3072429_entities.json\n",
      "Json file does not contain values. Error message name 'open_json_file_pd' is not defined\n",
      "0 - 100\n",
      "6b0567729c2143a66d737eb0a2f63f2dce2e5a7d_entities.json\n",
      "Json file does not contain values. Error message name 'open_json_file_pd' is not defined\n",
      "0 - 100\n",
      "d16e1bd4c6cae1bb55dbc695c5e2ba5105a13921_entities.json\n",
      "Json file does not contain values. Error message name 'open_json_file_pd' is not defined\n",
      "0 - 100\n",
      "b499a41ad1d85a0e071b59e60065c874e534911d_entities.json\n",
      "Json file does not contain values. Error message name 'open_json_file_pd' is not defined\n",
      "0 - 100\n",
      "98a3b0606a67d829816c1d934e2d1a7196985151_entities.json\n",
      "Json file does not contain values. Error message name 'open_json_file_pd' is not defined\n",
      "0 - 100\n",
      "d1aafb70c066a2068b02786f8929fd9c900897fb_entities.json\n",
      "Json file does not contain values. Error message name 'open_json_file_pd' is not defined\n",
      "0 - 100\n",
      "59ffca26c9d1f881e4e37e7c5af626d72d858dc4_entities.json\n",
      "Json file does not contain values. Error message name 'open_json_file_pd' is not defined\n",
      "0 - 100\n",
      "6a3fa8ed278df0d05c5e009521de11c72308f60b_entities.json\n",
      "Json file does not contain values. Error message name 'open_json_file_pd' is not defined\n",
      "0 - 100\n",
      "6b18c718ecf5fb496443591ba267b2ccae0c2863_entities.json\n",
      "Json file does not contain values. Error message name 'open_json_file_pd' is not defined\n",
      "0 - 100\n",
      "d81ae79ebc6462fd3de075e220992f1aae1f06ae_entities.json\n",
      "Json file does not contain values. Error message name 'open_json_file_pd' is not defined\n",
      "0 - 100\n",
      "8d7400a2b387820cd391d7df8194642e50402a0c_entities.json\n",
      "Json file does not contain values. Error message name 'open_json_file_pd' is not defined\n",
      "0 - 100\n",
      "e6184d2db86268ba31e49b03a5aab475d5ce5ca6_entities.json\n",
      "Json file does not contain values. Error message name 'open_json_file_pd' is not defined\n",
      "0 - 100\n",
      "9d4e3e8eb092d5ed282d0aa4aadcaa8b7165b5e9_entities.json\n",
      "Json file does not contain values. Error message name 'open_json_file_pd' is not defined\n",
      "0 - 100\n",
      "f1d1b9694aa43c837d9b758cb2d45d8a24d293e3_entities.json\n",
      "Json file does not contain values. Error message name 'open_json_file_pd' is not defined\n",
      "0 - 100\n",
      "e4b48ce0579f908da6dd3289bb2cc262dbdeae72_entities.json\n",
      "Json file does not contain values. Error message name 'open_json_file_pd' is not defined\n",
      "0 - 100\n",
      "5b68a553a7cbbea13472721cd1ad617d42b40c26_entities.json\n",
      "Json file does not contain values. Error message name 'open_json_file_pd' is not defined\n",
      "0 - 100\n",
      "38fec468e30f4e956339345baeef4f15c7541cf5_entities.json\n",
      "Json file does not contain values. Error message name 'open_json_file_pd' is not defined\n",
      "0 - 100\n",
      "8970ef10049816050cb1bc5fbf600865a5996ad4_entities.json\n",
      "Json file does not contain values. Error message name 'open_json_file_pd' is not defined\n"
     ]
    }
   ],
   "source": [
    "user_item_rating_all = []\n",
    "count = 0\n",
    "\n",
    "#entities_list_of_json_files=['PMC7176216_entities.json']\n",
    "\n",
    "for file in entities_list_of_json_files:\n",
    "    \n",
    "    if file.replace('_entities.json','') in articles_blacklist:\n",
    "        continue\n",
    "     \n",
    "    print(count, \"-\", len(entities_list_of_json_files))            \n",
    "    print(file)\n",
    "        \n",
    "    # check valid json file, i.e. contains values\n",
    "    try:\n",
    "        j_file_entities = open_json_file_pd(path=entities_dir, file=file)           \n",
    "    except Exception as e:\n",
    "        print(f'Json file does not contain values. Error message {e}')\n",
    "        with open(blacklist_dir, 'r+') as blacklist_file:\n",
    "            content = blacklist_file.read()\n",
    "            blacklist_file.seek(0, 0)\n",
    "            blacklist_file.write(file.replace('_entities.json','').rstrip('\\r\\n') + '\\n')\n",
    "            blacklist_file.write(content)\n",
    "            blacklist_file.close()\n",
    "        continue  \n",
    "\n",
    "    my_dict = j_file_entities.loc['entities'][0]  \n",
    "    df_entities = pd.DataFrame(my_dict.items(), columns=['entities', 'count'])\n",
    "    \n",
    "    df_entities['entities_id'] = df_entities.entities.str.split(pat=\"/\").str[-1]\n",
    "   \n",
    "    if df_entities.empty:\n",
    "        print(f'Json file does not contain values.')\n",
    "        with open(blacklist_dir, 'r+') as blacklist_file:\n",
    "            content = blacklist_file.read()\n",
    "            blacklist_file.seek(0, 0)\n",
    "            blacklist_file.write(file.replace('_entities.json','').rstrip('\\r\\n') + '\\n')\n",
    "            blacklist_file.write(content)\n",
    "            blacklist_file.close()\n",
    "        continue     \n",
    "    \n",
    "    #print(df_entities)\n",
    "    \n",
    "    article_id = j_file_entities.loc['id'].values[0]\n",
    "    \n",
    "    # check valid json file, i.e. contains values\n",
    "    try:\n",
    "        # Convert a JSON string to pandas object, and return a dataframe\n",
    "        with open(dataset_dir + article_id + '.json', encoding='utf-8') as json_file:\n",
    "            j_file_original = json.load(json_file)\n",
    "        #print(j_file_original)\n",
    "    except Exception as e:\n",
    "        print(f'Original json file does not exist. Error message {e}')\n",
    "        #This function receives the article to and saves them in the\n",
    "        # blacklist file. The backlist contains all invalid articles, such\n",
    "        # as non-authors, non-entities, and others\n",
    "        with open(blacklist_dir, 'r+') as blacklist_file:\n",
    "            content = blacklist_file.read()\n",
    "            blacklist_file.seek(0, 0)\n",
    "            blacklist_file.write(file.replace('_entities.json','').rstrip('\\r\\n') + '\\n')\n",
    "            blacklist_file.write(content)\n",
    "            blacklist_file.close()\n",
    "        continue    \n",
    "    \n",
    "    # check if json file contains AUTHORS, otherwise try to find them in metadata.csv\n",
    "    # if value remains null them put this article in the blacklist file\n",
    "    \n",
    "    list_of_authors = []\n",
    "    for p in j_file_original['metadata']['authors']:\n",
    "        \n",
    "        if len(p['first']) == 0 or len(p['last']) == 0:\n",
    "            continue\n",
    "        else:\n",
    "            # remove all characters except alphabets from a string to unidecode\n",
    "            first = unidecode.unidecode( ''.join(m for m in p['first'] if m.isalpha()))\n",
    "            middle = unidecode.unidecode( ''.join(m for m in p['middle'] if m.isalpha()))\n",
    "            last = unidecode.unidecode( ''.join(m for m in p['last'] if m.isalpha()))\n",
    "\n",
    "            list_of_authors.append(first + ', '+ middle + ' '+ last)\n",
    "    \n",
    "###  ---- Begin of Metadata file ----\n",
    "    \n",
    "    # if authors is empty we will find in metadata.csv file\n",
    "    if len(list_of_authors)==0:\n",
    "        ##if string is NaN\n",
    "        try:\n",
    "            authors = data[metadata.sha == article_id].authors.values[0].split(';')\n",
    "            for a in authors:\n",
    "                a = a.split(',')\n",
    "                first = unidecode.unidecode( ''.join(m for m in a[1] if m.isalpha()))\n",
    "                last = unidecode.unidecode( ''.join(m for m in a[0] if m.isalpha()))\n",
    "                list_of_authors.append(first + ', '+  last) \n",
    "        \n",
    "        except Exception as e:\n",
    "            print(f'Empty values {e}')   \n",
    "            #This function receives the article to and saves them in the\n",
    "            # blacklist file. The backlist contains all invalid articles, such\n",
    "            # as non-authors, non-entities, and others\n",
    "            with open(blacklist_dir, 'r+') as blacklist_file:\n",
    "                content = blacklist_file.read()\n",
    "                blacklist_file.seek(0, 0)\n",
    "                blacklist_file.write(file.replace('_entities.json','').rstrip('\\r\\n') + '\\n')\n",
    "                blacklist_file.write(content)\n",
    "                blacklist_file.close()               \n",
    "        continue\n",
    "        \n",
    "    # CHECK YEAR\n",
    "    \n",
    "    publish_date=''      \n",
    "    try:\n",
    "        publish_date = metadata[metadata.sha == article_id].\\\n",
    "            publish_time.map(lambda v: v.split('-')[0]).tolist()[0]\n",
    "    finally:\n",
    "        pass  \n",
    "    print(publish_date)\n",
    "    \n",
    "    if publish_date==None:\n",
    "        #This function receives the article to and saves them in the\n",
    "        # blacklist file. The backlist contains all invalid articles, such\n",
    "        # as non-authors, non-entities, and others\n",
    "        with open(blacklist_dir, 'r+') as blacklist_file:\n",
    "            content = blacklist_file.read()\n",
    "            blacklist_file.seek(0, 0)\n",
    "            blacklist_file.write(file.replace('_entities.json','').rstrip('\\r\\n') + '\\n')\n",
    "            blacklist_file.write(content)\n",
    "            blacklist_file.close()\n",
    "        continue\n",
    "\n",
    "    count+=1\n",
    "    \n",
    "###  ---- End of Metadata file ----            \n",
    "    \n",
    "    # Append <user, item, rating> tuple\n",
    "    user_item_rating = []\n",
    "    for author in list_of_authors:\n",
    "        for entity in df_entities.entities_id:\n",
    "            user_item_rating.append([author, entity, 1])\n",
    "\n",
    "    #print(user_item_rating)\n",
    "    \n",
    "    ## add publish_date in array in index column = 3\n",
    "    user_item_rating = np.insert(user_item_rating, 3, publish_date, axis=1)\n",
    "    # print(user_item_rating)\n",
    "    \n",
    "    user_item_rating_all.append(user_item_rating)"
   ]
  },
  {
   "cell_type": "code",
   "execution_count": 19,
   "id": "1acec20f",
   "metadata": {},
   "outputs": [],
   "source": [
    "flat_list = []\n",
    "for sublist in user_item_rating_all:\n",
    "    for item in sublist:\n",
    "        flat_list.append(item)"
   ]
  },
  {
   "cell_type": "code",
   "execution_count": 20,
   "id": "08f87c48",
   "metadata": {},
   "outputs": [
    {
     "ename": "ValueError",
     "evalue": "Empty data passed with indices specified.",
     "output_type": "error",
     "traceback": [
      "\u001b[0;31m---------------------------------------------------------------------------\u001b[0m",
      "\u001b[0;31mValueError\u001b[0m                                Traceback (most recent call last)",
      "\u001b[0;32m~/miniconda3/envs/recsys_scifi_2/lib/python3.6/site-packages/pandas/core/internals/managers.py\u001b[0m in \u001b[0;36mcreate_block_manager_from_blocks\u001b[0;34m(blocks, axes)\u001b[0m\n\u001b[1;32m   1670\u001b[0m                 blocks = [\n\u001b[0;32m-> 1671\u001b[0;31m                     \u001b[0mmake_block\u001b[0m\u001b[0;34m(\u001b[0m\u001b[0mvalues\u001b[0m\u001b[0;34m=\u001b[0m\u001b[0mblocks\u001b[0m\u001b[0;34m[\u001b[0m\u001b[0;36m0\u001b[0m\u001b[0;34m]\u001b[0m\u001b[0;34m,\u001b[0m \u001b[0mplacement\u001b[0m\u001b[0;34m=\u001b[0m\u001b[0mslice\u001b[0m\u001b[0;34m(\u001b[0m\u001b[0;36m0\u001b[0m\u001b[0;34m,\u001b[0m \u001b[0mlen\u001b[0m\u001b[0;34m(\u001b[0m\u001b[0maxes\u001b[0m\u001b[0;34m[\u001b[0m\u001b[0;36m0\u001b[0m\u001b[0;34m]\u001b[0m\u001b[0;34m)\u001b[0m\u001b[0;34m)\u001b[0m\u001b[0;34m)\u001b[0m\u001b[0;34m\u001b[0m\u001b[0;34m\u001b[0m\u001b[0m\n\u001b[0m\u001b[1;32m   1672\u001b[0m                 ]\n",
      "\u001b[0;32m~/miniconda3/envs/recsys_scifi_2/lib/python3.6/site-packages/pandas/core/internals/blocks.py\u001b[0m in \u001b[0;36mmake_block\u001b[0;34m(values, placement, klass, ndim, dtype)\u001b[0m\n\u001b[1;32m   2743\u001b[0m \u001b[0;34m\u001b[0m\u001b[0m\n\u001b[0;32m-> 2744\u001b[0;31m     \u001b[0;32mreturn\u001b[0m \u001b[0mklass\u001b[0m\u001b[0;34m(\u001b[0m\u001b[0mvalues\u001b[0m\u001b[0;34m,\u001b[0m \u001b[0mndim\u001b[0m\u001b[0;34m=\u001b[0m\u001b[0mndim\u001b[0m\u001b[0;34m,\u001b[0m \u001b[0mplacement\u001b[0m\u001b[0;34m=\u001b[0m\u001b[0mplacement\u001b[0m\u001b[0;34m)\u001b[0m\u001b[0;34m\u001b[0m\u001b[0;34m\u001b[0m\u001b[0m\n\u001b[0m\u001b[1;32m   2745\u001b[0m \u001b[0;34m\u001b[0m\u001b[0m\n",
      "\u001b[0;32m~/miniconda3/envs/recsys_scifi_2/lib/python3.6/site-packages/pandas/core/internals/blocks.py\u001b[0m in \u001b[0;36m__init__\u001b[0;34m(self, values, placement, ndim)\u001b[0m\n\u001b[1;32m    130\u001b[0m             raise ValueError(\n\u001b[0;32m--> 131\u001b[0;31m                 \u001b[0;34mf\"Wrong number of items passed {len(self.values)}, \"\u001b[0m\u001b[0;34m\u001b[0m\u001b[0;34m\u001b[0m\u001b[0m\n\u001b[0m\u001b[1;32m    132\u001b[0m                 \u001b[0;34mf\"placement implies {len(self.mgr_locs)}\"\u001b[0m\u001b[0;34m\u001b[0m\u001b[0;34m\u001b[0m\u001b[0m\n",
      "\u001b[0;31mValueError\u001b[0m: Wrong number of items passed 1, placement implies 4",
      "\nDuring handling of the above exception, another exception occurred:\n",
      "\u001b[0;31mValueError\u001b[0m                                Traceback (most recent call last)",
      "\u001b[0;32m<ipython-input-20-1facee25328a>\u001b[0m in \u001b[0;36m<module>\u001b[0;34m\u001b[0m\n\u001b[0;32m----> 1\u001b[0;31m \u001b[0mfinal_data\u001b[0m \u001b[0;34m=\u001b[0m \u001b[0mpd\u001b[0m\u001b[0;34m.\u001b[0m\u001b[0mDataFrame\u001b[0m\u001b[0;34m(\u001b[0m\u001b[0mnp\u001b[0m\u001b[0;34m.\u001b[0m\u001b[0marray\u001b[0m\u001b[0;34m(\u001b[0m\u001b[0mflat_list\u001b[0m\u001b[0;34m)\u001b[0m\u001b[0;34m,\u001b[0m  \u001b[0mcolumns\u001b[0m\u001b[0;34m=\u001b[0m\u001b[0;34m[\u001b[0m\u001b[0;34m'user'\u001b[0m\u001b[0;34m,\u001b[0m \u001b[0;34m'item'\u001b[0m\u001b[0;34m,\u001b[0m \u001b[0;34m'rating'\u001b[0m\u001b[0;34m,\u001b[0m \u001b[0;34m'year'\u001b[0m\u001b[0;34m]\u001b[0m\u001b[0;34m)\u001b[0m\u001b[0;34m\u001b[0m\u001b[0;34m\u001b[0m\u001b[0m\n\u001b[0m\u001b[1;32m      2\u001b[0m \u001b[0msum_df\u001b[0m \u001b[0;34m=\u001b[0m \u001b[0mfinal_data\u001b[0m\u001b[0;34m.\u001b[0m\u001b[0mgroupby\u001b[0m\u001b[0;34m(\u001b[0m\u001b[0;34m[\u001b[0m\u001b[0;34m'user'\u001b[0m\u001b[0;34m,\u001b[0m \u001b[0;34m'item'\u001b[0m\u001b[0;34m,\u001b[0m \u001b[0;34m'year'\u001b[0m\u001b[0;34m]\u001b[0m\u001b[0;34m)\u001b[0m\u001b[0;34m.\u001b[0m\u001b[0msize\u001b[0m\u001b[0;34m(\u001b[0m\u001b[0;34m)\u001b[0m\u001b[0;34m.\u001b[0m\u001b[0mreset_index\u001b[0m\u001b[0;34m(\u001b[0m\u001b[0;34m)\u001b[0m\u001b[0;34m.\u001b[0m\u001b[0mrename\u001b[0m\u001b[0;34m(\u001b[0m\u001b[0mcolumns\u001b[0m\u001b[0;34m=\u001b[0m\u001b[0;34m{\u001b[0m\u001b[0;36m0\u001b[0m\u001b[0;34m:\u001b[0m \u001b[0;34m'rating'\u001b[0m\u001b[0;34m}\u001b[0m\u001b[0;34m)\u001b[0m\u001b[0;34m\u001b[0m\u001b[0;34m\u001b[0m\u001b[0m\n\u001b[1;32m      3\u001b[0m \u001b[0;34m\u001b[0m\u001b[0m\n\u001b[1;32m      4\u001b[0m \u001b[0;31m#     maps the values to the lowest consecutive values\u001b[0m\u001b[0;34m\u001b[0m\u001b[0;34m\u001b[0m\u001b[0;34m\u001b[0m\u001b[0m\n\u001b[1;32m      5\u001b[0m \u001b[0mdf_user_index\u001b[0m \u001b[0;34m=\u001b[0m \u001b[0mpd\u001b[0m\u001b[0;34m.\u001b[0m\u001b[0mDataFrame\u001b[0m\u001b[0;34m(\u001b[0m\u001b[0msum_df\u001b[0m\u001b[0;34m.\u001b[0m\u001b[0muser\u001b[0m\u001b[0;34m.\u001b[0m\u001b[0munique\u001b[0m\u001b[0;34m(\u001b[0m\u001b[0;34m)\u001b[0m\u001b[0;34m,\u001b[0m \u001b[0mcolumns\u001b[0m\u001b[0;34m=\u001b[0m\u001b[0;34m[\u001b[0m\u001b[0;34m\"user\"\u001b[0m\u001b[0;34m]\u001b[0m\u001b[0;34m)\u001b[0m\u001b[0;34m\u001b[0m\u001b[0;34m\u001b[0m\u001b[0m\n",
      "\u001b[0;32m~/miniconda3/envs/recsys_scifi_2/lib/python3.6/site-packages/pandas/core/frame.py\u001b[0m in \u001b[0;36m__init__\u001b[0;34m(self, data, index, columns, dtype, copy)\u001b[0m\n\u001b[1;32m    495\u001b[0m                 \u001b[0mmgr\u001b[0m \u001b[0;34m=\u001b[0m \u001b[0minit_dict\u001b[0m\u001b[0;34m(\u001b[0m\u001b[0;34m{\u001b[0m\u001b[0mdata\u001b[0m\u001b[0;34m.\u001b[0m\u001b[0mname\u001b[0m\u001b[0;34m:\u001b[0m \u001b[0mdata\u001b[0m\u001b[0;34m}\u001b[0m\u001b[0;34m,\u001b[0m \u001b[0mindex\u001b[0m\u001b[0;34m,\u001b[0m \u001b[0mcolumns\u001b[0m\u001b[0;34m,\u001b[0m \u001b[0mdtype\u001b[0m\u001b[0;34m=\u001b[0m\u001b[0mdtype\u001b[0m\u001b[0;34m)\u001b[0m\u001b[0;34m\u001b[0m\u001b[0;34m\u001b[0m\u001b[0m\n\u001b[1;32m    496\u001b[0m             \u001b[0;32melse\u001b[0m\u001b[0;34m:\u001b[0m\u001b[0;34m\u001b[0m\u001b[0;34m\u001b[0m\u001b[0m\n\u001b[0;32m--> 497\u001b[0;31m                 \u001b[0mmgr\u001b[0m \u001b[0;34m=\u001b[0m \u001b[0minit_ndarray\u001b[0m\u001b[0;34m(\u001b[0m\u001b[0mdata\u001b[0m\u001b[0;34m,\u001b[0m \u001b[0mindex\u001b[0m\u001b[0;34m,\u001b[0m \u001b[0mcolumns\u001b[0m\u001b[0;34m,\u001b[0m \u001b[0mdtype\u001b[0m\u001b[0;34m=\u001b[0m\u001b[0mdtype\u001b[0m\u001b[0;34m,\u001b[0m \u001b[0mcopy\u001b[0m\u001b[0;34m=\u001b[0m\u001b[0mcopy\u001b[0m\u001b[0;34m)\u001b[0m\u001b[0;34m\u001b[0m\u001b[0;34m\u001b[0m\u001b[0m\n\u001b[0m\u001b[1;32m    498\u001b[0m \u001b[0;34m\u001b[0m\u001b[0m\n\u001b[1;32m    499\u001b[0m         \u001b[0;31m# For data is list-like, or Iterable (will consume into list)\u001b[0m\u001b[0;34m\u001b[0m\u001b[0;34m\u001b[0m\u001b[0;34m\u001b[0m\u001b[0m\n",
      "\u001b[0;32m~/miniconda3/envs/recsys_scifi_2/lib/python3.6/site-packages/pandas/core/internals/construction.py\u001b[0m in \u001b[0;36minit_ndarray\u001b[0;34m(values, index, columns, dtype, copy)\u001b[0m\n\u001b[1;32m    232\u001b[0m         \u001b[0mblock_values\u001b[0m \u001b[0;34m=\u001b[0m \u001b[0;34m[\u001b[0m\u001b[0mvalues\u001b[0m\u001b[0;34m]\u001b[0m\u001b[0;34m\u001b[0m\u001b[0;34m\u001b[0m\u001b[0m\n\u001b[1;32m    233\u001b[0m \u001b[0;34m\u001b[0m\u001b[0m\n\u001b[0;32m--> 234\u001b[0;31m     \u001b[0;32mreturn\u001b[0m \u001b[0mcreate_block_manager_from_blocks\u001b[0m\u001b[0;34m(\u001b[0m\u001b[0mblock_values\u001b[0m\u001b[0;34m,\u001b[0m \u001b[0;34m[\u001b[0m\u001b[0mcolumns\u001b[0m\u001b[0;34m,\u001b[0m \u001b[0mindex\u001b[0m\u001b[0;34m]\u001b[0m\u001b[0;34m)\u001b[0m\u001b[0;34m\u001b[0m\u001b[0;34m\u001b[0m\u001b[0m\n\u001b[0m\u001b[1;32m    235\u001b[0m \u001b[0;34m\u001b[0m\u001b[0m\n\u001b[1;32m    236\u001b[0m \u001b[0;34m\u001b[0m\u001b[0m\n",
      "\u001b[0;32m~/miniconda3/envs/recsys_scifi_2/lib/python3.6/site-packages/pandas/core/internals/managers.py\u001b[0m in \u001b[0;36mcreate_block_manager_from_blocks\u001b[0;34m(blocks, axes)\u001b[0m\n\u001b[1;32m   1679\u001b[0m         \u001b[0mblocks\u001b[0m \u001b[0;34m=\u001b[0m \u001b[0;34m[\u001b[0m\u001b[0mgetattr\u001b[0m\u001b[0;34m(\u001b[0m\u001b[0mb\u001b[0m\u001b[0;34m,\u001b[0m \u001b[0;34m\"values\"\u001b[0m\u001b[0;34m,\u001b[0m \u001b[0mb\u001b[0m\u001b[0;34m)\u001b[0m \u001b[0;32mfor\u001b[0m \u001b[0mb\u001b[0m \u001b[0;32min\u001b[0m \u001b[0mblocks\u001b[0m\u001b[0;34m]\u001b[0m\u001b[0;34m\u001b[0m\u001b[0;34m\u001b[0m\u001b[0m\n\u001b[1;32m   1680\u001b[0m         \u001b[0mtot_items\u001b[0m \u001b[0;34m=\u001b[0m \u001b[0msum\u001b[0m\u001b[0;34m(\u001b[0m\u001b[0mb\u001b[0m\u001b[0;34m.\u001b[0m\u001b[0mshape\u001b[0m\u001b[0;34m[\u001b[0m\u001b[0;36m0\u001b[0m\u001b[0;34m]\u001b[0m \u001b[0;32mfor\u001b[0m \u001b[0mb\u001b[0m \u001b[0;32min\u001b[0m \u001b[0mblocks\u001b[0m\u001b[0;34m)\u001b[0m\u001b[0;34m\u001b[0m\u001b[0;34m\u001b[0m\u001b[0m\n\u001b[0;32m-> 1681\u001b[0;31m         \u001b[0;32mraise\u001b[0m \u001b[0mconstruction_error\u001b[0m\u001b[0;34m(\u001b[0m\u001b[0mtot_items\u001b[0m\u001b[0;34m,\u001b[0m \u001b[0mblocks\u001b[0m\u001b[0;34m[\u001b[0m\u001b[0;36m0\u001b[0m\u001b[0;34m]\u001b[0m\u001b[0;34m.\u001b[0m\u001b[0mshape\u001b[0m\u001b[0;34m[\u001b[0m\u001b[0;36m1\u001b[0m\u001b[0;34m:\u001b[0m\u001b[0;34m]\u001b[0m\u001b[0;34m,\u001b[0m \u001b[0maxes\u001b[0m\u001b[0;34m,\u001b[0m \u001b[0me\u001b[0m\u001b[0;34m)\u001b[0m\u001b[0;34m\u001b[0m\u001b[0;34m\u001b[0m\u001b[0m\n\u001b[0m\u001b[1;32m   1682\u001b[0m \u001b[0;34m\u001b[0m\u001b[0m\n\u001b[1;32m   1683\u001b[0m \u001b[0;34m\u001b[0m\u001b[0m\n",
      "\u001b[0;31mValueError\u001b[0m: Empty data passed with indices specified."
     ]
    }
   ],
   "source": [
    "final_data = pd.DataFrame(np.array(flat_list),  columns=['user', 'item', 'rating', 'year'])\n",
    "sum_df = final_data.groupby(['user', 'item', 'year']).size().reset_index().rename(columns={0: 'rating'})   \n",
    "\n",
    "#     maps the values to the lowest consecutive values\n",
    "df_user_index = pd.DataFrame(sum_df.user.unique(), columns=[\"user\"])\n",
    "df_user_index[\"new_index\"] = np.arange(0, len(sum_df.user.unique()))\n",
    "\n",
    "sum_df[\"index_user\"] = sum_df[\"user\"].map(df_user_index.set_index('user')[\"new_index\"]).fillna(0) \n",
    "df_with_user_id = sum_df"
   ]
  },
  {
   "cell_type": "code",
   "execution_count": 21,
   "id": "dcad469d",
   "metadata": {},
   "outputs": [
    {
     "ename": "NameError",
     "evalue": "name 'df_with_user_id' is not defined",
     "output_type": "error",
     "traceback": [
      "\u001b[0;31m---------------------------------------------------------------------------\u001b[0m",
      "\u001b[0;31mNameError\u001b[0m                                 Traceback (most recent call last)",
      "\u001b[0;32m<ipython-input-21-860bb2d9abf2>\u001b[0m in \u001b[0;36m<module>\u001b[0;34m\u001b[0m\n\u001b[0;32m----> 1\u001b[0;31m \u001b[0mdf_with_user_id\u001b[0m\u001b[0;34m.\u001b[0m\u001b[0mrename\u001b[0m\u001b[0;34m(\u001b[0m\u001b[0mcolumns\u001b[0m\u001b[0;34m=\u001b[0m\u001b[0;34m{\u001b[0m\u001b[0;34m'user'\u001b[0m\u001b[0;34m:\u001b[0m \u001b[0;34m'author_name'\u001b[0m\u001b[0;34m,\u001b[0m \u001b[0;34m'index_user'\u001b[0m\u001b[0;34m:\u001b[0m \u001b[0;34m'user'\u001b[0m\u001b[0;34m}\u001b[0m\u001b[0;34m,\u001b[0m \u001b[0minplace\u001b[0m \u001b[0;34m=\u001b[0m \u001b[0;32mTrue\u001b[0m\u001b[0;34m)\u001b[0m\u001b[0;34m\u001b[0m\u001b[0;34m\u001b[0m\u001b[0m\n\u001b[0m",
      "\u001b[0;31mNameError\u001b[0m: name 'df_with_user_id' is not defined"
     ]
    }
   ],
   "source": [
    "df_with_user_id.rename(columns={'user': 'author_name', 'index_user': 'user'}, inplace = True)"
   ]
  },
  {
   "cell_type": "markdown",
   "id": "8135fa05",
   "metadata": {},
   "source": [
    "<a id=\"3.4\"></a>\n",
    "### 3.4. Get entities labels"
   ]
  },
  {
   "cell_type": "code",
   "execution_count": null,
   "id": "6bd6d2cc",
   "metadata": {},
   "outputs": [],
   "source": [
    "list_of_entities = df_with_user_id.item.unique()\n",
    "print(list_of_entities) "
   ]
  },
  {
   "cell_type": "markdown",
   "id": "06856748",
   "metadata": {},
   "source": [
    "Loading ontologies: Get entities lables from http://purl.obolibrary.org/obo/ based on items prefix"
   ]
  },
  {
   "cell_type": "code",
   "execution_count": null,
   "id": "e0fb54a4",
   "metadata": {},
   "outputs": [],
   "source": [
    "path_chebi = 'data/ontologies/chebi.owl'\n",
    "path_do = 'data/ontologies/doid.owl'"
   ]
  },
  {
   "cell_type": "code",
   "execution_count": null,
   "id": "1d811bc7",
   "metadata": {},
   "outputs": [],
   "source": [
    "#     Get entities lables from http://purl.obolibrary.org/obo/ based on items prefix\n",
    "\n",
    "entities_label = []\n",
    "for id in list_of_entities: \n",
    "    uri = URIRef('http://purl.obolibrary.org/obo/' + id)\n",
    "    if id.startswith('CHEBI'):\n",
    "        label = chebi.label(uri)\n",
    "    elif id.startswith('DO'):\n",
    "        label = do.label(uri)\n",
    "    entities_label.append(label)\n",
    "\n",
    "print(entities_label)"
   ]
  },
  {
   "cell_type": "code",
   "execution_count": null,
   "id": "b999e494",
   "metadata": {},
   "outputs": [],
   "source": [
    "df_entities = pd.DataFrame(list_of_entities, columns=[\"item_id\"])\n",
    "df_entities[\"entity_name\"] = np.array(entities_label)\n",
    "print(df_entities)"
   ]
  },
  {
   "cell_type": "markdown",
   "id": "d409e57e",
   "metadata": {},
   "source": [
    "Mapping labels, and get dataset as <user, author_name, item, rating, item_name, year>"
   ]
  },
  {
   "cell_type": "code",
   "execution_count": null,
   "id": "7c800244",
   "metadata": {},
   "outputs": [],
   "source": [
    "df_with_user_id[\"item_name\"] = df_with_user_id[\"item\"].map(df_entities.set_index('item_id')[\"entity_name\"]).fillna(0)\n",
    "print(df_with_user_id)"
   ]
  },
  {
   "cell_type": "markdown",
   "id": "665934d1",
   "metadata": {},
   "source": [
    "<a id=\"3.5\"></a>\n",
    "### 3.5. Save data"
   ]
  },
  {
   "cell_type": "markdown",
   "id": "bf6a0e0d",
   "metadata": {},
   "source": [
    "First, create the output dir "
   ]
  },
  {
   "cell_type": "code",
   "execution_count": null,
   "id": "817604b5",
   "metadata": {},
   "outputs": [],
   "source": [
    "cord_ds_dir = 'data/results/sample_cord-19_dataset.csv'\n",
    "cord_userid_dir = 'data/results/sample_cord-19_dataset_userid.csv'\n",
    "\n",
    "if not os.path.exists(os.path.dirname(cord_ds_dir)):\n",
    "        Path(os.path.dirname(cord_ds_dir)).mkdir(parents=True, exist_ok=True)   \n",
    "        \n",
    "if not os.path.exists(os.path.dirname(cord_userid_dir)):\n",
    "        Path(os.path.dirname(cord_userid_dir)).mkdir(parents=True, exist_ok=True) "
   ]
  },
  {
   "cell_type": "markdown",
   "id": "f9bcb77b",
   "metadata": {},
   "source": [
    "Now, save all values in csv file        "
   ]
  },
  {
   "cell_type": "code",
   "execution_count": null,
   "id": "ef499eb9",
   "metadata": {},
   "outputs": [],
   "source": [
    "df_with_user_id[['user', 'item', 'rating', 'item_name', 'year']].to_csv(cord_ds_dir, index=False, header=False)\n",
    "\n",
    "df_with_user_id[['user', 'author_name']].to_csv(cord_userid_dir, index=False, header=False) "
   ]
  },
  {
   "cell_type": "markdown",
   "id": "7d0af075",
   "metadata": {},
   "source": [
    "<a id=\"4\"></a>\n",
    "## 4. Data statistics "
   ]
  },
  {
   "cell_type": "code",
   "execution_count": null,
   "id": "3d8d5a81",
   "metadata": {},
   "outputs": [],
   "source": [
    "import pandas as pd\n",
    "\n",
    "dataset = pd.read_csv('data/results/sample_cord-19_dataset.csv', names=['user', 'item', 'rating', 'item_name', 'year'])\n",
    "#dataset = pd.read_csv('/home/mbarros/Desktop/data/scirec2021/comm_subset_cord-19_dataset_total_ordered_filtered.csv', names=['user', 'item', 'rating', 'item_name', 'year'])\n",
    "\n",
    "\n",
    "print(dataset.head(20))"
   ]
  },
  {
   "cell_type": "code",
   "execution_count": null,
   "id": "173949d8",
   "metadata": {},
   "outputs": [],
   "source": [
    "# number of unique users\n",
    "# number of unique items\n",
    "# number of ratings\n",
    "# sparsity \n",
    "\n",
    "print('n users: ', dataset.user.unique().shape[0])\n",
    "print('n items: ', dataset.item.unique().shape[0])\n",
    "print('n ratings: ', dataset.size)\n",
    "\n",
    "print('sparsity: ', 1 - (dataset.size / (dataset.user.unique().shape[0] * dataset.item.unique().shape[0])))"
   ]
  },
  {
   "cell_type": "code",
   "execution_count": null,
   "id": "9d87e8f8",
   "metadata": {},
   "outputs": [],
   "source": [
    "# items by ontology\n",
    "\n",
    "print(\"CHEBI items: \", dataset[dataset.item.str.startswith('CHEBI')].item.unique().shape[0])\n",
    "\n",
    "print(\"DOID items: \", dataset[dataset.item.str.startswith('DOID')].item.unique().shape[0])"
   ]
  },
  {
   "cell_type": "code",
   "execution_count": null,
   "id": "c944b6de",
   "metadata": {},
   "outputs": [],
   "source": [
    "# items by user\n",
    "import matplotlib as mpl\n",
    "import matplotlib.pyplot as plt\n",
    "%matplotlib inline\n",
    "\n",
    "unique_users = dataset.user.unique()\n",
    "items_by_user = dataset.groupby(['user'])[\"item\"].count().reset_index()\n",
    "items_by_user = items_by_user.sort_values(by=['item'], ascending=False)\n",
    "print(items_by_user)\n",
    "items_by_user.user = items_by_user.user.astype('str')\n",
    "\n",
    "print('max items by user: ', items_by_user.item.max())\n",
    "print('min items by user: ', items_by_user.item.min())\n",
    "print('mean items by user: ', items_by_user.item.mean())"
   ]
  },
  {
   "cell_type": "code",
   "execution_count": null,
   "id": "7267ed5f",
   "metadata": {},
   "outputs": [],
   "source": [
    "plt.scatter(items_by_user.user, items_by_user.item)\n",
    "plt.axhline(y=items_by_user.item.mean(), color='r', linestyle='-')\n",
    "plt.ylabel('number of items')\n",
    "plt.xlabel('user')\n",
    "plt.show()"
   ]
  },
  {
   "cell_type": "code",
   "execution_count": null,
   "id": "18838afa",
   "metadata": {},
   "outputs": [],
   "source": [
    "# users by item\n",
    "\n",
    "unique_items = dataset.item.unique()\n",
    "users_by_item = dataset.groupby(['item'])[\"user\"].count().reset_index()\n",
    "users_by_item = users_by_item.sort_values(by=['user'], ascending=False)\n",
    "\n",
    "print('max users by item: ', users_by_item.user.max())\n",
    "list_of_max_items = users_by_item[users_by_item.user == users_by_item.user.max()].item.values\n",
    "print(list_of_max_items)\n",
    "\n",
    "print(dataset[dataset.item == list_of_max_items[0]])\n",
    "\n",
    "print('min users by item: ', users_by_item.user.min())\n",
    "print('mean users by item: ', users_by_item.user.mean())"
   ]
  },
  {
   "cell_type": "code",
   "execution_count": null,
   "id": "1e208e86",
   "metadata": {},
   "outputs": [],
   "source": [
    "dataset_doid = dataset[dataset.item.str.startswith('DOID')]\n",
    "unique_items_d = dataset_doid.item.unique()\n",
    "users_by_item_d = dataset_doid.groupby(['item'])[\"user\"].count().reset_index()\n",
    "users_by_item_d = users_by_item_d.sort_values(by=['user'], ascending=False)\n",
    "\n",
    "print('max users by item: ', users_by_item_d.user.max())\n",
    "list_of_max_items_d = users_by_item_d[users_by_item_d.user == users_by_item_d.user.max()].item.values\n",
    "print(list_of_max_items_d)\n",
    "\n",
    "print(dataset_doid[dataset_doid.item == list_of_max_items_d[0]])\n",
    "\n",
    "print('min users by item: ', users_by_item_d.user.min())\n",
    "print('mean users by item: ', users_by_item_d.user.mean())"
   ]
  },
  {
   "cell_type": "code",
   "execution_count": null,
   "id": "cc9cdf58",
   "metadata": {},
   "outputs": [],
   "source": [
    "dataset_chebi = dataset[dataset.item.str.startswith('CHEBI')]\n",
    "unique_items_c = dataset_chebi.item.unique()\n",
    "users_by_item_c = dataset_chebi.groupby(['item'])[\"user\"].count().reset_index()\n",
    "users_by_item_c = users_by_item_c.sort_values(by=['user'], ascending=False)\n",
    "\n",
    "print('max users by item: ', users_by_item_c.user.max())\n",
    "list_of_max_items_c = users_by_item_c[users_by_item_c.user == users_by_item_c.user.max()].item.values\n",
    "print(list_of_max_items_c)\n",
    "\n",
    "print(dataset_chebi[dataset_chebi.item == list_of_max_items_c[0]])\n",
    "\n",
    "print('min users by item: ', users_by_item_c.user.min())\n",
    "print('mean users by item: ', users_by_item_c.user.mean())"
   ]
  },
  {
   "cell_type": "code",
   "execution_count": null,
   "id": "1e465768",
   "metadata": {},
   "outputs": [],
   "source": [
    "#%matplotlib qt\n",
    "\n",
    "plt.scatter(users_by_item.item, users_by_item.user)\n",
    "plt.axhline(y=users_by_item.user.mean(), color='r', linestyle='-')\n",
    "#plt.yscale('log')\n",
    "plt.ylabel('number of users')\n",
    "plt.xlabel('items')\n",
    "plt.show()"
   ]
  }
 ],
 "metadata": {
  "kernelspec": {
   "display_name": "recsys_scifi_2",
   "language": "python",
   "name": "recsys_scifi_2"
  },
  "language_info": {
   "codemirror_mode": {
    "name": "ipython",
    "version": 3
   },
   "file_extension": ".py",
   "mimetype": "text/x-python",
   "name": "python",
   "nbconvert_exporter": "python",
   "pygments_lexer": "ipython3",
   "version": "3.6.13"
  }
 },
 "nbformat": 4,
 "nbformat_minor": 5
}
