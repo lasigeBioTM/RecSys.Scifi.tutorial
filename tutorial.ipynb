{
 "cells": [
  {
   "cell_type": "markdown",
   "source": [
    "# Tutorial: Creating Recommender Systems Datasets in Scientific Fields\n",
    "\n",
    "\n",
    "<ul>\n",
    "    <li><a href=\"#1\">1. Data retrieval and cleaning</a></li>\n",
    "</ul>\n",
    "   \n",
    "<ul>\n",
    "   <li>&nbsp;&nbsp;&nbsp;&nbsp;&nbsp;&nbsp;&nbsp;&nbsp;<a href=\"#1.1\">1.1.Import libraries</a></li>\n",
    "</ul>\n",
    "\n",
    "<ul>\n",
    "   <li>&nbsp;&nbsp;&nbsp;&nbsp;&nbsp;&nbsp;&nbsp;&nbsp;<a href=\"#1.2\">1.2. Retrieve CORD-19</a></li>\n",
    "</ul>\n",
    "\n",
    "<ul>\n",
    "   <li>&nbsp;&nbsp;&nbsp;&nbsp;&nbsp;&nbsp;&nbsp;&nbsp;<a href=\"#1.3\">1.3. Exploring the articles of the dataset</a></li>\n",
    "</ul>\n",
    "\n",
    "<ul>\n",
    "   <li>&nbsp;&nbsp;&nbsp;&nbsp;&nbsp;&nbsp;&nbsp;&nbsp;<a href=\"#1.4\">1.4. Selecting a sample of articles to build our scientific recommendation dataset</a></li>\n",
    "</ul>\n",
    "\n",
    "<ul>\n",
    "   <li><a href=\"#2\">2. Named Entity Recognition (NER) + Named Entity Linking (NEL)</a></li>\n",
    "</ul>\n",
    "\n",
    "<ul>\n",
    "   <li>&nbsp;&nbsp;&nbsp;&nbsp;&nbsp;&nbsp;&nbsp;&nbsp;<a href=\"#2.1\">2.1. Import libraries</a></li>\n",
    "</ul>\n",
    "\n",
    "<ul>\n",
    "   <li>&nbsp;&nbsp;&nbsp;&nbsp;&nbsp;&nbsp;&nbsp;&nbsp;<a href=\"#2.2\">2.2. Configure MER</a></li>\n",
    "</ul>\n",
    "\n",
    "<ul>\n",
    "   <li>&nbsp;&nbsp;&nbsp;&nbsp;&nbsp;&nbsp;&nbsp;&nbsp;<a href=\"#2.3\">2.3. Import stop words vocabulary and tokenizer</a></li>\n",
    "</ul>\n",
    "\n",
    "\n",
    "<ul>\n",
    "   <li>&nbsp;&nbsp;&nbsp;&nbsp;&nbsp;&nbsp;&nbsp;&nbsp;<a href=\"#2.4\">2.4. Extract the entities in a single file</a></li>\n",
    "</ul>\n",
    "\n",
    "<ul>\n",
    "   <li>&nbsp;&nbsp;&nbsp;&nbsp;&nbsp;&nbsp;&nbsp;&nbsp;<a href=\"#2.5\">2.5. Create entity files</a></li>\n",
    "</ul>\n",
    "\n",
    "<ul>\n",
    "   <li><a href=\"#3\">3. Creating the recommendation dataset</a></li>\n",
    "</ul>\n",
    "\n",
    "<ul>\n",
    "   <li>&nbsp;&nbsp;&nbsp;&nbsp;&nbsp;&nbsp;&nbsp;&nbsp;<a href=\"#3.1\">3.1. Import libraries</a></li>\n",
    "</ul>\n",
    "\n",
    "<ul>\n",
    "   <li>&nbsp;&nbsp;&nbsp;&nbsp;&nbsp;&nbsp;&nbsp;&nbsp;<a href=\"#3.2\">3.2. Import user-defined-functions</a></li>\n",
    "</ul>\n",
    "\n",
    "<ul>\n",
    "   <li>&nbsp;&nbsp;&nbsp;&nbsp;&nbsp;&nbsp;&nbsp;&nbsp;<a href=\"#3.3\">3.3. Get entities labels</a></li>\n",
    "</ul>\n",
    "\n",
    "<ul>\n",
    "   <li>&nbsp;&nbsp;&nbsp;&nbsp;&nbsp;&nbsp;&nbsp;&nbsp;<a href=\"#4.4\">3.4. Loading ontologies</a></li>\n",
    "</ul>\n",
    "\n",
    "<ul>\n",
    "   <li>&nbsp;&nbsp;&nbsp;&nbsp;&nbsp;&nbsp;&nbsp;&nbsp;<a href=\"#3.5\">3.5. Save data</a></li>\n",
    "</ul>\n",
    "\n",
    "\n",
    "\n",
    "\n",
    "\n",
    "\n",
    "\n",
    "\n",
    "\n",
    "\n",
    "\n",
    "\n",
    "\n",
    "\n",
    "\n",
    "\n",
    "\n"
   ],
   "metadata": {}
  },
  {
   "cell_type": "markdown",
   "source": [
    "<a id=\"1\"></a>\n",
    "\n",
    "## 1. Data retrieval + cleaning\n",
    "\n",
    "**Goal**: To retrieve the [COVID-19 Open Research Dataset (CORD-19)](https://www.semanticscholar.org/cord19) and to select a sample of complete English articles (authors' info, title, body text) to build a scientific recommendation dataset.\n",
    "\n",
    "CORD-19 includes coronavirus-related research articles extracted from several sources, such as PubMed, bioRxiv, medRxiv, WHO."
   ],
   "metadata": {}
  },
  {
   "cell_type": "markdown",
   "source": [
    "<a id=\"1.1\"></a>\n",
    "### 1.1 Import libraries"
   ],
   "metadata": {}
  },
  {
   "cell_type": "code",
   "execution_count": null,
   "source": [
    "import json\n",
    "import os\n",
    "import pandas as pd\n",
    "import requests\n",
    "import sys\n",
    "from langdetect import detect\n",
    "sys.path.append(\"./\")"
   ],
   "outputs": [],
   "metadata": {}
  },
  {
   "cell_type": "markdown",
   "source": [
    "<a id=\"1.2\"></a>\n",
    "### 1.2. Retrieve CORD-19\n",
    "\n",
    "CORD-19 is a large dataset, so in this tutorial we are going to use a smaller version of the dataset. \n",
    "This version is located under the directory \"cord19_small\":"
   ],
   "metadata": {}
  },
  {
   "cell_type": "code",
   "execution_count": null,
   "source": [
    "os.chdir('data')\n",
    "os.system('tar -xvf cord19_small.tar.xz')\n",
    "os.chdir('../')"
   ],
   "outputs": [],
   "metadata": {}
  },
  {
   "cell_type": "markdown",
   "source": [
    "However, if you want to retrieve the entire dataset, you can run the following code:"
   ],
   "metadata": {}
  },
  {
   "cell_type": "code",
   "execution_count": null,
   "source": [
    "os.chdir('data')\n",
    "         \n",
    "version = 'cord-19_2020-05-12.tar.gz'\n",
    "\n",
    "url = 'https://ai2-semanticscholar-cord-19.s3-us-west-2.amazonaws.com/historical_releases/' + version\n",
    "\n",
    "response = requests.get(url)\n",
    "\n",
    "os.system('tar -xvf cord-19_2020-05-12.tar.gz')\n",
    "os.chdir('../')"
   ],
   "outputs": [],
   "metadata": {}
  },
  {
   "cell_type": "markdown",
   "source": [
    "Let's explore the contents of the dataset directory, particularly, the metadata file."
   ],
   "metadata": {}
  },
  {
   "cell_type": "code",
   "execution_count": null,
   "source": [
    "dataset_dir = 'data/cord19_small/'\n",
    "metadata_filepath = dataset_dir + 'metadata.csv'\n",
    "\n",
    "metadata = pd.read_csv(metadata_filepath, sep = ',', quotechar = '\"',  encoding = 'utf-8', dtype=str) "
   ],
   "outputs": [],
   "metadata": {}
  },
  {
   "cell_type": "markdown",
   "source": [
    "Now we have a DataFrame with the contents of the metadata file."
   ],
   "metadata": {}
  },
  {
   "cell_type": "markdown",
   "source": [
    "To print column names and first row:"
   ],
   "metadata": {}
  },
  {
   "cell_type": "code",
   "execution_count": null,
   "source": [
    "metadata.head(1)"
   ],
   "outputs": [],
   "metadata": {}
  },
  {
   "cell_type": "markdown",
   "source": [
    "To access individual rows/articles:"
   ],
   "metadata": {}
  },
  {
   "cell_type": "code",
   "execution_count": null,
   "source": [
    "metadata.loc[0]"
   ],
   "outputs": [],
   "metadata": {}
  },
  {
   "cell_type": "markdown",
   "source": [
    "To access the individual column title':"
   ],
   "metadata": {}
  },
  {
   "cell_type": "code",
   "execution_count": null,
   "source": [
    "metadata['title']"
   ],
   "outputs": [],
   "metadata": {}
  },
  {
   "cell_type": "markdown",
   "source": [
    "Let's check the summary statistics:"
   ],
   "metadata": {}
  },
  {
   "cell_type": "code",
   "execution_count": null,
   "source": [
    "metadata.count()"
   ],
   "outputs": [],
   "metadata": {}
  },
  {
   "cell_type": "markdown",
   "source": [
    "By looking at the statistics, we can see that the number of records with data for the column 'cord_uid' is higher than the number of records with data for the column 'authors'. \n",
    "\n",
    "For our dataset, we only want to include articles with the following characteristics:\n",
    "- authors' information\n",
    "- available title\n",
    "- available body text\n",
    "- article text expressed in English\n",
    "- non-duplicate articles"
   ],
   "metadata": {}
  },
  {
   "cell_type": "markdown",
   "source": [
    "<a id=\"1.3\"></a>\n",
    "\n",
    "### 1.3. Exploring the articles of the dataset"
   ],
   "metadata": {}
  },
  {
   "cell_type": "markdown",
   "source": [
    "Let's consider the first article appearing in the metadata file.\n",
    "To check if information about the article's author is available:"
   ],
   "metadata": {}
  },
  {
   "cell_type": "code",
   "execution_count": null,
   "source": [
    "metadata.loc[0]['authors']"
   ],
   "outputs": [],
   "metadata": {}
  },
  {
   "cell_type": "markdown",
   "source": [
    "To check if there is an available title:"
   ],
   "metadata": {}
  },
  {
   "cell_type": "code",
   "execution_count": null,
   "source": [
    "metadata.loc[0]['title']"
   ],
   "outputs": [],
   "metadata": {}
  },
  {
   "cell_type": "markdown",
   "source": [
    "We can see that the title is expressed in English, but it would not be efficient to check the language of every article in the dataset, so we will apply the language detection tool [langdetect](https://pypi.org/project/langdetect/):"
   ],
   "metadata": {}
  },
  {
   "cell_type": "code",
   "execution_count": null,
   "source": [
    "title1 = metadata.loc[0]['title']\n",
    "\n",
    "title1_lang = (title1)\n",
    "\n",
    "print(\"Title:\", title1, \"\\nLanguage:\", title1_lang)"
   ],
   "outputs": [],
   "metadata": {}
  },
  {
   "cell_type": "markdown",
   "source": [
    "The tool detects English as the language of the title.\n",
    "\n",
    "Let's check another article:"
   ],
   "metadata": {}
  },
  {
   "cell_type": "code",
   "execution_count": null,
   "source": [
    "title2 = metadata.loc[144]['title']\n",
    "\n",
    "title2_lang = detect(title2)\n",
    "\n",
    "print(\"Title:\", title2, \"\\nLanguage:\", title2_lang)"
   ],
   "outputs": [],
   "metadata": {}
  },
  {
   "cell_type": "markdown",
   "source": [
    "In this case, the tool detects german ('de') as the language of the title."
   ],
   "metadata": {}
  },
  {
   "cell_type": "markdown",
   "source": [
    "Now, we want to check if there is an available abstract for the first article:"
   ],
   "metadata": {}
  },
  {
   "cell_type": "code",
   "execution_count": null,
   "source": [
    "metadata.loc[0]['abstract']"
   ],
   "outputs": [],
   "metadata": {}
  },
  {
   "cell_type": "markdown",
   "source": [
    "The metadata file does not contain the article's text besides abstract and title, but we can access the file associated with the article using the provided information in the columns 'pdf_json_files' or 'pmc_json_files':"
   ],
   "metadata": {}
  },
  {
   "cell_type": "code",
   "execution_count": null,
   "source": [
    "metadata.loc[0]['pdf_json_files']"
   ],
   "outputs": [],
   "metadata": {}
  },
  {
   "cell_type": "markdown",
   "source": [
    "Let's open the file, which is in [JSON](https://www.json.org/json-en.html) format:"
   ],
   "metadata": {}
  },
  {
   "cell_type": "code",
   "execution_count": null,
   "source": [
    "article1_filepath = dataset_dir + metadata.loc[0]['pdf_json_files']\n",
    "\n",
    "with open(article1_filepath, encoding='utf-8') as article1_file:\n",
    "    article1_data = json.load(article1_file)"
   ],
   "outputs": [],
   "metadata": {}
  },
  {
   "cell_type": "markdown",
   "source": [
    "Now we have the file content stored in a dictionary with the following keys:"
   ],
   "metadata": {}
  },
  {
   "cell_type": "code",
   "execution_count": null,
   "source": [
    "article1_data.keys()"
   ],
   "outputs": [],
   "metadata": {}
  },
  {
   "cell_type": "markdown",
   "source": [
    "The article content is the following:"
   ],
   "metadata": {}
  },
  {
   "cell_type": "code",
   "execution_count": null,
   "source": [
    "article1_data"
   ],
   "outputs": [],
   "metadata": {}
  },
  {
   "cell_type": "markdown",
   "source": [
    "Let's check the body text:"
   ],
   "metadata": {}
  },
  {
   "cell_type": "code",
   "execution_count": null,
   "source": [
    "body_text = article1_data['body_text']\n",
    "body_text"
   ],
   "outputs": [],
   "metadata": {}
  },
  {
   "cell_type": "markdown",
   "source": [
    "We have a list of dictionaries, each dictionary is a paragraph belonging to a given section of the article. We want to join the different parts text in a single string: "
   ],
   "metadata": {}
  },
  {
   "cell_type": "code",
   "execution_count": null,
   "source": [
    "article1_text = str()\n",
    "\n",
    "for paragraph in body_text:\n",
    "    article1_text += paragraph['text'] + '\\n'\n",
    "\n",
    "article1_text"
   ],
   "outputs": [],
   "metadata": {}
  },
  {
   "cell_type": "markdown",
   "source": [
    "All good! We will include this article in our dataset."
   ],
   "metadata": {}
  },
  {
   "cell_type": "markdown",
   "source": [
    "<a id=\"1.4\"></a>\n",
    "\n",
    "### 1.4. Selecting a sample of articles to build our scientific recommendation dataset"
   ],
   "metadata": {}
  },
  {
   "cell_type": "markdown",
   "source": [
    "Instead of repating each operation for each file individually, let us adapt our code to automatically select a sample containing 100 preprocessed articles. "
   ],
   "metadata": {}
  },
  {
   "cell_type": "markdown",
   "source": [
    "First, create the output directory:"
   ],
   "metadata": {}
  },
  {
   "cell_type": "code",
   "execution_count": null,
   "source": [
    "out_dir = 'data/sample/'\n",
    "\n",
    "if not os.path.exists(out_dir):\n",
    "    os.mkdir(out_dir)"
   ],
   "outputs": [],
   "metadata": {}
  },
  {
   "cell_type": "markdown",
   "source": [
    "Then, initiallize the necessary variables:"
   ],
   "metadata": {}
  },
  {
   "cell_type": "code",
   "execution_count": null,
   "source": [
    "max_articles = 100 #number of articles to include in the sample\n",
    "dataset_dir = 'data/cord19_small/'\n",
    "metadata_filepath = dataset_dir + 'metadata.csv'\n",
    "valid_articles_count = int()\n",
    "out_articles_ids = list()"
   ],
   "outputs": [],
   "metadata": {}
  },
  {
   "cell_type": "markdown",
   "source": [
    "Open the metadata file:"
   ],
   "metadata": {}
  },
  {
   "cell_type": "code",
   "execution_count": null,
   "source": [
    "metadata = pd.read_csv(metadata_filepath, sep = ',', quotechar = '\"',  encoding = 'utf-8', dtype=str) "
   ],
   "outputs": [],
   "metadata": {}
  },
  {
   "cell_type": "markdown",
   "source": [
    "Then iterate over the records in the metadata file and choose only the relevant ones:"
   ],
   "metadata": {}
  },
  {
   "cell_type": "code",
   "execution_count": null,
   "source": [
    "valid_articles_count = int()\n",
    "blacklist = str()\n",
    "blacklist_count = int()\n",
    "\n",
    "for index, record in metadata.iterrows():\n",
    "    invalid_article = True\n",
    "    \n",
    "    if valid_articles_count <= max_articles:\n",
    "        \n",
    "        if record['pubmed_id'] not in out_articles_ids:\n",
    "            \n",
    "            if type(record['sha']) != float:\n",
    "\n",
    "                if record['authors'] != '':    \n",
    "\n",
    "                    if record['title'] != '':\n",
    "                        title = record['title']\n",
    "                        title_lang = detect(title)\n",
    "                        article_filepath = record['pdf_json_files']\n",
    "                        \n",
    "                        if article_filepath != '': # to consider onyl articles from the pdf_json directory\n",
    "\n",
    "                            if title_lang == 'en'  \\\n",
    "                                and type(article_filepath) != float  \\\n",
    "                                and article_filepath.count(\"document\") == 1:\n",
    "\n",
    "                                article_filepath_up = dataset_dir + record['pdf_json_files']\n",
    "\n",
    "                                with open(article_filepath_up, encoding='utf-8') as article_file:\n",
    "                                    article_data = json.load(article_file)\n",
    "\n",
    "                                if 'body_text' in article_data.keys(): # the article is valid\n",
    "                                    valid_articles_count += 1\n",
    "                                    invalid_article = False\n",
    "\n",
    "                                    # open the article file to check if it contains all info\n",
    "                                    with open(article_filepath_up) as article_file:\n",
    "                                        article_data = json.load(article_file)\n",
    "\n",
    "                                    # correct the info of the article with info present in metadata file\n",
    "                                    changed_article = False\n",
    "\n",
    "                                    if article_data['metadata']['title'] == '':\n",
    "                                        article_data['metadata']['title'] = record['title']\n",
    "                                        changed_article = True\n",
    "\n",
    "                                    if article_data['metadata']['authors'] == []:\n",
    "                                        article_data['metadata']['authors'] = record['authors']\n",
    "\n",
    "                                    # output or copy article file to out_dir\n",
    "                                    if changed_article:\n",
    "\n",
    "                                        with open(out_dir + record['sha'] + '.json', 'w') as out_file:\n",
    "                                            out_file.write(json.dumps(article_data, indent=4, ensure_ascii=False))\n",
    "\n",
    "                                    else:\n",
    "                                        command = 'cp '  \\\n",
    "                                                  + article_filepath_up + ' ' \\\n",
    "                                                  + out_dir  \\\n",
    "                                                  + record['sha'] + '.json'\n",
    "\n",
    "                                        os.system(command)\n",
    "        \n",
    "        if invalid_article: # store article pubmed id in blacklist file\n",
    "            blacklist += record['pubmed_id'] + \"\\n\"\n",
    "            blacklist_count += 1\n",
    "            \n",
    "    if valid_articles_count == max_articles:\n",
    "        total_articles = index + 1\n",
    "        break\n",
    "\n",
    "#Create blacklist file with info about invalid articles\n",
    "with open('data/blacklist/blacklist_articles.txt', 'w') as blacklist_file:\n",
    "    blacklist_file.write(blacklist)\n",
    "    blacklist_file.close()\n",
    "\n",
    "print(\"Invalid articles:\", str(blacklist_count))"
   ],
   "outputs": [],
   "metadata": {}
  },
  {
   "cell_type": "markdown",
   "source": [
    "If you were not able to run the code, you can uncompress the file 'sample.tar.xz' under 'data' directory."
   ],
   "metadata": {}
  },
  {
   "cell_type": "markdown",
   "source": [
    "Let's check if the output directory contain the desired number of articles (max_articles):"
   ],
   "metadata": {}
  },
  {
   "cell_type": "code",
   "execution_count": null,
   "source": [
    "article_count = len(os.listdir(out_dir))\n",
    "assert article_count == max_articles, 'Invalid number of article(s): {}! Expected number: {}'.format(article_count, max_articles)"
   ],
   "outputs": [],
   "metadata": {}
  },
  {
   "cell_type": "markdown",
   "source": [
    "At the end of this section, we now have a sample including 100 articles that will be the basis of our scientific recommendation dataset."
   ],
   "metadata": {}
  },
  {
   "cell_type": "markdown",
   "source": [
    "<a id=\"2\"></a>\n",
    "\n",
    "## 2. Named Entity Recognition (NER) + Named Entity Linking (NEL)\n",
    "\n",
    "**Goal**: To recognize chemical and disease entities in the retrieved articles and to link them to the respective ontology identifiers.\n",
    "\n",
    "We are going to use the [Disease Ontology](https://disease-ontology.org/) (DO), and the [Chemical Entities of Biological Interest](https://www.ebi.ac.uk/chebi/) (ChEBI) ontology.\n",
    "\n",
    "To perform NER and NEL, we are going to apply Minimal Named-Entity Recognizer [MER](https://pypi.org/project/merpy/) tool."
   ],
   "metadata": {}
  },
  {
   "cell_type": "markdown",
   "source": [
    "<a id=\"2.1\"></a>\n",
    "### 2.1. Import libraries"
   ],
   "metadata": {}
  },
  {
   "cell_type": "code",
   "execution_count": null,
   "source": [
    "import merpy\n",
    "import multiprocessing\n",
    "from collections import Counter"
   ],
   "outputs": [],
   "metadata": {}
  },
  {
   "cell_type": "markdown",
   "source": [
    "<a id=\"2.2\"></a>\n",
    "### 2.2. Configure MER"
   ],
   "metadata": {}
  },
  {
   "cell_type": "markdown",
   "source": [
    "First, we need to download the owl file associated with ChEBI:"
   ],
   "metadata": {}
  },
  {
   "cell_type": "code",
   "execution_count": null,
   "source": [
    "merpy.download_lexicon(\"ftp://ftp.ebi.ac.uk/pub/databases/chebi/ontology/chebi.owl\",\n",
    "                       \"chebi\", ltype=\"owl\")"
   ],
   "outputs": [],
   "metadata": {}
  },
  {
   "cell_type": "markdown",
   "source": [
    "Then, we need to process the downloaded file into a lexicon that MER can use:"
   ],
   "metadata": {}
  },
  {
   "cell_type": "code",
   "execution_count": null,
   "source": [
    "merpy.process_lexicon(\"chebi\", ltype=\"owl\")"
   ],
   "outputs": [],
   "metadata": {}
  },
  {
   "cell_type": "markdown",
   "source": [
    "We are going to delete obsolete concepts still present in the ontology file:"
   ],
   "metadata": {}
  },
  {
   "cell_type": "code",
   "execution_count": null,
   "source": [
    "merpy.delete_obsolete(\"chebi\")"
   ],
   "outputs": [],
   "metadata": {}
  },
  {
   "cell_type": "markdown",
   "source": [
    "We need to repeat the operations for the DO:"
   ],
   "metadata": {}
  },
  {
   "cell_type": "code",
   "execution_count": null,
   "source": [
    "merpy.download_lexicon(\"http://purl.obolibrary.org/obo/doid.owl\", \n",
    "                        \"do\", ltype=\"owl\")\n",
    "            \n",
    "merpy.process_lexicon(\"do\", ltype=\"owl\")\n",
    "\n",
    "merpy.delete_obsolete(\"do\")"
   ],
   "outputs": [],
   "metadata": {}
  },
  {
   "cell_type": "markdown",
   "source": [
    "Let's check the lexicons available for MER:"
   ],
   "metadata": {}
  },
  {
   "cell_type": "code",
   "execution_count": null,
   "source": [
    "merpy.show_lexicons()"
   ],
   "outputs": [],
   "metadata": {}
  },
  {
   "cell_type": "markdown",
   "source": [
    "<a id=\"2.3\"></a>\n",
    "### 2.3. Import stop words vocabulary and tokenizer"
   ],
   "metadata": {}
  },
  {
   "cell_type": "markdown",
   "source": [
    "Stop words are common words of a given language (for example the words 'the', 'and', 'in'). A typical pre-processing step is to tokenize the text and remove the stopwords. For that, we are going to import NLTK's list of english stopwords and use the NLTK tokenizer."
   ],
   "metadata": {}
  },
  {
   "cell_type": "code",
   "execution_count": null,
   "source": [
    "import nltk \n",
    "nltk.download('punkt')\n",
    "\n",
    "from nltk.corpus import stopwords\n",
    "\n",
    "nltk.download('stopwords')\n",
    "\n",
    "from nltk.tokenize import word_tokenize\n",
    "\n",
    "all_stopwords = stopwords.words('english')"
   ],
   "outputs": [],
   "metadata": {}
  },
  {
   "cell_type": "markdown",
   "source": [
    "We are going to extend the stop words vocabulary by adding stop words associated with ChEBI and DO:"
   ],
   "metadata": {}
  },
  {
   "cell_type": "code",
   "execution_count": null,
   "source": [
    "kbs_stopwords = list()\n",
    "blacklist_dir = 'data/blacklist/'\n",
    "filenames = ['chebi.txt', 'doid.txt']\n",
    "\n",
    "for filename in filenames:\n",
    "    \n",
    "    with open(blacklist_dir + filename, 'r') as backlist_file:\n",
    "        stopwords = [content.strip('\\n') for content in backlist_file.readlines()]\n",
    "        kbs_stopwords.extend(stopwords)\n",
    "        backlist_file.close()\n",
    "\n",
    "#Extend stop words vocabulary with the retrieved KBs stopwords\n",
    "all_stopwords.extend(kbs_stopwords)"
   ],
   "outputs": [],
   "metadata": {}
  },
  {
   "cell_type": "markdown",
   "source": [
    "<a id=\"2.4\"></a>\n",
    "### 2.4. Extract the entities in a single file"
   ],
   "metadata": {}
  },
  {
   "cell_type": "markdown",
   "source": [
    "Let's retrieve a file from the articles sample:"
   ],
   "metadata": {}
  },
  {
   "cell_type": "code",
   "execution_count": null,
   "source": [
    "dataset_dir = 'data/sample/'\n",
    "\n",
    "with open(dataset_dir + '87390d2ae28407b3e03e60a6b24a7fd99ed7229a.json') as article1_file:\n",
    "    article_data = json.load(article1_file)"
   ],
   "outputs": [],
   "metadata": {}
  },
  {
   "cell_type": "markdown",
   "source": [
    "Let's check the contents of the article:"
   ],
   "metadata": {}
  },
  {
   "cell_type": "code",
   "execution_count": null,
   "source": [
    "article_data.keys()"
   ],
   "outputs": [],
   "metadata": {}
  },
  {
   "cell_type": "markdown",
   "source": [
    "We want to recognize the entities present in title, abstract, and body. "
   ],
   "metadata": {}
  },
  {
   "cell_type": "markdown",
   "source": [
    "First, let's retrieve the title, which is a value associated with the key 'metadata':"
   ],
   "metadata": {}
  },
  {
   "cell_type": "code",
   "execution_count": null,
   "source": [
    "title = article_data['metadata']['title']\n",
    "title"
   ],
   "outputs": [],
   "metadata": {}
  },
  {
   "cell_type": "markdown",
   "source": [
    "Let's tokenize the title:"
   ],
   "metadata": {}
  },
  {
   "cell_type": "code",
   "execution_count": null,
   "source": [
    "title_tokens = word_tokenize(title)\n",
    "title_tokens"
   ],
   "outputs": [],
   "metadata": {}
  },
  {
   "cell_type": "markdown",
   "source": [
    "And remove the tokens relative to stop words:"
   ],
   "metadata": {}
  },
  {
   "cell_type": "code",
   "execution_count": null,
   "source": [
    "title_tokens_up = [word for word in title_tokens if not word in all_stopwords]\n",
    "title_tokens_up"
   ],
   "outputs": [],
   "metadata": {}
  },
  {
   "cell_type": "markdown",
   "source": [
    "And rebuild the title without the stop words:"
   ],
   "metadata": {}
  },
  {
   "cell_type": "code",
   "execution_count": null,
   "source": [
    "title_up = (' ').join(title_tokens_up)\n",
    "title_up"
   ],
   "outputs": [],
   "metadata": {}
  },
  {
   "cell_type": "markdown",
   "source": [
    "Then, we apply MER to the preprocessed title in order to recognize disease entities and to link them to DO concepts:"
   ],
   "metadata": {}
  },
  {
   "cell_type": "code",
   "execution_count": null,
   "source": [
    "merpy.get_entities(title_up, 'do')"
   ],
   "outputs": [],
   "metadata": {}
  },
  {
   "cell_type": "markdown",
   "source": [
    "Let's check if the annotations make sense. For instance, access the link http://purl.obolibrary.org/obo/DOID_2945."
   ],
   "metadata": {}
  },
  {
   "cell_type": "markdown",
   "source": [
    "The entity 'SARS' in the article was linked to the DO concept 'severe acute respiratory syndrome' with the identifier 'DOID:2945', which seems correct!"
   ],
   "metadata": {}
  },
  {
   "cell_type": "markdown",
   "source": [
    "Let's apply MER to recognize chemical entities and to link them to ChEBI concepts:"
   ],
   "metadata": {}
  },
  {
   "cell_type": "code",
   "execution_count": null,
   "source": [
    "merpy.get_entities(title_up, 'chebi')"
   ],
   "outputs": [],
   "metadata": {}
  },
  {
   "cell_type": "markdown",
   "source": [
    "Accessing the link http://purl.obolibrary.org/obo/CHEBI_35341, we can see that the entity 'Steroids' was linked to the ChEBI concept 'steroid', which has the identifier 'CHEBI:35341'."
   ],
   "metadata": {}
  },
  {
   "cell_type": "markdown",
   "source": [
    "We add the disease and chemical entities to a single list:"
   ],
   "metadata": {}
  },
  {
   "cell_type": "code",
   "execution_count": null,
   "source": [
    "title_entities = merpy.get_entities(title_up, 'do') + merpy.get_entities(title_up, 'chebi')\n",
    "\n",
    "title_entities"
   ],
   "outputs": [],
   "metadata": {}
  },
  {
   "cell_type": "markdown",
   "source": [
    "Now, we are going to apply MER to recognize entities in abstract:"
   ],
   "metadata": {}
  },
  {
   "cell_type": "code",
   "execution_count": null,
   "source": [
    "abstract = article_data['abstract'][0]['text']\n",
    "\n",
    "#Tokenize and remove stop words\n",
    "abstract_tokens = word_tokenize(abstract)\n",
    "abstract_tokens_up = [word for word in abstract_tokens if not word in all_stopwords]\n",
    "abstract_up = (' ').join(abstract_tokens_up)\n",
    "\n",
    "#Entity recognition and linking \n",
    "abstract_entities = merpy.get_entities(abstract_up, 'do') + merpy.get_entities(abstract_up, 'chebi')\n",
    "\n",
    "abstract_entities"
   ],
   "outputs": [],
   "metadata": {}
  },
  {
   "cell_type": "markdown",
   "source": [
    "Let's apply MER in the text associated with the body of the article:"
   ],
   "metadata": {}
  },
  {
   "cell_type": "code",
   "execution_count": null,
   "source": [
    "body = str()\n",
    "\n",
    "for section in article_data['body_text']:\n",
    "    body += section['text'] + \"\\n\"\n",
    "    \n",
    "#Tokenize and remove stop words\n",
    "body_tokens = word_tokenize(body)\n",
    "body_tokens_up = [word for word in body_tokens if not word in all_stopwords]\n",
    "body_up = (' ').join(body_tokens_up)\n",
    "\n",
    "#Entity recognition and linking \n",
    "body_entities = merpy.get_entities(body_up, \"do\") + merpy.get_entities(body_up, \"chebi\")\n",
    "\n",
    "body_entities"
   ],
   "outputs": [],
   "metadata": {}
  },
  {
   "cell_type": "markdown",
   "source": [
    "At last, we need to obtain information about the frequency of each ontology identifier in the document:"
   ],
   "metadata": {}
  },
  {
   "cell_type": "code",
   "execution_count": null,
   "source": [
    "total_entities = title_entities + abstract_entities + body_entities\n",
    "\n",
    "all_uris = [entity[3] for entity in total_entities]\n",
    "\n",
    "entity_counter = Counter(all_uris)\n",
    "\n",
    "entity_counter"
   ],
   "outputs": [],
   "metadata": {}
  },
  {
   "cell_type": "markdown",
   "source": [
    "To sort the URIs by descending order:"
   ],
   "metadata": {}
  },
  {
   "cell_type": "code",
   "execution_count": null,
   "source": [
    "entity_counter = {\n",
    "    k: v \n",
    "    for k, v in sorted(entity_counter.items(), key=lambda item: item[1], reverse=True)\n",
    "    }\n",
    "\n",
    "entity_counter "
   ],
   "outputs": [],
   "metadata": {}
  },
  {
   "cell_type": "markdown",
   "source": [
    "<a id=\"2.5\"></a>\n",
    "### 2.5. Create entity files"
   ],
   "metadata": {}
  },
  {
   "cell_type": "markdown",
   "source": [
    "We need to adapt our code to perform NER and NEL in all documents of our sample."
   ],
   "metadata": {}
  },
  {
   "cell_type": "markdown",
   "source": [
    "First, create the output dir:"
   ],
   "metadata": {}
  },
  {
   "cell_type": "code",
   "execution_count": null,
   "source": [
    "out_dir = 'data/sample_entities/'\n",
    "\n",
    "if not os.path.exists(out_dir):\n",
    "    os.mkdir(out_dir)"
   ],
   "outputs": [],
   "metadata": {}
  },
  {
   "cell_type": "markdown",
   "source": [
    "Next, we are going to iterate over each file present in the sample directory, annotate it, and create the respective entity file:"
   ],
   "metadata": {}
  },
  {
   "cell_type": "code",
   "execution_count": null,
   "source": [
    "def annotate_doc(article):\n",
    "    \n",
    "    article_filepath = 'data/sample/' + article  \n",
    "\n",
    "    with open(article_filepath) as input_file:\n",
    "        article_data = json.load(input_file)\n",
    "\n",
    "    doc_output = {'id': str(), 'entities': {}, 'sections': {'title': [], 'abstract': [], 'body': []}}\n",
    "    \n",
    "    doc_output['id'] = article_data['paper_id']\n",
    "   \n",
    "    #Annotate the title\n",
    "    title = article_data['metadata']['title']\n",
    "    \n",
    "    #Tokenize and remove stop words\n",
    "    title_tokens = word_tokenize(title)\n",
    "    title_tokens_up = [word for word in title_tokens if not word in all_stopwords]\n",
    "    title_up = (' ').join(title_tokens_up)\n",
    "    \n",
    "    #Entity recognition and linking\n",
    "    title_entities = merpy.get_entities(title_up, 'do') + merpy.get_entities(title_up, 'chebi')\n",
    "    doc_output['sections']['title'] = title_entities\n",
    "    \n",
    "    #Annotate the abstract\n",
    "    if article_data['abstract'] != []:\n",
    "        abstract = article_data['abstract'][0]['text']\n",
    "        \n",
    "        #Tokenize and remove stop words\n",
    "        abstract_tokens = word_tokenize(abstract)\n",
    "        abstract_tokens_up = [word for word in abstract_tokens if not word in all_stopwords]\n",
    "        abstract_up = (' ').join(abstract_tokens_up)\n",
    "        \n",
    "        #Entity recognition and linking\n",
    "        abstract_entities = merpy.get_entities(abstract_up, 'do') + merpy.get_entities(abstract_up, 'chebi')\n",
    "        doc_output['sections']['abstract'] = abstract_entities\n",
    "    \n",
    "    else:\n",
    "        abstract_entities = []\n",
    "\n",
    "    #Combine the several paragraphs of the body text and annotate it\n",
    "    body = str()\n",
    "\n",
    "    for section in article_data['body_text']:\n",
    "        body += section['text'] + '\\n'\n",
    "    \n",
    "    #Tokenize and remove stop words\n",
    "    body_tokens = word_tokenize(body)\n",
    "    body_tokens_up = [word for word in body_tokens if not word in all_stopwords]\n",
    "    body_up = (' ').join(body_tokens_up)    \n",
    "        \n",
    "    #Entity recognition and linking\n",
    "    body_entities = merpy.get_entities(body_up, 'do') + merpy.get_entities(body_up, 'chebi')\n",
    "    doc_output['sections']['body'] = body_entities\n",
    "\n",
    "    # Count URIs frequencies and sort them\n",
    "    total_entities = title_entities + abstract_entities + body_entities\n",
    "    all_uris = [entity[3] for entity in total_entities if len(entity)==4]\n",
    "    entity_counter = Counter(all_uris)\n",
    "    \n",
    "    doc_output['entities'] = {\n",
    "        k: v \n",
    "        for k, v in sorted(entity_counter.items(), key=lambda item: item[1], reverse=True)\n",
    "        }\n",
    "    \n",
    "    #Generate JSON file with output\n",
    "    out_filepath = out_dir + doc_output['id'] + '_entities.json'\n",
    "    \n",
    "    with open(out_filepath, 'w') as out_file:\n",
    "        out_file.write(json.dumps(doc_output, indent=4))\n",
    "        \n",
    "\n",
    "article_dir = 'data/sample/'\n",
    "        \n",
    "with multiprocessing.Pool(processes=10) as pool: \n",
    "    # change the number of processes according to number of available cores\n",
    "    outputs = pool.map(annotate_doc, [article for article in os.listdir(article_dir)], chunksize=10)\n",
    "    pool.close()"
   ],
   "outputs": [],
   "metadata": {}
  },
  {
   "cell_type": "markdown",
   "source": [
    "If you were not able to run the previous code, you can extract the file 'sample_entities.tar.xz' under 'data' directory"
   ],
   "metadata": {}
  },
  {
   "cell_type": "markdown",
   "source": [
    "Now we have both the article files ('data/sample' directory) and the respective entities files ('data/sample_entities' directory), and the next step will be the generation of the scientific recomendation dataset using the LIBRETTI algorithm."
   ],
   "metadata": {}
  },
  {
   "cell_type": "markdown",
   "source": [
    "<a id=\"3\"></a>\n",
    "## 3. Create the recommendation dataset"
   ],
   "metadata": {}
  },
  {
   "cell_type": "markdown",
   "source": [
    "<a id=\"3.1\"></a>\n",
    "### 3.1. Import libraries"
   ],
   "metadata": {}
  },
  {
   "cell_type": "code",
   "execution_count": null,
   "source": [
    "import sys\n",
    "import numpy as np\n",
    "import time\n",
    "from datetime import date, datetime"
   ],
   "outputs": [],
   "metadata": {}
  },
  {
   "cell_type": "markdown",
   "source": [
    "<a id=\"3.2\"></a>\n",
    "### 3.2. Import user-defined-functions"
   ],
   "metadata": {}
  },
  {
   "cell_type": "code",
   "execution_count": null,
   "source": [
    "from util.utils import *\n",
    "from util.utils2json import *\n",
    "from util.functions import *\n",
    "from util.utils2ontologies import *\n",
    "from util.utils2pubmed import *"
   ],
   "outputs": [],
   "metadata": {}
  },
  {
   "cell_type": "code",
   "execution_count": null,
   "source": [
    "pd.set_option('display.max_columns', None)\n",
    "pd.set_option(\"max_rows\", None)"
   ],
   "outputs": [],
   "metadata": {}
  },
  {
   "cell_type": "markdown",
   "source": [
    "Entities defined by user, our example will work with chebi and doid ontologies"
   ],
   "metadata": {}
  },
  {
   "cell_type": "code",
   "execution_count": null,
   "source": [
    "# if entities is defined by user then saved it in a list\n",
    "active_lexicons = []\n",
    "is_chebi, is_do, is_go, is_hp = True, True, False, False\n",
    "\n",
    "active_lexicons.append('chebi')   \n",
    "active_lexicons.append('do')   "
   ],
   "outputs": [],
   "metadata": {}
  },
  {
   "cell_type": "markdown",
   "source": [
    "Path of original' json and entities' json folder, blacklist and metadata"
   ],
   "metadata": {}
  },
  {
   "cell_type": "code",
   "execution_count": null,
   "source": [
    "original_json_folder = '../data/sample/'\n",
    "entities_json_folder = '../data/sample_entities/'\n",
    "path_to_blacklist = '../data/blacklist/blacklist_articles.txt'\n",
    "path_to_metadata = '../data/metadata.csv'"
   ],
   "outputs": [],
   "metadata": {}
  },
  {
   "cell_type": "code",
   "execution_count": null,
   "source": [
    "entities_list_of_json_files = list_files_in_directory(path=entities_json_folder)\n",
    "#print(entities_list_of_json_files)"
   ],
   "outputs": [],
   "metadata": {}
  },
  {
   "cell_type": "code",
   "execution_count": null,
   "source": [
    "##### Get all articles id that cannot be considered in use case "
   ],
   "outputs": [],
   "metadata": {}
  },
  {
   "cell_type": "code",
   "execution_count": null,
   "source": [
    "articles_blacklist = get_blacklist(file=path_to_blacklist)\n",
    "print(articles_blacklist)\n",
    "metadata = pd.read_csv(path_to_metadata)"
   ],
   "outputs": [],
   "metadata": {}
  },
  {
   "cell_type": "code",
   "execution_count": null,
   "source": [
    "user_item_rating_all = []\n",
    "count = 0\n",
    "#entities_list_of_json_files=['PMC7176216_entities.json']\n",
    "for file in entities_list_of_json_files:\n",
    "    # ## Exception\n",
    "    if file.replace('_entities.json','') in articles_blacklist:\n",
    "        continue\n",
    "    # if file.startswith('PMC'):\n",
    "    #     continue    \n",
    "    print(count, \"-\", len(entities_list_of_json_files))            \n",
    "    print(file)\n",
    "        \n",
    "    # check valid json file, i.e. contains values\n",
    "    try:\n",
    "        j_file_entities = open_json_file_pd(path=entities_json_folder, file=file)           \n",
    "    except Exception as e:\n",
    "        print(f'Json file does not contain values. Error message {e}')\n",
    "        set_blacklist(file=path_to_blacklist, line=file.replace('_entities.json',''))\n",
    "        continue\n",
    "    \n",
    "    df_entities = get_entities_id(get_entities(j_file_entities))\n",
    "    if df_entities.empty:\n",
    "        print(f'Json file does not contain values.')\n",
    "        set_blacklist(file=path_to_blacklist, line=file.replace('_entities.json',''))\n",
    "        continue    \n",
    "    \n",
    "    print(df_entities)\n",
    "    article_id = get_article_id(j_file_entities)\n",
    "    \n",
    "    # check valid json file, i.e. contains values\n",
    "    try:\n",
    "        j_file_original = open_json_file(path=original_json_folder, file=article_id)\n",
    "        #print(j_file_original)\n",
    "    except Exception as e:\n",
    "        print(f'Original json file does not exist. Error message {e}')\n",
    "        set_blacklist(file=path_to_blacklist, line=file.replace('_entities.json',''))\n",
    "        continue    \n",
    "    \n",
    "    # check if json file contains authors, otherwise try to find them in metadata.csv\n",
    "    # if value remains null them put this article in the blacklist file\n",
    "    list_of_authors = get_authors_names(data=j_file_original)\n",
    "    \n",
    "###  ---- Metadata ----\n",
    "    # Some datas return an array, then we convert to a list and get first element\n",
    "    publish_date=''      \n",
    "    if article_id.startswith('PMC'):\n",
    "        try:\n",
    "            publish_date = metadata[metadata.pmcid == article_id].\\\n",
    "                publish_time.map(lambda v: v.split('-')[0]).tolist()[0]\n",
    "        except Exception as e:    \n",
    "            try:\n",
    "                print(f'Find publish date, now with metapub. Error message {e}')            \n",
    "                publish_date = get_year_by_metapub(pmcid=article_id) \n",
    "            except Exception as e: \n",
    "                try:                    \n",
    "                    print(f'Find publish date, now with Bio. Error message {e}') \n",
    "                    pmid = get_pmid(pmcid=article_id) \n",
    "                    publish_date = get_year_by_bio(pmid) \n",
    "                except Exception as e:\n",
    "                    print(f'Find publish date, now with metapub. Error message {e}')    \n",
    "                \n",
    "        finally:\n",
    "            pass                                         \n",
    "    else:\n",
    "        try:\n",
    "            publish_date = metadata[metadata.sha == article_id].\\\n",
    "                publish_time.map(lambda v: v.split('-')[0]).tolist()[0]\n",
    "        finally:\n",
    "            pass  \n",
    "\n",
    "    print(publish_date)\n",
    "    if publish_date==None:\n",
    "        set_blacklist(file=path_to_blacklist, line=file.replace('_entities.json',''))\n",
    "        continue\n",
    "    \n",
    "    # if authors is empty we will find in metadata.csv file\n",
    "    if len(list_of_authors)==0:\n",
    "        ##if string is NaN\n",
    "        try:\n",
    "            if article_id.startswith('PMC'):\n",
    "                try:\n",
    "                    authors = get_authors_metadata(data=metadata, label=pmcid, ident= article_id)\n",
    "                    list_of_authors.append(authors) \n",
    "                except Exception as e:\n",
    "                    print(f'Get authors name in pubmed. Error: {e}')    \n",
    "                    pmid = get_pmid(pmcid=article_id)\n",
    "                    authors = get_authors_by_bio(pmid)\n",
    "                    for a in authors:                \n",
    "                        first = unidecode.unidecode(a['first'])\n",
    "                        last = unidecode.unidecode(a['last']) \n",
    "                    list_of_authors.append(first + ', '+  last)                     \n",
    "            else:\n",
    "                authors = get_authors_metadata(data=metadata, label=sha, ident= article_id)\n",
    "                list_of_authors.append(authors) \n",
    "        except Exception as e:\n",
    "            print(f'Empty values {e}')   \n",
    "            set_blacklist(file=path_to_blacklist, line=file.replace('_entities.json',''))                \n",
    "        continue\n",
    "    count+=1\n",
    "    \n",
    "###  ---- End of Metadata ----            \n",
    "    \n",
    "    user_item_rating = get_user_item_rating(lst=list_of_authors, df=df_entities)\n",
    "    #print(user_item_rating)\n",
    "    \n",
    "    ## add publish_date in array in index column = 3\n",
    "    user_item_rating = np.insert(user_item_rating, 3, publish_date, axis=1)\n",
    "    # print(user_item_rating)\n",
    "    user_item_rating_all.append(user_item_rating)"
   ],
   "outputs": [],
   "metadata": {}
  },
  {
   "cell_type": "code",
   "execution_count": null,
   "source": [
    "flat_list = []\n",
    "for sublist in user_item_rating_all:\n",
    "    for item in sublist:\n",
    "        flat_list.append(item)"
   ],
   "outputs": [],
   "metadata": {}
  },
  {
   "cell_type": "code",
   "execution_count": null,
   "source": [
    "array = np.array(flat_list)\n",
    "\n",
    "final_data = pd.DataFrame(array,  columns=['user', 'item', 'rating', 'year'])\n",
    "sum_df = final_data.groupby(['user', 'item', 'year']).size().reset_index().rename(columns={0: 'rating'})    \n",
    "df_with_user_id = id_to_index(sum_df)"
   ],
   "outputs": [],
   "metadata": {}
  },
  {
   "cell_type": "code",
   "execution_count": null,
   "source": [
    "# swap columns: user and index_user, and after rename to author_name\n",
    "#df_with_user_id['index_user'], df_with_user_id['user'] = df_with_user_id['user'], df_with_user_id['index_user']\n",
    "df_with_user_id.rename(columns={'user': 'author_name', 'index_user': 'user'}, inplace = True)"
   ],
   "outputs": [],
   "metadata": {}
  },
  {
   "cell_type": "markdown",
   "source": [
    "<a id=\"3.3\"></a>\n",
    "### 3.3. Get entities labels"
   ],
   "metadata": {}
  },
  {
   "cell_type": "code",
   "execution_count": null,
   "source": [
    "list_of_entities = df_with_user_id.item.unique()\n",
    "print(list_of_entities) "
   ],
   "outputs": [],
   "metadata": {}
  },
  {
   "cell_type": "markdown",
   "source": [
    "<a id=\"3.4\"></a>\n",
    "### 3.4. Loading ontologies"
   ],
   "metadata": {}
  },
  {
   "cell_type": "code",
   "execution_count": null,
   "source": [
    "chebi, do, go, hp = loading_items(is_chebi, is_do, is_go, is_hp)"
   ],
   "outputs": [],
   "metadata": {}
  },
  {
   "cell_type": "code",
   "execution_count": null,
   "source": [
    "entities_label = get_entities_labels(lst=list_of_entities, prefix_chebi=chebi, prefix_do=do, prefix_go=go, prefix_hp=hp)\n",
    "print(entities_label)"
   ],
   "outputs": [],
   "metadata": {}
  },
  {
   "cell_type": "code",
   "execution_count": null,
   "source": [
    "df_entities = pd.DataFrame(list_of_entities, columns=[\"item_id\"])\n",
    "df_entities[\"entity_name\"] = np.array(entities_label)\n",
    "print(df_entities)"
   ],
   "outputs": [],
   "metadata": {}
  },
  {
   "cell_type": "code",
   "execution_count": null,
   "source": [
    "print('mapping labels')\n",
    "df_with_user_id[\"item_name\"] = df_with_user_id[\"item\"].map(df_entities.set_index('item_id')[\"entity_name\"]).fillna(0)\n",
    "print(df_with_user_id)"
   ],
   "outputs": [],
   "metadata": {}
  },
  {
   "cell_type": "markdown",
   "source": [
    "<a id=\"3.5\"></a>\n",
    "### 3.5. Save data"
   ],
   "metadata": {}
  },
  {
   "cell_type": "code",
   "execution_count": null,
   "source": [
    "path_to_cord_ds = '../data/results/sample_cord-19_dataset.csv'\n",
    "path_to_cord_userid = '../data/results/sample_cord-19_dataset_userid.csv'\n",
    "print('saving data')\n",
    "save_final_data(data=df_with_user_id[['user', 'item', 'rating', 'item_name', 'year']], \\\n",
    "        path=path_to_cord_ds)\n",
    "save_final_data(data=df_with_user_id[['user', 'author_name']], \\\n",
    "        path=path_to_cord_userid)\n",
    "#save_final_data(data=df_with_user_id[['user', 'author_name', 'item', 'rating', 'item_name', 'year']], \\\n",
    "#        path=path_to_cord_userid)  "
   ],
   "outputs": [],
   "metadata": {}
  },
  {
   "cell_type": "markdown",
   "source": [
    "### 4.0. Data statistics "
   ],
   "metadata": {}
  },
  {
   "cell_type": "code",
   "execution_count": 1,
   "source": [
    "import pandas as pd\n",
    "\n",
    "dataset = pd.read_csv('data/results/sample_cord-19_dataset.csv', names=['user', 'item', 'rating', 'item_name', 'year'])\n",
    "#dataset = pd.read_csv('/home/mbarros/Desktop/data/scirec2021/comm_subset_cord-19_dataset_total_ordered_filtered.csv', names=['user', 'item', 'rating', 'item_name', 'year'])\n",
    "\n",
    "\n",
    "print(dataset.head(20))"
   ],
   "outputs": [
    {
     "output_type": "stream",
     "name": "stdout",
     "text": [
      "    user          item  rating  \\\n",
      "0      0   CHEBI_10545       1   \n",
      "1      0  CHEBI_138164       1   \n",
      "2      0  CHEBI_143889       1   \n",
      "3      0   CHEBI_16236       1   \n",
      "4      0   CHEBI_16541       1   \n",
      "5      0   CHEBI_16670       1   \n",
      "6      0   CHEBI_16991       1   \n",
      "7      0   CHEBI_17234       1   \n",
      "8      0   CHEBI_17790       1   \n",
      "9      0   CHEBI_17905       1   \n",
      "10     0   CHEBI_17992       1   \n",
      "11     0   CHEBI_22063       1   \n",
      "12     0   CHEBI_23528       1   \n",
      "13     0   CHEBI_23888       1   \n",
      "14     0   CHEBI_27641       1   \n",
      "15     0   CHEBI_28077       1   \n",
      "16     0   CHEBI_28262       1   \n",
      "17     0   CHEBI_29234       1   \n",
      "18     0   CHEBI_30740       1   \n",
      "19     0   CHEBI_31962       1   \n",
      "\n",
      "                                            item_name  year  \n",
      "0                                            electron  2000  \n",
      "1                                    fomesafen-sodium  2000  \n",
      "2                               galactosaminogalactan  2000  \n",
      "3                                             ethanol  2000  \n",
      "4                           protein polypeptide chain  2000  \n",
      "5                                             peptide  2000  \n",
      "6                               deoxyribonucleic acid  2000  \n",
      "7                                             glucose  2000  \n",
      "8                                            methanol  2000  \n",
      "9                                          coenzyme M  2000  \n",
      "10                                            sucrose  2000  \n",
      "11                                          sulfoxide  2000  \n",
      "12                                       cytochalasin  2000  \n",
      "13                                               drug  2000  \n",
      "14                                      cycloheximide  2000  \n",
      "15                                         rifampicin  2000  \n",
      "16                                 dimethyl sulfoxide  2000  \n",
      "17                                             triton  2000  \n",
      "18  ethylene glycol bis(2-aminoethyl)tetraacetic acid  2000  \n",
      "19                     paraformaldehyde macromolecule  2000  \n"
     ]
    }
   ],
   "metadata": {}
  },
  {
   "cell_type": "code",
   "execution_count": 2,
   "source": [
    "# number of unique users\n",
    "# number of unique items\n",
    "# number of ratings\n",
    "# sparsity \n",
    "\n",
    "print('n users: ', dataset.user.unique().shape[0])\n",
    "print('n items: ', dataset.item.unique().shape[0])\n",
    "print('n ratings: ', dataset.size)\n",
    "\n",
    "print('sparsity: ', 1 - (dataset.size / (dataset.user.unique().shape[0] * dataset.item.unique().shape[0])))"
   ],
   "outputs": [
    {
     "output_type": "stream",
     "name": "stdout",
     "text": [
      "n users:  464\n",
      "n items:  918\n",
      "n ratings:  92065\n",
      "sparsity:  0.7838606227931786\n"
     ]
    }
   ],
   "metadata": {}
  },
  {
   "cell_type": "code",
   "execution_count": 3,
   "source": [
    "# items by ontology\n",
    "\n",
    "print(\"CHEBI items: \", dataset[dataset.item.str.startswith('CHEBI')].item.unique().shape[0])\n",
    "\n",
    "print(\"DOID items: \", dataset[dataset.item.str.startswith('DOID')].item.unique().shape[0])"
   ],
   "outputs": [
    {
     "output_type": "stream",
     "name": "stdout",
     "text": [
      "CHEBI items:  711\n",
      "DOID items:  207\n"
     ]
    }
   ],
   "metadata": {}
  },
  {
   "cell_type": "code",
   "execution_count": 4,
   "source": [
    "# items by user\n",
    "import matplotlib as mpl\n",
    "import matplotlib.pyplot as plt\n",
    "%matplotlib inline\n",
    "\n",
    "unique_users = dataset.user.unique()\n",
    "items_by_user = dataset.groupby(['user'])[\"item\"].count().reset_index()\n",
    "items_by_user = items_by_user.sort_values(by=['item'], ascending=False)\n",
    "print(items_by_user)\n",
    "items_by_user.user = items_by_user.user.astype('str')\n",
    "\n",
    "print('max items by user: ', items_by_user.item.max())\n",
    "print('min items by user: ', items_by_user.item.min())\n",
    "print('mean items by user: ', items_by_user.item.mean())"
   ],
   "outputs": [
    {
     "output_type": "stream",
     "name": "stdout",
     "text": [
      "     user  item\n",
      "348   348   175\n",
      "146   146   140\n",
      "85     85   109\n",
      "29     29   109\n",
      "381   381   109\n",
      "..    ...   ...\n",
      "177   177    13\n",
      "372   372    12\n",
      "88     88    10\n",
      "181   181    10\n",
      "140   140    10\n",
      "\n",
      "[464 rows x 2 columns]\n",
      "max items by user:  175\n",
      "min items by user:  10\n",
      "mean items by user:  39.68318965517241\n"
     ]
    }
   ],
   "metadata": {}
  },
  {
   "cell_type": "code",
   "execution_count": null,
   "source": [
    "plt.scatter(items_by_user.user, items_by_user.item)\n",
    "plt.axhline(y=items_by_user.item.mean(), color='r', linestyle='-')\n",
    "plt.ylabel('number of items')\n",
    "plt.xlabel('user')\n",
    "plt.show()"
   ],
   "outputs": [],
   "metadata": {}
  },
  {
   "cell_type": "code",
   "execution_count": 5,
   "source": [
    "# users by item\n",
    "\n",
    "unique_items = dataset.item.unique()\n",
    "users_by_item = dataset.groupby(['item'])[\"user\"].count().reset_index()\n",
    "users_by_item = users_by_item.sort_values(by=['user'], ascending=False)\n",
    "\n",
    "print('max users by item: ', users_by_item.user.max())\n",
    "list_of_max_items = users_by_item[users_by_item.user == users_by_item.user.max()].item.values\n",
    "print(list_of_max_items)\n",
    "\n",
    "print(dataset[dataset.item == list_of_max_items[0]])\n",
    "\n",
    "print('min users by item: ', users_by_item.user.min())\n",
    "print('mean users by item: ', users_by_item.user.mean())"
   ],
   "outputs": [
    {
     "output_type": "stream",
     "name": "stdout",
     "text": [
      "max users by item:  460\n",
      "['CHEBI_58972']\n",
      "       user         item  rating            item_name  year\n",
      "36        0  CHEBI_58972       1  (E)-4-oxonon-2-enal  2000\n",
      "79        1  CHEBI_58972       1  (E)-4-oxonon-2-enal  2005\n",
      "134       2  CHEBI_58972       1  (E)-4-oxonon-2-enal  2002\n",
      "173       3  CHEBI_58972       1  (E)-4-oxonon-2-enal  2005\n",
      "194       4  CHEBI_58972       1  (E)-4-oxonon-2-enal  2005\n",
      "...     ...          ...     ...                  ...   ...\n",
      "18224   458  CHEBI_58972       1  (E)-4-oxonon-2-enal  2005\n",
      "18244   459  CHEBI_58972       1  (E)-4-oxonon-2-enal  2003\n",
      "18294   460  CHEBI_58972       1  (E)-4-oxonon-2-enal  2001\n",
      "18339   461  CHEBI_58972       1  (E)-4-oxonon-2-enal  2005\n",
      "18406   463  CHEBI_58972       1  (E)-4-oxonon-2-enal  2004\n",
      "\n",
      "[460 rows x 5 columns]\n",
      "min users by item:  1\n",
      "mean users by item:  20.05773420479303\n"
     ]
    }
   ],
   "metadata": {}
  },
  {
   "cell_type": "code",
   "execution_count": 6,
   "source": [
    "dataset_doid = dataset[dataset.item.str.startswith('DOID')]\n",
    "unique_items_d = dataset_doid.item.unique()\n",
    "users_by_item_d = dataset_doid.groupby(['item'])[\"user\"].count().reset_index()\n",
    "users_by_item_d = users_by_item_d.sort_values(by=['user'], ascending=False)\n",
    "\n",
    "print('max users by item: ', users_by_item_d.user.max())\n",
    "list_of_max_items_d = users_by_item_d[users_by_item_d.user == users_by_item_d.user.max()].item.values\n",
    "print(list_of_max_items_d)\n",
    "\n",
    "print(dataset_doid[dataset_doid.item == list_of_max_items_d[0]])\n",
    "\n",
    "print('min users by item: ', users_by_item_d.user.min())\n",
    "print('mean users by item: ', users_by_item_d.user.mean())"
   ],
   "outputs": [
    {
     "output_type": "stream",
     "name": "stdout",
     "text": [
      "max users by item:  292\n",
      "['DOID_2945']\n",
      "       user       item  rating                          item_name  year\n",
      "202       4  DOID_2945       1  severe acute respiratory syndrome  2005\n",
      "242       5  DOID_2945       1  severe acute respiratory syndrome  2004\n",
      "243       5  DOID_2945       1  severe acute respiratory syndrome  2005\n",
      "331       8  DOID_2945       1  severe acute respiratory syndrome  2005\n",
      "479      12  DOID_2945       1  severe acute respiratory syndrome  2005\n",
      "...     ...        ...     ...                                ...   ...\n",
      "18162   456  DOID_2945       1  severe acute respiratory syndrome  2004\n",
      "18202   457  DOID_2945       1  severe acute respiratory syndrome  2005\n",
      "18259   459  DOID_2945       1  severe acute respiratory syndrome  2003\n",
      "18345   461  DOID_2945       1  severe acute respiratory syndrome  2005\n",
      "18363   462  DOID_2945       1  severe acute respiratory syndrome  2003\n",
      "\n",
      "[292 rows x 5 columns]\n",
      "min users by item:  1\n",
      "mean users by item:  16.594202898550726\n"
     ]
    }
   ],
   "metadata": {}
  },
  {
   "cell_type": "code",
   "execution_count": 7,
   "source": [
    "dataset_chebi = dataset[dataset.item.str.startswith('CHEBI')]\n",
    "unique_items_c = dataset_chebi.item.unique()\n",
    "users_by_item_c = dataset_chebi.groupby(['item'])[\"user\"].count().reset_index()\n",
    "users_by_item_c = users_by_item_c.sort_values(by=['user'], ascending=False)\n",
    "\n",
    "print('max users by item: ', users_by_item_c.user.max())\n",
    "list_of_max_items_c = users_by_item_c[users_by_item_c.user == users_by_item_c.user.max()].item.values\n",
    "print(list_of_max_items_c)\n",
    "\n",
    "print(dataset_chebi[dataset_chebi.item == list_of_max_items_c[0]])\n",
    "\n",
    "print('min users by item: ', users_by_item_c.user.min())\n",
    "print('mean users by item: ', users_by_item_c.user.mean())"
   ],
   "outputs": [
    {
     "output_type": "stream",
     "name": "stdout",
     "text": [
      "max users by item:  460\n",
      "['CHEBI_58972']\n",
      "       user         item  rating            item_name  year\n",
      "36        0  CHEBI_58972       1  (E)-4-oxonon-2-enal  2000\n",
      "79        1  CHEBI_58972       1  (E)-4-oxonon-2-enal  2005\n",
      "134       2  CHEBI_58972       1  (E)-4-oxonon-2-enal  2002\n",
      "173       3  CHEBI_58972       1  (E)-4-oxonon-2-enal  2005\n",
      "194       4  CHEBI_58972       1  (E)-4-oxonon-2-enal  2005\n",
      "...     ...          ...     ...                  ...   ...\n",
      "18224   458  CHEBI_58972       1  (E)-4-oxonon-2-enal  2005\n",
      "18244   459  CHEBI_58972       1  (E)-4-oxonon-2-enal  2003\n",
      "18294   460  CHEBI_58972       1  (E)-4-oxonon-2-enal  2001\n",
      "18339   461  CHEBI_58972       1  (E)-4-oxonon-2-enal  2005\n",
      "18406   463  CHEBI_58972       1  (E)-4-oxonon-2-enal  2004\n",
      "\n",
      "[460 rows x 5 columns]\n",
      "min users by item:  1\n",
      "mean users by item:  21.066104078762308\n"
     ]
    }
   ],
   "metadata": {}
  },
  {
   "cell_type": "code",
   "execution_count": 8,
   "source": [
    "#%matplotlib qt\n",
    "\n",
    "plt.scatter(users_by_item.item, users_by_item.user)\n",
    "plt.axhline(y=users_by_item.user.mean(), color='r', linestyle='-')\n",
    "#plt.yscale('log')\n",
    "plt.ylabel('number of users')\n",
    "plt.xlabel('items')\n",
    "plt.show()"
   ],
   "outputs": [
    {
     "output_type": "display_data",
     "data": {
      "text/plain": [
       "<Figure size 432x288 with 1 Axes>"
      ],
      "image/png": "[encoded data removed]"
     },
     "metadata": {
      "needs_background": "light"
     }
    }
   ],
   "metadata": {}
  }
 ],
 "metadata": {
  "kernelspec": {
   "display_name": "recsys_scifi",
   "language": "python",
   "name": "recsys_scifi"
  },
  "language_info": {
   "codemirror_mode": {
    "name": "ipython",
    "version": 3
   },
   "file_extension": ".py",
   "mimetype": "text/x-python",
   "name": "python",
   "nbconvert_exporter": "python",
   "pygments_lexer": "ipython3",
   "version": "3.6.13"
  }
 },
 "nbformat": 4,
 "nbformat_minor": 5
}